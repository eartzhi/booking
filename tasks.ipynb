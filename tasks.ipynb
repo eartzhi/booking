{
 "cells": [
  {
   "cell_type": "code",
   "execution_count": 237,
   "metadata": {},
   "outputs": [
    {
     "name": "stdout",
     "output_type": "stream",
     "text": [
      "Requirement already satisfied: pandas in c:\\projects\\ds\\booking\\.venv\\lib\\site-packages (2.2.2)\n",
      "Requirement already satisfied: numpy>=1.23.2 in c:\\projects\\ds\\booking\\.venv\\lib\\site-packages (from pandas) (2.0.0)\n",
      "Requirement already satisfied: python-dateutil>=2.8.2 in c:\\projects\\ds\\booking\\.venv\\lib\\site-packages (from pandas) (2.9.0.post0)\n",
      "Requirement already satisfied: pytz>=2020.1 in c:\\projects\\ds\\booking\\.venv\\lib\\site-packages (from pandas) (2024.1)\n",
      "Requirement already satisfied: tzdata>=2022.7 in c:\\projects\\ds\\booking\\.venv\\lib\\site-packages (from pandas) (2024.1)\n",
      "Requirement already satisfied: six>=1.5 in c:\\projects\\ds\\booking\\.venv\\lib\\site-packages (from python-dateutil>=2.8.2->pandas) (1.16.0)\n",
      "Requirement already satisfied: numpy in c:\\projects\\ds\\booking\\.venv\\lib\\site-packages (2.0.0)\n",
      "Requirement already satisfied: plotly in c:\\projects\\ds\\booking\\.venv\\lib\\site-packages (5.22.0)\n",
      "Requirement already satisfied: tenacity>=6.2.0 in c:\\projects\\ds\\booking\\.venv\\lib\\site-packages (from plotly) (8.5.0)\n",
      "Requirement already satisfied: packaging in c:\\projects\\ds\\booking\\.venv\\lib\\site-packages (from plotly) (24.1)\n",
      "Requirement already satisfied: nbformat in c:\\projects\\ds\\booking\\.venv\\lib\\site-packages (5.10.4)\n",
      "Requirement already satisfied: fastjsonschema>=2.15 in c:\\projects\\ds\\booking\\.venv\\lib\\site-packages (from nbformat) (2.20.0)\n",
      "Requirement already satisfied: jsonschema>=2.6 in c:\\projects\\ds\\booking\\.venv\\lib\\site-packages (from nbformat) (4.23.0)\n",
      "Requirement already satisfied: jupyter-core!=5.0.*,>=4.12 in c:\\projects\\ds\\booking\\.venv\\lib\\site-packages (from nbformat) (5.7.2)\n",
      "Requirement already satisfied: traitlets>=5.1 in c:\\projects\\ds\\booking\\.venv\\lib\\site-packages (from nbformat) (5.14.3)\n",
      "Requirement already satisfied: attrs>=22.2.0 in c:\\projects\\ds\\booking\\.venv\\lib\\site-packages (from jsonschema>=2.6->nbformat) (23.2.0)\n",
      "Requirement already satisfied: jsonschema-specifications>=2023.03.6 in c:\\projects\\ds\\booking\\.venv\\lib\\site-packages (from jsonschema>=2.6->nbformat) (2023.12.1)\n",
      "Requirement already satisfied: referencing>=0.28.4 in c:\\projects\\ds\\booking\\.venv\\lib\\site-packages (from jsonschema>=2.6->nbformat) (0.35.1)\n",
      "Requirement already satisfied: rpds-py>=0.7.1 in c:\\projects\\ds\\booking\\.venv\\lib\\site-packages (from jsonschema>=2.6->nbformat) (0.19.0)\n",
      "Requirement already satisfied: platformdirs>=2.5 in c:\\projects\\ds\\booking\\.venv\\lib\\site-packages (from jupyter-core!=5.0.*,>=4.12->nbformat) (4.2.2)\n",
      "Requirement already satisfied: pywin32>=300 in c:\\projects\\ds\\booking\\.venv\\lib\\site-packages (from jupyter-core!=5.0.*,>=4.12->nbformat) (306)\n",
      "Requirement already satisfied: scipy in c:\\projects\\ds\\booking\\.venv\\lib\\site-packages (1.14.0)\n",
      "Requirement already satisfied: numpy<2.3,>=1.23.5 in c:\\projects\\ds\\booking\\.venv\\lib\\site-packages (from scipy) (2.0.0)\n",
      "Requirement already satisfied: category_encoders in c:\\projects\\ds\\booking\\.venv\\lib\\site-packages (2.6.3)\n",
      "Requirement already satisfied: numpy>=1.14.0 in c:\\projects\\ds\\booking\\.venv\\lib\\site-packages (from category_encoders) (2.0.0)\n",
      "Requirement already satisfied: scikit-learn>=0.20.0 in c:\\projects\\ds\\booking\\.venv\\lib\\site-packages (from category_encoders) (1.5.1)\n",
      "Requirement already satisfied: scipy>=1.0.0 in c:\\projects\\ds\\booking\\.venv\\lib\\site-packages (from category_encoders) (1.14.0)\n",
      "Requirement already satisfied: statsmodels>=0.9.0 in c:\\projects\\ds\\booking\\.venv\\lib\\site-packages (from category_encoders) (0.14.2)\n",
      "Requirement already satisfied: pandas>=1.0.5 in c:\\projects\\ds\\booking\\.venv\\lib\\site-packages (from category_encoders) (2.2.2)\n",
      "Requirement already satisfied: patsy>=0.5.1 in c:\\projects\\ds\\booking\\.venv\\lib\\site-packages (from category_encoders) (0.5.6)\n",
      "Requirement already satisfied: python-dateutil>=2.8.2 in c:\\projects\\ds\\booking\\.venv\\lib\\site-packages (from pandas>=1.0.5->category_encoders) (2.9.0.post0)\n",
      "Requirement already satisfied: pytz>=2020.1 in c:\\projects\\ds\\booking\\.venv\\lib\\site-packages (from pandas>=1.0.5->category_encoders) (2024.1)\n",
      "Requirement already satisfied: tzdata>=2022.7 in c:\\projects\\ds\\booking\\.venv\\lib\\site-packages (from pandas>=1.0.5->category_encoders) (2024.1)\n",
      "Requirement already satisfied: six in c:\\projects\\ds\\booking\\.venv\\lib\\site-packages (from patsy>=0.5.1->category_encoders) (1.16.0)\n",
      "Requirement already satisfied: joblib>=1.2.0 in c:\\projects\\ds\\booking\\.venv\\lib\\site-packages (from scikit-learn>=0.20.0->category_encoders) (1.4.2)\n",
      "Requirement already satisfied: threadpoolctl>=3.1.0 in c:\\projects\\ds\\booking\\.venv\\lib\\site-packages (from scikit-learn>=0.20.0->category_encoders) (3.5.0)\n",
      "Requirement already satisfied: packaging>=21.3 in c:\\projects\\ds\\booking\\.venv\\lib\\site-packages (from statsmodels>=0.9.0->category_encoders) (24.1)\n",
      "Requirement already satisfied: matplotlib in c:\\projects\\ds\\booking\\.venv\\lib\\site-packages (3.9.1)\n",
      "Requirement already satisfied: contourpy>=1.0.1 in c:\\projects\\ds\\booking\\.venv\\lib\\site-packages (from matplotlib) (1.2.1)\n",
      "Requirement already satisfied: cycler>=0.10 in c:\\projects\\ds\\booking\\.venv\\lib\\site-packages (from matplotlib) (0.12.1)\n",
      "Requirement already satisfied: fonttools>=4.22.0 in c:\\projects\\ds\\booking\\.venv\\lib\\site-packages (from matplotlib) (4.53.1)\n",
      "Requirement already satisfied: kiwisolver>=1.3.1 in c:\\projects\\ds\\booking\\.venv\\lib\\site-packages (from matplotlib) (1.4.5)\n",
      "Requirement already satisfied: numpy>=1.23 in c:\\projects\\ds\\booking\\.venv\\lib\\site-packages (from matplotlib) (2.0.0)\n",
      "Requirement already satisfied: packaging>=20.0 in c:\\projects\\ds\\booking\\.venv\\lib\\site-packages (from matplotlib) (24.1)\n",
      "Requirement already satisfied: pillow>=8 in c:\\projects\\ds\\booking\\.venv\\lib\\site-packages (from matplotlib) (10.4.0)\n",
      "Requirement already satisfied: pyparsing>=2.3.1 in c:\\projects\\ds\\booking\\.venv\\lib\\site-packages (from matplotlib) (3.1.2)\n",
      "Requirement already satisfied: python-dateutil>=2.7 in c:\\projects\\ds\\booking\\.venv\\lib\\site-packages (from matplotlib) (2.9.0.post0)\n",
      "Requirement already satisfied: six>=1.5 in c:\\projects\\ds\\booking\\.venv\\lib\\site-packages (from python-dateutil>=2.7->matplotlib) (1.16.0)\n",
      "Requirement already satisfied: seaborn in c:\\projects\\ds\\booking\\.venv\\lib\\site-packages (0.13.2)\n",
      "Requirement already satisfied: numpy!=1.24.0,>=1.20 in c:\\projects\\ds\\booking\\.venv\\lib\\site-packages (from seaborn) (2.0.0)\n",
      "Requirement already satisfied: pandas>=1.2 in c:\\projects\\ds\\booking\\.venv\\lib\\site-packages (from seaborn) (2.2.2)\n",
      "Requirement already satisfied: matplotlib!=3.6.1,>=3.4 in c:\\projects\\ds\\booking\\.venv\\lib\\site-packages (from seaborn) (3.9.1)\n",
      "Requirement already satisfied: contourpy>=1.0.1 in c:\\projects\\ds\\booking\\.venv\\lib\\site-packages (from matplotlib!=3.6.1,>=3.4->seaborn) (1.2.1)\n",
      "Requirement already satisfied: cycler>=0.10 in c:\\projects\\ds\\booking\\.venv\\lib\\site-packages (from matplotlib!=3.6.1,>=3.4->seaborn) (0.12.1)\n",
      "Requirement already satisfied: fonttools>=4.22.0 in c:\\projects\\ds\\booking\\.venv\\lib\\site-packages (from matplotlib!=3.6.1,>=3.4->seaborn) (4.53.1)\n",
      "Requirement already satisfied: kiwisolver>=1.3.1 in c:\\projects\\ds\\booking\\.venv\\lib\\site-packages (from matplotlib!=3.6.1,>=3.4->seaborn) (1.4.5)\n",
      "Requirement already satisfied: packaging>=20.0 in c:\\projects\\ds\\booking\\.venv\\lib\\site-packages (from matplotlib!=3.6.1,>=3.4->seaborn) (24.1)\n",
      "Requirement already satisfied: pillow>=8 in c:\\projects\\ds\\booking\\.venv\\lib\\site-packages (from matplotlib!=3.6.1,>=3.4->seaborn) (10.4.0)\n",
      "Requirement already satisfied: pyparsing>=2.3.1 in c:\\projects\\ds\\booking\\.venv\\lib\\site-packages (from matplotlib!=3.6.1,>=3.4->seaborn) (3.1.2)\n",
      "Requirement already satisfied: python-dateutil>=2.7 in c:\\projects\\ds\\booking\\.venv\\lib\\site-packages (from matplotlib!=3.6.1,>=3.4->seaborn) (2.9.0.post0)\n",
      "Requirement already satisfied: pytz>=2020.1 in c:\\projects\\ds\\booking\\.venv\\lib\\site-packages (from pandas>=1.2->seaborn) (2024.1)\n",
      "Requirement already satisfied: tzdata>=2022.7 in c:\\projects\\ds\\booking\\.venv\\lib\\site-packages (from pandas>=1.2->seaborn) (2024.1)\n",
      "Requirement already satisfied: six>=1.5 in c:\\projects\\ds\\booking\\.venv\\lib\\site-packages (from python-dateutil>=2.7->matplotlib!=3.6.1,>=3.4->seaborn) (1.16.0)\n"
     ]
    }
   ],
   "source": [
    "!pip install pandas\n",
    "!pip install numpy\n",
    "!pip install plotly\n",
    "!pip install --upgrade nbformat\n",
    "!pip install scipy\n",
    "!pip install category_encoders\n",
    "!pip install matplotlib \n",
    "!pip install seaborn "
   ]
  },
  {
   "cell_type": "code",
   "execution_count": 238,
   "metadata": {},
   "outputs": [],
   "source": [
    "import pandas as pd\n",
    "import numpy as np\n",
    "import plotly.express as px\n",
    "import plotly.graph_objects as go\n",
    "import scipy.stats as stats\n",
    "from collections import Counter\n",
    "import category_encoders as ce \n",
    "import seaborn as sns\n",
    "from matplotlib import pyplot as plt\n",
    "from sklearn.model_selection import train_test_split  \n",
    "import re"
   ]
  },
  {
   "cell_type": "markdown",
   "metadata": {},
   "source": [
    "## <center> 1. Задания модуля </center>"
   ]
  },
  {
   "cell_type": "markdown",
   "metadata": {},
   "source": [
    "#### 1.2 Разбираемся с данными"
   ]
  },
  {
   "cell_type": "code",
   "execution_count": 239,
   "metadata": {},
   "outputs": [
    {
     "data": {
      "text/html": [
       "<div>\n",
       "<style scoped>\n",
       "    .dataframe tbody tr th:only-of-type {\n",
       "        vertical-align: middle;\n",
       "    }\n",
       "\n",
       "    .dataframe tbody tr th {\n",
       "        vertical-align: top;\n",
       "    }\n",
       "\n",
       "    .dataframe thead th {\n",
       "        text-align: right;\n",
       "    }\n",
       "</style>\n",
       "<table border=\"1\" class=\"dataframe\">\n",
       "  <thead>\n",
       "    <tr style=\"text-align: right;\">\n",
       "      <th></th>\n",
       "      <th>hotel_address</th>\n",
       "      <th>additional_number_of_scoring</th>\n",
       "      <th>review_date</th>\n",
       "      <th>average_score</th>\n",
       "      <th>hotel_name</th>\n",
       "      <th>reviewer_nationality</th>\n",
       "      <th>negative_review</th>\n",
       "      <th>review_total_negative_word_counts</th>\n",
       "      <th>total_number_of_reviews</th>\n",
       "      <th>positive_review</th>\n",
       "      <th>review_total_positive_word_counts</th>\n",
       "      <th>total_number_of_reviews_reviewer_has_given</th>\n",
       "      <th>reviewer_score</th>\n",
       "      <th>tags</th>\n",
       "      <th>days_since_review</th>\n",
       "      <th>lat</th>\n",
       "      <th>lng</th>\n",
       "    </tr>\n",
       "  </thead>\n",
       "  <tbody>\n",
       "    <tr>\n",
       "      <th>0</th>\n",
       "      <td>Stratton Street Mayfair Westminster Borough Lo...</td>\n",
       "      <td>581</td>\n",
       "      <td>2/19/2016</td>\n",
       "      <td>8.4</td>\n",
       "      <td>The May Fair Hotel</td>\n",
       "      <td>United Kingdom</td>\n",
       "      <td>Leaving</td>\n",
       "      <td>3</td>\n",
       "      <td>1994</td>\n",
       "      <td>Staff were amazing</td>\n",
       "      <td>4</td>\n",
       "      <td>7</td>\n",
       "      <td>10.0</td>\n",
       "      <td>[' Leisure trip ', ' Couple ', ' Studio Suite ...</td>\n",
       "      <td>531 day</td>\n",
       "      <td>51.507894</td>\n",
       "      <td>-0.143671</td>\n",
       "    </tr>\n",
       "    <tr>\n",
       "      <th>1</th>\n",
       "      <td>130 134 Southampton Row Camden London WC1B 5AF...</td>\n",
       "      <td>299</td>\n",
       "      <td>1/12/2017</td>\n",
       "      <td>8.3</td>\n",
       "      <td>Mercure London Bloomsbury Hotel</td>\n",
       "      <td>United Kingdom</td>\n",
       "      <td>poor breakfast</td>\n",
       "      <td>3</td>\n",
       "      <td>1361</td>\n",
       "      <td>location</td>\n",
       "      <td>2</td>\n",
       "      <td>14</td>\n",
       "      <td>6.3</td>\n",
       "      <td>[' Business trip ', ' Couple ', ' Standard Dou...</td>\n",
       "      <td>203 day</td>\n",
       "      <td>51.521009</td>\n",
       "      <td>-0.123097</td>\n",
       "    </tr>\n",
       "    <tr>\n",
       "      <th>2</th>\n",
       "      <td>151 bis Rue de Rennes 6th arr 75006 Paris France</td>\n",
       "      <td>32</td>\n",
       "      <td>10/18/2016</td>\n",
       "      <td>8.9</td>\n",
       "      <td>Legend Saint Germain by Elegancia</td>\n",
       "      <td>China</td>\n",
       "      <td>No kettle in room</td>\n",
       "      <td>6</td>\n",
       "      <td>406</td>\n",
       "      <td>No Positive</td>\n",
       "      <td>0</td>\n",
       "      <td>14</td>\n",
       "      <td>7.5</td>\n",
       "      <td>[' Leisure trip ', ' Solo traveler ', ' Modern...</td>\n",
       "      <td>289 day</td>\n",
       "      <td>48.845377</td>\n",
       "      <td>2.325643</td>\n",
       "    </tr>\n",
       "  </tbody>\n",
       "</table>\n",
       "</div>"
      ],
      "text/plain": [
       "                                       hotel_address  \\\n",
       "0  Stratton Street Mayfair Westminster Borough Lo...   \n",
       "1  130 134 Southampton Row Camden London WC1B 5AF...   \n",
       "2   151 bis Rue de Rennes 6th arr 75006 Paris France   \n",
       "\n",
       "   additional_number_of_scoring review_date  average_score  \\\n",
       "0                           581   2/19/2016            8.4   \n",
       "1                           299   1/12/2017            8.3   \n",
       "2                            32  10/18/2016            8.9   \n",
       "\n",
       "                          hotel_name reviewer_nationality  \\\n",
       "0                 The May Fair Hotel      United Kingdom    \n",
       "1    Mercure London Bloomsbury Hotel      United Kingdom    \n",
       "2  Legend Saint Germain by Elegancia               China    \n",
       "\n",
       "       negative_review  review_total_negative_word_counts  \\\n",
       "0             Leaving                                   3   \n",
       "1       poor breakfast                                  3   \n",
       "2   No kettle in room                                   6   \n",
       "\n",
       "   total_number_of_reviews      positive_review  \\\n",
       "0                     1994   Staff were amazing   \n",
       "1                     1361             location   \n",
       "2                      406          No Positive   \n",
       "\n",
       "   review_total_positive_word_counts  \\\n",
       "0                                  4   \n",
       "1                                  2   \n",
       "2                                  0   \n",
       "\n",
       "   total_number_of_reviews_reviewer_has_given  reviewer_score  \\\n",
       "0                                           7            10.0   \n",
       "1                                          14             6.3   \n",
       "2                                          14             7.5   \n",
       "\n",
       "                                                tags days_since_review  \\\n",
       "0  [' Leisure trip ', ' Couple ', ' Studio Suite ...           531 day   \n",
       "1  [' Business trip ', ' Couple ', ' Standard Dou...           203 day   \n",
       "2  [' Leisure trip ', ' Solo traveler ', ' Modern...           289 day   \n",
       "\n",
       "         lat       lng  \n",
       "0  51.507894 -0.143671  \n",
       "1  51.521009 -0.123097  \n",
       "2  48.845377  2.325643  "
      ]
     },
     "execution_count": 239,
     "metadata": {},
     "output_type": "execute_result"
    }
   ],
   "source": [
    "data = pd.read_csv('data/hotels.csv')\n",
    "data.head(3)"
   ]
  },
  {
   "cell_type": "markdown",
   "metadata": {},
   "source": [
    "**Задание 2.1**\n",
    "\n",
    "\n",
    "В каких столбцах данные содержат пропущенные значения?"
   ]
  },
  {
   "cell_type": "code",
   "execution_count": 240,
   "metadata": {},
   "outputs": [
    {
     "data": {
      "text/plain": [
       "hotel_address                                    0\n",
       "additional_number_of_scoring                     0\n",
       "review_date                                      0\n",
       "average_score                                    0\n",
       "hotel_name                                       0\n",
       "reviewer_nationality                             0\n",
       "negative_review                                  0\n",
       "review_total_negative_word_counts                0\n",
       "total_number_of_reviews                          0\n",
       "positive_review                                  0\n",
       "review_total_positive_word_counts                0\n",
       "total_number_of_reviews_reviewer_has_given       0\n",
       "reviewer_score                                   0\n",
       "tags                                             0\n",
       "days_since_review                                0\n",
       "lat                                           2448\n",
       "lng                                           2448\n",
       "dtype: int64"
      ]
     },
     "execution_count": 240,
     "metadata": {},
     "output_type": "execute_result"
    }
   ],
   "source": [
    "data.isna().sum()"
   ]
  },
  {
   "cell_type": "markdown",
   "metadata": {},
   "source": [
    "**Задание 2.2**\n",
    "\n",
    "В каких столбцах данные хранятся в числовом формате?"
   ]
  },
  {
   "cell_type": "code",
   "execution_count": 241,
   "metadata": {},
   "outputs": [
    {
     "name": "stdout",
     "output_type": "stream",
     "text": [
      "<class 'pandas.core.frame.DataFrame'>\n",
      "RangeIndex: 386803 entries, 0 to 386802\n",
      "Data columns (total 17 columns):\n",
      " #   Column                                      Non-Null Count   Dtype  \n",
      "---  ------                                      --------------   -----  \n",
      " 0   hotel_address                               386803 non-null  object \n",
      " 1   additional_number_of_scoring                386803 non-null  int64  \n",
      " 2   review_date                                 386803 non-null  object \n",
      " 3   average_score                               386803 non-null  float64\n",
      " 4   hotel_name                                  386803 non-null  object \n",
      " 5   reviewer_nationality                        386803 non-null  object \n",
      " 6   negative_review                             386803 non-null  object \n",
      " 7   review_total_negative_word_counts           386803 non-null  int64  \n",
      " 8   total_number_of_reviews                     386803 non-null  int64  \n",
      " 9   positive_review                             386803 non-null  object \n",
      " 10  review_total_positive_word_counts           386803 non-null  int64  \n",
      " 11  total_number_of_reviews_reviewer_has_given  386803 non-null  int64  \n",
      " 12  reviewer_score                              386803 non-null  float64\n",
      " 13  tags                                        386803 non-null  object \n",
      " 14  days_since_review                           386803 non-null  object \n",
      " 15  lat                                         384355 non-null  float64\n",
      " 16  lng                                         384355 non-null  float64\n",
      "dtypes: float64(4), int64(5), object(8)\n",
      "memory usage: 50.2+ MB\n"
     ]
    }
   ],
   "source": [
    "data.info()"
   ]
  },
  {
   "cell_type": "code",
   "execution_count": 242,
   "metadata": {},
   "outputs": [
    {
     "name": "stdout",
     "output_type": "stream",
     "text": [
      "additional_number_of_scoring\n",
      "average_score\n",
      "review_total_negative_word_counts\n",
      "total_number_of_reviews\n",
      "review_total_positive_word_counts\n",
      "total_number_of_reviews_reviewer_has_given\n",
      "reviewer_score\n",
      "lat\n",
      "lng\n"
     ]
    }
   ],
   "source": [
    "for col in data.columns:\n",
    "    if type(data[col].iloc[1]) != str:\n",
    "        print(col)\n",
    "    "
   ]
  },
  {
   "cell_type": "markdown",
   "metadata": {},
   "source": [
    "**Задание 2.3**\n",
    "\n",
    "В каких столбцах данные представляют собой строки?"
   ]
  },
  {
   "cell_type": "code",
   "execution_count": 243,
   "metadata": {},
   "outputs": [
    {
     "name": "stdout",
     "output_type": "stream",
     "text": [
      "hotel_address\n",
      "review_date\n",
      "hotel_name\n",
      "reviewer_nationality\n",
      "negative_review\n",
      "positive_review\n",
      "tags\n",
      "days_since_review\n"
     ]
    }
   ],
   "source": [
    "for col in data.columns:\n",
    "    if type(data[col].iloc[1]) == str:\n",
    "        print(col)"
   ]
  },
  {
   "cell_type": "markdown",
   "metadata": {},
   "source": [
    "Сомнительно, что review_date не строка. Фактически данные внутри являются строкой. "
   ]
  },
  {
   "cell_type": "markdown",
   "metadata": {},
   "source": [
    "**Задание 2.4**\n",
    "\n",
    "Напишите признак, представляющий собой дату."
   ]
  },
  {
   "cell_type": "code",
   "execution_count": 244,
   "metadata": {},
   "outputs": [
    {
     "name": "stdout",
     "output_type": "stream",
     "text": [
      "review_date\n"
     ]
    }
   ],
   "source": [
    "for col in data.columns:\n",
    "    try:\n",
    "        if pd.to_datetime(data[col].iloc[1]) > pd.to_datetime('01/01/2000'):\n",
    "            print(col)\n",
    "    except Exception:\n",
    "        pass"
   ]
  },
  {
   "cell_type": "markdown",
   "metadata": {},
   "source": [
    "#### 1.4. Лучший способ добиться успеха — следовать советам"
   ]
  },
  {
   "cell_type": "code",
   "execution_count": 245,
   "metadata": {},
   "outputs": [
    {
     "data": {
      "text/plain": [
       "Index(['hotel_address', 'additional_number_of_scoring', 'review_date',\n",
       "       'average_score', 'hotel_name', 'reviewer_nationality',\n",
       "       'negative_review', 'review_total_negative_word_counts',\n",
       "       'total_number_of_reviews', 'positive_review',\n",
       "       'review_total_positive_word_counts',\n",
       "       'total_number_of_reviews_reviewer_has_given', 'reviewer_score', 'tags',\n",
       "       'days_since_review', 'lat', 'lng'],\n",
       "      dtype='object')"
      ]
     },
     "execution_count": 245,
     "metadata": {},
     "output_type": "execute_result"
    }
   ],
   "source": [
    "data.columns"
   ]
  },
  {
   "cell_type": "markdown",
   "metadata": {},
   "source": [
    "**Задание 4.2**\n",
    "\n",
    "Сколько уникальных названий отелей представлено в наборе данных?"
   ]
  },
  {
   "cell_type": "code",
   "execution_count": 246,
   "metadata": {},
   "outputs": [
    {
     "data": {
      "text/plain": [
       "1492"
      ]
     },
     "execution_count": 246,
     "metadata": {},
     "output_type": "execute_result"
    }
   ],
   "source": [
    "len(data['hotel_name'].unique())"
   ]
  },
  {
   "cell_type": "markdown",
   "metadata": {},
   "source": [
    "**Задание 4.3**\n",
    "\n",
    "Ответьте на вопросы о дате размещения отзывов.\n",
    "\n",
    "Когда был оставлен самый свежий отзыв? Введите ответ в формате yyyy-mm-dd.\n",
    "\n",
    "Когда был оставлен самый первый отзыв? Введите ответ в формате yyyy-mm-dd."
   ]
  },
  {
   "cell_type": "code",
   "execution_count": 247,
   "metadata": {},
   "outputs": [
    {
     "data": {
      "text/plain": [
       "Timestamp('2015-08-04 00:00:00')"
      ]
     },
     "metadata": {},
     "output_type": "display_data"
    },
    {
     "data": {
      "text/plain": [
       "Timestamp('2017-08-03 00:00:00')"
      ]
     },
     "metadata": {},
     "output_type": "display_data"
    }
   ],
   "source": [
    "display(pd.to_datetime(data['review_date']).min())\n",
    "display(pd.to_datetime(data['review_date']).max())"
   ]
  },
  {
   "cell_type": "markdown",
   "metadata": {},
   "source": [
    "**Задание 4.4**\n",
    "\n",
    "Сколько уникальных тегов представлено в наборе данных?"
   ]
  },
  {
   "cell_type": "code",
   "execution_count": 248,
   "metadata": {},
   "outputs": [
    {
     "data": {
      "text/plain": [
       "2368"
      ]
     },
     "execution_count": 248,
     "metadata": {},
     "output_type": "execute_result"
    }
   ],
   "source": [
    "tags = data['tags']\n",
    "tag_count =[]\n",
    "for tag in range(len(tags)):\n",
    "    tag_count += data['tags'][tag].strip(\"[' \").strip(\" ']\").split(\" ', ' \")\n",
    "len(set(tag_count))"
   ]
  },
  {
   "cell_type": "markdown",
   "metadata": {},
   "source": [
    "**Задание 4.5**\n",
    "\n",
    "Какой тег представлен в наибольшем числе отзывов?"
   ]
  },
  {
   "cell_type": "code",
   "execution_count": 249,
   "metadata": {},
   "outputs": [
    {
     "data": {
      "text/plain": [
       "[('Leisure trip', 313593)]"
      ]
     },
     "execution_count": 249,
     "metadata": {},
     "output_type": "execute_result"
    }
   ],
   "source": [
    "Counter(tag_count).most_common(1) "
   ]
  },
  {
   "cell_type": "markdown",
   "metadata": {},
   "source": [
    "**Задание 4.6**\n",
    "\n",
    "Из тегов выясните, на сколько ночей чаще всего останавливаются путешественники в отелях."
   ]
  },
  {
   "cell_type": "code",
   "execution_count": 250,
   "metadata": {},
   "outputs": [
    {
     "data": {
      "text/plain": [
       "[('Stayed 1 night', 145373)]"
      ]
     },
     "execution_count": 250,
     "metadata": {},
     "output_type": "execute_result"
    }
   ],
   "source": [
    "tag_count\n",
    "\n",
    "stayed =[]\n",
    "for tag in tag_count:\n",
    "    if 'Stayed' in tag:\n",
    "       stayed.append(tag)\n",
    "       \n",
    "Counter(stayed).most_common(1)"
   ]
  },
  {
   "cell_type": "markdown",
   "metadata": {},
   "source": [
    "## <center> 2. Построение модели </center>"
   ]
  },
  {
   "cell_type": "markdown",
   "metadata": {},
   "source": [
    "#### 2.1 Описательный анализ данных"
   ]
  },
  {
   "cell_type": "code",
   "execution_count": 251,
   "metadata": {},
   "outputs": [
    {
     "name": "stdout",
     "output_type": "stream",
     "text": [
      "<class 'pandas.core.frame.DataFrame'>\n",
      "RangeIndex: 386803 entries, 0 to 386802\n",
      "Data columns (total 17 columns):\n",
      " #   Column                                      Non-Null Count   Dtype  \n",
      "---  ------                                      --------------   -----  \n",
      " 0   hotel_address                               386803 non-null  object \n",
      " 1   additional_number_of_scoring                386803 non-null  int64  \n",
      " 2   review_date                                 386803 non-null  object \n",
      " 3   average_score                               386803 non-null  float64\n",
      " 4   hotel_name                                  386803 non-null  object \n",
      " 5   reviewer_nationality                        386803 non-null  object \n",
      " 6   negative_review                             386803 non-null  object \n",
      " 7   review_total_negative_word_counts           386803 non-null  int64  \n",
      " 8   total_number_of_reviews                     386803 non-null  int64  \n",
      " 9   positive_review                             386803 non-null  object \n",
      " 10  review_total_positive_word_counts           386803 non-null  int64  \n",
      " 11  total_number_of_reviews_reviewer_has_given  386803 non-null  int64  \n",
      " 12  reviewer_score                              386803 non-null  float64\n",
      " 13  tags                                        386803 non-null  object \n",
      " 14  days_since_review                           386803 non-null  object \n",
      " 15  lat                                         384355 non-null  float64\n",
      " 16  lng                                         384355 non-null  float64\n",
      "dtypes: float64(4), int64(5), object(8)\n",
      "memory usage: 50.2+ MB\n"
     ]
    }
   ],
   "source": [
    "data.info()"
   ]
  },
  {
   "cell_type": "markdown",
   "metadata": {},
   "source": [
    "Всего имеем  386803 записей"
   ]
  },
  {
   "cell_type": "code",
   "execution_count": 252,
   "metadata": {},
   "outputs": [
    {
     "data": {
      "text/plain": [
       "hotel_address                                    0\n",
       "additional_number_of_scoring                     0\n",
       "review_date                                      0\n",
       "average_score                                    0\n",
       "hotel_name                                       0\n",
       "reviewer_nationality                             0\n",
       "negative_review                                  0\n",
       "review_total_negative_word_counts                0\n",
       "total_number_of_reviews                          0\n",
       "positive_review                                  0\n",
       "review_total_positive_word_counts                0\n",
       "total_number_of_reviews_reviewer_has_given       0\n",
       "reviewer_score                                   0\n",
       "tags                                             0\n",
       "days_since_review                                0\n",
       "lat                                           2448\n",
       "lng                                           2448\n",
       "dtype: int64"
      ]
     },
     "execution_count": 252,
     "metadata": {},
     "output_type": "execute_result"
    }
   ],
   "source": [
    "data.isnull().sum()"
   ]
  },
  {
   "cell_type": "markdown",
   "metadata": {},
   "source": [
    "2448 пустых ячейки в столбцах lat и lng"
   ]
  },
  {
   "cell_type": "code",
   "execution_count": 253,
   "metadata": {},
   "outputs": [
    {
     "data": {
      "text/html": [
       "<div>\n",
       "<style scoped>\n",
       "    .dataframe tbody tr th:only-of-type {\n",
       "        vertical-align: middle;\n",
       "    }\n",
       "\n",
       "    .dataframe tbody tr th {\n",
       "        vertical-align: top;\n",
       "    }\n",
       "\n",
       "    .dataframe thead th {\n",
       "        text-align: right;\n",
       "    }\n",
       "</style>\n",
       "<table border=\"1\" class=\"dataframe\">\n",
       "  <thead>\n",
       "    <tr style=\"text-align: right;\">\n",
       "      <th></th>\n",
       "      <th>hotel_address</th>\n",
       "      <th>additional_number_of_scoring</th>\n",
       "      <th>review_date</th>\n",
       "      <th>average_score</th>\n",
       "      <th>hotel_name</th>\n",
       "      <th>reviewer_nationality</th>\n",
       "      <th>negative_review</th>\n",
       "      <th>review_total_negative_word_counts</th>\n",
       "      <th>total_number_of_reviews</th>\n",
       "      <th>positive_review</th>\n",
       "      <th>review_total_positive_word_counts</th>\n",
       "      <th>total_number_of_reviews_reviewer_has_given</th>\n",
       "      <th>reviewer_score</th>\n",
       "      <th>tags</th>\n",
       "      <th>days_since_review</th>\n",
       "      <th>lat</th>\n",
       "      <th>lng</th>\n",
       "    </tr>\n",
       "  </thead>\n",
       "  <tbody>\n",
       "    <tr>\n",
       "      <th>count</th>\n",
       "      <td>386803</td>\n",
       "      <td>386803.000000</td>\n",
       "      <td>386803</td>\n",
       "      <td>386803.000000</td>\n",
       "      <td>386803</td>\n",
       "      <td>386803</td>\n",
       "      <td>386803</td>\n",
       "      <td>386803.000000</td>\n",
       "      <td>386803.000000</td>\n",
       "      <td>386803</td>\n",
       "      <td>386803.000000</td>\n",
       "      <td>386803.00000</td>\n",
       "      <td>386803.000000</td>\n",
       "      <td>386803</td>\n",
       "      <td>386803</td>\n",
       "      <td>384355.000000</td>\n",
       "      <td>384355.000000</td>\n",
       "    </tr>\n",
       "    <tr>\n",
       "      <th>unique</th>\n",
       "      <td>1493</td>\n",
       "      <td>NaN</td>\n",
       "      <td>731</td>\n",
       "      <td>NaN</td>\n",
       "      <td>1492</td>\n",
       "      <td>225</td>\n",
       "      <td>248828</td>\n",
       "      <td>NaN</td>\n",
       "      <td>NaN</td>\n",
       "      <td>311737</td>\n",
       "      <td>NaN</td>\n",
       "      <td>NaN</td>\n",
       "      <td>NaN</td>\n",
       "      <td>47135</td>\n",
       "      <td>731</td>\n",
       "      <td>NaN</td>\n",
       "      <td>NaN</td>\n",
       "    </tr>\n",
       "    <tr>\n",
       "      <th>top</th>\n",
       "      <td>163 Marsh Wall Docklands Tower Hamlets London ...</td>\n",
       "      <td>NaN</td>\n",
       "      <td>8/2/2017</td>\n",
       "      <td>NaN</td>\n",
       "      <td>Britannia International Hotel Canary Wharf</td>\n",
       "      <td>United Kingdom</td>\n",
       "      <td>No Negative</td>\n",
       "      <td>NaN</td>\n",
       "      <td>NaN</td>\n",
       "      <td>No Positive</td>\n",
       "      <td>NaN</td>\n",
       "      <td>NaN</td>\n",
       "      <td>NaN</td>\n",
       "      <td>[' Leisure trip ', ' Couple ', ' Double Room '...</td>\n",
       "      <td>1 days</td>\n",
       "      <td>NaN</td>\n",
       "      <td>NaN</td>\n",
       "    </tr>\n",
       "    <tr>\n",
       "      <th>freq</th>\n",
       "      <td>3587</td>\n",
       "      <td>NaN</td>\n",
       "      <td>1911</td>\n",
       "      <td>NaN</td>\n",
       "      <td>3587</td>\n",
       "      <td>184033</td>\n",
       "      <td>95907</td>\n",
       "      <td>NaN</td>\n",
       "      <td>NaN</td>\n",
       "      <td>26885</td>\n",
       "      <td>NaN</td>\n",
       "      <td>NaN</td>\n",
       "      <td>NaN</td>\n",
       "      <td>3853</td>\n",
       "      <td>1911</td>\n",
       "      <td>NaN</td>\n",
       "      <td>NaN</td>\n",
       "    </tr>\n",
       "    <tr>\n",
       "      <th>mean</th>\n",
       "      <td>NaN</td>\n",
       "      <td>498.246536</td>\n",
       "      <td>NaN</td>\n",
       "      <td>8.397231</td>\n",
       "      <td>NaN</td>\n",
       "      <td>NaN</td>\n",
       "      <td>NaN</td>\n",
       "      <td>18.538988</td>\n",
       "      <td>2743.992042</td>\n",
       "      <td>NaN</td>\n",
       "      <td>17.776985</td>\n",
       "      <td>7.17725</td>\n",
       "      <td>8.396906</td>\n",
       "      <td>NaN</td>\n",
       "      <td>NaN</td>\n",
       "      <td>49.443522</td>\n",
       "      <td>2.823402</td>\n",
       "    </tr>\n",
       "    <tr>\n",
       "      <th>std</th>\n",
       "      <td>NaN</td>\n",
       "      <td>500.258012</td>\n",
       "      <td>NaN</td>\n",
       "      <td>0.547881</td>\n",
       "      <td>NaN</td>\n",
       "      <td>NaN</td>\n",
       "      <td>NaN</td>\n",
       "      <td>29.703369</td>\n",
       "      <td>2316.457018</td>\n",
       "      <td>NaN</td>\n",
       "      <td>21.726141</td>\n",
       "      <td>11.05442</td>\n",
       "      <td>1.636090</td>\n",
       "      <td>NaN</td>\n",
       "      <td>NaN</td>\n",
       "      <td>3.466936</td>\n",
       "      <td>4.579043</td>\n",
       "    </tr>\n",
       "    <tr>\n",
       "      <th>min</th>\n",
       "      <td>NaN</td>\n",
       "      <td>1.000000</td>\n",
       "      <td>NaN</td>\n",
       "      <td>5.200000</td>\n",
       "      <td>NaN</td>\n",
       "      <td>NaN</td>\n",
       "      <td>NaN</td>\n",
       "      <td>0.000000</td>\n",
       "      <td>43.000000</td>\n",
       "      <td>NaN</td>\n",
       "      <td>0.000000</td>\n",
       "      <td>1.00000</td>\n",
       "      <td>2.500000</td>\n",
       "      <td>NaN</td>\n",
       "      <td>NaN</td>\n",
       "      <td>41.328376</td>\n",
       "      <td>-0.369758</td>\n",
       "    </tr>\n",
       "    <tr>\n",
       "      <th>25%</th>\n",
       "      <td>NaN</td>\n",
       "      <td>169.000000</td>\n",
       "      <td>NaN</td>\n",
       "      <td>8.100000</td>\n",
       "      <td>NaN</td>\n",
       "      <td>NaN</td>\n",
       "      <td>NaN</td>\n",
       "      <td>2.000000</td>\n",
       "      <td>1161.000000</td>\n",
       "      <td>NaN</td>\n",
       "      <td>5.000000</td>\n",
       "      <td>1.00000</td>\n",
       "      <td>7.500000</td>\n",
       "      <td>NaN</td>\n",
       "      <td>NaN</td>\n",
       "      <td>48.214662</td>\n",
       "      <td>-0.143649</td>\n",
       "    </tr>\n",
       "    <tr>\n",
       "      <th>50%</th>\n",
       "      <td>NaN</td>\n",
       "      <td>342.000000</td>\n",
       "      <td>NaN</td>\n",
       "      <td>8.400000</td>\n",
       "      <td>NaN</td>\n",
       "      <td>NaN</td>\n",
       "      <td>NaN</td>\n",
       "      <td>9.000000</td>\n",
       "      <td>2134.000000</td>\n",
       "      <td>NaN</td>\n",
       "      <td>11.000000</td>\n",
       "      <td>3.00000</td>\n",
       "      <td>8.800000</td>\n",
       "      <td>NaN</td>\n",
       "      <td>NaN</td>\n",
       "      <td>51.499981</td>\n",
       "      <td>-0.000250</td>\n",
       "    </tr>\n",
       "    <tr>\n",
       "      <th>75%</th>\n",
       "      <td>NaN</td>\n",
       "      <td>660.000000</td>\n",
       "      <td>NaN</td>\n",
       "      <td>8.800000</td>\n",
       "      <td>NaN</td>\n",
       "      <td>NaN</td>\n",
       "      <td>NaN</td>\n",
       "      <td>23.000000</td>\n",
       "      <td>3613.000000</td>\n",
       "      <td>NaN</td>\n",
       "      <td>22.000000</td>\n",
       "      <td>8.00000</td>\n",
       "      <td>9.600000</td>\n",
       "      <td>NaN</td>\n",
       "      <td>NaN</td>\n",
       "      <td>51.516288</td>\n",
       "      <td>4.834443</td>\n",
       "    </tr>\n",
       "    <tr>\n",
       "      <th>max</th>\n",
       "      <td>NaN</td>\n",
       "      <td>2682.000000</td>\n",
       "      <td>NaN</td>\n",
       "      <td>9.800000</td>\n",
       "      <td>NaN</td>\n",
       "      <td>NaN</td>\n",
       "      <td>NaN</td>\n",
       "      <td>408.000000</td>\n",
       "      <td>16670.000000</td>\n",
       "      <td>NaN</td>\n",
       "      <td>395.000000</td>\n",
       "      <td>355.00000</td>\n",
       "      <td>10.000000</td>\n",
       "      <td>NaN</td>\n",
       "      <td>NaN</td>\n",
       "      <td>52.400181</td>\n",
       "      <td>16.429233</td>\n",
       "    </tr>\n",
       "  </tbody>\n",
       "</table>\n",
       "</div>"
      ],
      "text/plain": [
       "                                            hotel_address  \\\n",
       "count                                              386803   \n",
       "unique                                               1493   \n",
       "top     163 Marsh Wall Docklands Tower Hamlets London ...   \n",
       "freq                                                 3587   \n",
       "mean                                                  NaN   \n",
       "std                                                   NaN   \n",
       "min                                                   NaN   \n",
       "25%                                                   NaN   \n",
       "50%                                                   NaN   \n",
       "75%                                                   NaN   \n",
       "max                                                   NaN   \n",
       "\n",
       "        additional_number_of_scoring review_date  average_score  \\\n",
       "count                  386803.000000      386803  386803.000000   \n",
       "unique                           NaN         731            NaN   \n",
       "top                              NaN    8/2/2017            NaN   \n",
       "freq                             NaN        1911            NaN   \n",
       "mean                      498.246536         NaN       8.397231   \n",
       "std                       500.258012         NaN       0.547881   \n",
       "min                         1.000000         NaN       5.200000   \n",
       "25%                       169.000000         NaN       8.100000   \n",
       "50%                       342.000000         NaN       8.400000   \n",
       "75%                       660.000000         NaN       8.800000   \n",
       "max                      2682.000000         NaN       9.800000   \n",
       "\n",
       "                                        hotel_name reviewer_nationality  \\\n",
       "count                                       386803               386803   \n",
       "unique                                        1492                  225   \n",
       "top     Britannia International Hotel Canary Wharf      United Kingdom    \n",
       "freq                                          3587               184033   \n",
       "mean                                           NaN                  NaN   \n",
       "std                                            NaN                  NaN   \n",
       "min                                            NaN                  NaN   \n",
       "25%                                            NaN                  NaN   \n",
       "50%                                            NaN                  NaN   \n",
       "75%                                            NaN                  NaN   \n",
       "max                                            NaN                  NaN   \n",
       "\n",
       "       negative_review  review_total_negative_word_counts  \\\n",
       "count           386803                      386803.000000   \n",
       "unique          248828                                NaN   \n",
       "top        No Negative                                NaN   \n",
       "freq             95907                                NaN   \n",
       "mean               NaN                          18.538988   \n",
       "std                NaN                          29.703369   \n",
       "min                NaN                           0.000000   \n",
       "25%                NaN                           2.000000   \n",
       "50%                NaN                           9.000000   \n",
       "75%                NaN                          23.000000   \n",
       "max                NaN                         408.000000   \n",
       "\n",
       "        total_number_of_reviews positive_review  \\\n",
       "count             386803.000000          386803   \n",
       "unique                      NaN          311737   \n",
       "top                         NaN     No Positive   \n",
       "freq                        NaN           26885   \n",
       "mean                2743.992042             NaN   \n",
       "std                 2316.457018             NaN   \n",
       "min                   43.000000             NaN   \n",
       "25%                 1161.000000             NaN   \n",
       "50%                 2134.000000             NaN   \n",
       "75%                 3613.000000             NaN   \n",
       "max                16670.000000             NaN   \n",
       "\n",
       "        review_total_positive_word_counts  \\\n",
       "count                       386803.000000   \n",
       "unique                                NaN   \n",
       "top                                   NaN   \n",
       "freq                                  NaN   \n",
       "mean                            17.776985   \n",
       "std                             21.726141   \n",
       "min                              0.000000   \n",
       "25%                              5.000000   \n",
       "50%                             11.000000   \n",
       "75%                             22.000000   \n",
       "max                            395.000000   \n",
       "\n",
       "        total_number_of_reviews_reviewer_has_given  reviewer_score  \\\n",
       "count                                 386803.00000   386803.000000   \n",
       "unique                                         NaN             NaN   \n",
       "top                                            NaN             NaN   \n",
       "freq                                           NaN             NaN   \n",
       "mean                                       7.17725        8.396906   \n",
       "std                                       11.05442        1.636090   \n",
       "min                                        1.00000        2.500000   \n",
       "25%                                        1.00000        7.500000   \n",
       "50%                                        3.00000        8.800000   \n",
       "75%                                        8.00000        9.600000   \n",
       "max                                      355.00000       10.000000   \n",
       "\n",
       "                                                     tags days_since_review  \\\n",
       "count                                              386803            386803   \n",
       "unique                                              47135               731   \n",
       "top     [' Leisure trip ', ' Couple ', ' Double Room '...            1 days   \n",
       "freq                                                 3853              1911   \n",
       "mean                                                  NaN               NaN   \n",
       "std                                                   NaN               NaN   \n",
       "min                                                   NaN               NaN   \n",
       "25%                                                   NaN               NaN   \n",
       "50%                                                   NaN               NaN   \n",
       "75%                                                   NaN               NaN   \n",
       "max                                                   NaN               NaN   \n",
       "\n",
       "                  lat            lng  \n",
       "count   384355.000000  384355.000000  \n",
       "unique            NaN            NaN  \n",
       "top               NaN            NaN  \n",
       "freq              NaN            NaN  \n",
       "mean        49.443522       2.823402  \n",
       "std          3.466936       4.579043  \n",
       "min         41.328376      -0.369758  \n",
       "25%         48.214662      -0.143649  \n",
       "50%         51.499981      -0.000250  \n",
       "75%         51.516288       4.834443  \n",
       "max         52.400181      16.429233  "
      ]
     },
     "execution_count": 253,
     "metadata": {},
     "output_type": "execute_result"
    }
   ],
   "source": [
    "data.describe(include='all')"
   ]
  },
  {
   "cell_type": "markdown",
   "metadata": {},
   "source": [
    "#### 2.1 Очистка данных"
   ]
  },
  {
   "cell_type": "markdown",
   "metadata": {},
   "source": [
    "Проверим данные на наличие полных дубликатов:"
   ]
  },
  {
   "cell_type": "code",
   "execution_count": 254,
   "metadata": {},
   "outputs": [
    {
     "data": {
      "text/plain": [
       "np.int64(307)"
      ]
     },
     "execution_count": 254,
     "metadata": {},
     "output_type": "execute_result"
    }
   ],
   "source": [
    "data.duplicated().sum()"
   ]
  },
  {
   "cell_type": "markdown",
   "metadata": {},
   "source": [
    "Найдено 307 дубликатов. Удаляем дубликаты."
   ]
  },
  {
   "cell_type": "code",
   "execution_count": 255,
   "metadata": {},
   "outputs": [
    {
     "data": {
      "text/plain": [
       "np.int64(0)"
      ]
     },
     "execution_count": 255,
     "metadata": {},
     "output_type": "execute_result"
    }
   ],
   "source": [
    "data = data.drop_duplicates()\n",
    "data.duplicated().sum()"
   ]
  },
  {
   "cell_type": "markdown",
   "metadata": {},
   "source": [
    "Заполним пропуски в lat и lng вредним значением."
   ]
  },
  {
   "cell_type": "code",
   "execution_count": 256,
   "metadata": {},
   "outputs": [
    {
     "data": {
      "text/plain": [
       "hotel_address                                 0\n",
       "additional_number_of_scoring                  0\n",
       "review_date                                   0\n",
       "average_score                                 0\n",
       "hotel_name                                    0\n",
       "reviewer_nationality                          0\n",
       "negative_review                               0\n",
       "review_total_negative_word_counts             0\n",
       "total_number_of_reviews                       0\n",
       "positive_review                               0\n",
       "review_total_positive_word_counts             0\n",
       "total_number_of_reviews_reviewer_has_given    0\n",
       "reviewer_score                                0\n",
       "tags                                          0\n",
       "days_since_review                             0\n",
       "lat                                           0\n",
       "lng                                           0\n",
       "dtype: int64"
      ]
     },
     "execution_count": 256,
     "metadata": {},
     "output_type": "execute_result"
    }
   ],
   "source": [
    "data['lat'] = data['lat'].fillna(data['lat'].mean())\n",
    "data['lng'] = data['lng'].fillna(data['lng'].mean())\n",
    "data.isnull().sum()"
   ]
  },
  {
   "cell_type": "markdown",
   "metadata": {},
   "source": [
    "Пропуски отсутствуют."
   ]
  },
  {
   "cell_type": "code",
   "execution_count": 257,
   "metadata": {},
   "outputs": [
    {
     "data": {
      "text/html": [
       "<div>\n",
       "<style scoped>\n",
       "    .dataframe tbody tr th:only-of-type {\n",
       "        vertical-align: middle;\n",
       "    }\n",
       "\n",
       "    .dataframe tbody tr th {\n",
       "        vertical-align: top;\n",
       "    }\n",
       "\n",
       "    .dataframe thead th {\n",
       "        text-align: right;\n",
       "    }\n",
       "</style>\n",
       "<table border=\"1\" class=\"dataframe\">\n",
       "  <thead>\n",
       "    <tr style=\"text-align: right;\">\n",
       "      <th></th>\n",
       "      <th>additional_number_of_scoring</th>\n",
       "      <th>average_score</th>\n",
       "      <th>review_total_negative_word_counts</th>\n",
       "      <th>total_number_of_reviews</th>\n",
       "      <th>review_total_positive_word_counts</th>\n",
       "      <th>total_number_of_reviews_reviewer_has_given</th>\n",
       "      <th>reviewer_score</th>\n",
       "      <th>lat</th>\n",
       "      <th>lng</th>\n",
       "    </tr>\n",
       "  </thead>\n",
       "  <tbody>\n",
       "    <tr>\n",
       "      <th>count</th>\n",
       "      <td>386496.000000</td>\n",
       "      <td>386496.000000</td>\n",
       "      <td>386496.000000</td>\n",
       "      <td>386496.000000</td>\n",
       "      <td>386496.000000</td>\n",
       "      <td>386496.000000</td>\n",
       "      <td>386496.000000</td>\n",
       "      <td>386496.000000</td>\n",
       "      <td>386496.000000</td>\n",
       "    </tr>\n",
       "    <tr>\n",
       "      <th>mean</th>\n",
       "      <td>498.504375</td>\n",
       "      <td>8.397421</td>\n",
       "      <td>18.539400</td>\n",
       "      <td>2744.679231</td>\n",
       "      <td>17.778163</td>\n",
       "      <td>7.176211</td>\n",
       "      <td>8.397299</td>\n",
       "      <td>49.443988</td>\n",
       "      <td>2.823740</td>\n",
       "    </tr>\n",
       "    <tr>\n",
       "      <th>std</th>\n",
       "      <td>500.365093</td>\n",
       "      <td>0.547861</td>\n",
       "      <td>29.703569</td>\n",
       "      <td>2316.934876</td>\n",
       "      <td>21.724766</td>\n",
       "      <td>11.052453</td>\n",
       "      <td>1.635747</td>\n",
       "      <td>3.457265</td>\n",
       "      <td>4.566252</td>\n",
       "    </tr>\n",
       "    <tr>\n",
       "      <th>min</th>\n",
       "      <td>1.000000</td>\n",
       "      <td>5.200000</td>\n",
       "      <td>0.000000</td>\n",
       "      <td>43.000000</td>\n",
       "      <td>0.000000</td>\n",
       "      <td>1.000000</td>\n",
       "      <td>2.500000</td>\n",
       "      <td>41.328376</td>\n",
       "      <td>-0.369758</td>\n",
       "    </tr>\n",
       "    <tr>\n",
       "      <th>25%</th>\n",
       "      <td>169.000000</td>\n",
       "      <td>8.100000</td>\n",
       "      <td>2.000000</td>\n",
       "      <td>1161.000000</td>\n",
       "      <td>5.000000</td>\n",
       "      <td>1.000000</td>\n",
       "      <td>7.500000</td>\n",
       "      <td>48.214662</td>\n",
       "      <td>-0.143372</td>\n",
       "    </tr>\n",
       "    <tr>\n",
       "      <th>50%</th>\n",
       "      <td>342.000000</td>\n",
       "      <td>8.400000</td>\n",
       "      <td>9.000000</td>\n",
       "      <td>2134.000000</td>\n",
       "      <td>11.000000</td>\n",
       "      <td>3.000000</td>\n",
       "      <td>8.800000</td>\n",
       "      <td>51.499981</td>\n",
       "      <td>0.019886</td>\n",
       "    </tr>\n",
       "    <tr>\n",
       "      <th>75%</th>\n",
       "      <td>660.000000</td>\n",
       "      <td>8.800000</td>\n",
       "      <td>23.000000</td>\n",
       "      <td>3633.000000</td>\n",
       "      <td>22.000000</td>\n",
       "      <td>8.000000</td>\n",
       "      <td>9.600000</td>\n",
       "      <td>51.516288</td>\n",
       "      <td>4.831098</td>\n",
       "    </tr>\n",
       "    <tr>\n",
       "      <th>max</th>\n",
       "      <td>2682.000000</td>\n",
       "      <td>9.800000</td>\n",
       "      <td>408.000000</td>\n",
       "      <td>16670.000000</td>\n",
       "      <td>395.000000</td>\n",
       "      <td>355.000000</td>\n",
       "      <td>10.000000</td>\n",
       "      <td>52.400181</td>\n",
       "      <td>16.429233</td>\n",
       "    </tr>\n",
       "  </tbody>\n",
       "</table>\n",
       "</div>"
      ],
      "text/plain": [
       "       additional_number_of_scoring  average_score  \\\n",
       "count                 386496.000000  386496.000000   \n",
       "mean                     498.504375       8.397421   \n",
       "std                      500.365093       0.547861   \n",
       "min                        1.000000       5.200000   \n",
       "25%                      169.000000       8.100000   \n",
       "50%                      342.000000       8.400000   \n",
       "75%                      660.000000       8.800000   \n",
       "max                     2682.000000       9.800000   \n",
       "\n",
       "       review_total_negative_word_counts  total_number_of_reviews  \\\n",
       "count                      386496.000000            386496.000000   \n",
       "mean                           18.539400              2744.679231   \n",
       "std                            29.703569              2316.934876   \n",
       "min                             0.000000                43.000000   \n",
       "25%                             2.000000              1161.000000   \n",
       "50%                             9.000000              2134.000000   \n",
       "75%                            23.000000              3633.000000   \n",
       "max                           408.000000             16670.000000   \n",
       "\n",
       "       review_total_positive_word_counts  \\\n",
       "count                      386496.000000   \n",
       "mean                           17.778163   \n",
       "std                            21.724766   \n",
       "min                             0.000000   \n",
       "25%                             5.000000   \n",
       "50%                            11.000000   \n",
       "75%                            22.000000   \n",
       "max                           395.000000   \n",
       "\n",
       "       total_number_of_reviews_reviewer_has_given  reviewer_score  \\\n",
       "count                               386496.000000   386496.000000   \n",
       "mean                                     7.176211        8.397299   \n",
       "std                                     11.052453        1.635747   \n",
       "min                                      1.000000        2.500000   \n",
       "25%                                      1.000000        7.500000   \n",
       "50%                                      3.000000        8.800000   \n",
       "75%                                      8.000000        9.600000   \n",
       "max                                    355.000000       10.000000   \n",
       "\n",
       "                 lat            lng  \n",
       "count  386496.000000  386496.000000  \n",
       "mean       49.443988       2.823740  \n",
       "std         3.457265       4.566252  \n",
       "min        41.328376      -0.369758  \n",
       "25%        48.214662      -0.143372  \n",
       "50%        51.499981       0.019886  \n",
       "75%        51.516288       4.831098  \n",
       "max        52.400181      16.429233  "
      ]
     },
     "execution_count": 257,
     "metadata": {},
     "output_type": "execute_result"
    }
   ],
   "source": [
    "data.describe()"
   ]
  },
  {
   "cell_type": "markdown",
   "metadata": {},
   "source": [
    "В таблице выше не видно сильных выбросов. Но есть вероятность, что они есть\n",
    "\n",
    "Прежде чем проверять числовые данные на выбросы, предлагаю проверить их на нормальность распределения чтобы понять применим ли к ним вообще метод Тьюки. "
   ]
  },
  {
   "cell_type": "code",
   "execution_count": 258,
   "metadata": {},
   "outputs": [
    {
     "name": "stdout",
     "output_type": "stream",
     "text": [
      "Распределение average_score не нормальное\n",
      "Распределение review_total_negative_word_counts не нормальное\n",
      "Распределение total_number_of_reviews не нормальное\n",
      "Распределение review_total_positive_word_counts не нормальное\n",
      "Распределение total_number_of_reviews_reviewer_has_given не нормальное\n",
      "Распределение reviewer_score не нормальное\n"
     ]
    },
    {
     "name": "stderr",
     "output_type": "stream",
     "text": [
      "c:\\Projects\\DS\\booking\\.venv\\Lib\\site-packages\\scipy\\stats\\_axis_nan_policy.py:573: UserWarning:\n",
      "\n",
      "scipy.stats.shapiro: For N > 5000, computed p-value may not be accurate. Current N is 386496.\n",
      "\n"
     ]
    }
   ],
   "source": [
    "# задаём уровень значимости\n",
    "alpha = 0.05 \n",
    "\n",
    "# Задаем перечень числовых параметров\n",
    "num_list = ['average_score', 'review_total_negative_word_counts', \n",
    "         'total_number_of_reviews', 'review_total_positive_word_counts', \n",
    "         'total_number_of_reviews_reviewer_has_given', 'reviewer_score']\n",
    "\n",
    "# проводим тест Шапиро — Уилка\n",
    "for col in num_list:\n",
    "    _, p= stats.shapiro(data[col])\n",
    "    if p <= alpha:\n",
    "        print(f'Распределение {col} не нормальное')\n",
    "    else:\n",
    "        print(f'Распределение {col} нормальное')\n",
    "\n"
   ]
  },
  {
   "cell_type": "markdown",
   "metadata": {},
   "source": [
    "Параметры не имеют нормального распределения. Нет смысла применять метод ТЬюки."
   ]
  },
  {
   "cell_type": "markdown",
   "metadata": {},
   "source": [
    "#### 2.2 Проектирование признаков"
   ]
  },
  {
   "cell_type": "markdown",
   "metadata": {},
   "source": [
    "Посмотрим, что можно извлечь из столбца hotel_address."
   ]
  },
  {
   "cell_type": "code",
   "execution_count": 259,
   "metadata": {},
   "outputs": [
    {
     "name": "stdout",
     "output_type": "stream",
     "text": [
      "Stratton Street Mayfair Westminster Borough London W1J 8LT United Kingdom / Prinses Irenestraat 30 Zuideramstel 1077 WX Amsterdam Netherlands\n"
     ]
    }
   ],
   "source": [
    "print(data['hotel_address'][0],'/', data['hotel_address'][5000])"
   ]
  },
  {
   "cell_type": "markdown",
   "metadata": {},
   "source": [
    "Последними словами идет страна. Попробуем ее извлечь."
   ]
  },
  {
   "cell_type": "code",
   "execution_count": 260,
   "metadata": {},
   "outputs": [
    {
     "name": "stdout",
     "output_type": "stream",
     "text": [
      "['Kingdom' 'France' 'Netherlands' 'Italy' 'Austria' 'Spain']\n"
     ]
    }
   ],
   "source": [
    "print(data['hotel_address'].apply(lambda x: x.split()[-1]).unique())"
   ]
  },
  {
   "cell_type": "code",
   "execution_count": 261,
   "metadata": {},
   "outputs": [],
   "source": [
    "data['hotel_country'] = data['hotel_address'].apply(lambda x: x.split()[-1] \n",
    "                                                    if x.split()[-1] != 'Kingdom' \n",
    "                                                    else x.split()[-2] + ' ' + x.split()[-1])"
   ]
  },
  {
   "cell_type": "markdown",
   "metadata": {},
   "source": [
    "Обрабатываем значение и приводим перводим в категории и сбрасываем ненужный столбец."
   ]
  },
  {
   "cell_type": "code",
   "execution_count": 262,
   "metadata": {},
   "outputs": [],
   "source": [
    "data['hotel_country'] = data['hotel_country'].astype('category')\n",
    "data = data.drop(['hotel_address'], axis=1)\n"
   ]
  },
  {
   "cell_type": "markdown",
   "metadata": {},
   "source": [
    "additional_number_of_scoring оставляем без изменений. \n",
    "\n",
    "Рассмотрим review_date. У нас уже есть столбец days_since_review. Мне кажется, что его использовать удобнее. сбрасываем review_date."
   ]
  },
  {
   "cell_type": "code",
   "execution_count": 263,
   "metadata": {},
   "outputs": [],
   "source": [
    "data = data.drop(['review_date'], axis=1)"
   ]
  },
  {
   "cell_type": "code",
   "execution_count": 264,
   "metadata": {},
   "outputs": [],
   "source": [
    "data['days_since_review'] = \\\n",
    "data['days_since_review'].apply(lambda x: int(x.replace(' days', '').replace(' day', '')))"
   ]
  },
  {
   "cell_type": "code",
   "execution_count": 265,
   "metadata": {},
   "outputs": [
    {
     "data": {
      "text/html": [
       "<div>\n",
       "<style scoped>\n",
       "    .dataframe tbody tr th:only-of-type {\n",
       "        vertical-align: middle;\n",
       "    }\n",
       "\n",
       "    .dataframe tbody tr th {\n",
       "        vertical-align: top;\n",
       "    }\n",
       "\n",
       "    .dataframe thead th {\n",
       "        text-align: right;\n",
       "    }\n",
       "</style>\n",
       "<table border=\"1\" class=\"dataframe\">\n",
       "  <thead>\n",
       "    <tr style=\"text-align: right;\">\n",
       "      <th></th>\n",
       "      <th>additional_number_of_scoring</th>\n",
       "      <th>average_score</th>\n",
       "      <th>hotel_name</th>\n",
       "      <th>reviewer_nationality</th>\n",
       "      <th>negative_review</th>\n",
       "      <th>review_total_negative_word_counts</th>\n",
       "      <th>total_number_of_reviews</th>\n",
       "      <th>positive_review</th>\n",
       "      <th>review_total_positive_word_counts</th>\n",
       "      <th>total_number_of_reviews_reviewer_has_given</th>\n",
       "      <th>reviewer_score</th>\n",
       "      <th>tags</th>\n",
       "      <th>days_since_review</th>\n",
       "      <th>lat</th>\n",
       "      <th>lng</th>\n",
       "      <th>hotel_country</th>\n",
       "    </tr>\n",
       "  </thead>\n",
       "  <tbody>\n",
       "    <tr>\n",
       "      <th>0</th>\n",
       "      <td>581</td>\n",
       "      <td>8.4</td>\n",
       "      <td>The May Fair Hotel</td>\n",
       "      <td>United Kingdom</td>\n",
       "      <td>Leaving</td>\n",
       "      <td>3</td>\n",
       "      <td>1994</td>\n",
       "      <td>Staff were amazing</td>\n",
       "      <td>4</td>\n",
       "      <td>7</td>\n",
       "      <td>10.0</td>\n",
       "      <td>[' Leisure trip ', ' Couple ', ' Studio Suite ...</td>\n",
       "      <td>531</td>\n",
       "      <td>51.507894</td>\n",
       "      <td>-0.143671</td>\n",
       "      <td>United Kingdom</td>\n",
       "    </tr>\n",
       "    <tr>\n",
       "      <th>1</th>\n",
       "      <td>299</td>\n",
       "      <td>8.3</td>\n",
       "      <td>Mercure London Bloomsbury Hotel</td>\n",
       "      <td>United Kingdom</td>\n",
       "      <td>poor breakfast</td>\n",
       "      <td>3</td>\n",
       "      <td>1361</td>\n",
       "      <td>location</td>\n",
       "      <td>2</td>\n",
       "      <td>14</td>\n",
       "      <td>6.3</td>\n",
       "      <td>[' Business trip ', ' Couple ', ' Standard Dou...</td>\n",
       "      <td>203</td>\n",
       "      <td>51.521009</td>\n",
       "      <td>-0.123097</td>\n",
       "      <td>United Kingdom</td>\n",
       "    </tr>\n",
       "  </tbody>\n",
       "</table>\n",
       "</div>"
      ],
      "text/plain": [
       "   additional_number_of_scoring  average_score  \\\n",
       "0                           581            8.4   \n",
       "1                           299            8.3   \n",
       "\n",
       "                        hotel_name reviewer_nationality  negative_review  \\\n",
       "0               The May Fair Hotel      United Kingdom          Leaving    \n",
       "1  Mercure London Bloomsbury Hotel      United Kingdom    poor breakfast   \n",
       "\n",
       "   review_total_negative_word_counts  total_number_of_reviews  \\\n",
       "0                                  3                     1994   \n",
       "1                                  3                     1361   \n",
       "\n",
       "       positive_review  review_total_positive_word_counts  \\\n",
       "0   Staff were amazing                                  4   \n",
       "1             location                                  2   \n",
       "\n",
       "   total_number_of_reviews_reviewer_has_given  reviewer_score  \\\n",
       "0                                           7            10.0   \n",
       "1                                          14             6.3   \n",
       "\n",
       "                                                tags  days_since_review  \\\n",
       "0  [' Leisure trip ', ' Couple ', ' Studio Suite ...                531   \n",
       "1  [' Business trip ', ' Couple ', ' Standard Dou...                203   \n",
       "\n",
       "         lat       lng   hotel_country  \n",
       "0  51.507894 -0.143671  United Kingdom  \n",
       "1  51.521009 -0.123097  United Kingdom  "
      ]
     },
     "execution_count": 265,
     "metadata": {},
     "output_type": "execute_result"
    }
   ],
   "source": [
    "data.head(2)"
   ]
  },
  {
   "cell_type": "markdown",
   "metadata": {},
   "source": [
    "Рассмотрим hotel_name."
   ]
  },
  {
   "cell_type": "code",
   "execution_count": 266,
   "metadata": {},
   "outputs": [
    {
     "name": "stdout",
     "output_type": "stream",
     "text": [
      "The May Fair Hotel / Holiday Inn London Regent s Park\n"
     ]
    }
   ],
   "source": [
    "print(data['hotel_name'][0],'/', data['hotel_name'][10000])"
   ]
  },
  {
   "cell_type": "markdown",
   "metadata": {},
   "source": [
    "Попробуем закодировать бинарным способом"
   ]
  },
  {
   "cell_type": "code",
   "execution_count": 267,
   "metadata": {},
   "outputs": [],
   "source": [
    "bin_encoder = ce.BinaryEncoder(cols=['hotel_name'])\n",
    "hotel_name = bin_encoder.fit_transform(data['hotel_name'])\n",
    "data = pd.concat([data, hotel_name], axis=1)"
   ]
  },
  {
   "cell_type": "markdown",
   "metadata": {},
   "source": [
    "Удаляем изначальный признак hotel_name"
   ]
  },
  {
   "cell_type": "code",
   "execution_count": 268,
   "metadata": {},
   "outputs": [
    {
     "data": {
      "text/html": [
       "<div>\n",
       "<style scoped>\n",
       "    .dataframe tbody tr th:only-of-type {\n",
       "        vertical-align: middle;\n",
       "    }\n",
       "\n",
       "    .dataframe tbody tr th {\n",
       "        vertical-align: top;\n",
       "    }\n",
       "\n",
       "    .dataframe thead th {\n",
       "        text-align: right;\n",
       "    }\n",
       "</style>\n",
       "<table border=\"1\" class=\"dataframe\">\n",
       "  <thead>\n",
       "    <tr style=\"text-align: right;\">\n",
       "      <th></th>\n",
       "      <th>additional_number_of_scoring</th>\n",
       "      <th>average_score</th>\n",
       "      <th>reviewer_nationality</th>\n",
       "      <th>negative_review</th>\n",
       "      <th>review_total_negative_word_counts</th>\n",
       "      <th>total_number_of_reviews</th>\n",
       "      <th>positive_review</th>\n",
       "      <th>review_total_positive_word_counts</th>\n",
       "      <th>total_number_of_reviews_reviewer_has_given</th>\n",
       "      <th>reviewer_score</th>\n",
       "      <th>...</th>\n",
       "      <th>hotel_name_1</th>\n",
       "      <th>hotel_name_2</th>\n",
       "      <th>hotel_name_3</th>\n",
       "      <th>hotel_name_4</th>\n",
       "      <th>hotel_name_5</th>\n",
       "      <th>hotel_name_6</th>\n",
       "      <th>hotel_name_7</th>\n",
       "      <th>hotel_name_8</th>\n",
       "      <th>hotel_name_9</th>\n",
       "      <th>hotel_name_10</th>\n",
       "    </tr>\n",
       "  </thead>\n",
       "  <tbody>\n",
       "    <tr>\n",
       "      <th>0</th>\n",
       "      <td>581</td>\n",
       "      <td>8.4</td>\n",
       "      <td>United Kingdom</td>\n",
       "      <td>Leaving</td>\n",
       "      <td>3</td>\n",
       "      <td>1994</td>\n",
       "      <td>Staff were amazing</td>\n",
       "      <td>4</td>\n",
       "      <td>7</td>\n",
       "      <td>10.0</td>\n",
       "      <td>...</td>\n",
       "      <td>0</td>\n",
       "      <td>0</td>\n",
       "      <td>0</td>\n",
       "      <td>0</td>\n",
       "      <td>0</td>\n",
       "      <td>0</td>\n",
       "      <td>0</td>\n",
       "      <td>0</td>\n",
       "      <td>0</td>\n",
       "      <td>1</td>\n",
       "    </tr>\n",
       "    <tr>\n",
       "      <th>1</th>\n",
       "      <td>299</td>\n",
       "      <td>8.3</td>\n",
       "      <td>United Kingdom</td>\n",
       "      <td>poor breakfast</td>\n",
       "      <td>3</td>\n",
       "      <td>1361</td>\n",
       "      <td>location</td>\n",
       "      <td>2</td>\n",
       "      <td>14</td>\n",
       "      <td>6.3</td>\n",
       "      <td>...</td>\n",
       "      <td>0</td>\n",
       "      <td>0</td>\n",
       "      <td>0</td>\n",
       "      <td>0</td>\n",
       "      <td>0</td>\n",
       "      <td>0</td>\n",
       "      <td>0</td>\n",
       "      <td>0</td>\n",
       "      <td>1</td>\n",
       "      <td>0</td>\n",
       "    </tr>\n",
       "    <tr>\n",
       "      <th>2</th>\n",
       "      <td>32</td>\n",
       "      <td>8.9</td>\n",
       "      <td>China</td>\n",
       "      <td>No kettle in room</td>\n",
       "      <td>6</td>\n",
       "      <td>406</td>\n",
       "      <td>No Positive</td>\n",
       "      <td>0</td>\n",
       "      <td>14</td>\n",
       "      <td>7.5</td>\n",
       "      <td>...</td>\n",
       "      <td>0</td>\n",
       "      <td>0</td>\n",
       "      <td>0</td>\n",
       "      <td>0</td>\n",
       "      <td>0</td>\n",
       "      <td>0</td>\n",
       "      <td>0</td>\n",
       "      <td>0</td>\n",
       "      <td>1</td>\n",
       "      <td>1</td>\n",
       "    </tr>\n",
       "    <tr>\n",
       "      <th>3</th>\n",
       "      <td>34</td>\n",
       "      <td>7.5</td>\n",
       "      <td>United Kingdom</td>\n",
       "      <td>No Negative</td>\n",
       "      <td>0</td>\n",
       "      <td>607</td>\n",
       "      <td>Friendly staff quiet comfortable room spotles...</td>\n",
       "      <td>11</td>\n",
       "      <td>8</td>\n",
       "      <td>10.0</td>\n",
       "      <td>...</td>\n",
       "      <td>0</td>\n",
       "      <td>0</td>\n",
       "      <td>0</td>\n",
       "      <td>0</td>\n",
       "      <td>0</td>\n",
       "      <td>0</td>\n",
       "      <td>0</td>\n",
       "      <td>1</td>\n",
       "      <td>0</td>\n",
       "      <td>0</td>\n",
       "    </tr>\n",
       "    <tr>\n",
       "      <th>4</th>\n",
       "      <td>914</td>\n",
       "      <td>8.5</td>\n",
       "      <td>Poland</td>\n",
       "      <td>Torn sheets</td>\n",
       "      <td>4</td>\n",
       "      <td>7586</td>\n",
       "      <td>The staff was very friendly and helpful Break...</td>\n",
       "      <td>20</td>\n",
       "      <td>10</td>\n",
       "      <td>9.6</td>\n",
       "      <td>...</td>\n",
       "      <td>0</td>\n",
       "      <td>0</td>\n",
       "      <td>0</td>\n",
       "      <td>0</td>\n",
       "      <td>0</td>\n",
       "      <td>0</td>\n",
       "      <td>0</td>\n",
       "      <td>1</td>\n",
       "      <td>0</td>\n",
       "      <td>1</td>\n",
       "    </tr>\n",
       "  </tbody>\n",
       "</table>\n",
       "<p>5 rows × 26 columns</p>\n",
       "</div>"
      ],
      "text/plain": [
       "   additional_number_of_scoring  average_score reviewer_nationality  \\\n",
       "0                           581            8.4      United Kingdom    \n",
       "1                           299            8.3      United Kingdom    \n",
       "2                            32            8.9               China    \n",
       "3                            34            7.5      United Kingdom    \n",
       "4                           914            8.5              Poland    \n",
       "\n",
       "       negative_review  review_total_negative_word_counts  \\\n",
       "0             Leaving                                   3   \n",
       "1       poor breakfast                                  3   \n",
       "2   No kettle in room                                   6   \n",
       "3          No Negative                                  0   \n",
       "4         Torn sheets                                   4   \n",
       "\n",
       "   total_number_of_reviews                                    positive_review  \\\n",
       "0                     1994                                 Staff were amazing   \n",
       "1                     1361                                           location   \n",
       "2                      406                                        No Positive   \n",
       "3                      607   Friendly staff quiet comfortable room spotles...   \n",
       "4                     7586   The staff was very friendly and helpful Break...   \n",
       "\n",
       "   review_total_positive_word_counts  \\\n",
       "0                                  4   \n",
       "1                                  2   \n",
       "2                                  0   \n",
       "3                                 11   \n",
       "4                                 20   \n",
       "\n",
       "   total_number_of_reviews_reviewer_has_given  reviewer_score  ...  \\\n",
       "0                                           7            10.0  ...   \n",
       "1                                          14             6.3  ...   \n",
       "2                                          14             7.5  ...   \n",
       "3                                           8            10.0  ...   \n",
       "4                                          10             9.6  ...   \n",
       "\n",
       "  hotel_name_1  hotel_name_2  hotel_name_3  hotel_name_4 hotel_name_5  \\\n",
       "0            0             0             0             0            0   \n",
       "1            0             0             0             0            0   \n",
       "2            0             0             0             0            0   \n",
       "3            0             0             0             0            0   \n",
       "4            0             0             0             0            0   \n",
       "\n",
       "   hotel_name_6  hotel_name_7  hotel_name_8  hotel_name_9  hotel_name_10  \n",
       "0             0             0             0             0              1  \n",
       "1             0             0             0             1              0  \n",
       "2             0             0             0             1              1  \n",
       "3             0             0             1             0              0  \n",
       "4             0             0             1             0              1  \n",
       "\n",
       "[5 rows x 26 columns]"
      ]
     },
     "execution_count": 268,
     "metadata": {},
     "output_type": "execute_result"
    }
   ],
   "source": [
    "data = data.drop(['hotel_name'], axis=1)\n",
    "data.head()"
   ]
  },
  {
   "cell_type": "markdown",
   "metadata": {},
   "source": [
    "Далее рассматриваем параметр reviewer_nationality."
   ]
  },
  {
   "cell_type": "code",
   "execution_count": 269,
   "metadata": {},
   "outputs": [
    {
     "data": {
      "text/plain": [
       "array([' United Kingdom ', ' China ', ' Poland ', ' France ',\n",
       "       ' Switzerland ', ' Bulgaria ', ' Lebanon ',\n",
       "       ' United Arab Emirates ', ' South Africa ', ' Nigeria ',\n",
       "       ' Sweden ', ' United States of America ', ' Hong Kong ',\n",
       "       ' Luxembourg ', ' Netherlands ', ' Jersey ', ' Pakistan ',\n",
       "       ' Mexico ', ' Italy ', ' Singapore ', ' Ireland ', ' Kuwait ',\n",
       "       ' Bahrain ', ' Portugal ', ' Canada ', ' Germany ', ' Oman ',\n",
       "       ' Austria ', ' Japan ', ' Ukraine ', ' Finland ', ' Iran ',\n",
       "       ' Thailand ', ' Brazil ', ' Denmark ', ' Australia ', ' Spain ',\n",
       "       ' Gabon ', ' New Zealand ', ' Israel ', ' Cyprus ', ' Gibraltar ',\n",
       "       ' Turkey ', ' Egypt ', ' Indonesia ', ' Slovakia ', ' Qatar ',\n",
       "       ' Romania ', ' Belgium ', ' Trinidad and Tobago ', ' ',\n",
       "       ' Saudi Arabia ', ' Bhutan ', ' Iceland ', ' Norway ',\n",
       "       ' Sri Lanka ', ' Isle of Man ', ' Greece ', ' Slovenia ',\n",
       "       ' Serbia ', ' Czech Republic ', ' Hungary ', ' Latvia ',\n",
       "       ' Estonia ', ' South Korea ', ' Malaysia ', ' Malta ',\n",
       "       ' Bosnia and Herzegovina ', ' Jordan ', ' Chile ', ' India ',\n",
       "       ' Vietnam ', ' Puerto Rico ', ' Russia ', ' Colombia ',\n",
       "       ' Georgia ', ' Argentina ', ' Guernsey ', ' Kazakhstan ',\n",
       "       ' Brunei ', ' Croatia ', ' Lithuania ', ' Montenegro ',\n",
       "       ' Costa Rica ', ' Mauritius ', ' Fiji ', ' Philippines ',\n",
       "       ' Bermuda ', ' Peru ', ' Belarus ', ' Morocco ', ' Seychelles ',\n",
       "       ' Azerbaijan ', ' Venezuela ', ' Taiwan ', ' Sudan ', ' Ghana ',\n",
       "       ' Paraguay ', ' Bahamas ', ' Macedonia ', ' Monaco ', ' Panama ',\n",
       "       ' Dominica ', ' Guatemala ', ' Mauritania ', ' Ecuador ',\n",
       "       ' Kenya ', ' Iraq ', ' Bangladesh ', ' Zimbabwe ', ' Armenia ',\n",
       "       ' Tuvalu ', ' Kosovo ', ' Abkhazia Georgia ', ' Rwanda ',\n",
       "       ' Andorra ', ' United States Minor Outlying Islands ', ' Albania ',\n",
       "       ' Syria ', ' Namibia ', ' Libya ', ' Barbados ', ' Moldova ',\n",
       "       ' Bolivia ', ' Tanzania ', ' Faroe Islands ', ' Mali ',\n",
       "       ' Liechtenstein ', ' El Salvador ', ' Tunisia ', ' Algeria ',\n",
       "       ' Macau ', ' Mongolia ', ' Lesotho ', ' Madagascar ',\n",
       "       ' Nicaragua ', ' Zambia ', ' Papua New Guinea ', ' Ethiopia ',\n",
       "       ' Cayman Islands ', ' Ivory Coast ', ' Cura ao ', ' Senegal ',\n",
       "       ' U S Virgin Islands ', ' Saint Lucia ', ' Antarctica ',\n",
       "       ' Jamaica ', ' Belize ', ' Angola ', ' Myanmar ', ' Burundi ',\n",
       "       ' Honduras ', ' Maldives ', ' Uganda ', ' Aruba ', ' Yemen ',\n",
       "       ' Uruguay ', ' Benin ', ' Palestinian Territory ', ' Gambia ',\n",
       "       ' Botswana ', ' French Polynesia ', ' Suriname ', ' Malawi ',\n",
       "       ' Anguilla ', ' Comoros ', ' Niger ', ' Djibouti ', ' Mozambique ',\n",
       "       ' Guinea ', ' Falkland Islands Malvinas ', ' Togo ',\n",
       "       ' Turks Caicos Islands ', ' Cambodia ', ' Saint Kitts and Nevis ',\n",
       "       ' Dominican Republic ', ' Turkmenistan ', ' Laos ',\n",
       "       ' Cook Islands ', ' Crimea ', ' Congo ', ' Liberia ',\n",
       "       ' Uzbekistan ', ' St Maarten ', ' Kyrgyzstan ',\n",
       "       ' British Virgin Islands ', ' Martinique ', ' Montserrat ',\n",
       "       ' Guam ', ' Equatorial Guinea ', ' Nepal ', ' Antigua Barbuda ',\n",
       "       ' Tajikistan ', ' St Pierre and Miquelon ', ' Guadeloupe ',\n",
       "       ' New Caledonia ', ' Cocos K I ', ' Wallis and Futuna ', ' Haiti ',\n",
       "       ' Sierra Leone ', ' Swaziland ', ' Saint Martin ', ' Vanuatu ',\n",
       "       ' Saint Vincent Grenadines ', ' French Guiana ', ' Afghanistan ',\n",
       "       ' Samoa ', ' Guyana ', ' South Sudan ', ' Kiribati ', ' Reunion ',\n",
       "       ' Bonaire St Eustatius and Saba ', ' Somalia ',\n",
       "       ' Democratic Republic of the Congo ', ' Eritrea ', ' San Marino ',\n",
       "       ' Cameroon ', ' East Timor ', ' Svalbard Jan Mayen ',\n",
       "       ' American Samoa ', ' Northern Mariana Islands ', ' Saint Barts ',\n",
       "       ' Central Africa Republic ', ' Palau ', ' Grenada '], dtype=object)"
      ]
     },
     "execution_count": 269,
     "metadata": {},
     "output_type": "execute_result"
    }
   ],
   "source": [
    "data['reviewer_nationality'].unique()"
   ]
  },
  {
   "cell_type": "markdown",
   "metadata": {},
   "source": [
    "Врядли имеет смысл рассматривать все эти страны. Предлагаю Сократить до количества стран равного количеству стран hotel_country. \n",
    "\n",
    "Далее предлагаю одинаково закодировать оба признака и ввести признак совпадения hotel_country reviewer_nationality. Есть вероятность, что признак будет влиять на оценку отеля."
   ]
  },
  {
   "cell_type": "code",
   "execution_count": 270,
   "metadata": {},
   "outputs": [
    {
     "data": {
      "text/plain": [
       "array(['United Kingdom', 'other', 'France', 'Netherlands', 'Italy',\n",
       "       'Austria', 'Spain'], dtype=object)"
      ]
     },
     "metadata": {},
     "output_type": "display_data"
    }
   ],
   "source": [
    "countries_dict = {'United Kingdom':1, 'France':2, 'Netherlands':3, 'Italy':4, 'Austria':5, 'Spain':6, 'other':7}\n",
    "\n",
    "data['reviewer_nationality'] = data['reviewer_nationality'].apply(lambda x: x.strip())\n",
    "data['reviewer_nationality'] = data['reviewer_nationality'].apply(lambda x: x if x in countries_dict.keys() else 'other')\n",
    "display(data['reviewer_nationality'].unique())\n"
   ]
  },
  {
   "cell_type": "code",
   "execution_count": 271,
   "metadata": {},
   "outputs": [],
   "source": [
    "# создаем объект OrdinalEncoder, col - имя столбца, mapping - словарь с описанием кодировки\n",
    "ord_encoder = ce.OrdinalEncoder(mapping=[{\n",
    "\t'col': 'reviewer_nationality',\n",
    "\t'mapping': countries_dict\n",
    "}])\n",
    "# применяем трансформацию к столбцу reviewer_nationality\n",
    "data_bin = ord_encoder.fit_transform(data['reviewer_nationality'])\n",
    "# добавляем результат к исходному DataFrame\n",
    "data['reviewer_nationality']=data_bin\n",
    "\n",
    "\n",
    "ord_encoder = ce.OrdinalEncoder(mapping=[{\n",
    "\t'col': 'hotel_country',\n",
    "\t'mapping': countries_dict\n",
    "}])\n",
    "# применяем трансформацию к столбцу\n",
    "data_bin = ord_encoder.fit_transform(data['hotel_country'])\n",
    "# добавляем результат к исходному DataFrame\n",
    "data['hotel_country']=data_bin\n"
   ]
  },
  {
   "cell_type": "code",
   "execution_count": 272,
   "metadata": {},
   "outputs": [],
   "source": [
    "data['hotel_country_is_reviewer_nationality'] = data['reviewer_nationality'] == data['hotel_country']"
   ]
  },
  {
   "cell_type": "code",
   "execution_count": 273,
   "metadata": {},
   "outputs": [
    {
     "data": {
      "text/html": [
       "<div>\n",
       "<style scoped>\n",
       "    .dataframe tbody tr th:only-of-type {\n",
       "        vertical-align: middle;\n",
       "    }\n",
       "\n",
       "    .dataframe tbody tr th {\n",
       "        vertical-align: top;\n",
       "    }\n",
       "\n",
       "    .dataframe thead th {\n",
       "        text-align: right;\n",
       "    }\n",
       "</style>\n",
       "<table border=\"1\" class=\"dataframe\">\n",
       "  <thead>\n",
       "    <tr style=\"text-align: right;\">\n",
       "      <th></th>\n",
       "      <th>additional_number_of_scoring</th>\n",
       "      <th>average_score</th>\n",
       "      <th>reviewer_nationality</th>\n",
       "      <th>negative_review</th>\n",
       "      <th>review_total_negative_word_counts</th>\n",
       "      <th>total_number_of_reviews</th>\n",
       "      <th>positive_review</th>\n",
       "      <th>review_total_positive_word_counts</th>\n",
       "      <th>total_number_of_reviews_reviewer_has_given</th>\n",
       "      <th>reviewer_score</th>\n",
       "      <th>...</th>\n",
       "      <th>hotel_name_2</th>\n",
       "      <th>hotel_name_3</th>\n",
       "      <th>hotel_name_4</th>\n",
       "      <th>hotel_name_5</th>\n",
       "      <th>hotel_name_6</th>\n",
       "      <th>hotel_name_7</th>\n",
       "      <th>hotel_name_8</th>\n",
       "      <th>hotel_name_9</th>\n",
       "      <th>hotel_name_10</th>\n",
       "      <th>hotel_country_is_reviewer_nationality</th>\n",
       "    </tr>\n",
       "  </thead>\n",
       "  <tbody>\n",
       "    <tr>\n",
       "      <th>0</th>\n",
       "      <td>581</td>\n",
       "      <td>8.4</td>\n",
       "      <td>1</td>\n",
       "      <td>Leaving</td>\n",
       "      <td>3</td>\n",
       "      <td>1994</td>\n",
       "      <td>Staff were amazing</td>\n",
       "      <td>4</td>\n",
       "      <td>7</td>\n",
       "      <td>10.0</td>\n",
       "      <td>...</td>\n",
       "      <td>0</td>\n",
       "      <td>0</td>\n",
       "      <td>0</td>\n",
       "      <td>0</td>\n",
       "      <td>0</td>\n",
       "      <td>0</td>\n",
       "      <td>0</td>\n",
       "      <td>0</td>\n",
       "      <td>1</td>\n",
       "      <td>True</td>\n",
       "    </tr>\n",
       "    <tr>\n",
       "      <th>1</th>\n",
       "      <td>299</td>\n",
       "      <td>8.3</td>\n",
       "      <td>1</td>\n",
       "      <td>poor breakfast</td>\n",
       "      <td>3</td>\n",
       "      <td>1361</td>\n",
       "      <td>location</td>\n",
       "      <td>2</td>\n",
       "      <td>14</td>\n",
       "      <td>6.3</td>\n",
       "      <td>...</td>\n",
       "      <td>0</td>\n",
       "      <td>0</td>\n",
       "      <td>0</td>\n",
       "      <td>0</td>\n",
       "      <td>0</td>\n",
       "      <td>0</td>\n",
       "      <td>0</td>\n",
       "      <td>1</td>\n",
       "      <td>0</td>\n",
       "      <td>True</td>\n",
       "    </tr>\n",
       "    <tr>\n",
       "      <th>2</th>\n",
       "      <td>32</td>\n",
       "      <td>8.9</td>\n",
       "      <td>7</td>\n",
       "      <td>No kettle in room</td>\n",
       "      <td>6</td>\n",
       "      <td>406</td>\n",
       "      <td>No Positive</td>\n",
       "      <td>0</td>\n",
       "      <td>14</td>\n",
       "      <td>7.5</td>\n",
       "      <td>...</td>\n",
       "      <td>0</td>\n",
       "      <td>0</td>\n",
       "      <td>0</td>\n",
       "      <td>0</td>\n",
       "      <td>0</td>\n",
       "      <td>0</td>\n",
       "      <td>0</td>\n",
       "      <td>1</td>\n",
       "      <td>1</td>\n",
       "      <td>False</td>\n",
       "    </tr>\n",
       "  </tbody>\n",
       "</table>\n",
       "<p>3 rows × 27 columns</p>\n",
       "</div>"
      ],
      "text/plain": [
       "   additional_number_of_scoring  average_score  reviewer_nationality  \\\n",
       "0                           581            8.4                     1   \n",
       "1                           299            8.3                     1   \n",
       "2                            32            8.9                     7   \n",
       "\n",
       "       negative_review  review_total_negative_word_counts  \\\n",
       "0             Leaving                                   3   \n",
       "1       poor breakfast                                  3   \n",
       "2   No kettle in room                                   6   \n",
       "\n",
       "   total_number_of_reviews      positive_review  \\\n",
       "0                     1994   Staff were amazing   \n",
       "1                     1361             location   \n",
       "2                      406          No Positive   \n",
       "\n",
       "   review_total_positive_word_counts  \\\n",
       "0                                  4   \n",
       "1                                  2   \n",
       "2                                  0   \n",
       "\n",
       "   total_number_of_reviews_reviewer_has_given  reviewer_score  ...  \\\n",
       "0                                           7            10.0  ...   \n",
       "1                                          14             6.3  ...   \n",
       "2                                          14             7.5  ...   \n",
       "\n",
       "  hotel_name_2  hotel_name_3  hotel_name_4  hotel_name_5  hotel_name_6  \\\n",
       "0            0             0             0             0             0   \n",
       "1            0             0             0             0             0   \n",
       "2            0             0             0             0             0   \n",
       "\n",
       "   hotel_name_7  hotel_name_8  hotel_name_9  hotel_name_10  \\\n",
       "0             0             0             0              1   \n",
       "1             0             0             1              0   \n",
       "2             0             0             1              1   \n",
       "\n",
       "   hotel_country_is_reviewer_nationality  \n",
       "0                                   True  \n",
       "1                                   True  \n",
       "2                                  False  \n",
       "\n",
       "[3 rows x 27 columns]"
      ]
     },
     "execution_count": 273,
     "metadata": {},
     "output_type": "execute_result"
    }
   ],
   "source": [
    "data.head(3)"
   ]
  },
  {
   "cell_type": "markdown",
   "metadata": {},
   "source": [
    "Рассмотрим negative_review. Его имеет смысл рассматривать вместе с positive_review."
   ]
  },
  {
   "cell_type": "code",
   "execution_count": 274,
   "metadata": {},
   "outputs": [
    {
     "name": "stdout",
     "output_type": "stream",
     "text": [
      "248828 311737\n"
     ]
    }
   ],
   "source": [
    "print(len(data['negative_review'].unique()), len(data['positive_review'].unique()))"
   ]
  },
  {
   "cell_type": "markdown",
   "metadata": {},
   "source": [
    "Одтинаковых отзывов слишком мало. Предлагаю извлечь из отзывов упоминание персонала и создать два признака: negative_stuff и positive_stuff."
   ]
  },
  {
   "cell_type": "code",
   "execution_count": 275,
   "metadata": {},
   "outputs": [],
   "source": [
    "data['negative_stuff'] = data['negative_review'].apply(lambda x: 1 if 'stuff' in x.lower() else 0)\n",
    "data['positive_stuff'] = data['positive_review'].apply(lambda x: 1 if 'stuff' in x.lower() else 0)"
   ]
  },
  {
   "cell_type": "code",
   "execution_count": 276,
   "metadata": {},
   "outputs": [
    {
     "data": {
      "text/plain": [
       "np.int64(1807)"
      ]
     },
     "metadata": {},
     "output_type": "display_data"
    },
    {
     "data": {
      "text/plain": [
       "np.int64(2391)"
      ]
     },
     "metadata": {},
     "output_type": "display_data"
    }
   ],
   "source": [
    "display(data['negative_stuff'].sum(), data['positive_stuff'].sum())"
   ]
  },
  {
   "cell_type": "markdown",
   "metadata": {},
   "source": [
    "не слишком много, но можно попробовать. Удаляем столбцы отзывов."
   ]
  },
  {
   "cell_type": "code",
   "execution_count": 277,
   "metadata": {},
   "outputs": [
    {
     "name": "stdout",
     "output_type": "stream",
     "text": [
      "<class 'pandas.core.frame.DataFrame'>\n",
      "Index: 386496 entries, 0 to 386802\n",
      "Data columns (total 27 columns):\n",
      " #   Column                                      Non-Null Count   Dtype  \n",
      "---  ------                                      --------------   -----  \n",
      " 0   additional_number_of_scoring                386496 non-null  int64  \n",
      " 1   average_score                               386496 non-null  float64\n",
      " 2   reviewer_nationality                        386496 non-null  int64  \n",
      " 3   review_total_negative_word_counts           386496 non-null  int64  \n",
      " 4   total_number_of_reviews                     386496 non-null  int64  \n",
      " 5   review_total_positive_word_counts           386496 non-null  int64  \n",
      " 6   total_number_of_reviews_reviewer_has_given  386496 non-null  int64  \n",
      " 7   reviewer_score                              386496 non-null  float64\n",
      " 8   tags                                        386496 non-null  object \n",
      " 9   days_since_review                           386496 non-null  int64  \n",
      " 10  lat                                         386496 non-null  float64\n",
      " 11  lng                                         386496 non-null  float64\n",
      " 12  hotel_country                               386496 non-null  int64  \n",
      " 13  hotel_name_0                                386496 non-null  int64  \n",
      " 14  hotel_name_1                                386496 non-null  int64  \n",
      " 15  hotel_name_2                                386496 non-null  int64  \n",
      " 16  hotel_name_3                                386496 non-null  int64  \n",
      " 17  hotel_name_4                                386496 non-null  int64  \n",
      " 18  hotel_name_5                                386496 non-null  int64  \n",
      " 19  hotel_name_6                                386496 non-null  int64  \n",
      " 20  hotel_name_7                                386496 non-null  int64  \n",
      " 21  hotel_name_8                                386496 non-null  int64  \n",
      " 22  hotel_name_9                                386496 non-null  int64  \n",
      " 23  hotel_name_10                               386496 non-null  int64  \n",
      " 24  hotel_country_is_reviewer_nationality       386496 non-null  bool   \n",
      " 25  negative_stuff                              386496 non-null  int64  \n",
      " 26  positive_stuff                              386496 non-null  int64  \n",
      "dtypes: bool(1), float64(4), int64(21), object(1)\n",
      "memory usage: 88.0+ MB\n"
     ]
    }
   ],
   "source": [
    "data = data.drop(['negative_review', 'positive_review'], axis=1)\n",
    "data.info()"
   ]
  },
  {
   "cell_type": "markdown",
   "metadata": {},
   "source": [
    "Остается рвссмотреть тольго столбец tags."
   ]
  },
  {
   "cell_type": "code",
   "execution_count": 278,
   "metadata": {},
   "outputs": [
    {
     "data": {
      "text/plain": [
       "[('Leisure trip', 313593),\n",
       " ('Submitted from a mobile device', 230778),\n",
       " ('Couple', 189212),\n",
       " ('Stayed 1 night', 145373),\n",
       " ('Stayed 2 nights', 100263),\n",
       " ('Solo traveler', 81235),\n",
       " ('Stayed 3 nights', 72000),\n",
       " ('Business trip', 61989),\n",
       " ('Group', 49088),\n",
       " ('Family with young children', 45836)]"
      ]
     },
     "execution_count": 278,
     "metadata": {},
     "output_type": "execute_result"
    }
   ],
   "source": [
    "# tags = data['tags']\n",
    "# tag_count =[]\n",
    "# for tag in range(len(tags)):\n",
    "#     tag_count += data['tags'][tag].strip(\"[' \").strip(\" ']\").split(\" ', ' \")\n",
    "    \n",
    "Counter(tag_count).most_common(10)"
   ]
  },
  {
   "cell_type": "markdown",
   "metadata": {},
   "source": [
    "Предлагаю взять наиболее популярные 7 признаков и добавить соответствующие столбцы в таблицу (Признаик о пребывании обработаем по-другому). Также предлагаю добавить столбец stayed (пребывание)."
   ]
  },
  {
   "cell_type": "code",
   "execution_count": 279,
   "metadata": {},
   "outputs": [],
   "source": [
    "tag_common = ['Leisure trip', 'Submitted from a mobile device', \n",
    "              'Couple', 'Solo traveler', 'Business trip', 'Group', \n",
    "              'Family with young children']\n",
    "\n",
    "for tag in tag_common:\n",
    "    data[tag] = data['tags'].apply(lambda x: tag in x)"
   ]
  },
  {
   "cell_type": "markdown",
   "metadata": {},
   "source": [
    "Также предлагаю добавить столбец stayed (пребывание). Количество ночей."
   ]
  },
  {
   "cell_type": "code",
   "execution_count": 280,
   "metadata": {},
   "outputs": [
    {
     "data": {
      "text/plain": [
       "{'Stayed 1 night',\n",
       " 'Stayed 10 nights',\n",
       " 'Stayed 11 nights',\n",
       " 'Stayed 12 nights',\n",
       " 'Stayed 13 nights',\n",
       " 'Stayed 14 nights',\n",
       " 'Stayed 15 nights',\n",
       " 'Stayed 16 nights',\n",
       " 'Stayed 17 nights',\n",
       " 'Stayed 18 nights',\n",
       " 'Stayed 19 nights',\n",
       " 'Stayed 2 nights',\n",
       " 'Stayed 20 nights',\n",
       " 'Stayed 21 nights',\n",
       " 'Stayed 22 nights',\n",
       " 'Stayed 23 nights',\n",
       " 'Stayed 24 nights',\n",
       " 'Stayed 25 nights',\n",
       " 'Stayed 26 nights',\n",
       " 'Stayed 27 nights',\n",
       " 'Stayed 28 nights',\n",
       " 'Stayed 29 nights',\n",
       " 'Stayed 3 nights',\n",
       " 'Stayed 30 nights',\n",
       " 'Stayed 4 nights',\n",
       " 'Stayed 5 nights',\n",
       " 'Stayed 6 nights',\n",
       " 'Stayed 7 nights',\n",
       " 'Stayed 8 nights',\n",
       " 'Stayed 9 nights'}"
      ]
     },
     "execution_count": 280,
     "metadata": {},
     "output_type": "execute_result"
    }
   ],
   "source": [
    "set(stayed)"
   ]
  },
  {
   "cell_type": "code",
   "execution_count": 281,
   "metadata": {},
   "outputs": [],
   "source": [
    "def stayed_parse(x):\n",
    "    x = x.replace('Stayed ', '')\n",
    "    if x[1] ==' ':\n",
    "        x = x[0]\n",
    "    else:\n",
    "        x = x[:2] \n",
    "    return int(x)"
   ]
  },
  {
   "cell_type": "code",
   "execution_count": 282,
   "metadata": {},
   "outputs": [],
   "source": [
    "data['stayed'] = data['tags'].\\\n",
    "apply(lambda x: re.search(r'Stayed \\d.', x).group() if re.search(r'Stayed \\d.', x) else '00')\n",
    "data['stayed'] = data['stayed'].apply(stayed_parse)"
   ]
  },
  {
   "cell_type": "code",
   "execution_count": 283,
   "metadata": {},
   "outputs": [
    {
     "data": {
      "text/plain": [
       "array([ 2,  1,  3,  6,  4,  5,  8,  7, 10, 14, 19, 13,  9, 17, 11,  0, 27,\n",
       "       12, 15, 21, 18, 16, 26, 24, 30, 22, 23, 28, 20, 25, 29])"
      ]
     },
     "execution_count": 283,
     "metadata": {},
     "output_type": "execute_result"
    }
   ],
   "source": [
    "data['stayed'].unique()"
   ]
  },
  {
   "cell_type": "code",
   "execution_count": 284,
   "metadata": {},
   "outputs": [],
   "source": [
    "data = data.drop('tags', axis = 1) "
   ]
  },
  {
   "cell_type": "markdown",
   "metadata": {},
   "source": [
    "#### 2.3 Моделирование"
   ]
  },
  {
   "cell_type": "code",
   "execution_count": 286,
   "metadata": {},
   "outputs": [
    {
     "data": {
      "application/vnd.plotly.v1+json": {
       "config": {
        "plotlyServerURL": "https://plot.ly"
       },
       "data": [
        {
         "coloraxis": "coloraxis",
         "hovertemplate": "x: %{x}<br>y: %{y}<br>color: %{z}<extra></extra>",
         "name": "0",
         "texttemplate": "%{z}",
         "type": "heatmap",
         "x": [
          "additional_number_of_scoring",
          "average_score",
          "reviewer_nationality",
          "review_total_negative_word_counts",
          "total_number_of_reviews",
          "review_total_positive_word_counts",
          "total_number_of_reviews_reviewer_has_given",
          "reviewer_score",
          "days_since_review",
          "lat",
          "lng",
          "hotel_country",
          "hotel_name_0",
          "hotel_name_1",
          "hotel_name_2",
          "hotel_name_3",
          "hotel_name_4",
          "hotel_name_5",
          "hotel_name_6",
          "hotel_name_7",
          "hotel_name_8",
          "hotel_name_9",
          "hotel_name_10",
          "hotel_country_is_reviewer_nationality",
          "negative_stuff",
          "positive_stuff",
          "Leisure trip",
          "Submitted from a mobile device",
          "Couple",
          "Solo traveler",
          "Business trip",
          "Group",
          "Family with young children",
          "stayed"
         ],
         "xaxis": "x",
         "y": [
          "additional_number_of_scoring",
          "average_score",
          "reviewer_nationality",
          "review_total_negative_word_counts",
          "total_number_of_reviews",
          "review_total_positive_word_counts",
          "total_number_of_reviews_reviewer_has_given",
          "reviewer_score",
          "days_since_review",
          "lat",
          "lng",
          "hotel_country",
          "hotel_name_0",
          "hotel_name_1",
          "hotel_name_2",
          "hotel_name_3",
          "hotel_name_4",
          "hotel_name_5",
          "hotel_name_6",
          "hotel_name_7",
          "hotel_name_8",
          "hotel_name_9",
          "hotel_name_10",
          "hotel_country_is_reviewer_nationality",
          "negative_stuff",
          "positive_stuff",
          "Leisure trip",
          "Submitted from a mobile device",
          "Couple",
          "Solo traveler",
          "Business trip",
          "Group",
          "Family with young children",
          "stayed"
         ],
         "yaxis": "y",
         "z": [
          [
           1,
           -0.15307602239024323,
           -0.20026160186821043,
           0.029532908293509966,
           0.8244939703465647,
           -0.052314391513524294,
           -0.07221016958991444,
           -0.06193173955660011,
           0.012923893548589645,
           0.3358666317400824,
           -0.29575236422621576,
           -0.3671720106412078,
           -0.2599839080963749,
           -0.295175182168297,
           -0.24862611009708463,
           -0.08452409248094044,
           -0.024476545623548573,
           0.025620387142277035,
           0.04425473741049656,
           -0.02600821288002567,
           -0.00306063289679326,
           -0.07337481911061294,
           -0.060832367867131774,
           0.324120013092721,
           -0.0008207370127113739,
           -0.024671048847674744,
           0.0011847794685515545,
           0.042973806322239544,
           0.011221364457454178,
           -0.006691383320559917,
           -0.004801806915027969,
           0.004464984773415189,
           -0.007926907822841158,
           -0.1098085490678112
          ],
          [
           -0.15307602239024323,
           1,
           0.03621701760469605,
           -0.11318382626802931,
           -0.18019476549576796,
           0.10652118764470686,
           0.03627154350733571,
           0.36382231167249224,
           -0.014360693465616333,
           -0.10783288962184312,
           0.10611692337605882,
           0.12772261425974984,
           0.039717179541698885,
           0.06174161306632092,
           0.05153361369937658,
           -0.008148781021339507,
           -0.016279850282452695,
           0.004041255216464986,
           0.02722027597778779,
           0.09080358509429463,
           0.011433298964571077,
           0.005594852459831022,
           0.025436795233441323,
           -0.06041067809509909,
           -0.01897877263863209,
           0.007020846325969596,
           0.08344122964414706,
           0.007723224437480233,
           0.09407335860350342,
           -0.08312182316637999,
           -0.07298157174762705,
           -0.030000363204370068,
           -0.00789350769477568,
           0.01364113224791954
          ],
          [
           -0.20026160186821043,
           0.03621701760469605,
           1,
           -0.013335262720582738,
           -0.05879452092018579,
           0.011124245777822282,
           0.1477174429136741,
           -0.04412896158451762,
           -0.011176887349110702,
           -0.22406558590622613,
           0.28317301472302997,
           0.28099986749762507,
           0.09862148496431938,
           0.08166638754474385,
           0.0403607654905436,
           0.03166118149943054,
           0.01023564181218305,
           -0.0014975735380648128,
           -0.011126062632649463,
           0.00797486337448669,
           0.0007308805780391429,
           0.0534149333205307,
           0.00021895335099384695,
           -0.7015098728922087,
           0.014332652917460342,
           0.054268903955602014,
           -0.05423327851288868,
           -0.07787039718975321,
           -0.14287610528599826,
           0.09168188193466832,
           0.056000076541579055,
           -0.01525986579457843,
           0.09368893868215057,
           0.31382466113789187
          ],
          [
           0.029532908293509966,
           -0.11318382626802931,
           -0.013335262720582738,
           1,
           0.03521534473558133,
           0.11935209659876395,
           0.0018491521332843768,
           -0.38346693714950636,
           -0.04204640488686951,
           0.019307218909876928,
           -0.020822549759403914,
           -0.017695586806212693,
           -0.015421200610187077,
           -0.009924700415322492,
           -0.0032083190850546147,
           0.0005078961235296528,
           -0.001477995751210399,
           0.0032297966297470397,
           -0.003336220493385391,
           -0.011089244278595905,
           0.004407232113710328,
           -0.00668145651886641,
           -0.007237395644988022,
           0.009869084059356964,
           0.08919845937514147,
           -0.006722873857062277,
           -0.007669461483250044,
           -0.08193283487082466,
           -0.00391884660472081,
           0.00257696710839859,
           0.005439297128774795,
           -0.004304986743128683,
           0.01115481499384392,
           0.039441581589021404
          ],
          [
           0.8244939703465647,
           -0.18019476549576796,
           -0.05879452092018579,
           0.03521534473558133,
           1,
           -0.02957454792570704,
           -0.025719601404620377,
           -0.07340589902564397,
           0.007909194883816691,
           0.10005497079875322,
           -0.014288215190207188,
           -0.05705290339634285,
           -0.2715578768335381,
           -0.26274397072784084,
           -0.2019529013247745,
           -0.02991850464463866,
           -0.06592238403184617,
           0.03794845331367765,
           0.02569278466283829,
           -0.023068930031754187,
           0.027595363401055232,
           0.0019961492948871317,
           -0.05351713495144447,
           0.08258232396021843,
           0.004620551860762341,
           -0.01043543673663359,
           0.014718706556034074,
           0.01629229143688032,
           -0.012909205767316244,
           -0.01813090375935718,
           -0.015847272050881028,
           0.023205129871028764,
           0.015323403236589267,
           -0.03474716275224629
          ],
          [
           -0.052314391513524294,
           0.10652118764470686,
           0.011124245777822282,
           0.11935209659876395,
           -0.02957454792570704,
           1,
           0.026602200270219242,
           0.22022719000146446,
           -0.04569399467775842,
           -0.0385001493642037,
           0.035173491154304626,
           0.05346719382320701,
           0.014212230149252823,
           0.015539622422643338,
           0.010635662110326594,
           0.004822829560570234,
           -0.0048821661337007365,
           0.004613427001533028,
           -0.0014302358797171968,
           0.0078031927796422765,
           0.003566588819317626,
           0.012493599491082863,
           0.009762215025399767,
           -0.050457632257345904,
           0.0028769447714523336,
           0.036835596667886494,
           0.07722004126223017,
           -0.10774514763294453,
           0.03701033267455995,
           -0.041009158272877884,
           -0.07510181459306646,
           -0.00778651561112366,
           0.0008332089875381233,
           0.05380871289283699
          ],
          [
           -0.07221016958991444,
           0.03627154350733571,
           0.1477174429136741,
           0.0018491521332843768,
           -0.025719601404620377,
           0.026602200270219242,
           1,
           0.0025075927165161384,
           0.03611508027022888,
           -0.05925129790120127,
           0.10898632957477788,
           0.07830678399552604,
           0.023512093549724764,
           0.020942933102476545,
           0.019853705087943048,
           0.012226868337610334,
           -0.004811592258939788,
           0.002818462856710995,
           -0.0025128942220673705,
           0.011435229207620098,
           -0.006373655023349231,
           0.016809683450110427,
           0.008146193520726399,
           -0.11830607463088107,
           0.00413376466932989,
           0.009887245154967854,
           -0.11592416504736375,
           -0.12900838177425394,
           -0.04399033773168605,
           0.115029618201619,
           0.12975644488229213,
           -0.034623523132629196,
           -0.033258886796696856,
           -0.009362675629492015
          ],
          [
           -0.06193173955660011,
           0.36382231167249224,
           -0.04412896158451762,
           -0.38346693714950636,
           -0.07340589902564397,
           0.22022719000146446,
           0.0025075927165161384,
           1,
           0.002341791544098185,
           -0.03694423403101015,
           0.034711493399775334,
           0.048680169157679705,
           0.013478388629949435,
           0.023736610756896002,
           0.016299785599241043,
           -0.006581365994267522,
           -0.005479743670514444,
           0.0004642303018964508,
           0.015009565384518671,
           0.033992333482488805,
           0.004634800285059174,
           0.0054188767325641625,
           0.013245783159989664,
           0.009151978428504669,
           -0.061300716643082176,
           0.01883869975529396,
           0.11785910158987947,
           0.014887021695012005,
           0.06994941568855731,
           -0.08318923251783768,
           -0.11334701448134721,
           0.011793014772947592,
           -0.020618363670722152,
           -0.014801278714551998
          ],
          [
           0.012923893548589645,
           -0.014360693465616333,
           -0.011176887349110702,
           -0.04204640488686951,
           0.007909194883816691,
           -0.04569399467775842,
           0.03611508027022888,
           0.002341791544098185,
           1,
           -0.00023440409718824827,
           -0.002027918533285468,
           -0.0058573475594526,
           -0.01715619766112046,
           -0.006288213481313473,
           0.002110726363518776,
           0.004069891603711861,
           0.006007590156794048,
           -0.008281896528327067,
           0.01264115452728136,
           -0.001088445098508429,
           -0.015009478244392395,
           -0.0020883655561720017,
           0.005963375318661567,
           0.017125605101309813,
           -0.006971214807539397,
           -0.003356879772091195,
           -0.006427357890154268,
           -0.037027218734131444,
           0.046594181139820126,
           0.008940045521873066,
           0.012025758586045876,
           -0.033446363844492434,
           -0.15323657198195825,
           0.0011031811362719416
          ],
          [
           0.3358666317400824,
           -0.10783288962184312,
           -0.22406558590622613,
           0.019307218909876928,
           0.10005497079875322,
           -0.0385001493642037,
           -0.05925129790120127,
           -0.03694423403101015,
           -0.00023440409718824827,
           1,
           -0.30435777581105244,
           -0.8503098147507893,
           -0.1429917354271116,
           -0.15222764930231816,
           -0.08372898307919131,
           -0.04091645683668943,
           0.014699766186121257,
           -0.016090704329471447,
           0.055806127060004485,
           0.0010454743156376482,
           0.04812949280565556,
           -0.06397549361770671,
           -0.009996800557283513,
           0.3963603556833215,
           -0.0018643040453440473,
           -0.02479333759282093,
           -0.044494348392437294,
           0.025228754229916342,
           0.01946102179707031,
           0.038222900119512,
           0.03839897017921022,
           -0.01333635484148201,
           -0.04619465126396199,
           -0.17258838482420757
          ],
          [
           -0.29575236422621576,
           0.10611692337605882,
           0.28317301472302997,
           -0.020822549759403914,
           -0.014288215190207188,
           0.035173491154304626,
           0.10898632957477788,
           0.034711493399775334,
           -0.002027918533285468,
           -0.30435777581105244,
           1,
           0.6316233233525397,
           0.10265578877706863,
           0.13305180298272223,
           0.08899862717064955,
           0.030209597095339116,
           -0.02410612699571241,
           0.04100406435325084,
           -0.030926933891846645,
           0.040133134329057386,
           0.03156162728721378,
           0.07291847111599765,
           -0.007768100790921944,
           -0.4308029424202685,
           0.008080613535870335,
           0.030631926864007876,
           0.007588452908086254,
           -0.059762737765017296,
           -0.024057715385569032,
           -0.014112416453818732,
           -0.0017202416832398262,
           0.023011529752596235,
           0.025664114431689596,
           0.10657510779917558
          ],
          [
           -0.3671720106412078,
           0.12772261425974984,
           0.28099986749762507,
           -0.017695586806212693,
           -0.05705290339634285,
           0.05346719382320701,
           0.07830678399552604,
           0.048680169157679705,
           -0.0058573475594526,
           -0.8503098147507893,
           0.6316233233525397,
           1,
           0.11146908526867987,
           0.1576875366892365,
           0.08462364514815934,
           0.04056268931634837,
           -0.012220915707979613,
           0.02006958921775886,
           -0.04671640323186004,
           0.010987802790635878,
           -0.038289684836606684,
           0.09502576340372312,
           0.030314159376829852,
           -0.5299090061846023,
           0.004471008525799284,
           0.0309806212409267,
           0.055994177965040866,
           -0.039743001903005025,
           -0.015020383830251727,
           -0.048169558107293856,
           -0.04808933171363622,
           0.03678519222842267,
           0.033886147239054865,
           0.2063090639526545
          ],
          [
           -0.2599839080963749,
           0.039717179541698885,
           0.09862148496431938,
           -0.015421200610187077,
           -0.2715578768335381,
           0.014212230149252823,
           0.023512093549724764,
           0.013478388629949435,
           -0.01715619766112046,
           -0.1429917354271116,
           0.10265578877706863,
           0.11146908526867987,
           1,
           -0.20559115218267818,
           -0.06075978555495858,
           -0.04434681565785342,
           -0.02214716889348025,
           0.004149012720329679,
           -0.008227264097990142,
           -0.0233468600384394,
           0.012789530936836399,
           0.0021079244156767063,
           -0.018456253471856195,
           -0.14595243868986962,
           -0.0005680918610904463,
           0.013764399196647858,
           -0.010383668506497688,
           -0.015147121756938295,
           -0.01452866713406589,
           0.009141190703105002,
           0.012583530817274723,
           -0.006470092055288454,
           0.018742616521901782,
           0.04924501550453824
          ],
          [
           -0.295175182168297,
           0.06174161306632092,
           0.08166638754474385,
           -0.009924700415322492,
           -0.26274397072784084,
           0.015539622422643338,
           0.020942933102476545,
           0.023736610756896002,
           -0.006288213481313473,
           -0.15222764930231816,
           0.13305180298272223,
           0.1576875366892365,
           -0.20559115218267818,
           1,
           0.041908370997638986,
           0.003440465632593505,
           -0.022593357458306495,
           -0.012676952190373948,
           -0.025087464835631332,
           0.031944814085015365,
           -0.0067009545770253115,
           -0.012128118589693737,
           0.008431781815519422,
           -0.12279070146958232,
           0.002816944515590457,
           0.011356347616483804,
           0.0071747911072071405,
           -0.013377996029628815,
           -0.0015407093005551553,
           -0.0061567988071898685,
           -0.0047185473581543074,
           -0.0010563939643087592,
           0.005832890008125836,
           0.044656169602098714
          ],
          [
           -0.24862611009708463,
           0.05153361369937658,
           0.0403607654905436,
           -0.0032083190850546147,
           -0.2019529013247745,
           0.010635662110326594,
           0.019853705087943048,
           0.016299785599241043,
           0.002110726363518776,
           -0.08372898307919131,
           0.08899862717064955,
           0.08462364514815934,
           -0.06075978555495858,
           0.041908370997638986,
           1,
           -0.02274085056859712,
           -0.020546046785259838,
           0.0016569843868760254,
           -0.019411427665531986,
           -0.006183955323839736,
           0.0012320010536035451,
           0.03470947289304959,
           -0.03000732737400515,
           -0.06553787739917431,
           0.0008642753608509383,
           0.007106447766365274,
           -0.0076130328662037255,
           -0.012612278021119066,
           0.00142466025981489,
           0.008493016897692149,
           0.007142896815119059,
           -0.00815091334475755,
           -0.004351959774332055,
           0.007320188435571538
          ],
          [
           -0.08452409248094044,
           -0.008148781021339507,
           0.03166118149943054,
           0.0005078961235296528,
           -0.02991850464463866,
           0.004822829560570234,
           0.012226868337610334,
           -0.006581365994267522,
           0.004069891603711861,
           -0.04091645683668943,
           0.030209597095339116,
           0.04056268931634837,
           -0.04434681565785342,
           0.003440465632593505,
           -0.02274085056859712,
           1,
           -0.011224496563003976,
           -0.02409663203629204,
           -0.0018421253994431125,
           -0.006496018594801096,
           0.01239795967548667,
           0.019180376837038337,
           0.06237435444194445,
           -0.0458069294052569,
           0.0038898803030822334,
           0.0020841873210036953,
           -0.00976854204952821,
           -0.007027384079673174,
           -0.005210639038273156,
           0.011974683923036649,
           0.011919550879396992,
           -0.0045257076065900025,
           -0.0002675495458747367,
           0.02330716651523304
          ],
          [
           -0.024476545623548573,
           -0.016279850282452695,
           0.01023564181218305,
           -0.001477995751210399,
           -0.06592238403184617,
           -0.0048821661337007365,
           -0.004811592258939788,
           -0.005479743670514444,
           0.006007590156794048,
           0.014699766186121257,
           -0.02410612699571241,
           -0.012220915707979613,
           -0.02214716889348025,
           -0.022593357458306495,
           -0.020546046785259838,
           -0.011224496563003976,
           1,
           -0.0729381472541604,
           -0.037159782971678684,
           -0.016433924993434372,
           0.03272334489651978,
           0.022966669278302078,
           -0.010841235326387682,
           -0.02240071166279547,
           -0.0009846748698932766,
           -0.0006281844719370107,
           -0.007840859708411115,
           0.0005419896945914609,
           -0.012740111245987888,
           0.01004709341784776,
           0.008123325469073609,
           0.0015815877739480829,
           0.004666267484651396,
           0.01453692796634547
          ],
          [
           0.025620387142277035,
           0.004041255216464986,
           -0.0014975735380648128,
           0.0032297966297470397,
           0.03794845331367765,
           0.004613427001533028,
           0.002818462856710995,
           0.0004642303018964508,
           -0.008281896528327067,
           -0.016090704329471447,
           0.04100406435325084,
           0.02006958921775886,
           0.004149012720329679,
           -0.012676952190373948,
           0.0016569843868760254,
           -0.02409663203629204,
           -0.0729381472541604,
           1,
           -0.011103251242390692,
           0.005111912024836841,
           0.0052624757378321296,
           0.010206061143376015,
           0.026301879695992462,
           0.008169234138171104,
           -0.0013392123701748868,
           0.0009091298268488225,
           -0.0036155714614609785,
           -0.0001909491511072534,
           0.009984642492002377,
           0.0039047754218699965,
           0.00362492939573493,
           -0.002591768457900422,
           -0.015879658197806613,
           -0.01062665624083024
          ],
          [
           0.04425473741049656,
           0.02722027597778779,
           -0.011126062632649463,
           -0.003336220493385391,
           0.02569278466283829,
           -0.0014302358797171968,
           -0.0025128942220673705,
           0.015009565384518671,
           0.01264115452728136,
           0.055806127060004485,
           -0.030926933891846645,
           -0.04671640323186004,
           -0.008227264097990142,
           -0.025087464835631332,
           -0.019411427665531986,
           -0.0018421253994431125,
           -0.037159782971678684,
           -0.011103251242390692,
           1,
           0.016651333534954512,
           0.013948126032813481,
           0.03195420721604685,
           0.045295037868073776,
           0.015709123655173483,
           0.0003175287012119499,
           -0.0027084592487984327,
           0.0015563463105435105,
           0.000877111593630619,
           0.009188948505151688,
           0.0011901065526010077,
           0.0011168809597344887,
           -0.0038768656296711414,
           -0.011093464001766567,
           -0.005140795303787682
          ],
          [
           -0.02600821288002567,
           0.09080358509429463,
           0.00797486337448669,
           -0.011089244278595905,
           -0.023068930031754187,
           0.0078031927796422765,
           0.011435229207620098,
           0.033992333482488805,
           -0.001088445098508429,
           0.0010454743156376482,
           0.040133134329057386,
           0.010987802790635878,
           -0.0233468600384394,
           0.031944814085015365,
           -0.006183955323839736,
           -0.006496018594801096,
           -0.016433924993434372,
           0.005111912024836841,
           0.016651333534954512,
           1,
           0.007965309688292352,
           0.05430364048863096,
           0.04756856450970962,
           -0.0122434048525063,
           0.001892932537681181,
           0.0007695537050346877,
           0.009256006057728413,
           -0.0061337370291092595,
           0.0123789343733885,
           -0.009494033231396247,
           -0.008297456067715986,
           0.00270874927052133,
           -0.0072988649865109384,
           -0.004224146076821151
          ],
          [
           -0.00306063289679326,
           0.011433298964571077,
           0.0007308805780391429,
           0.004407232113710328,
           0.027595363401055232,
           0.003566588819317626,
           -0.006373655023349231,
           0.004634800285059174,
           -0.015009478244392395,
           0.04812949280565556,
           0.03156162728721378,
           -0.038289684836606684,
           0.012789530936836399,
           -0.0067009545770253115,
           0.0012320010536035451,
           0.01239795967548667,
           0.03272334489651978,
           0.0052624757378321296,
           0.013948126032813481,
           0.007965309688292352,
           1,
           0.05216879818343849,
           0.001541796751197451,
           0.009941740251792551,
           -0.00008451800411215294,
           -0.0017286454081147616,
           -0.0003423635637039586,
           0.0002658694482480668,
           -0.004396517092711806,
           -0.004657839278052018,
           -0.0005267939798774373,
           0.0009957246993860045,
           0.009289759266341286,
           -0.011030056409171736
          ],
          [
           -0.07337481911061294,
           0.005594852459831022,
           0.0534149333205307,
           -0.00668145651886641,
           0.0019961492948871317,
           0.012493599491082863,
           0.016809683450110427,
           0.0054188767325641625,
           -0.0020883655561720017,
           -0.06397549361770671,
           0.07291847111599765,
           0.09502576340372312,
           0.0021079244156767063,
           -0.012128118589693737,
           0.03470947289304959,
           0.019180376837038337,
           0.022966669278302078,
           0.010206061143376015,
           0.03195420721604685,
           0.05430364048863096,
           0.05216879818343849,
           1,
           0.02239792693192021,
           -0.09082890642706334,
           0.0007021883145563382,
           0.006716171875016763,
           0.0009054981347077813,
           -0.010012226996732071,
           -0.006320413175725077,
           0.00388007600372416,
           0.000928888400321318,
           0.0018354725908451537,
           0.0015151033778999135,
           0.027014165163517557
          ],
          [
           -0.060832367867131774,
           0.025436795233441323,
           0.00021895335099384695,
           -0.007237395644988022,
           -0.05351713495144447,
           0.009762215025399767,
           0.008146193520726399,
           0.013245783159989664,
           0.005963375318661567,
           -0.009996800557283513,
           -0.007768100790921944,
           0.030314159376829852,
           -0.018456253471856195,
           0.008431781815519422,
           -0.03000732737400515,
           0.06237435444194445,
           -0.010841235326387682,
           0.026301879695992462,
           0.045295037868073776,
           0.04756856450970962,
           0.001541796751197451,
           0.02239792693192021,
           1,
           -0.0185521338062489,
           -0.0007166217575987943,
           -0.00018202636479695364,
           -0.001119192274644674,
           -0.010112066470685984,
           0.0017467368665613939,
           0.009038248851826882,
           0.004828916996931436,
           -0.00010880974982177896,
           -0.012349840948777155,
           0.01084707541813775
          ],
          [
           0.324120013092721,
           -0.06041067809509909,
           -0.7015098728922087,
           0.009869084059356964,
           0.08258232396021843,
           -0.050457632257345904,
           -0.11830607463088107,
           0.009151978428504669,
           0.017125605101309813,
           0.3963603556833215,
           -0.4308029424202685,
           -0.5299090061846023,
           -0.14595243868986962,
           -0.12279070146958232,
           -0.06553787739917431,
           -0.0458069294052569,
           -0.02240071166279547,
           0.008169234138171104,
           0.015709123655173483,
           -0.0122434048525063,
           0.009941740251792551,
           -0.09082890642706334,
           -0.0185521338062489,
           1,
           -0.008618669357971755,
           -0.041293657374407905,
           0.00294644772539727,
           0.06770588950731649,
           0.11239294684558572,
           -0.045964487159450645,
           -0.013907820278745306,
           -0.018250854029227357,
           -0.07129500234856993,
           -0.38330396990953186
          ],
          [
           -0.0008207370127113739,
           -0.01897877263863209,
           0.014332652917460342,
           0.08919845937514147,
           0.004620551860762341,
           0.0028769447714523336,
           0.00413376466932989,
           -0.061300716643082176,
           -0.006971214807539397,
           -0.0018643040453440473,
           0.008080613535870335,
           0.004471008525799284,
           -0.0005680918610904463,
           0.002816944515590457,
           0.0008642753608509383,
           0.0038898803030822334,
           -0.0009846748698932766,
           -0.0013392123701748868,
           0.0003175287012119499,
           0.001892932537681181,
           -0.00008451800411215294,
           0.0007021883145563382,
           -0.0007166217575987943,
           -0.008618669357971755,
           1,
           0.026518277719645808,
           -0.006006493819492184,
           -0.004961399203286294,
           -0.005755439531037286,
           0.005076988863676839,
           0.0043878088460271875,
           0.0006428152173954405,
           0.0027954049074521235,
           0.00888718666314156
          ],
          [
           -0.024671048847674744,
           0.007020846325969596,
           0.054268903955602014,
           -0.006722873857062277,
           -0.01043543673663359,
           0.036835596667886494,
           0.009887245154967854,
           0.01883869975529396,
           -0.003356879772091195,
           -0.02479333759282093,
           0.030631926864007876,
           0.0309806212409267,
           0.013764399196647858,
           0.011356347616483804,
           0.007106447766365274,
           0.0020841873210036953,
           -0.0006281844719370107,
           0.0009091298268488225,
           -0.0027084592487984327,
           0.0007695537050346877,
           -0.0017286454081147616,
           0.006716171875016763,
           -0.00018202636479695364,
           -0.041293657374407905,
           0.026518277719645808,
           1,
           -0.00408670728372742,
           -0.00636471857290877,
           -0.009604962961597668,
           0.0052560563045436215,
           0.0006165866517639261,
           0.0019345353058532692,
           0.007411890797403776,
           0.028322461803885104
          ],
          [
           0.0011847794685515545,
           0.08344122964414706,
           -0.05423327851288868,
           -0.007669461483250044,
           0.014718706556034074,
           0.07722004126223017,
           -0.11592416504736375,
           0.11785910158987947,
           -0.006427357890154268,
           -0.044494348392437294,
           0.007588452908086254,
           0.055994177965040866,
           -0.010383668506497688,
           0.0071747911072071405,
           -0.0076130328662037255,
           -0.00976854204952821,
           -0.007840859708411115,
           -0.0036155714614609785,
           0.0015563463105435105,
           0.009256006057728413,
           -0.0003423635637039586,
           0.0009054981347077813,
           -0.001119192274644674,
           0.00294644772539727,
           -0.006006493819492184,
           -0.00408670728372742,
           1,
           0.13028148541608184,
           0.274997218134459,
           -0.5092393537080816,
           -0.904162047258332,
           0.053373271043696255,
           0.1074574172066229,
           0.03392244568123445
          ],
          [
           0.042973806322239544,
           0.007723224437480233,
           -0.07787039718975321,
           -0.08193283487082466,
           0.01629229143688032,
           -0.10774514763294453,
           -0.12900838177425394,
           0.014887021695012005,
           -0.037027218734131444,
           0.025228754229916342,
           -0.059762737765017296,
           -0.039743001903005025,
           -0.015147121756938295,
           -0.013377996029628815,
           -0.012612278021119066,
           -0.007027384079673174,
           0.0005419896945914609,
           -0.0001909491511072534,
           0.000877111593630619,
           -0.0061337370291092595,
           0.0002658694482480668,
           -0.010012226996732071,
           -0.010112066470685984,
           0.06770588950731649,
           -0.004961399203286294,
           -0.00636471857290877,
           0.13028148541608184,
           1,
           0.042036645134295,
           -0.10664347537248768,
           -0.14548387688532366,
           0.016358272303948714,
           0.03832655523354768,
           -0.010829091643198448
          ],
          [
           0.011221364457454178,
           0.09407335860350342,
           -0.14287610528599826,
           -0.00391884660472081,
           -0.012909205767316244,
           0.03701033267455995,
           -0.04399033773168605,
           0.06994941568855731,
           0.046594181139820126,
           0.01946102179707031,
           -0.024057715385569032,
           -0.015020383830251727,
           -0.01452866713406589,
           -0.0015407093005551553,
           0.00142466025981489,
           -0.005210639038273156,
           -0.012740111245987888,
           0.009984642492002377,
           0.009188948505151688,
           0.0123789343733885,
           -0.004396517092711806,
           -0.006320413175725077,
           0.0017467368665613939,
           0.11239294684558572,
           -0.005755439531037286,
           -0.009604962961597668,
           0.274997218134459,
           0.042036645134295,
           1,
           -0.5044957480127806,
           -0.27792891236683126,
           -0.3730852097843257,
           -0.35880474650643895,
           -0.03244150455319282
          ],
          [
           -0.006691383320559917,
           -0.08312182316637999,
           0.09168188193466832,
           0.00257696710839859,
           -0.01813090375935718,
           -0.041009158272877884,
           0.115029618201619,
           -0.08318923251783768,
           0.008940045521873066,
           0.038222900119512,
           -0.014112416453818732,
           -0.048169558107293856,
           0.009141190703105002,
           -0.0061567988071898685,
           0.008493016897692149,
           0.011974683923036649,
           0.01004709341784776,
           0.0039047754218699965,
           0.0011901065526010077,
           -0.009494033231396247,
           -0.004657839278052018,
           0.00388007600372416,
           0.009038248851826882,
           -0.045964487159450645,
           0.005076988863676839,
           0.0052560563045436215,
           -0.5092393537080816,
           -0.10664347537248768,
           -0.5044957480127806,
           1,
           0.5285262877794663,
           -0.19658717796976904,
           -0.18906247341896676,
           -0.03758362881431672
          ],
          [
           -0.004801806915027969,
           -0.07298157174762705,
           0.056000076541579055,
           0.005439297128774795,
           -0.015847272050881028,
           -0.07510181459306646,
           0.12975644488229213,
           -0.11334701448134721,
           0.012025758586045876,
           0.03839897017921022,
           -0.0017202416832398262,
           -0.04808933171363622,
           0.012583530817274723,
           -0.0047185473581543074,
           0.007142896815119059,
           0.011919550879396992,
           0.008123325469073609,
           0.00362492939573493,
           0.0011168809597344887,
           -0.008297456067715986,
           -0.0005267939798774373,
           0.000928888400321318,
           0.004828916996931436,
           -0.013907820278745306,
           0.0043878088460271875,
           0.0006165866517639261,
           -0.904162047258332,
           -0.14548387688532366,
           -0.27792891236683126,
           0.5285262877794663,
           1,
           -0.0521668820496548,
           -0.12225898279319126,
           -0.03849615214595747
          ],
          [
           0.004464984773415189,
           -0.030000363204370068,
           -0.01525986579457843,
           -0.004304986743128683,
           0.023205129871028764,
           -0.00778651561112366,
           -0.034623523132629196,
           0.011793014772947592,
           -0.033446363844492434,
           -0.01333635484148201,
           0.023011529752596235,
           0.03678519222842267,
           -0.006470092055288454,
           -0.0010563939643087592,
           -0.00815091334475755,
           -0.0045257076065900025,
           0.0015815877739480829,
           -0.002591768457900422,
           -0.0038768656296711414,
           0.00270874927052133,
           0.0009957246993860045,
           0.0018354725908451537,
           -0.00010880974982177896,
           -0.018250854029227357,
           0.0006428152173954405,
           0.0019345353058532692,
           0.053373271043696255,
           0.016358272303948714,
           -0.3730852097843257,
           -0.19658717796976904,
           -0.0521668820496548,
           1,
           -0.1398156730472011,
           -0.01076877958143759
          ],
          [
           -0.007926907822841158,
           -0.00789350769477568,
           0.09368893868215057,
           0.01115481499384392,
           0.015323403236589267,
           0.0008332089875381233,
           -0.033258886796696856,
           -0.020618363670722152,
           -0.15323657198195825,
           -0.04619465126396199,
           0.025664114431689596,
           0.033886147239054865,
           0.018742616521901782,
           0.005832890008125836,
           -0.004351959774332055,
           -0.0002675495458747367,
           0.004666267484651396,
           -0.015879658197806613,
           -0.011093464001766567,
           -0.0072988649865109384,
           0.009289759266341286,
           0.0015151033778999135,
           -0.012349840948777155,
           -0.07129500234856993,
           0.0027954049074521235,
           0.007411890797403776,
           0.1074574172066229,
           0.03832655523354768,
           -0.35880474650643895,
           -0.18906247341896676,
           -0.12225898279319126,
           -0.1398156730472011,
           1,
           0.07657189072026865
          ],
          [
           -0.1098085490678112,
           0.01364113224791954,
           0.31382466113789187,
           0.039441581589021404,
           -0.03474716275224629,
           0.05380871289283699,
           -0.009362675629492015,
           -0.014801278714551998,
           0.0011031811362719416,
           -0.17258838482420757,
           0.10657510779917558,
           0.2063090639526545,
           0.04924501550453824,
           0.044656169602098714,
           0.007320188435571538,
           0.02330716651523304,
           0.01453692796634547,
           -0.01062665624083024,
           -0.005140795303787682,
           -0.004224146076821151,
           -0.011030056409171736,
           0.027014165163517557,
           0.01084707541813775,
           -0.38330396990953186,
           0.00888718666314156,
           0.028322461803885104,
           0.03392244568123445,
           -0.010829091643198448,
           -0.03244150455319282,
           -0.03758362881431672,
           -0.03849615214595747,
           -0.01076877958143759,
           0.07657189072026865,
           1
          ]
         ]
        }
       ],
       "layout": {
        "coloraxis": {
         "colorscale": [
          [
           0,
           "#0d0887"
          ],
          [
           0.1111111111111111,
           "#46039f"
          ],
          [
           0.2222222222222222,
           "#7201a8"
          ],
          [
           0.3333333333333333,
           "#9c179e"
          ],
          [
           0.4444444444444444,
           "#bd3786"
          ],
          [
           0.5555555555555556,
           "#d8576b"
          ],
          [
           0.6666666666666666,
           "#ed7953"
          ],
          [
           0.7777777777777778,
           "#fb9f3a"
          ],
          [
           0.8888888888888888,
           "#fdca26"
          ],
          [
           1,
           "#f0f921"
          ]
         ]
        },
        "height": 1500,
        "margin": {
         "t": 60
        },
        "template": {
         "data": {
          "bar": [
           {
            "error_x": {
             "color": "#2a3f5f"
            },
            "error_y": {
             "color": "#2a3f5f"
            },
            "marker": {
             "line": {
              "color": "#E5ECF6",
              "width": 0.5
             },
             "pattern": {
              "fillmode": "overlay",
              "size": 10,
              "solidity": 0.2
             }
            },
            "type": "bar"
           }
          ],
          "barpolar": [
           {
            "marker": {
             "line": {
              "color": "#E5ECF6",
              "width": 0.5
             },
             "pattern": {
              "fillmode": "overlay",
              "size": 10,
              "solidity": 0.2
             }
            },
            "type": "barpolar"
           }
          ],
          "carpet": [
           {
            "aaxis": {
             "endlinecolor": "#2a3f5f",
             "gridcolor": "white",
             "linecolor": "white",
             "minorgridcolor": "white",
             "startlinecolor": "#2a3f5f"
            },
            "baxis": {
             "endlinecolor": "#2a3f5f",
             "gridcolor": "white",
             "linecolor": "white",
             "minorgridcolor": "white",
             "startlinecolor": "#2a3f5f"
            },
            "type": "carpet"
           }
          ],
          "choropleth": [
           {
            "colorbar": {
             "outlinewidth": 0,
             "ticks": ""
            },
            "type": "choropleth"
           }
          ],
          "contour": [
           {
            "colorbar": {
             "outlinewidth": 0,
             "ticks": ""
            },
            "colorscale": [
             [
              0,
              "#0d0887"
             ],
             [
              0.1111111111111111,
              "#46039f"
             ],
             [
              0.2222222222222222,
              "#7201a8"
             ],
             [
              0.3333333333333333,
              "#9c179e"
             ],
             [
              0.4444444444444444,
              "#bd3786"
             ],
             [
              0.5555555555555556,
              "#d8576b"
             ],
             [
              0.6666666666666666,
              "#ed7953"
             ],
             [
              0.7777777777777778,
              "#fb9f3a"
             ],
             [
              0.8888888888888888,
              "#fdca26"
             ],
             [
              1,
              "#f0f921"
             ]
            ],
            "type": "contour"
           }
          ],
          "contourcarpet": [
           {
            "colorbar": {
             "outlinewidth": 0,
             "ticks": ""
            },
            "type": "contourcarpet"
           }
          ],
          "heatmap": [
           {
            "colorbar": {
             "outlinewidth": 0,
             "ticks": ""
            },
            "colorscale": [
             [
              0,
              "#0d0887"
             ],
             [
              0.1111111111111111,
              "#46039f"
             ],
             [
              0.2222222222222222,
              "#7201a8"
             ],
             [
              0.3333333333333333,
              "#9c179e"
             ],
             [
              0.4444444444444444,
              "#bd3786"
             ],
             [
              0.5555555555555556,
              "#d8576b"
             ],
             [
              0.6666666666666666,
              "#ed7953"
             ],
             [
              0.7777777777777778,
              "#fb9f3a"
             ],
             [
              0.8888888888888888,
              "#fdca26"
             ],
             [
              1,
              "#f0f921"
             ]
            ],
            "type": "heatmap"
           }
          ],
          "heatmapgl": [
           {
            "colorbar": {
             "outlinewidth": 0,
             "ticks": ""
            },
            "colorscale": [
             [
              0,
              "#0d0887"
             ],
             [
              0.1111111111111111,
              "#46039f"
             ],
             [
              0.2222222222222222,
              "#7201a8"
             ],
             [
              0.3333333333333333,
              "#9c179e"
             ],
             [
              0.4444444444444444,
              "#bd3786"
             ],
             [
              0.5555555555555556,
              "#d8576b"
             ],
             [
              0.6666666666666666,
              "#ed7953"
             ],
             [
              0.7777777777777778,
              "#fb9f3a"
             ],
             [
              0.8888888888888888,
              "#fdca26"
             ],
             [
              1,
              "#f0f921"
             ]
            ],
            "type": "heatmapgl"
           }
          ],
          "histogram": [
           {
            "marker": {
             "pattern": {
              "fillmode": "overlay",
              "size": 10,
              "solidity": 0.2
             }
            },
            "type": "histogram"
           }
          ],
          "histogram2d": [
           {
            "colorbar": {
             "outlinewidth": 0,
             "ticks": ""
            },
            "colorscale": [
             [
              0,
              "#0d0887"
             ],
             [
              0.1111111111111111,
              "#46039f"
             ],
             [
              0.2222222222222222,
              "#7201a8"
             ],
             [
              0.3333333333333333,
              "#9c179e"
             ],
             [
              0.4444444444444444,
              "#bd3786"
             ],
             [
              0.5555555555555556,
              "#d8576b"
             ],
             [
              0.6666666666666666,
              "#ed7953"
             ],
             [
              0.7777777777777778,
              "#fb9f3a"
             ],
             [
              0.8888888888888888,
              "#fdca26"
             ],
             [
              1,
              "#f0f921"
             ]
            ],
            "type": "histogram2d"
           }
          ],
          "histogram2dcontour": [
           {
            "colorbar": {
             "outlinewidth": 0,
             "ticks": ""
            },
            "colorscale": [
             [
              0,
              "#0d0887"
             ],
             [
              0.1111111111111111,
              "#46039f"
             ],
             [
              0.2222222222222222,
              "#7201a8"
             ],
             [
              0.3333333333333333,
              "#9c179e"
             ],
             [
              0.4444444444444444,
              "#bd3786"
             ],
             [
              0.5555555555555556,
              "#d8576b"
             ],
             [
              0.6666666666666666,
              "#ed7953"
             ],
             [
              0.7777777777777778,
              "#fb9f3a"
             ],
             [
              0.8888888888888888,
              "#fdca26"
             ],
             [
              1,
              "#f0f921"
             ]
            ],
            "type": "histogram2dcontour"
           }
          ],
          "mesh3d": [
           {
            "colorbar": {
             "outlinewidth": 0,
             "ticks": ""
            },
            "type": "mesh3d"
           }
          ],
          "parcoords": [
           {
            "line": {
             "colorbar": {
              "outlinewidth": 0,
              "ticks": ""
             }
            },
            "type": "parcoords"
           }
          ],
          "pie": [
           {
            "automargin": true,
            "type": "pie"
           }
          ],
          "scatter": [
           {
            "fillpattern": {
             "fillmode": "overlay",
             "size": 10,
             "solidity": 0.2
            },
            "type": "scatter"
           }
          ],
          "scatter3d": [
           {
            "line": {
             "colorbar": {
              "outlinewidth": 0,
              "ticks": ""
             }
            },
            "marker": {
             "colorbar": {
              "outlinewidth": 0,
              "ticks": ""
             }
            },
            "type": "scatter3d"
           }
          ],
          "scattercarpet": [
           {
            "marker": {
             "colorbar": {
              "outlinewidth": 0,
              "ticks": ""
             }
            },
            "type": "scattercarpet"
           }
          ],
          "scattergeo": [
           {
            "marker": {
             "colorbar": {
              "outlinewidth": 0,
              "ticks": ""
             }
            },
            "type": "scattergeo"
           }
          ],
          "scattergl": [
           {
            "marker": {
             "colorbar": {
              "outlinewidth": 0,
              "ticks": ""
             }
            },
            "type": "scattergl"
           }
          ],
          "scattermapbox": [
           {
            "marker": {
             "colorbar": {
              "outlinewidth": 0,
              "ticks": ""
             }
            },
            "type": "scattermapbox"
           }
          ],
          "scatterpolar": [
           {
            "marker": {
             "colorbar": {
              "outlinewidth": 0,
              "ticks": ""
             }
            },
            "type": "scatterpolar"
           }
          ],
          "scatterpolargl": [
           {
            "marker": {
             "colorbar": {
              "outlinewidth": 0,
              "ticks": ""
             }
            },
            "type": "scatterpolargl"
           }
          ],
          "scatterternary": [
           {
            "marker": {
             "colorbar": {
              "outlinewidth": 0,
              "ticks": ""
             }
            },
            "type": "scatterternary"
           }
          ],
          "surface": [
           {
            "colorbar": {
             "outlinewidth": 0,
             "ticks": ""
            },
            "colorscale": [
             [
              0,
              "#0d0887"
             ],
             [
              0.1111111111111111,
              "#46039f"
             ],
             [
              0.2222222222222222,
              "#7201a8"
             ],
             [
              0.3333333333333333,
              "#9c179e"
             ],
             [
              0.4444444444444444,
              "#bd3786"
             ],
             [
              0.5555555555555556,
              "#d8576b"
             ],
             [
              0.6666666666666666,
              "#ed7953"
             ],
             [
              0.7777777777777778,
              "#fb9f3a"
             ],
             [
              0.8888888888888888,
              "#fdca26"
             ],
             [
              1,
              "#f0f921"
             ]
            ],
            "type": "surface"
           }
          ],
          "table": [
           {
            "cells": {
             "fill": {
              "color": "#EBF0F8"
             },
             "line": {
              "color": "white"
             }
            },
            "header": {
             "fill": {
              "color": "#C8D4E3"
             },
             "line": {
              "color": "white"
             }
            },
            "type": "table"
           }
          ]
         },
         "layout": {
          "annotationdefaults": {
           "arrowcolor": "#2a3f5f",
           "arrowhead": 0,
           "arrowwidth": 1
          },
          "autotypenumbers": "strict",
          "coloraxis": {
           "colorbar": {
            "outlinewidth": 0,
            "ticks": ""
           }
          },
          "colorscale": {
           "diverging": [
            [
             0,
             "#8e0152"
            ],
            [
             0.1,
             "#c51b7d"
            ],
            [
             0.2,
             "#de77ae"
            ],
            [
             0.3,
             "#f1b6da"
            ],
            [
             0.4,
             "#fde0ef"
            ],
            [
             0.5,
             "#f7f7f7"
            ],
            [
             0.6,
             "#e6f5d0"
            ],
            [
             0.7,
             "#b8e186"
            ],
            [
             0.8,
             "#7fbc41"
            ],
            [
             0.9,
             "#4d9221"
            ],
            [
             1,
             "#276419"
            ]
           ],
           "sequential": [
            [
             0,
             "#0d0887"
            ],
            [
             0.1111111111111111,
             "#46039f"
            ],
            [
             0.2222222222222222,
             "#7201a8"
            ],
            [
             0.3333333333333333,
             "#9c179e"
            ],
            [
             0.4444444444444444,
             "#bd3786"
            ],
            [
             0.5555555555555556,
             "#d8576b"
            ],
            [
             0.6666666666666666,
             "#ed7953"
            ],
            [
             0.7777777777777778,
             "#fb9f3a"
            ],
            [
             0.8888888888888888,
             "#fdca26"
            ],
            [
             1,
             "#f0f921"
            ]
           ],
           "sequentialminus": [
            [
             0,
             "#0d0887"
            ],
            [
             0.1111111111111111,
             "#46039f"
            ],
            [
             0.2222222222222222,
             "#7201a8"
            ],
            [
             0.3333333333333333,
             "#9c179e"
            ],
            [
             0.4444444444444444,
             "#bd3786"
            ],
            [
             0.5555555555555556,
             "#d8576b"
            ],
            [
             0.6666666666666666,
             "#ed7953"
            ],
            [
             0.7777777777777778,
             "#fb9f3a"
            ],
            [
             0.8888888888888888,
             "#fdca26"
            ],
            [
             1,
             "#f0f921"
            ]
           ]
          },
          "colorway": [
           "#636efa",
           "#EF553B",
           "#00cc96",
           "#ab63fa",
           "#FFA15A",
           "#19d3f3",
           "#FF6692",
           "#B6E880",
           "#FF97FF",
           "#FECB52"
          ],
          "font": {
           "color": "#2a3f5f"
          },
          "geo": {
           "bgcolor": "white",
           "lakecolor": "white",
           "landcolor": "#E5ECF6",
           "showlakes": true,
           "showland": true,
           "subunitcolor": "white"
          },
          "hoverlabel": {
           "align": "left"
          },
          "hovermode": "closest",
          "mapbox": {
           "style": "light"
          },
          "paper_bgcolor": "white",
          "plot_bgcolor": "#E5ECF6",
          "polar": {
           "angularaxis": {
            "gridcolor": "white",
            "linecolor": "white",
            "ticks": ""
           },
           "bgcolor": "#E5ECF6",
           "radialaxis": {
            "gridcolor": "white",
            "linecolor": "white",
            "ticks": ""
           }
          },
          "scene": {
           "xaxis": {
            "backgroundcolor": "#E5ECF6",
            "gridcolor": "white",
            "gridwidth": 2,
            "linecolor": "white",
            "showbackground": true,
            "ticks": "",
            "zerolinecolor": "white"
           },
           "yaxis": {
            "backgroundcolor": "#E5ECF6",
            "gridcolor": "white",
            "gridwidth": 2,
            "linecolor": "white",
            "showbackground": true,
            "ticks": "",
            "zerolinecolor": "white"
           },
           "zaxis": {
            "backgroundcolor": "#E5ECF6",
            "gridcolor": "white",
            "gridwidth": 2,
            "linecolor": "white",
            "showbackground": true,
            "ticks": "",
            "zerolinecolor": "white"
           }
          },
          "shapedefaults": {
           "line": {
            "color": "#2a3f5f"
           }
          },
          "ternary": {
           "aaxis": {
            "gridcolor": "white",
            "linecolor": "white",
            "ticks": ""
           },
           "baxis": {
            "gridcolor": "white",
            "linecolor": "white",
            "ticks": ""
           },
           "bgcolor": "#E5ECF6",
           "caxis": {
            "gridcolor": "white",
            "linecolor": "white",
            "ticks": ""
           }
          },
          "title": {
           "x": 0.05
          },
          "xaxis": {
           "automargin": true,
           "gridcolor": "white",
           "linecolor": "white",
           "ticks": "",
           "title": {
            "standoff": 15
           },
           "zerolinecolor": "white",
           "zerolinewidth": 2
          },
          "yaxis": {
           "automargin": true,
           "gridcolor": "white",
           "linecolor": "white",
           "ticks": "",
           "title": {
            "standoff": 15
           },
           "zerolinecolor": "white",
           "zerolinewidth": 2
          }
         }
        },
        "width": 1500,
        "xaxis": {
         "anchor": "y",
         "domain": [
          0,
          1
         ]
        },
        "yaxis": {
         "anchor": "x",
         "autorange": "reversed",
         "domain": [
          0,
          1
         ]
        }
       }
      }
     },
     "metadata": {},
     "output_type": "display_data"
    }
   ],
   "source": [
    "fig = px.imshow(data.corr(numeric_only=True), \n",
    "                text_auto=True, aspect=\"auto\",\n",
    "                # width=40,\n",
    "                # height=100\n",
    "                )\n",
    "fig.update_layout(width=1500, height=1500)\n",
    "fig.show()"
   ]
  },
  {
   "cell_type": "code",
   "execution_count": 287,
   "metadata": {},
   "outputs": [],
   "source": [
    "X = data.drop(['reviewer_score'], axis = 1)  \n",
    "y = data['reviewer_score'] "
   ]
  },
  {
   "cell_type": "code",
   "execution_count": 288,
   "metadata": {},
   "outputs": [],
   "source": [
    "# Наборы данных с меткой \"train\" будут использоваться для обучения модели, \"test\" - для тестирования.  \n",
    "# Для тестирования мы будем использовать 25% от исходного датасета.  \n",
    "X_train, X_test, y_train, y_test = train_test_split(X, y, test_size=0.25, random_state=42)"
   ]
  },
  {
   "cell_type": "code",
   "execution_count": 289,
   "metadata": {},
   "outputs": [],
   "source": [
    "# Импортируем необходимые библиотеки:  \n",
    "from sklearn.ensemble import RandomForestRegressor # инструмент для создания и обучения модели  \n",
    "from sklearn import metrics # инструменты для оценки точности модели  \n",
    "  \n",
    "# Создаём модель  \n",
    "regr = RandomForestRegressor(n_estimators=100)  \n",
    "      \n",
    "# Обучаем модель на тестовом наборе данных  \n",
    "regr.fit(X_train, y_train)  \n",
    "      \n",
    "# Используем обученную модель для предсказания рейтинга отелей в тестовой выборке.  \n",
    "# Предсказанные значения записываем в переменную y_pred  \n",
    "y_pred = regr.predict(X_test)"
   ]
  },
  {
   "cell_type": "code",
   "execution_count": 290,
   "metadata": {},
   "outputs": [
    {
     "name": "stdout",
     "output_type": "stream",
     "text": [
      "MAPE: 0.1363290002282906\n"
     ]
    }
   ],
   "source": [
    "# Сравниваем предсказанные значения (y_pred) с реальными (y_test), и смотрим насколько они отличаются  \n",
    "# Метрика называется Mean Absolute Percentage Error (MAPE) и показывает среднюю абсолютную процентную ошибку предсказанных значений от фактических.  \n",
    "print('MAPE:', metrics.mean_absolute_percentage_error(y_test, y_pred))"
   ]
  }
 ],
 "metadata": {
  "kernelspec": {
   "display_name": ".venv",
   "language": "python",
   "name": "python3"
  },
  "language_info": {
   "codemirror_mode": {
    "name": "ipython",
    "version": 3
   },
   "file_extension": ".py",
   "mimetype": "text/x-python",
   "name": "python",
   "nbconvert_exporter": "python",
   "pygments_lexer": "ipython3",
   "version": "3.11.7"
  }
 },
 "nbformat": 4,
 "nbformat_minor": 2
}
