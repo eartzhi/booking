{
 "cells": [
  {
   "cell_type": "code",
   "execution_count": 1222,
   "metadata": {},
   "outputs": [
    {
     "name": "stdout",
     "output_type": "stream",
     "text": [
      "Requirement already satisfied: pandas in c:\\ds\\booking-1\\.venv\\lib\\site-packages (2.2.2)\n",
      "Requirement already satisfied: numpy>=1.26.0 in c:\\ds\\booking-1\\.venv\\lib\\site-packages (from pandas) (2.0.0)\n",
      "Requirement already satisfied: python-dateutil>=2.8.2 in c:\\ds\\booking-1\\.venv\\lib\\site-packages (from pandas) (2.9.0.post0)\n",
      "Requirement already satisfied: pytz>=2020.1 in c:\\ds\\booking-1\\.venv\\lib\\site-packages (from pandas) (2024.1)\n",
      "Requirement already satisfied: tzdata>=2022.7 in c:\\ds\\booking-1\\.venv\\lib\\site-packages (from pandas) (2024.1)\n",
      "Requirement already satisfied: six>=1.5 in c:\\ds\\booking-1\\.venv\\lib\\site-packages (from python-dateutil>=2.8.2->pandas) (1.16.0)\n",
      "Requirement already satisfied: numpy in c:\\ds\\booking-1\\.venv\\lib\\site-packages (2.0.0)\n",
      "Requirement already satisfied: plotly in c:\\ds\\booking-1\\.venv\\lib\\site-packages (5.22.0)\n",
      "Requirement already satisfied: tenacity>=6.2.0 in c:\\ds\\booking-1\\.venv\\lib\\site-packages (from plotly) (8.5.0)\n",
      "Requirement already satisfied: packaging in c:\\ds\\booking-1\\.venv\\lib\\site-packages (from plotly) (24.1)\n",
      "Requirement already satisfied: nbformat in c:\\ds\\booking-1\\.venv\\lib\\site-packages (5.10.4)\n",
      "Requirement already satisfied: fastjsonschema>=2.15 in c:\\ds\\booking-1\\.venv\\lib\\site-packages (from nbformat) (2.20.0)\n",
      "Requirement already satisfied: jsonschema>=2.6 in c:\\ds\\booking-1\\.venv\\lib\\site-packages (from nbformat) (4.23.0)\n",
      "Requirement already satisfied: jupyter-core!=5.0.*,>=4.12 in c:\\ds\\booking-1\\.venv\\lib\\site-packages (from nbformat) (5.7.2)\n",
      "Requirement already satisfied: traitlets>=5.1 in c:\\ds\\booking-1\\.venv\\lib\\site-packages (from nbformat) (5.14.3)\n",
      "Requirement already satisfied: attrs>=22.2.0 in c:\\ds\\booking-1\\.venv\\lib\\site-packages (from jsonschema>=2.6->nbformat) (23.2.0)\n",
      "Requirement already satisfied: jsonschema-specifications>=2023.03.6 in c:\\ds\\booking-1\\.venv\\lib\\site-packages (from jsonschema>=2.6->nbformat) (2023.12.1)\n",
      "Requirement already satisfied: referencing>=0.28.4 in c:\\ds\\booking-1\\.venv\\lib\\site-packages (from jsonschema>=2.6->nbformat) (0.35.1)\n",
      "Requirement already satisfied: rpds-py>=0.7.1 in c:\\ds\\booking-1\\.venv\\lib\\site-packages (from jsonschema>=2.6->nbformat) (0.19.0)\n",
      "Requirement already satisfied: platformdirs>=2.5 in c:\\ds\\booking-1\\.venv\\lib\\site-packages (from jupyter-core!=5.0.*,>=4.12->nbformat) (4.2.2)\n",
      "Requirement already satisfied: pywin32>=300 in c:\\ds\\booking-1\\.venv\\lib\\site-packages (from jupyter-core!=5.0.*,>=4.12->nbformat) (306)\n",
      "Requirement already satisfied: scipy in c:\\ds\\booking-1\\.venv\\lib\\site-packages (1.14.0)\n",
      "Requirement already satisfied: numpy<2.3,>=1.23.5 in c:\\ds\\booking-1\\.venv\\lib\\site-packages (from scipy) (2.0.0)\n",
      "Requirement already satisfied: category_encoders in c:\\ds\\booking-1\\.venv\\lib\\site-packages (2.6.3)\n",
      "Requirement already satisfied: numpy>=1.14.0 in c:\\ds\\booking-1\\.venv\\lib\\site-packages (from category_encoders) (2.0.0)\n",
      "Requirement already satisfied: scikit-learn>=0.20.0 in c:\\ds\\booking-1\\.venv\\lib\\site-packages (from category_encoders) (1.5.1)\n",
      "Requirement already satisfied: scipy>=1.0.0 in c:\\ds\\booking-1\\.venv\\lib\\site-packages (from category_encoders) (1.14.0)\n",
      "Requirement already satisfied: statsmodels>=0.9.0 in c:\\ds\\booking-1\\.venv\\lib\\site-packages (from category_encoders) (0.14.2)\n",
      "Requirement already satisfied: pandas>=1.0.5 in c:\\ds\\booking-1\\.venv\\lib\\site-packages (from category_encoders) (2.2.2)\n",
      "Requirement already satisfied: patsy>=0.5.1 in c:\\ds\\booking-1\\.venv\\lib\\site-packages (from category_encoders) (0.5.6)\n",
      "Requirement already satisfied: python-dateutil>=2.8.2 in c:\\ds\\booking-1\\.venv\\lib\\site-packages (from pandas>=1.0.5->category_encoders) (2.9.0.post0)\n",
      "Requirement already satisfied: pytz>=2020.1 in c:\\ds\\booking-1\\.venv\\lib\\site-packages (from pandas>=1.0.5->category_encoders) (2024.1)\n",
      "Requirement already satisfied: tzdata>=2022.7 in c:\\ds\\booking-1\\.venv\\lib\\site-packages (from pandas>=1.0.5->category_encoders) (2024.1)\n",
      "Requirement already satisfied: six in c:\\ds\\booking-1\\.venv\\lib\\site-packages (from patsy>=0.5.1->category_encoders) (1.16.0)\n",
      "Requirement already satisfied: joblib>=1.2.0 in c:\\ds\\booking-1\\.venv\\lib\\site-packages (from scikit-learn>=0.20.0->category_encoders) (1.4.2)\n",
      "Requirement already satisfied: threadpoolctl>=3.1.0 in c:\\ds\\booking-1\\.venv\\lib\\site-packages (from scikit-learn>=0.20.0->category_encoders) (3.5.0)\n",
      "Requirement already satisfied: packaging>=21.3 in c:\\ds\\booking-1\\.venv\\lib\\site-packages (from statsmodels>=0.9.0->category_encoders) (24.1)\n",
      "Requirement already satisfied: matplotlib in c:\\ds\\booking-1\\.venv\\lib\\site-packages (3.9.1)\n",
      "Requirement already satisfied: contourpy>=1.0.1 in c:\\ds\\booking-1\\.venv\\lib\\site-packages (from matplotlib) (1.2.1)\n",
      "Requirement already satisfied: cycler>=0.10 in c:\\ds\\booking-1\\.venv\\lib\\site-packages (from matplotlib) (0.12.1)\n",
      "Requirement already satisfied: fonttools>=4.22.0 in c:\\ds\\booking-1\\.venv\\lib\\site-packages (from matplotlib) (4.53.1)\n",
      "Requirement already satisfied: kiwisolver>=1.3.1 in c:\\ds\\booking-1\\.venv\\lib\\site-packages (from matplotlib) (1.4.5)\n",
      "Requirement already satisfied: numpy>=1.23 in c:\\ds\\booking-1\\.venv\\lib\\site-packages (from matplotlib) (2.0.0)\n",
      "Requirement already satisfied: packaging>=20.0 in c:\\ds\\booking-1\\.venv\\lib\\site-packages (from matplotlib) (24.1)\n",
      "Requirement already satisfied: pillow>=8 in c:\\ds\\booking-1\\.venv\\lib\\site-packages (from matplotlib) (10.4.0)\n",
      "Requirement already satisfied: pyparsing>=2.3.1 in c:\\ds\\booking-1\\.venv\\lib\\site-packages (from matplotlib) (3.1.2)\n",
      "Requirement already satisfied: python-dateutil>=2.7 in c:\\ds\\booking-1\\.venv\\lib\\site-packages (from matplotlib) (2.9.0.post0)\n",
      "Requirement already satisfied: six>=1.5 in c:\\ds\\booking-1\\.venv\\lib\\site-packages (from python-dateutil>=2.7->matplotlib) (1.16.0)\n",
      "Requirement already satisfied: seaborn in c:\\ds\\booking-1\\.venv\\lib\\site-packages (0.13.2)\n",
      "Requirement already satisfied: numpy!=1.24.0,>=1.20 in c:\\ds\\booking-1\\.venv\\lib\\site-packages (from seaborn) (2.0.0)\n",
      "Requirement already satisfied: pandas>=1.2 in c:\\ds\\booking-1\\.venv\\lib\\site-packages (from seaborn) (2.2.2)\n",
      "Requirement already satisfied: matplotlib!=3.6.1,>=3.4 in c:\\ds\\booking-1\\.venv\\lib\\site-packages (from seaborn) (3.9.1)\n",
      "Requirement already satisfied: contourpy>=1.0.1 in c:\\ds\\booking-1\\.venv\\lib\\site-packages (from matplotlib!=3.6.1,>=3.4->seaborn) (1.2.1)\n",
      "Requirement already satisfied: cycler>=0.10 in c:\\ds\\booking-1\\.venv\\lib\\site-packages (from matplotlib!=3.6.1,>=3.4->seaborn) (0.12.1)\n",
      "Requirement already satisfied: fonttools>=4.22.0 in c:\\ds\\booking-1\\.venv\\lib\\site-packages (from matplotlib!=3.6.1,>=3.4->seaborn) (4.53.1)\n",
      "Requirement already satisfied: kiwisolver>=1.3.1 in c:\\ds\\booking-1\\.venv\\lib\\site-packages (from matplotlib!=3.6.1,>=3.4->seaborn) (1.4.5)\n",
      "Requirement already satisfied: packaging>=20.0 in c:\\ds\\booking-1\\.venv\\lib\\site-packages (from matplotlib!=3.6.1,>=3.4->seaborn) (24.1)\n",
      "Requirement already satisfied: pillow>=8 in c:\\ds\\booking-1\\.venv\\lib\\site-packages (from matplotlib!=3.6.1,>=3.4->seaborn) (10.4.0)\n",
      "Requirement already satisfied: pyparsing>=2.3.1 in c:\\ds\\booking-1\\.venv\\lib\\site-packages (from matplotlib!=3.6.1,>=3.4->seaborn) (3.1.2)\n",
      "Requirement already satisfied: python-dateutil>=2.7 in c:\\ds\\booking-1\\.venv\\lib\\site-packages (from matplotlib!=3.6.1,>=3.4->seaborn) (2.9.0.post0)\n",
      "Requirement already satisfied: pytz>=2020.1 in c:\\ds\\booking-1\\.venv\\lib\\site-packages (from pandas>=1.2->seaborn) (2024.1)\n",
      "Requirement already satisfied: tzdata>=2022.7 in c:\\ds\\booking-1\\.venv\\lib\\site-packages (from pandas>=1.2->seaborn) (2024.1)\n",
      "Requirement already satisfied: six>=1.5 in c:\\ds\\booking-1\\.venv\\lib\\site-packages (from python-dateutil>=2.7->matplotlib!=3.6.1,>=3.4->seaborn) (1.16.0)\n",
      "Requirement already satisfied: nltk in c:\\ds\\booking-1\\.venv\\lib\\site-packages (3.8.1)\n",
      "Requirement already satisfied: click in c:\\ds\\booking-1\\.venv\\lib\\site-packages (from nltk) (8.1.7)\n",
      "Requirement already satisfied: joblib in c:\\ds\\booking-1\\.venv\\lib\\site-packages (from nltk) (1.4.2)\n",
      "Requirement already satisfied: regex>=2021.8.3 in c:\\ds\\booking-1\\.venv\\lib\\site-packages (from nltk) (2024.5.15)\n",
      "Requirement already satisfied: tqdm in c:\\ds\\booking-1\\.venv\\lib\\site-packages (from nltk) (4.66.4)\n",
      "Requirement already satisfied: colorama in c:\\ds\\booking-1\\.venv\\lib\\site-packages (from click->nltk) (0.4.6)\n"
     ]
    }
   ],
   "source": [
    "!pip install pandas\n",
    "!pip install numpy\n",
    "!pip install plotly\n",
    "!pip install --upgrade nbformat\n",
    "!pip install scipy\n",
    "!pip install category_encoders\n",
    "!pip install matplotlib \n",
    "!pip install seaborn \n",
    "!pip install nltk"
   ]
  },
  {
   "cell_type": "code",
   "execution_count": 1223,
   "metadata": {},
   "outputs": [],
   "source": [
    "import pandas as pd\n",
    "import numpy as np\n",
    "import plotly.express as px\n",
    "import plotly.graph_objects as go\n",
    "import scipy.stats as stats\n",
    "from collections import Counter\n",
    "import category_encoders as ce \n",
    "import seaborn as sns\n",
    "from matplotlib import pyplot as plt\n",
    "from sklearn.model_selection import train_test_split  \n",
    "import re\n",
    "import nltk\n",
    "from nltk.sentiment.vader import SentimentIntensityAnalyzer\n",
    "import time"
   ]
  },
  {
   "cell_type": "markdown",
   "metadata": {},
   "source": [
    "## <center> 1. Загрузка данных </center>"
   ]
  },
  {
   "cell_type": "code",
   "execution_count": 1224,
   "metadata": {},
   "outputs": [],
   "source": [
    "data_train = pd.read_csv('data/hotels_train.csv')\n",
    "data_test = pd.read_csv('data/hotels_test.csv')"
   ]
  },
  {
   "cell_type": "markdown",
   "metadata": {},
   "source": [
    "Удалим дубликаты data_train"
   ]
  },
  {
   "cell_type": "code",
   "execution_count": 1225,
   "metadata": {},
   "outputs": [],
   "source": [
    "data_train = data_train.drop_duplicates()"
   ]
  },
  {
   "cell_type": "markdown",
   "metadata": {},
   "source": [
    "Объединяем в единый DataFrame."
   ]
  },
  {
   "cell_type": "code",
   "execution_count": 1226,
   "metadata": {},
   "outputs": [
    {
     "data": {
      "text/html": [
       "<div>\n",
       "<style scoped>\n",
       "    .dataframe tbody tr th:only-of-type {\n",
       "        vertical-align: middle;\n",
       "    }\n",
       "\n",
       "    .dataframe tbody tr th {\n",
       "        vertical-align: top;\n",
       "    }\n",
       "\n",
       "    .dataframe thead th {\n",
       "        text-align: right;\n",
       "    }\n",
       "</style>\n",
       "<table border=\"1\" class=\"dataframe\">\n",
       "  <thead>\n",
       "    <tr style=\"text-align: right;\">\n",
       "      <th></th>\n",
       "      <th>hotel_address</th>\n",
       "      <th>additional_number_of_scoring</th>\n",
       "      <th>review_date</th>\n",
       "      <th>average_score</th>\n",
       "      <th>hotel_name</th>\n",
       "      <th>reviewer_nationality</th>\n",
       "      <th>negative_review</th>\n",
       "      <th>review_total_negative_word_counts</th>\n",
       "      <th>total_number_of_reviews</th>\n",
       "      <th>positive_review</th>\n",
       "      <th>review_total_positive_word_counts</th>\n",
       "      <th>total_number_of_reviews_reviewer_has_given</th>\n",
       "      <th>reviewer_score</th>\n",
       "      <th>tags</th>\n",
       "      <th>days_since_review</th>\n",
       "      <th>lat</th>\n",
       "      <th>lng</th>\n",
       "      <th>train</th>\n",
       "    </tr>\n",
       "  </thead>\n",
       "  <tbody>\n",
       "    <tr>\n",
       "      <th>0</th>\n",
       "      <td>Stratton Street Mayfair Westminster Borough Lo...</td>\n",
       "      <td>581</td>\n",
       "      <td>2/19/2016</td>\n",
       "      <td>8.4</td>\n",
       "      <td>The May Fair Hotel</td>\n",
       "      <td>United Kingdom</td>\n",
       "      <td>Leaving</td>\n",
       "      <td>3</td>\n",
       "      <td>1994</td>\n",
       "      <td>Staff were amazing</td>\n",
       "      <td>4</td>\n",
       "      <td>7</td>\n",
       "      <td>10.0</td>\n",
       "      <td>[' Leisure trip ', ' Couple ', ' Studio Suite ...</td>\n",
       "      <td>531 day</td>\n",
       "      <td>51.507894</td>\n",
       "      <td>-0.143671</td>\n",
       "      <td>1</td>\n",
       "    </tr>\n",
       "    <tr>\n",
       "      <th>1</th>\n",
       "      <td>130 134 Southampton Row Camden London WC1B 5AF...</td>\n",
       "      <td>299</td>\n",
       "      <td>1/12/2017</td>\n",
       "      <td>8.3</td>\n",
       "      <td>Mercure London Bloomsbury Hotel</td>\n",
       "      <td>United Kingdom</td>\n",
       "      <td>poor breakfast</td>\n",
       "      <td>3</td>\n",
       "      <td>1361</td>\n",
       "      <td>location</td>\n",
       "      <td>2</td>\n",
       "      <td>14</td>\n",
       "      <td>6.3</td>\n",
       "      <td>[' Business trip ', ' Couple ', ' Standard Dou...</td>\n",
       "      <td>203 day</td>\n",
       "      <td>51.521009</td>\n",
       "      <td>-0.123097</td>\n",
       "      <td>1</td>\n",
       "    </tr>\n",
       "  </tbody>\n",
       "</table>\n",
       "</div>"
      ],
      "text/plain": [
       "                                       hotel_address  \\\n",
       "0  Stratton Street Mayfair Westminster Borough Lo...   \n",
       "1  130 134 Southampton Row Camden London WC1B 5AF...   \n",
       "\n",
       "   additional_number_of_scoring review_date  average_score  \\\n",
       "0                           581   2/19/2016            8.4   \n",
       "1                           299   1/12/2017            8.3   \n",
       "\n",
       "                        hotel_name reviewer_nationality  negative_review  \\\n",
       "0               The May Fair Hotel      United Kingdom          Leaving    \n",
       "1  Mercure London Bloomsbury Hotel      United Kingdom    poor breakfast   \n",
       "\n",
       "   review_total_negative_word_counts  total_number_of_reviews  \\\n",
       "0                                  3                     1994   \n",
       "1                                  3                     1361   \n",
       "\n",
       "       positive_review  review_total_positive_word_counts  \\\n",
       "0   Staff were amazing                                  4   \n",
       "1             location                                  2   \n",
       "\n",
       "   total_number_of_reviews_reviewer_has_given  reviewer_score  \\\n",
       "0                                           7            10.0   \n",
       "1                                          14             6.3   \n",
       "\n",
       "                                                tags days_since_review  \\\n",
       "0  [' Leisure trip ', ' Couple ', ' Studio Suite ...           531 day   \n",
       "1  [' Business trip ', ' Couple ', ' Standard Dou...           203 day   \n",
       "\n",
       "         lat       lng  train  \n",
       "0  51.507894 -0.143671      1  \n",
       "1  51.521009 -0.123097      1  "
      ]
     },
     "execution_count": 1226,
     "metadata": {},
     "output_type": "execute_result"
    }
   ],
   "source": [
    "data_train['train'] = 1 \n",
    "data_test['train'] = 0 \n",
    "data_test['reviewer_score'] = 0 \n",
    "\n",
    "\n",
    "data = pd.concat([data_train, data_test])\n",
    "data.head(2)"
   ]
  },
  {
   "cell_type": "markdown",
   "metadata": {},
   "source": [
    "## <center> 2. Обработка данных </center>"
   ]
  },
  {
   "cell_type": "markdown",
   "metadata": {},
   "source": [
    "#### 2.1 Очистка данных"
   ]
  },
  {
   "cell_type": "markdown",
   "metadata": {},
   "source": [
    "Заполним пропуски в lat и lng вредним значением."
   ]
  },
  {
   "cell_type": "code",
   "execution_count": 1227,
   "metadata": {},
   "outputs": [
    {
     "data": {
      "text/plain": [
       "hotel_address                                 0\n",
       "additional_number_of_scoring                  0\n",
       "review_date                                   0\n",
       "average_score                                 0\n",
       "hotel_name                                    0\n",
       "reviewer_nationality                          0\n",
       "negative_review                               0\n",
       "review_total_negative_word_counts             0\n",
       "total_number_of_reviews                       0\n",
       "positive_review                               0\n",
       "review_total_positive_word_counts             0\n",
       "total_number_of_reviews_reviewer_has_given    0\n",
       "reviewer_score                                0\n",
       "tags                                          0\n",
       "days_since_review                             0\n",
       "lat                                           0\n",
       "lng                                           0\n",
       "train                                         0\n",
       "dtype: int64"
      ]
     },
     "execution_count": 1227,
     "metadata": {},
     "output_type": "execute_result"
    }
   ],
   "source": [
    "data['lat'] = data['lat'].fillna(data['lat'].mean())\n",
    "data['lng'] = data['lng'].fillna(data['lng'].mean())\n",
    "data.isnull().sum()"
   ]
  },
  {
   "cell_type": "markdown",
   "metadata": {},
   "source": [
    "Пропуски отсутствуют."
   ]
  },
  {
   "cell_type": "code",
   "execution_count": 1228,
   "metadata": {},
   "outputs": [
    {
     "data": {
      "text/html": [
       "<div>\n",
       "<style scoped>\n",
       "    .dataframe tbody tr th:only-of-type {\n",
       "        vertical-align: middle;\n",
       "    }\n",
       "\n",
       "    .dataframe tbody tr th {\n",
       "        vertical-align: top;\n",
       "    }\n",
       "\n",
       "    .dataframe thead th {\n",
       "        text-align: right;\n",
       "    }\n",
       "</style>\n",
       "<table border=\"1\" class=\"dataframe\">\n",
       "  <thead>\n",
       "    <tr style=\"text-align: right;\">\n",
       "      <th></th>\n",
       "      <th>additional_number_of_scoring</th>\n",
       "      <th>average_score</th>\n",
       "      <th>review_total_negative_word_counts</th>\n",
       "      <th>total_number_of_reviews</th>\n",
       "      <th>review_total_positive_word_counts</th>\n",
       "      <th>total_number_of_reviews_reviewer_has_given</th>\n",
       "      <th>reviewer_score</th>\n",
       "      <th>lat</th>\n",
       "      <th>lng</th>\n",
       "      <th>train</th>\n",
       "    </tr>\n",
       "  </thead>\n",
       "  <tbody>\n",
       "    <tr>\n",
       "      <th>count</th>\n",
       "      <td>515431.000000</td>\n",
       "      <td>515431.000000</td>\n",
       "      <td>515431.000000</td>\n",
       "      <td>515431.000000</td>\n",
       "      <td>515431.000000</td>\n",
       "      <td>515431.000000</td>\n",
       "      <td>515431.000000</td>\n",
       "      <td>515431.000000</td>\n",
       "      <td>515431.000000</td>\n",
       "      <td>515431.00000</td>\n",
       "    </tr>\n",
       "    <tr>\n",
       "      <th>mean</th>\n",
       "      <td>498.275079</td>\n",
       "      <td>8.397630</td>\n",
       "      <td>18.539760</td>\n",
       "      <td>2744.259084</td>\n",
       "      <td>17.777342</td>\n",
       "      <td>7.165215</td>\n",
       "      <td>6.296715</td>\n",
       "      <td>49.442788</td>\n",
       "      <td>2.824057</td>\n",
       "      <td>0.74985</td>\n",
       "    </tr>\n",
       "    <tr>\n",
       "      <th>std</th>\n",
       "      <td>500.618961</td>\n",
       "      <td>0.548033</td>\n",
       "      <td>29.690973</td>\n",
       "      <td>2317.823718</td>\n",
       "      <td>21.803204</td>\n",
       "      <td>11.038742</td>\n",
       "      <td>3.902967</td>\n",
       "      <td>3.456313</td>\n",
       "      <td>4.566185</td>\n",
       "      <td>0.43310</td>\n",
       "    </tr>\n",
       "    <tr>\n",
       "      <th>min</th>\n",
       "      <td>1.000000</td>\n",
       "      <td>5.200000</td>\n",
       "      <td>0.000000</td>\n",
       "      <td>43.000000</td>\n",
       "      <td>0.000000</td>\n",
       "      <td>1.000000</td>\n",
       "      <td>0.000000</td>\n",
       "      <td>41.328376</td>\n",
       "      <td>-0.369758</td>\n",
       "      <td>0.00000</td>\n",
       "    </tr>\n",
       "    <tr>\n",
       "      <th>25%</th>\n",
       "      <td>169.000000</td>\n",
       "      <td>8.100000</td>\n",
       "      <td>2.000000</td>\n",
       "      <td>1161.000000</td>\n",
       "      <td>5.000000</td>\n",
       "      <td>1.000000</td>\n",
       "      <td>0.000000</td>\n",
       "      <td>48.214662</td>\n",
       "      <td>-0.143372</td>\n",
       "      <td>0.00000</td>\n",
       "    </tr>\n",
       "    <tr>\n",
       "      <th>50%</th>\n",
       "      <td>342.000000</td>\n",
       "      <td>8.400000</td>\n",
       "      <td>9.000000</td>\n",
       "      <td>2134.000000</td>\n",
       "      <td>11.000000</td>\n",
       "      <td>3.000000</td>\n",
       "      <td>7.900000</td>\n",
       "      <td>51.499981</td>\n",
       "      <td>0.019886</td>\n",
       "      <td>1.00000</td>\n",
       "    </tr>\n",
       "    <tr>\n",
       "      <th>75%</th>\n",
       "      <td>660.000000</td>\n",
       "      <td>8.800000</td>\n",
       "      <td>23.000000</td>\n",
       "      <td>3633.000000</td>\n",
       "      <td>22.000000</td>\n",
       "      <td>8.000000</td>\n",
       "      <td>9.600000</td>\n",
       "      <td>51.516288</td>\n",
       "      <td>4.831098</td>\n",
       "      <td>1.00000</td>\n",
       "    </tr>\n",
       "    <tr>\n",
       "      <th>max</th>\n",
       "      <td>2682.000000</td>\n",
       "      <td>9.800000</td>\n",
       "      <td>408.000000</td>\n",
       "      <td>16670.000000</td>\n",
       "      <td>395.000000</td>\n",
       "      <td>355.000000</td>\n",
       "      <td>10.000000</td>\n",
       "      <td>52.400181</td>\n",
       "      <td>16.429233</td>\n",
       "      <td>1.00000</td>\n",
       "    </tr>\n",
       "  </tbody>\n",
       "</table>\n",
       "</div>"
      ],
      "text/plain": [
       "       additional_number_of_scoring  average_score  \\\n",
       "count                 515431.000000  515431.000000   \n",
       "mean                     498.275079       8.397630   \n",
       "std                      500.618961       0.548033   \n",
       "min                        1.000000       5.200000   \n",
       "25%                      169.000000       8.100000   \n",
       "50%                      342.000000       8.400000   \n",
       "75%                      660.000000       8.800000   \n",
       "max                     2682.000000       9.800000   \n",
       "\n",
       "       review_total_negative_word_counts  total_number_of_reviews  \\\n",
       "count                      515431.000000            515431.000000   \n",
       "mean                           18.539760              2744.259084   \n",
       "std                            29.690973              2317.823718   \n",
       "min                             0.000000                43.000000   \n",
       "25%                             2.000000              1161.000000   \n",
       "50%                             9.000000              2134.000000   \n",
       "75%                            23.000000              3633.000000   \n",
       "max                           408.000000             16670.000000   \n",
       "\n",
       "       review_total_positive_word_counts  \\\n",
       "count                      515431.000000   \n",
       "mean                           17.777342   \n",
       "std                            21.803204   \n",
       "min                             0.000000   \n",
       "25%                             5.000000   \n",
       "50%                            11.000000   \n",
       "75%                            22.000000   \n",
       "max                           395.000000   \n",
       "\n",
       "       total_number_of_reviews_reviewer_has_given  reviewer_score  \\\n",
       "count                               515431.000000   515431.000000   \n",
       "mean                                     7.165215        6.296715   \n",
       "std                                     11.038742        3.902967   \n",
       "min                                      1.000000        0.000000   \n",
       "25%                                      1.000000        0.000000   \n",
       "50%                                      3.000000        7.900000   \n",
       "75%                                      8.000000        9.600000   \n",
       "max                                    355.000000       10.000000   \n",
       "\n",
       "                 lat            lng         train  \n",
       "count  515431.000000  515431.000000  515431.00000  \n",
       "mean       49.442788       2.824057       0.74985  \n",
       "std         3.456313       4.566185       0.43310  \n",
       "min        41.328376      -0.369758       0.00000  \n",
       "25%        48.214662      -0.143372       0.00000  \n",
       "50%        51.499981       0.019886       1.00000  \n",
       "75%        51.516288       4.831098       1.00000  \n",
       "max        52.400181      16.429233       1.00000  "
      ]
     },
     "execution_count": 1228,
     "metadata": {},
     "output_type": "execute_result"
    }
   ],
   "source": [
    "data.describe()"
   ]
  },
  {
   "cell_type": "markdown",
   "metadata": {},
   "source": [
    "В таблице выше не видно сильных выбросов. Но есть вероятность, что они есть\n",
    "\n",
    "Прежде чем проверять числовые данные на выбросы, предлагаю проверить их на нормальность распределения чтобы понять применим ли к ним вообще метод Тьюки. "
   ]
  },
  {
   "cell_type": "code",
   "execution_count": 1229,
   "metadata": {},
   "outputs": [
    {
     "name": "stdout",
     "output_type": "stream",
     "text": [
      "Распределение average_score не нормальное\n",
      "Распределение review_total_negative_word_counts не нормальное\n",
      "Распределение total_number_of_reviews не нормальное\n",
      "Распределение review_total_positive_word_counts не нормальное\n",
      "Распределение total_number_of_reviews_reviewer_has_given не нормальное\n",
      "Распределение reviewer_score не нормальное\n"
     ]
    },
    {
     "name": "stderr",
     "output_type": "stream",
     "text": [
      "c:\\DS\\booking-1\\.venv\\Lib\\site-packages\\scipy\\stats\\_axis_nan_policy.py:573: UserWarning:\n",
      "\n",
      "scipy.stats.shapiro: For N > 5000, computed p-value may not be accurate. Current N is 515431.\n",
      "\n"
     ]
    }
   ],
   "source": [
    "# задаём уровень значимости\n",
    "alpha = 0.05 \n",
    "\n",
    "# Задаем перечень числовых параметров\n",
    "num_list = ['average_score', 'review_total_negative_word_counts', \n",
    "         'total_number_of_reviews', 'review_total_positive_word_counts', \n",
    "         'total_number_of_reviews_reviewer_has_given', 'reviewer_score']\n",
    "\n",
    "# проводим тест Шапиро — Уилка\n",
    "for col in num_list:\n",
    "    _, p= stats.shapiro(data[col])\n",
    "    if p <= alpha:\n",
    "        print(f'Распределение {col} не нормальное')\n",
    "    else:\n",
    "        print(f'Распределение {col} нормальное')\n",
    "\n"
   ]
  },
  {
   "cell_type": "markdown",
   "metadata": {},
   "source": [
    "Параметры не имеют нормального распределения. Нет смысла применять метод ТЬюки."
   ]
  },
  {
   "cell_type": "markdown",
   "metadata": {},
   "source": [
    "#### 2.2 Проектирование признаков"
   ]
  },
  {
   "cell_type": "markdown",
   "metadata": {},
   "source": [
    "Посмотрим, что можно извлечь из столбца hotel_address."
   ]
  },
  {
   "cell_type": "code",
   "execution_count": 1230,
   "metadata": {},
   "outputs": [
    {
     "name": "stdout",
     "output_type": "stream",
     "text": [
      "0    Stratton Street Mayfair Westminster Borough Lo...\n",
      "0                   Via Senigallia 6 20161 Milan Italy\n",
      "Name: hotel_address, dtype: object / 5000    Prinses Irenestraat 30 Zuideramstel 1077 WX Am...\n",
      "5000      61 Quai De Grenelle 15th arr 75015 Paris France\n",
      "Name: hotel_address, dtype: object\n"
     ]
    }
   ],
   "source": [
    "print(data['hotel_address'][0],'/', data['hotel_address'][5000])"
   ]
  },
  {
   "cell_type": "markdown",
   "metadata": {},
   "source": [
    "Последними словами идет страна. Попробуем ее извлечь."
   ]
  },
  {
   "cell_type": "code",
   "execution_count": 1231,
   "metadata": {},
   "outputs": [
    {
     "name": "stdout",
     "output_type": "stream",
     "text": [
      "['Kingdom' 'France' 'Netherlands' 'Italy' 'Austria' 'Spain']\n"
     ]
    }
   ],
   "source": [
    "print(data['hotel_address'].apply(lambda x: x.split()[-1]).unique())"
   ]
  },
  {
   "cell_type": "code",
   "execution_count": 1232,
   "metadata": {},
   "outputs": [],
   "source": [
    "data['hotel_country'] = data['hotel_address'].apply(lambda x: x.split()[-1] \n",
    "                                                    if x.split()[-1] != 'Kingdom' \n",
    "                                                    else x.split()[-2] + ' ' + x.split()[-1])"
   ]
  },
  {
   "cell_type": "markdown",
   "metadata": {},
   "source": [
    "Обрабатываем значение и приводим перводим в категории и сбрасываем ненужный столбец."
   ]
  },
  {
   "cell_type": "code",
   "execution_count": 1233,
   "metadata": {},
   "outputs": [],
   "source": [
    "data['hotel_country'] = data['hotel_country'].astype('category')\n",
    "data = data.drop(['hotel_address'], axis=1)\n"
   ]
  },
  {
   "cell_type": "markdown",
   "metadata": {},
   "source": [
    "additional_number_of_scoring оставляем без изменений. \n",
    "\n",
    "Рассмотрим review_date. Создадим признаки year, day_of_week, quarter."
   ]
  },
  {
   "cell_type": "code",
   "execution_count": 1234,
   "metadata": {},
   "outputs": [],
   "source": [
    "data['review_date'] = pd.to_datetime(data['review_date'])\n",
    "data['year'] = data['review_date'].dt.year\n",
    "data['day_of_week'] = data['review_date'].dt.day_of_week\n",
    "data['quarter'] = data['review_date'].dt.quarter\n"
   ]
  },
  {
   "cell_type": "markdown",
   "metadata": {},
   "source": [
    "У нас уже есть столбец days_since_review. Мне кажется, что его использовать удобнее. сбрасываем review_date."
   ]
  },
  {
   "cell_type": "code",
   "execution_count": 1235,
   "metadata": {},
   "outputs": [],
   "source": [
    "data = data.drop(['review_date'], axis=1)"
   ]
  },
  {
   "cell_type": "code",
   "execution_count": 1236,
   "metadata": {},
   "outputs": [],
   "source": [
    "data['days_since_review'] = \\\n",
    "data['days_since_review'].apply(lambda x: int(x.replace(' days', '').replace(' day', '')))"
   ]
  },
  {
   "cell_type": "code",
   "execution_count": 1237,
   "metadata": {},
   "outputs": [
    {
     "data": {
      "text/html": [
       "<div>\n",
       "<style scoped>\n",
       "    .dataframe tbody tr th:only-of-type {\n",
       "        vertical-align: middle;\n",
       "    }\n",
       "\n",
       "    .dataframe tbody tr th {\n",
       "        vertical-align: top;\n",
       "    }\n",
       "\n",
       "    .dataframe thead th {\n",
       "        text-align: right;\n",
       "    }\n",
       "</style>\n",
       "<table border=\"1\" class=\"dataframe\">\n",
       "  <thead>\n",
       "    <tr style=\"text-align: right;\">\n",
       "      <th></th>\n",
       "      <th>additional_number_of_scoring</th>\n",
       "      <th>average_score</th>\n",
       "      <th>hotel_name</th>\n",
       "      <th>reviewer_nationality</th>\n",
       "      <th>negative_review</th>\n",
       "      <th>review_total_negative_word_counts</th>\n",
       "      <th>total_number_of_reviews</th>\n",
       "      <th>positive_review</th>\n",
       "      <th>review_total_positive_word_counts</th>\n",
       "      <th>total_number_of_reviews_reviewer_has_given</th>\n",
       "      <th>reviewer_score</th>\n",
       "      <th>tags</th>\n",
       "      <th>days_since_review</th>\n",
       "      <th>lat</th>\n",
       "      <th>lng</th>\n",
       "      <th>train</th>\n",
       "      <th>hotel_country</th>\n",
       "      <th>year</th>\n",
       "      <th>day_of_week</th>\n",
       "      <th>quarter</th>\n",
       "    </tr>\n",
       "  </thead>\n",
       "  <tbody>\n",
       "    <tr>\n",
       "      <th>0</th>\n",
       "      <td>581</td>\n",
       "      <td>8.4</td>\n",
       "      <td>The May Fair Hotel</td>\n",
       "      <td>United Kingdom</td>\n",
       "      <td>Leaving</td>\n",
       "      <td>3</td>\n",
       "      <td>1994</td>\n",
       "      <td>Staff were amazing</td>\n",
       "      <td>4</td>\n",
       "      <td>7</td>\n",
       "      <td>10.0</td>\n",
       "      <td>[' Leisure trip ', ' Couple ', ' Studio Suite ...</td>\n",
       "      <td>531</td>\n",
       "      <td>51.507894</td>\n",
       "      <td>-0.143671</td>\n",
       "      <td>1</td>\n",
       "      <td>United Kingdom</td>\n",
       "      <td>2016</td>\n",
       "      <td>4</td>\n",
       "      <td>1</td>\n",
       "    </tr>\n",
       "    <tr>\n",
       "      <th>1</th>\n",
       "      <td>299</td>\n",
       "      <td>8.3</td>\n",
       "      <td>Mercure London Bloomsbury Hotel</td>\n",
       "      <td>United Kingdom</td>\n",
       "      <td>poor breakfast</td>\n",
       "      <td>3</td>\n",
       "      <td>1361</td>\n",
       "      <td>location</td>\n",
       "      <td>2</td>\n",
       "      <td>14</td>\n",
       "      <td>6.3</td>\n",
       "      <td>[' Business trip ', ' Couple ', ' Standard Dou...</td>\n",
       "      <td>203</td>\n",
       "      <td>51.521009</td>\n",
       "      <td>-0.123097</td>\n",
       "      <td>1</td>\n",
       "      <td>United Kingdom</td>\n",
       "      <td>2017</td>\n",
       "      <td>3</td>\n",
       "      <td>1</td>\n",
       "    </tr>\n",
       "  </tbody>\n",
       "</table>\n",
       "</div>"
      ],
      "text/plain": [
       "   additional_number_of_scoring  average_score  \\\n",
       "0                           581            8.4   \n",
       "1                           299            8.3   \n",
       "\n",
       "                        hotel_name reviewer_nationality  negative_review  \\\n",
       "0               The May Fair Hotel      United Kingdom          Leaving    \n",
       "1  Mercure London Bloomsbury Hotel      United Kingdom    poor breakfast   \n",
       "\n",
       "   review_total_negative_word_counts  total_number_of_reviews  \\\n",
       "0                                  3                     1994   \n",
       "1                                  3                     1361   \n",
       "\n",
       "       positive_review  review_total_positive_word_counts  \\\n",
       "0   Staff were amazing                                  4   \n",
       "1             location                                  2   \n",
       "\n",
       "   total_number_of_reviews_reviewer_has_given  reviewer_score  \\\n",
       "0                                           7            10.0   \n",
       "1                                          14             6.3   \n",
       "\n",
       "                                                tags  days_since_review  \\\n",
       "0  [' Leisure trip ', ' Couple ', ' Studio Suite ...                531   \n",
       "1  [' Business trip ', ' Couple ', ' Standard Dou...                203   \n",
       "\n",
       "         lat       lng  train   hotel_country  year  day_of_week  quarter  \n",
       "0  51.507894 -0.143671      1  United Kingdom  2016            4        1  \n",
       "1  51.521009 -0.123097      1  United Kingdom  2017            3        1  "
      ]
     },
     "execution_count": 1237,
     "metadata": {},
     "output_type": "execute_result"
    }
   ],
   "source": [
    "data.head(2)"
   ]
  },
  {
   "cell_type": "markdown",
   "metadata": {},
   "source": [
    "Рассмотрим hotel_name."
   ]
  },
  {
   "cell_type": "code",
   "execution_count": 1238,
   "metadata": {},
   "outputs": [
    {
     "name": "stdout",
     "output_type": "stream",
     "text": [
      "0    The May Fair Hotel\n",
      "0        Hotel Da Vinci\n",
      "Name: hotel_name, dtype: object / 10000        Holiday Inn London Regent s Park\n",
      "10000    Appartement Hotel an der Riemergasse\n",
      "Name: hotel_name, dtype: object\n"
     ]
    }
   ],
   "source": [
    "print(data['hotel_name'][0],'/', data['hotel_name'][10000])"
   ]
  },
  {
   "cell_type": "markdown",
   "metadata": {},
   "source": [
    " предлагаю извлечь из него признаки royal, luxury, appart"
   ]
  },
  {
   "cell_type": "code",
   "execution_count": 1239,
   "metadata": {},
   "outputs": [],
   "source": [
    "data['royal'] = data['hotel_name'].apply(lambda x: 'royal' in x.lower())\n",
    "data['luxury'] = data['hotel_name'].apply(lambda x: 'luxury' in x.lower())\n",
    "data['appart'] = data['hotel_name'].apply(lambda x: 'appart' in x.lower())"
   ]
  },
  {
   "cell_type": "markdown",
   "metadata": {},
   "source": [
    "Попробуем закодировать бинарным способом"
   ]
  },
  {
   "cell_type": "code",
   "execution_count": 1240,
   "metadata": {},
   "outputs": [],
   "source": [
    "bin_encoder = ce.BinaryEncoder(cols=['hotel_name'])\n",
    "hotel_name = bin_encoder.fit_transform(data['hotel_name'])\n",
    "data = pd.concat([data, hotel_name], axis=1)"
   ]
  },
  {
   "cell_type": "markdown",
   "metadata": {},
   "source": [
    "Удаляем изначальный признак hotel_name"
   ]
  },
  {
   "cell_type": "code",
   "execution_count": 1241,
   "metadata": {},
   "outputs": [
    {
     "data": {
      "text/html": [
       "<div>\n",
       "<style scoped>\n",
       "    .dataframe tbody tr th:only-of-type {\n",
       "        vertical-align: middle;\n",
       "    }\n",
       "\n",
       "    .dataframe tbody tr th {\n",
       "        vertical-align: top;\n",
       "    }\n",
       "\n",
       "    .dataframe thead th {\n",
       "        text-align: right;\n",
       "    }\n",
       "</style>\n",
       "<table border=\"1\" class=\"dataframe\">\n",
       "  <thead>\n",
       "    <tr style=\"text-align: right;\">\n",
       "      <th></th>\n",
       "      <th>additional_number_of_scoring</th>\n",
       "      <th>average_score</th>\n",
       "      <th>reviewer_nationality</th>\n",
       "      <th>negative_review</th>\n",
       "      <th>review_total_negative_word_counts</th>\n",
       "      <th>total_number_of_reviews</th>\n",
       "      <th>positive_review</th>\n",
       "      <th>review_total_positive_word_counts</th>\n",
       "      <th>total_number_of_reviews_reviewer_has_given</th>\n",
       "      <th>reviewer_score</th>\n",
       "      <th>...</th>\n",
       "      <th>hotel_name_1</th>\n",
       "      <th>hotel_name_2</th>\n",
       "      <th>hotel_name_3</th>\n",
       "      <th>hotel_name_4</th>\n",
       "      <th>hotel_name_5</th>\n",
       "      <th>hotel_name_6</th>\n",
       "      <th>hotel_name_7</th>\n",
       "      <th>hotel_name_8</th>\n",
       "      <th>hotel_name_9</th>\n",
       "      <th>hotel_name_10</th>\n",
       "    </tr>\n",
       "  </thead>\n",
       "  <tbody>\n",
       "    <tr>\n",
       "      <th>0</th>\n",
       "      <td>581</td>\n",
       "      <td>8.4</td>\n",
       "      <td>United Kingdom</td>\n",
       "      <td>Leaving</td>\n",
       "      <td>3</td>\n",
       "      <td>1994</td>\n",
       "      <td>Staff were amazing</td>\n",
       "      <td>4</td>\n",
       "      <td>7</td>\n",
       "      <td>10.0</td>\n",
       "      <td>...</td>\n",
       "      <td>0</td>\n",
       "      <td>0</td>\n",
       "      <td>0</td>\n",
       "      <td>0</td>\n",
       "      <td>0</td>\n",
       "      <td>0</td>\n",
       "      <td>0</td>\n",
       "      <td>0</td>\n",
       "      <td>0</td>\n",
       "      <td>1</td>\n",
       "    </tr>\n",
       "    <tr>\n",
       "      <th>1</th>\n",
       "      <td>299</td>\n",
       "      <td>8.3</td>\n",
       "      <td>United Kingdom</td>\n",
       "      <td>poor breakfast</td>\n",
       "      <td>3</td>\n",
       "      <td>1361</td>\n",
       "      <td>location</td>\n",
       "      <td>2</td>\n",
       "      <td>14</td>\n",
       "      <td>6.3</td>\n",
       "      <td>...</td>\n",
       "      <td>0</td>\n",
       "      <td>0</td>\n",
       "      <td>0</td>\n",
       "      <td>0</td>\n",
       "      <td>0</td>\n",
       "      <td>0</td>\n",
       "      <td>0</td>\n",
       "      <td>0</td>\n",
       "      <td>1</td>\n",
       "      <td>0</td>\n",
       "    </tr>\n",
       "    <tr>\n",
       "      <th>2</th>\n",
       "      <td>32</td>\n",
       "      <td>8.9</td>\n",
       "      <td>China</td>\n",
       "      <td>No kettle in room</td>\n",
       "      <td>6</td>\n",
       "      <td>406</td>\n",
       "      <td>No Positive</td>\n",
       "      <td>0</td>\n",
       "      <td>14</td>\n",
       "      <td>7.5</td>\n",
       "      <td>...</td>\n",
       "      <td>0</td>\n",
       "      <td>0</td>\n",
       "      <td>0</td>\n",
       "      <td>0</td>\n",
       "      <td>0</td>\n",
       "      <td>0</td>\n",
       "      <td>0</td>\n",
       "      <td>0</td>\n",
       "      <td>1</td>\n",
       "      <td>1</td>\n",
       "    </tr>\n",
       "    <tr>\n",
       "      <th>3</th>\n",
       "      <td>34</td>\n",
       "      <td>7.5</td>\n",
       "      <td>United Kingdom</td>\n",
       "      <td>No Negative</td>\n",
       "      <td>0</td>\n",
       "      <td>607</td>\n",
       "      <td>Friendly staff quiet comfortable room spotles...</td>\n",
       "      <td>11</td>\n",
       "      <td>8</td>\n",
       "      <td>10.0</td>\n",
       "      <td>...</td>\n",
       "      <td>0</td>\n",
       "      <td>0</td>\n",
       "      <td>0</td>\n",
       "      <td>0</td>\n",
       "      <td>0</td>\n",
       "      <td>0</td>\n",
       "      <td>0</td>\n",
       "      <td>1</td>\n",
       "      <td>0</td>\n",
       "      <td>0</td>\n",
       "    </tr>\n",
       "    <tr>\n",
       "      <th>4</th>\n",
       "      <td>914</td>\n",
       "      <td>8.5</td>\n",
       "      <td>Poland</td>\n",
       "      <td>Torn sheets</td>\n",
       "      <td>4</td>\n",
       "      <td>7586</td>\n",
       "      <td>The staff was very friendly and helpful Break...</td>\n",
       "      <td>20</td>\n",
       "      <td>10</td>\n",
       "      <td>9.6</td>\n",
       "      <td>...</td>\n",
       "      <td>0</td>\n",
       "      <td>0</td>\n",
       "      <td>0</td>\n",
       "      <td>0</td>\n",
       "      <td>0</td>\n",
       "      <td>0</td>\n",
       "      <td>0</td>\n",
       "      <td>1</td>\n",
       "      <td>0</td>\n",
       "      <td>1</td>\n",
       "    </tr>\n",
       "  </tbody>\n",
       "</table>\n",
       "<p>5 rows × 33 columns</p>\n",
       "</div>"
      ],
      "text/plain": [
       "   additional_number_of_scoring  average_score reviewer_nationality  \\\n",
       "0                           581            8.4      United Kingdom    \n",
       "1                           299            8.3      United Kingdom    \n",
       "2                            32            8.9               China    \n",
       "3                            34            7.5      United Kingdom    \n",
       "4                           914            8.5              Poland    \n",
       "\n",
       "       negative_review  review_total_negative_word_counts  \\\n",
       "0             Leaving                                   3   \n",
       "1       poor breakfast                                  3   \n",
       "2   No kettle in room                                   6   \n",
       "3          No Negative                                  0   \n",
       "4         Torn sheets                                   4   \n",
       "\n",
       "   total_number_of_reviews                                    positive_review  \\\n",
       "0                     1994                                 Staff were amazing   \n",
       "1                     1361                                           location   \n",
       "2                      406                                        No Positive   \n",
       "3                      607   Friendly staff quiet comfortable room spotles...   \n",
       "4                     7586   The staff was very friendly and helpful Break...   \n",
       "\n",
       "   review_total_positive_word_counts  \\\n",
       "0                                  4   \n",
       "1                                  2   \n",
       "2                                  0   \n",
       "3                                 11   \n",
       "4                                 20   \n",
       "\n",
       "   total_number_of_reviews_reviewer_has_given  reviewer_score  ...  \\\n",
       "0                                           7            10.0  ...   \n",
       "1                                          14             6.3  ...   \n",
       "2                                          14             7.5  ...   \n",
       "3                                           8            10.0  ...   \n",
       "4                                          10             9.6  ...   \n",
       "\n",
       "  hotel_name_1  hotel_name_2  hotel_name_3  hotel_name_4  hotel_name_5  \\\n",
       "0            0             0             0             0             0   \n",
       "1            0             0             0             0             0   \n",
       "2            0             0             0             0             0   \n",
       "3            0             0             0             0             0   \n",
       "4            0             0             0             0             0   \n",
       "\n",
       "  hotel_name_6  hotel_name_7  hotel_name_8  hotel_name_9  hotel_name_10  \n",
       "0            0             0             0             0              1  \n",
       "1            0             0             0             1              0  \n",
       "2            0             0             0             1              1  \n",
       "3            0             0             1             0              0  \n",
       "4            0             0             1             0              1  \n",
       "\n",
       "[5 rows x 33 columns]"
      ]
     },
     "execution_count": 1241,
     "metadata": {},
     "output_type": "execute_result"
    }
   ],
   "source": [
    "data = data.drop(['hotel_name'], axis=1)\n",
    "data.head()"
   ]
  },
  {
   "cell_type": "markdown",
   "metadata": {},
   "source": [
    "Далее рассматриваем параметр reviewer_nationality."
   ]
  },
  {
   "cell_type": "code",
   "execution_count": 1242,
   "metadata": {},
   "outputs": [
    {
     "data": {
      "text/plain": [
       "array([' United Kingdom ', ' China ', ' Poland ', ' France ',\n",
       "       ' Switzerland ', ' Bulgaria ', ' Lebanon ',\n",
       "       ' United Arab Emirates ', ' South Africa ', ' Nigeria ',\n",
       "       ' Sweden ', ' United States of America ', ' Hong Kong ',\n",
       "       ' Luxembourg ', ' Netherlands ', ' Jersey ', ' Pakistan ',\n",
       "       ' Mexico ', ' Italy ', ' Singapore ', ' Ireland ', ' Kuwait ',\n",
       "       ' Bahrain ', ' Portugal ', ' Canada ', ' Germany ', ' Oman ',\n",
       "       ' Austria ', ' Japan ', ' Ukraine ', ' Finland ', ' Iran ',\n",
       "       ' Thailand ', ' Brazil ', ' Denmark ', ' Australia ', ' Spain ',\n",
       "       ' Gabon ', ' New Zealand ', ' Israel ', ' Cyprus ', ' Gibraltar ',\n",
       "       ' Turkey ', ' Egypt ', ' Indonesia ', ' Slovakia ', ' Qatar ',\n",
       "       ' Romania ', ' Belgium ', ' Trinidad and Tobago ', ' ',\n",
       "       ' Saudi Arabia ', ' Bhutan ', ' Iceland ', ' Norway ',\n",
       "       ' Sri Lanka ', ' Isle of Man ', ' Greece ', ' Slovenia ',\n",
       "       ' Serbia ', ' Czech Republic ', ' Hungary ', ' Latvia ',\n",
       "       ' Estonia ', ' South Korea ', ' Malaysia ', ' Malta ',\n",
       "       ' Bosnia and Herzegovina ', ' Jordan ', ' Chile ', ' India ',\n",
       "       ' Vietnam ', ' Puerto Rico ', ' Russia ', ' Colombia ',\n",
       "       ' Georgia ', ' Argentina ', ' Guernsey ', ' Kazakhstan ',\n",
       "       ' Brunei ', ' Croatia ', ' Lithuania ', ' Montenegro ',\n",
       "       ' Costa Rica ', ' Mauritius ', ' Fiji ', ' Philippines ',\n",
       "       ' Bermuda ', ' Peru ', ' Belarus ', ' Morocco ', ' Seychelles ',\n",
       "       ' Azerbaijan ', ' Venezuela ', ' Taiwan ', ' Sudan ', ' Ghana ',\n",
       "       ' Paraguay ', ' Bahamas ', ' Macedonia ', ' Monaco ', ' Panama ',\n",
       "       ' Dominica ', ' Guatemala ', ' Mauritania ', ' Ecuador ',\n",
       "       ' Kenya ', ' Iraq ', ' Bangladesh ', ' Zimbabwe ', ' Armenia ',\n",
       "       ' Tuvalu ', ' Kosovo ', ' Abkhazia Georgia ', ' Rwanda ',\n",
       "       ' Andorra ', ' United States Minor Outlying Islands ', ' Albania ',\n",
       "       ' Syria ', ' Namibia ', ' Libya ', ' Barbados ', ' Moldova ',\n",
       "       ' Bolivia ', ' Tanzania ', ' Faroe Islands ', ' Mali ',\n",
       "       ' Liechtenstein ', ' El Salvador ', ' Tunisia ', ' Algeria ',\n",
       "       ' Macau ', ' Mongolia ', ' Lesotho ', ' Madagascar ',\n",
       "       ' Nicaragua ', ' Zambia ', ' Papua New Guinea ', ' Ethiopia ',\n",
       "       ' Cayman Islands ', ' Ivory Coast ', ' Cura ao ', ' Senegal ',\n",
       "       ' U S Virgin Islands ', ' Saint Lucia ', ' Antarctica ',\n",
       "       ' Jamaica ', ' Belize ', ' Angola ', ' Myanmar ', ' Burundi ',\n",
       "       ' Honduras ', ' Maldives ', ' Uganda ', ' Aruba ', ' Yemen ',\n",
       "       ' Uruguay ', ' Benin ', ' Palestinian Territory ', ' Gambia ',\n",
       "       ' Botswana ', ' French Polynesia ', ' Suriname ', ' Malawi ',\n",
       "       ' Anguilla ', ' Comoros ', ' Niger ', ' Djibouti ', ' Mozambique ',\n",
       "       ' Guinea ', ' Falkland Islands Malvinas ', ' Togo ',\n",
       "       ' Turks Caicos Islands ', ' Cambodia ', ' Saint Kitts and Nevis ',\n",
       "       ' Dominican Republic ', ' Turkmenistan ', ' Laos ',\n",
       "       ' Cook Islands ', ' Crimea ', ' Congo ', ' Liberia ',\n",
       "       ' Uzbekistan ', ' St Maarten ', ' Kyrgyzstan ',\n",
       "       ' British Virgin Islands ', ' Martinique ', ' Montserrat ',\n",
       "       ' Guam ', ' Equatorial Guinea ', ' Nepal ', ' Antigua Barbuda ',\n",
       "       ' Tajikistan ', ' St Pierre and Miquelon ', ' Guadeloupe ',\n",
       "       ' New Caledonia ', ' Cocos K I ', ' Wallis and Futuna ', ' Haiti ',\n",
       "       ' Sierra Leone ', ' Swaziland ', ' Saint Martin ', ' Vanuatu ',\n",
       "       ' Saint Vincent Grenadines ', ' French Guiana ', ' Afghanistan ',\n",
       "       ' Samoa ', ' Guyana ', ' South Sudan ', ' Kiribati ', ' Reunion ',\n",
       "       ' Bonaire St Eustatius and Saba ', ' Somalia ',\n",
       "       ' Democratic Republic of the Congo ', ' Eritrea ', ' San Marino ',\n",
       "       ' Cameroon ', ' East Timor ', ' Svalbard Jan Mayen ',\n",
       "       ' American Samoa ', ' Northern Mariana Islands ', ' Saint Barts ',\n",
       "       ' Central Africa Republic ', ' Palau ', ' Grenada ',\n",
       "       ' Vatican City ', ' Cape Verde '], dtype=object)"
      ]
     },
     "execution_count": 1242,
     "metadata": {},
     "output_type": "execute_result"
    }
   ],
   "source": [
    "data['reviewer_nationality'].unique()"
   ]
  },
  {
   "cell_type": "markdown",
   "metadata": {},
   "source": [
    "Врядли имеет смысл рассматривать все эти страны. Предлагаю Сократить до количества стран равного количеству стран hotel_country. \n",
    "\n",
    "Далее предлагаю одинаково закодировать оба признака и ввести признак совпадения hotel_country reviewer_nationality. Есть вероятность, что признак будет влиять на оценку отеля."
   ]
  },
  {
   "cell_type": "code",
   "execution_count": 1243,
   "metadata": {},
   "outputs": [
    {
     "data": {
      "text/plain": [
       "array(['United Kingdom', 'other', 'France', 'Netherlands', 'Italy',\n",
       "       'Austria', 'Spain'], dtype=object)"
      ]
     },
     "metadata": {},
     "output_type": "display_data"
    }
   ],
   "source": [
    "countries_dict = {'United Kingdom':1, 'France':2, 'Netherlands':3, 'Italy':4, 'Austria':5, 'Spain':6, 'other':7}\n",
    "\n",
    "data['reviewer_nationality'] = data['reviewer_nationality'].apply(lambda x: x.strip())\n",
    "data['reviewer_nationality'] = data['reviewer_nationality'].apply(lambda x: x if x in countries_dict.keys() else 'other')\n",
    "display(data['reviewer_nationality'].unique())\n"
   ]
  },
  {
   "cell_type": "code",
   "execution_count": 1244,
   "metadata": {},
   "outputs": [],
   "source": [
    "# создаем объект OrdinalEncoder, col - имя столбца, mapping - словарь с описанием кодировки\n",
    "ord_encoder = ce.OrdinalEncoder(mapping=[{\n",
    "\t'col': 'reviewer_nationality',\n",
    "\t'mapping': countries_dict\n",
    "}])\n",
    "# применяем трансформацию к столбцу reviewer_nationality\n",
    "data_bin = ord_encoder.fit_transform(data['reviewer_nationality'])\n",
    "# добавляем результат к исходному DataFrame\n",
    "data['reviewer_nationality']=data_bin\n",
    "\n",
    "\n",
    "ord_encoder = ce.OrdinalEncoder(mapping=[{\n",
    "\t'col': 'hotel_country',\n",
    "\t'mapping': countries_dict\n",
    "}])\n",
    "# применяем трансформацию к столбцу\n",
    "data_bin = ord_encoder.fit_transform(data['hotel_country'])\n",
    "# добавляем результат к исходному DataFrame\n",
    "data['hotel_country']=data_bin\n"
   ]
  },
  {
   "cell_type": "code",
   "execution_count": 1245,
   "metadata": {},
   "outputs": [],
   "source": [
    "data['hotel_country_is_reviewer_nationality'] = data['reviewer_nationality'] == data['hotel_country']"
   ]
  },
  {
   "cell_type": "code",
   "execution_count": 1246,
   "metadata": {},
   "outputs": [
    {
     "data": {
      "text/html": [
       "<div>\n",
       "<style scoped>\n",
       "    .dataframe tbody tr th:only-of-type {\n",
       "        vertical-align: middle;\n",
       "    }\n",
       "\n",
       "    .dataframe tbody tr th {\n",
       "        vertical-align: top;\n",
       "    }\n",
       "\n",
       "    .dataframe thead th {\n",
       "        text-align: right;\n",
       "    }\n",
       "</style>\n",
       "<table border=\"1\" class=\"dataframe\">\n",
       "  <thead>\n",
       "    <tr style=\"text-align: right;\">\n",
       "      <th></th>\n",
       "      <th>additional_number_of_scoring</th>\n",
       "      <th>average_score</th>\n",
       "      <th>reviewer_nationality</th>\n",
       "      <th>negative_review</th>\n",
       "      <th>review_total_negative_word_counts</th>\n",
       "      <th>total_number_of_reviews</th>\n",
       "      <th>positive_review</th>\n",
       "      <th>review_total_positive_word_counts</th>\n",
       "      <th>total_number_of_reviews_reviewer_has_given</th>\n",
       "      <th>reviewer_score</th>\n",
       "      <th>...</th>\n",
       "      <th>hotel_name_2</th>\n",
       "      <th>hotel_name_3</th>\n",
       "      <th>hotel_name_4</th>\n",
       "      <th>hotel_name_5</th>\n",
       "      <th>hotel_name_6</th>\n",
       "      <th>hotel_name_7</th>\n",
       "      <th>hotel_name_8</th>\n",
       "      <th>hotel_name_9</th>\n",
       "      <th>hotel_name_10</th>\n",
       "      <th>hotel_country_is_reviewer_nationality</th>\n",
       "    </tr>\n",
       "  </thead>\n",
       "  <tbody>\n",
       "    <tr>\n",
       "      <th>0</th>\n",
       "      <td>581</td>\n",
       "      <td>8.4</td>\n",
       "      <td>1</td>\n",
       "      <td>Leaving</td>\n",
       "      <td>3</td>\n",
       "      <td>1994</td>\n",
       "      <td>Staff were amazing</td>\n",
       "      <td>4</td>\n",
       "      <td>7</td>\n",
       "      <td>10.0</td>\n",
       "      <td>...</td>\n",
       "      <td>0</td>\n",
       "      <td>0</td>\n",
       "      <td>0</td>\n",
       "      <td>0</td>\n",
       "      <td>0</td>\n",
       "      <td>0</td>\n",
       "      <td>0</td>\n",
       "      <td>0</td>\n",
       "      <td>1</td>\n",
       "      <td>True</td>\n",
       "    </tr>\n",
       "    <tr>\n",
       "      <th>1</th>\n",
       "      <td>299</td>\n",
       "      <td>8.3</td>\n",
       "      <td>1</td>\n",
       "      <td>poor breakfast</td>\n",
       "      <td>3</td>\n",
       "      <td>1361</td>\n",
       "      <td>location</td>\n",
       "      <td>2</td>\n",
       "      <td>14</td>\n",
       "      <td>6.3</td>\n",
       "      <td>...</td>\n",
       "      <td>0</td>\n",
       "      <td>0</td>\n",
       "      <td>0</td>\n",
       "      <td>0</td>\n",
       "      <td>0</td>\n",
       "      <td>0</td>\n",
       "      <td>0</td>\n",
       "      <td>1</td>\n",
       "      <td>0</td>\n",
       "      <td>True</td>\n",
       "    </tr>\n",
       "    <tr>\n",
       "      <th>2</th>\n",
       "      <td>32</td>\n",
       "      <td>8.9</td>\n",
       "      <td>7</td>\n",
       "      <td>No kettle in room</td>\n",
       "      <td>6</td>\n",
       "      <td>406</td>\n",
       "      <td>No Positive</td>\n",
       "      <td>0</td>\n",
       "      <td>14</td>\n",
       "      <td>7.5</td>\n",
       "      <td>...</td>\n",
       "      <td>0</td>\n",
       "      <td>0</td>\n",
       "      <td>0</td>\n",
       "      <td>0</td>\n",
       "      <td>0</td>\n",
       "      <td>0</td>\n",
       "      <td>0</td>\n",
       "      <td>1</td>\n",
       "      <td>1</td>\n",
       "      <td>False</td>\n",
       "    </tr>\n",
       "  </tbody>\n",
       "</table>\n",
       "<p>3 rows × 34 columns</p>\n",
       "</div>"
      ],
      "text/plain": [
       "   additional_number_of_scoring  average_score  reviewer_nationality  \\\n",
       "0                           581            8.4                     1   \n",
       "1                           299            8.3                     1   \n",
       "2                            32            8.9                     7   \n",
       "\n",
       "       negative_review  review_total_negative_word_counts  \\\n",
       "0             Leaving                                   3   \n",
       "1       poor breakfast                                  3   \n",
       "2   No kettle in room                                   6   \n",
       "\n",
       "   total_number_of_reviews      positive_review  \\\n",
       "0                     1994   Staff were amazing   \n",
       "1                     1361             location   \n",
       "2                      406          No Positive   \n",
       "\n",
       "   review_total_positive_word_counts  \\\n",
       "0                                  4   \n",
       "1                                  2   \n",
       "2                                  0   \n",
       "\n",
       "   total_number_of_reviews_reviewer_has_given  reviewer_score  ...  \\\n",
       "0                                           7            10.0  ...   \n",
       "1                                          14             6.3  ...   \n",
       "2                                          14             7.5  ...   \n",
       "\n",
       "  hotel_name_2  hotel_name_3  hotel_name_4  hotel_name_5  hotel_name_6  \\\n",
       "0            0             0             0             0             0   \n",
       "1            0             0             0             0             0   \n",
       "2            0             0             0             0             0   \n",
       "\n",
       "   hotel_name_7  hotel_name_8  hotel_name_9  hotel_name_10  \\\n",
       "0             0             0             0              1   \n",
       "1             0             0             1              0   \n",
       "2             0             0             1              1   \n",
       "\n",
       "   hotel_country_is_reviewer_nationality  \n",
       "0                                   True  \n",
       "1                                   True  \n",
       "2                                  False  \n",
       "\n",
       "[3 rows x 34 columns]"
      ]
     },
     "execution_count": 1246,
     "metadata": {},
     "output_type": "execute_result"
    }
   ],
   "source": [
    "data.head(3)"
   ]
  },
  {
   "cell_type": "markdown",
   "metadata": {},
   "source": [
    "Рассмотрим negative_review. Его имеет смысл рассматривать вместе с positive_review."
   ]
  },
  {
   "cell_type": "code",
   "execution_count": 1247,
   "metadata": {},
   "outputs": [
    {
     "name": "stdout",
     "output_type": "stream",
     "text": [
      "330011 412601\n"
     ]
    }
   ],
   "source": [
    "print(len(data['negative_review'].unique()), len(data['positive_review'].unique()))"
   ]
  },
  {
   "cell_type": "markdown",
   "metadata": {},
   "source": [
    "Одтинаковых отзывов слишком мало. Предлагаю извлечь из отзывов упоминание персонала и создать два признака: negative_stuff и positive_stuff, is_awful, is_great, negative_clean, positive_clean"
   ]
  },
  {
   "cell_type": "code",
   "execution_count": 1248,
   "metadata": {},
   "outputs": [],
   "source": [
    "data['negative_stuff'] = data['negative_review'].apply(lambda x: 1 if 'stuff' in x.lower() else 0)\n",
    "data['positive_stuff'] = data['positive_review'].apply(lambda x: 1 if 'stuff' in x.lower() else 0)\n",
    "\n",
    "data['is_awful'] = data['negative_review'].apply(lambda x: x.lower().count('awful') if 'awful' in x.lower() else 0)\n",
    "data['is_great'] = data['positive_review'].apply(lambda x: x.lower().count('great') if 'awful' in x.lower() else 0)\n",
    "\n",
    "\n",
    "data['negative_clean'] = data['negative_review'].apply(lambda x: 1 if 'clean' in x.lower() else 0)\n",
    "data['positive_clean'] = data['positive_review'].apply(lambda x: 1 if 'clean' in x.lower() else 0)"
   ]
  },
  {
   "cell_type": "code",
   "execution_count": 1249,
   "metadata": {},
   "outputs": [
    {
     "name": "stderr",
     "output_type": "stream",
     "text": [
      "[nltk_data] Downloading package vader_lexicon to\n",
      "[nltk_data]     C:\\Users\\zhigu\\AppData\\Roaming\\nltk_data...\n",
      "[nltk_data]   Package vader_lexicon is already up-to-date!\n"
     ]
    }
   ],
   "source": [
    "nltk.downloader.download('vader_lexicon')\n",
    "\n",
    "sent_analyzer = SentimentIntensityAnalyzer()"
   ]
  },
  {
   "cell_type": "code",
   "execution_count": 1250,
   "metadata": {},
   "outputs": [],
   "source": [
    "data['negative_review_neg'] = data['negative_review'].apply(lambda x: sent_analyzer.polarity_scores(x)['neg'])\n",
    "data['negative_review_pos'] = data['negative_review'].apply(lambda x: sent_analyzer.polarity_scores(x)['pos'])\n",
    "\n",
    "data['positive_review_neg'] = data['positive_review'].apply(lambda x: sent_analyzer.polarity_scores(x)['neg'])\n",
    "data['positive_review_pos'] = data['positive_review'].apply(lambda x: sent_analyzer.polarity_scores(x)['pos'])"
   ]
  },
  {
   "cell_type": "code",
   "execution_count": 1251,
   "metadata": {},
   "outputs": [
    {
     "data": {
      "text/plain": [
       "np.int64(2450)"
      ]
     },
     "metadata": {},
     "output_type": "display_data"
    },
    {
     "data": {
      "text/plain": [
       "np.int64(3190)"
      ]
     },
     "metadata": {},
     "output_type": "display_data"
    },
    {
     "data": {
      "text/plain": [
       "np.int64(2467)"
      ]
     },
     "metadata": {},
     "output_type": "display_data"
    },
    {
     "data": {
      "text/plain": [
       "np.int64(30)"
      ]
     },
     "metadata": {},
     "output_type": "display_data"
    },
    {
     "data": {
      "text/plain": [
       "np.int64(17566)"
      ]
     },
     "metadata": {},
     "output_type": "display_data"
    },
    {
     "data": {
      "text/plain": [
       "np.int64(74193)"
      ]
     },
     "metadata": {},
     "output_type": "display_data"
    }
   ],
   "source": [
    "display(data['negative_stuff'].sum(), data['positive_stuff'].sum(),\n",
    "        data['is_awful'].sum(), data['is_great'].sum(),\n",
    "        data['negative_clean'].sum(), data['positive_clean'].sum())"
   ]
  },
  {
   "cell_type": "markdown",
   "metadata": {},
   "source": [
    "не слишком много, но можно попробовать. Удаляем столбцы отзывов."
   ]
  },
  {
   "cell_type": "code",
   "execution_count": 1252,
   "metadata": {},
   "outputs": [
    {
     "name": "stdout",
     "output_type": "stream",
     "text": [
      "<class 'pandas.core.frame.DataFrame'>\n",
      "Index: 515431 entries, 0 to 128934\n",
      "Data columns (total 42 columns):\n",
      " #   Column                                      Non-Null Count   Dtype  \n",
      "---  ------                                      --------------   -----  \n",
      " 0   additional_number_of_scoring                515431 non-null  int64  \n",
      " 1   average_score                               515431 non-null  float64\n",
      " 2   reviewer_nationality                        515431 non-null  int64  \n",
      " 3   review_total_negative_word_counts           515431 non-null  int64  \n",
      " 4   total_number_of_reviews                     515431 non-null  int64  \n",
      " 5   review_total_positive_word_counts           515431 non-null  int64  \n",
      " 6   total_number_of_reviews_reviewer_has_given  515431 non-null  int64  \n",
      " 7   reviewer_score                              515431 non-null  float64\n",
      " 8   tags                                        515431 non-null  object \n",
      " 9   days_since_review                           515431 non-null  int64  \n",
      " 10  lat                                         515431 non-null  float64\n",
      " 11  lng                                         515431 non-null  float64\n",
      " 12  train                                       515431 non-null  int64  \n",
      " 13  hotel_country                               515431 non-null  int64  \n",
      " 14  year                                        515431 non-null  int32  \n",
      " 15  day_of_week                                 515431 non-null  int32  \n",
      " 16  quarter                                     515431 non-null  int32  \n",
      " 17  royal                                       515431 non-null  bool   \n",
      " 18  luxury                                      515431 non-null  bool   \n",
      " 19  appart                                      515431 non-null  bool   \n",
      " 20  hotel_name_0                                515431 non-null  int64  \n",
      " 21  hotel_name_1                                515431 non-null  int64  \n",
      " 22  hotel_name_2                                515431 non-null  int64  \n",
      " 23  hotel_name_3                                515431 non-null  int64  \n",
      " 24  hotel_name_4                                515431 non-null  int64  \n",
      " 25  hotel_name_5                                515431 non-null  int64  \n",
      " 26  hotel_name_6                                515431 non-null  int64  \n",
      " 27  hotel_name_7                                515431 non-null  int64  \n",
      " 28  hotel_name_8                                515431 non-null  int64  \n",
      " 29  hotel_name_9                                515431 non-null  int64  \n",
      " 30  hotel_name_10                               515431 non-null  int64  \n",
      " 31  hotel_country_is_reviewer_nationality       515431 non-null  bool   \n",
      " 32  negative_stuff                              515431 non-null  int64  \n",
      " 33  positive_stuff                              515431 non-null  int64  \n",
      " 34  is_awful                                    515431 non-null  int64  \n",
      " 35  is_great                                    515431 non-null  int64  \n",
      " 36  negative_clean                              515431 non-null  int64  \n",
      " 37  positive_clean                              515431 non-null  int64  \n",
      " 38  negative_review_neg                         515431 non-null  float64\n",
      " 39  negative_review_pos                         515431 non-null  float64\n",
      " 40  positive_review_neg                         515431 non-null  float64\n",
      " 41  positive_review_pos                         515431 non-null  float64\n",
      "dtypes: bool(4), float64(8), int32(3), int64(26), object(1)\n",
      "memory usage: 165.6+ MB\n"
     ]
    }
   ],
   "source": [
    "data = data.drop(['negative_review', 'positive_review'], axis=1)\n",
    "data.info()"
   ]
  },
  {
   "cell_type": "markdown",
   "metadata": {},
   "source": [
    "Остается рвссмотреть тольго столбец tags."
   ]
  },
  {
   "cell_type": "code",
   "execution_count": 1253,
   "metadata": {},
   "outputs": [
    {
     "data": {
      "text/plain": [
       "str"
      ]
     },
     "execution_count": 1253,
     "metadata": {},
     "output_type": "execute_result"
    }
   ],
   "source": [
    "type(data['tags'].iloc[1])"
   ]
  },
  {
   "cell_type": "code",
   "execution_count": 1254,
   "metadata": {},
   "outputs": [
    {
     "data": {
      "text/plain": [
       "[('Leisure trip', 417538),\n",
       " ('Submitted from a mobile device', 307470),\n",
       " ('Couple', 252128),\n",
       " ('Stayed 1 night', 193568),\n",
       " ('Stayed 2 nights', 133850),\n",
       " ('Solo traveler', 108476),\n",
       " ('Stayed 3 nights', 95761),\n",
       " ('Business trip', 82884),\n",
       " ('Group', 65361),\n",
       " ('Family with young children', 60989)]"
      ]
     },
     "execution_count": 1254,
     "metadata": {},
     "output_type": "execute_result"
    }
   ],
   "source": [
    "tags = data['tags']\n",
    "tag_count =[]\n",
    "for tag in range(len(tags)):\n",
    "    tag_count += data['tags'].iloc[tag].strip(\"[' \").strip(\" ']\").split(\" ', ' \")\n",
    "    \n",
    "Counter(tag_count).most_common(10)"
   ]
  },
  {
   "cell_type": "markdown",
   "metadata": {},
   "source": [
    "Предлагаю взять наиболее популярные 7 признаков и добавить соответствующие столбцы в таблицу (Признаик о пребывании обработаем по-другому). Также предлагаю добавить столбец stayed (пребывание)."
   ]
  },
  {
   "cell_type": "code",
   "execution_count": 1255,
   "metadata": {},
   "outputs": [],
   "source": [
    "tag_common = ['Leisure trip', 'Submitted from a mobile device', \n",
    "              'Couple', 'Solo traveler', 'Business trip', 'Group', \n",
    "              'Family with young children']\n",
    "\n",
    "for tag in tag_common:\n",
    "    data[tag] = data['tags'].apply(lambda x: tag in x)"
   ]
  },
  {
   "cell_type": "markdown",
   "metadata": {},
   "source": [
    "Также предлагаю добавить столбец stayed (пребывание). Количество ночей."
   ]
  },
  {
   "cell_type": "code",
   "execution_count": 1256,
   "metadata": {},
   "outputs": [
    {
     "data": {
      "text/plain": [
       "{'Stayed 1 night',\n",
       " 'Stayed 10 nights',\n",
       " 'Stayed 11 nights',\n",
       " 'Stayed 12 nights',\n",
       " 'Stayed 13 nights',\n",
       " 'Stayed 14 nights',\n",
       " 'Stayed 15 nights',\n",
       " 'Stayed 16 nights',\n",
       " 'Stayed 17 nights',\n",
       " 'Stayed 18 nights',\n",
       " 'Stayed 19 nights',\n",
       " 'Stayed 2 nights',\n",
       " 'Stayed 20 nights',\n",
       " 'Stayed 21 nights',\n",
       " 'Stayed 22 nights',\n",
       " 'Stayed 23 nights',\n",
       " 'Stayed 24 nights',\n",
       " 'Stayed 25 nights',\n",
       " 'Stayed 26 nights',\n",
       " 'Stayed 27 nights',\n",
       " 'Stayed 28 nights',\n",
       " 'Stayed 29 nights',\n",
       " 'Stayed 3 nights',\n",
       " 'Stayed 30 nights',\n",
       " 'Stayed 31 nights',\n",
       " 'Stayed 4 nights',\n",
       " 'Stayed 5 nights',\n",
       " 'Stayed 6 nights',\n",
       " 'Stayed 7 nights',\n",
       " 'Stayed 8 nights',\n",
       " 'Stayed 9 nights'}"
      ]
     },
     "execution_count": 1256,
     "metadata": {},
     "output_type": "execute_result"
    }
   ],
   "source": [
    "stayed =[]\n",
    "for tag in tag_count:\n",
    "    if 'Stayed' in tag:\n",
    "       stayed.append(tag)\n",
    "       \n",
    "set(stayed)"
   ]
  },
  {
   "cell_type": "code",
   "execution_count": 1257,
   "metadata": {},
   "outputs": [],
   "source": [
    "def stayed_parse(x):\n",
    "    x = x.replace('Stayed ', '')\n",
    "    if x[1] ==' ':\n",
    "        x = x[0]\n",
    "    else:\n",
    "        x = x[:2] \n",
    "    return int(x)"
   ]
  },
  {
   "cell_type": "code",
   "execution_count": 1258,
   "metadata": {},
   "outputs": [],
   "source": [
    "data['stayed'] = data['tags'].\\\n",
    "apply(lambda x: re.search(r'Stayed \\d.', x).group() if re.search(r'Stayed \\d.', x) else '00')\n",
    "data['stayed'] = data['stayed'].apply(stayed_parse)"
   ]
  },
  {
   "cell_type": "code",
   "execution_count": 1259,
   "metadata": {},
   "outputs": [
    {
     "data": {
      "text/plain": [
       "array([ 2,  1,  3,  6,  4,  5,  8,  7, 10, 14, 19, 13,  9, 17, 11,  0, 27,\n",
       "       12, 15, 21, 18, 16, 26, 24, 30, 22, 23, 28, 20, 25, 29, 31])"
      ]
     },
     "execution_count": 1259,
     "metadata": {},
     "output_type": "execute_result"
    }
   ],
   "source": [
    "data['stayed'].unique()"
   ]
  },
  {
   "cell_type": "code",
   "execution_count": 1260,
   "metadata": {},
   "outputs": [],
   "source": [
    "data = data.drop('tags', axis = 1) "
   ]
  },
  {
   "cell_type": "markdown",
   "metadata": {},
   "source": [
    "#### 2.3 Отбор признаков"
   ]
  },
  {
   "cell_type": "code",
   "execution_count": 1261,
   "metadata": {},
   "outputs": [
    {
     "data": {
      "application/vnd.plotly.v1+json": {
       "config": {
        "plotlyServerURL": "https://plot.ly"
       },
       "data": [
        {
         "coloraxis": "coloraxis",
         "hovertemplate": "x: %{x}<br>y: %{y}<br>color: %{z}<extra></extra>",
         "name": "0",
         "texttemplate": "%{z}",
         "type": "heatmap",
         "x": [
          "additional_number_of_scoring",
          "average_score",
          "reviewer_nationality",
          "review_total_negative_word_counts",
          "total_number_of_reviews",
          "review_total_positive_word_counts",
          "total_number_of_reviews_reviewer_has_given",
          "reviewer_score",
          "days_since_review",
          "lat",
          "lng",
          "train",
          "hotel_country",
          "year",
          "day_of_week",
          "quarter",
          "royal",
          "luxury",
          "appart",
          "hotel_name_0",
          "hotel_name_1",
          "hotel_name_2",
          "hotel_name_3",
          "hotel_name_4",
          "hotel_name_5",
          "hotel_name_6",
          "hotel_name_7",
          "hotel_name_8",
          "hotel_name_9",
          "hotel_name_10",
          "hotel_country_is_reviewer_nationality",
          "negative_stuff",
          "positive_stuff",
          "is_awful",
          "is_great",
          "negative_clean",
          "positive_clean",
          "negative_review_neg",
          "negative_review_pos",
          "positive_review_neg",
          "positive_review_pos",
          "Leisure trip",
          "Submitted from a mobile device",
          "Couple",
          "Solo traveler",
          "Business trip",
          "Group",
          "Family with young children",
          "stayed"
         ],
         "xaxis": "x",
         "y": [
          "additional_number_of_scoring",
          "average_score",
          "reviewer_nationality",
          "review_total_negative_word_counts",
          "total_number_of_reviews",
          "review_total_positive_word_counts",
          "total_number_of_reviews_reviewer_has_given",
          "reviewer_score",
          "days_since_review",
          "lat",
          "lng",
          "train",
          "hotel_country",
          "year",
          "day_of_week",
          "quarter",
          "royal",
          "luxury",
          "appart",
          "hotel_name_0",
          "hotel_name_1",
          "hotel_name_2",
          "hotel_name_3",
          "hotel_name_4",
          "hotel_name_5",
          "hotel_name_6",
          "hotel_name_7",
          "hotel_name_8",
          "hotel_name_9",
          "hotel_name_10",
          "hotel_country_is_reviewer_nationality",
          "negative_stuff",
          "positive_stuff",
          "is_awful",
          "is_great",
          "negative_clean",
          "positive_clean",
          "negative_review_neg",
          "negative_review_pos",
          "positive_review_neg",
          "positive_review_pos",
          "Leisure trip",
          "Submitted from a mobile device",
          "Couple",
          "Solo traveler",
          "Business trip",
          "Group",
          "Family with young children",
          "stayed"
         ],
         "yaxis": "y",
         "z": [
          [
           1,
           -0.15301238346709775,
           -0.20033550499086725,
           0.02919279477298855,
           0.8249040116879498,
           -0.0531327433380434,
           -0.07197102317779036,
           -0.018714146621716516,
           0.0119356085692101,
           0.33580338098878726,
           -0.2953963903836359,
           0.0007930087573645981,
           -0.36679490210231513,
           -0.004689680720846455,
           -0.011507638757648181,
           -0.01461433920440002,
           0.03046670035574689,
           -0.04186151903969422,
           -0.018569884342063765,
           -0.2602590870886949,
           -0.29478464400234894,
           -0.24895487100399605,
           -0.08518724988273824,
           -0.023474861819683734,
           0.02602581961778281,
           0.04365619800303591,
           -0.027317826609086385,
           -0.0030738400081265285,
           -0.07454723568944366,
           -0.06054228051425357,
           0.3241927942731388,
           -0.0008992150173587403,
           -0.02458646200532732,
           0.016632280602726823,
           -0.0017643529294122334,
           0.009763177372668042,
           -0.026952408812000946,
           -0.04053439763542883,
           0.0017646192184418831,
           0.03137216252991369,
           -0.013691972790493327,
           0.00017843058833286662,
           0.042671231057083966,
           0.011036818057900003,
           -0.006431365544346953,
           -0.004199735743110923,
           0.003683023567672921,
           -0.006752375413773096,
           -0.10923331963794258
          ],
          [
           -0.15301238346709775,
           1,
           0.03725005792323981,
           -0.11234653186631414,
           -0.1795541654085436,
           0.10672276939296178,
           0.03652908808797994,
           0.11368637895303231,
           -0.01396140530684884,
           -0.10859064794682383,
           0.10596565108224257,
           -0.0006590965416146883,
           0.12825693084352013,
           0.015493330785095946,
           -0.007753050689409149,
           -0.009048326909641927,
           -0.008206150103602415,
           0.054439938301396054,
           0.004111452086716945,
           0.04009274827612093,
           0.06054641409204891,
           0.050502847295788224,
           -0.007464499374388699,
           -0.017179057879804883,
           0.002086913489239577,
           0.026417340009932785,
           0.09079290601210692,
           0.012644689448094265,
           0.006458818792200861,
           0.025761535557330288,
           -0.060702067919439266,
           -0.017643755049165363,
           0.008033181339693333,
           -0.030123577238429712,
           -0.00020265305555971404,
           -0.06924333687805363,
           -0.0038426816159448235,
           0.10956415087108433,
           0.005944160734622623,
           -0.09190493193136808,
           0.04051620744889889,
           0.08228112189170304,
           0.004943303222921938,
           0.09452223973954448,
           -0.08258832095609304,
           -0.07177851500112857,
           -0.028151056944668046,
           -0.01046316680107324,
           0.013956378144899658
          ],
          [
           -0.20033550499086725,
           0.03725005792323981,
           1,
           -0.012922475520284384,
           -0.058613605710192224,
           0.010723108053852383,
           0.14793563258796402,
           -0.015378317435852315,
           -0.010722101385596101,
           -0.22397842865529502,
           0.28387436049072323,
           -0.001621528688249184,
           0.28132953027801777,
           -0.011209164831750308,
           0.04358353351224024,
           0.054962379202129125,
           0.0016508192237101606,
           0.02601916350165267,
           0.02764957354850753,
           0.09881505772803352,
           0.0816510862441859,
           0.04071363223497667,
           0.03129762235335759,
           0.009399833484573064,
           -0.0033943027497784083,
           -0.011504237032522086,
           0.007650704670200819,
           0.00047861787942857724,
           0.052545523451898175,
           -0.00010780959833283606,
           -0.701634113641636,
           0.015448472573455585,
           0.054201122855066224,
           -0.015179310260839919,
           0.0005297238590420291,
           0.02680158075727555,
           0.0017038077691357587,
           0.018097020337956963,
           -0.010654704217079976,
           0.015035967763000797,
           -0.04620369906266668,
           -0.05365189960737625,
           -0.07841127977511655,
           -0.143453107191474,
           0.09176795799187595,
           0.05569057494997821,
           -0.014203558109152905,
           0.09302924614469893,
           0.31434061712181544
          ],
          [
           0.02919279477298855,
           -0.11234653186631414,
           -0.012922475520284384,
           1,
           0.03511012347026508,
           0.11966409041883211,
           0.0032340020918348216,
           -0.12058079044288295,
           -0.04326083958854752,
           0.019060737509337136,
           -0.019944330085598063,
           -0.0000209797418998925,
           -0.017353621756294273,
           0.039719246584729556,
           -0.016327837737013656,
           -0.007340447685089001,
           0.00021071346501952241,
           -0.007991022053333852,
           -0.0017667788118551312,
           -0.015566695599920488,
           -0.009467507724407456,
           -0.00357628596179731,
           -0.0003862902435086275,
           -0.0015264361783919247,
           0.00228381492925618,
           -0.0030272781504629594,
           -0.011050333966177758,
           0.004467405619643345,
           -0.006724360654416026,
           -0.007175443401165069,
           0.009905884451548323,
           0.0890440929998113,
           -0.006581221003915361,
           0.09628339054252726,
           0.00370462681296616,
           0.200352526292614,
           0.03272658081397194,
           -0.35250166071512135,
           0.10643151886965903,
           0.06716917113054675,
           -0.05627269298677238,
           -0.006951399613607392,
           -0.08229159120608583,
           -0.00462856317392153,
           0.002690971532147622,
           0.0046308123136323265,
           -0.004541905961905946,
           0.011510376855004055,
           0.03800703046449612
          ],
          [
           0.8249040116879498,
           -0.1795541654085436,
           -0.058613605710192224,
           0.03511012347026508,
           1,
           -0.030145663805262596,
           -0.02491799533076993,
           -0.022767592840525118,
           0.007218383616246736,
           0.10019136454210364,
           -0.014169239370854759,
           0.00031383982457979935,
           -0.056995702786734756,
           -0.004213981601409995,
           0.0012420065153179599,
           -0.00504241170399688,
           0.03379240579523884,
           -0.05007237532262752,
           0.002996527989682629,
           -0.27217720893780234,
           -0.26145426958224977,
           -0.20253586681443153,
           -0.03073261369313749,
           -0.0643176654913931,
           0.03806579344737402,
           0.02519349728037156,
           -0.023970361280017862,
           0.027197715320969044,
           0.0015664721102337826,
           -0.053586526244678336,
           0.08280224300821727,
           0.0034514055987475358,
           -0.011261166686623626,
           0.01376908244147282,
           -0.001614429877480598,
           0.018552639043544907,
           0.003417819546069346,
           -0.037570937356780965,
           0.0011051921587267237,
           0.028862783399074644,
           -0.02247913615234204,
           0.013721918543624237,
           0.016504856553602395,
           -0.01419473074404228,
           -0.017296289697672367,
           -0.01504893338442184,
           0.02281949192067442,
           0.016913502737732792,
           -0.03505926325709821
          ],
          [
           -0.0531327433380434,
           0.10672276939296178,
           0.010723108053852383,
           0.11966409041883211,
           -0.030145663805262596,
           1,
           0.026533573706449463,
           0.06902143825783472,
           -0.04499381148725293,
           -0.037439984245438325,
           0.03534475614379297,
           0.00006524298405874477,
           0.05258649187728026,
           0.04867143431807527,
           -0.014555191151531926,
           -0.026089437395209816,
           -0.0031966249615534054,
           0.003018631471727224,
           -0.0004032790328976309,
           0.01381406251408294,
           0.016840604473059694,
           0.00987939966191034,
           0.006068115917112091,
           -0.005635256844016309,
           0.004049162300107778,
           -0.0020734401922980045,
           0.007606980328988353,
           0.004111880848674517,
           0.013016540435792626,
           0.010140140083032167,
           -0.050120015264104,
           0.003448475959017855,
           0.03987854560249683,
           -0.006383553344911136,
           0.027956077381073814,
           0.0036117225593983,
           0.1778901225770721,
           0.037713189115427384,
           0.06127175713576529,
           -0.16903542280146908,
           -0.20961930551591998,
           0.07619343381710046,
           -0.10813041643998635,
           0.03634699080088519,
           -0.040518024954399115,
           -0.07447271869229243,
           -0.00692485288104392,
           0.0006252952665915069,
           0.05470185953326399
          ],
          [
           -0.07197102317779036,
           0.03652908808797994,
           0.14793563258796402,
           0.0032340020918348216,
           -0.02491799533076993,
           0.026533573706449463,
           1,
           0.0023961371077789043,
           0.035088199591551614,
           -0.05955268691614298,
           0.11038323512532236,
           0.0017246985064367948,
           0.07940849054911123,
           -0.034578201344624755,
           0.016414245369168048,
           0.012337233092872062,
           -0.0075949330659848815,
           0.008587986196676754,
           0.013830551038505607,
           0.02333814725611007,
           0.020127649132743987,
           0.02078438305323383,
           0.011918631505962517,
           -0.0057128581128653684,
           0.0017798761801805982,
           -0.0024351849123035296,
           0.01147587946659752,
           -0.007223478279406356,
           0.015935993837246216,
           0.005690178656615315,
           -0.11886249087195078,
           0.0035805884778253774,
           0.010086810457914387,
           -0.005520390756345733,
           -0.0007981355280048408,
           -0.0008487435650029842,
           -0.011843061117530659,
           -0.015470916633281243,
           0.0005383571252822967,
           -0.04170109905379465,
           -0.026929891901145968,
           -0.11543995707721356,
           -0.13004462377981083,
           -0.04358627628260564,
           0.114711658885008,
           0.12955828149528734,
           -0.034448721004181566,
           -0.03310821812409544,
           -0.008980745512604997
          ],
          [
           -0.018714146621716516,
           0.11368637895303231,
           -0.015378317435852315,
           -0.12058079044288295,
           -0.022767592840525118,
           0.06902143825783472,
           0.0023961371077789043,
           1,
           0.00022523516928415398,
           -0.011056604860451463,
           0.010797597263172825,
           0.9318210862921948,
           0.015387347038062852,
           0.0034712524297163473,
           -0.0024857676892148187,
           -0.00961311592294663,
           -0.002487320443107499,
           0.005249116483508173,
           -0.0003991307803211776,
           0.002941033609534845,
           0.0068839603114211325,
           0.003879574145218948,
           -0.001213858150134423,
           -0.0004972594122879103,
           -0.0007537558205600273,
           0.002962277401588112,
           0.00857123760723425,
           0.0019921611307373585,
           0.0018848750202925103,
           0.005225327171263234,
           0.004287326752900172,
           -0.020935497849751322,
           0.005864692863176498,
           -0.028413791931227436,
           -0.002060714914412991,
           -0.055750663389868595,
           0.02726490691867385,
           0.08490148747198908,
           0.003987504790774231,
           -0.08543641323567029,
           0.028782222440282175,
           0.03977728274607778,
           0.005117100841174711,
           0.021880629674719054,
           -0.027912207540594407,
           -0.03803170105100758,
           0.004285230255765573,
           -0.005484210719426358,
           -0.0054146463637616965
          ],
          [
           0.0119356085692101,
           -0.01396140530684884,
           -0.010722101385596101,
           -0.04326083958854752,
           0.007218383616246736,
           -0.04499381148725293,
           0.035088199591551614,
           0.00022523516928415398,
           1,
           -0.0001484318618400046,
           -0.0009706347056553416,
           -0.0005482361695577032,
           -0.005268919430340148,
           -0.9172477988560909,
           0.05064368857987955,
           0.2008550398553391,
           0.0015219311737878346,
           0.0074890675353326275,
           0.00044165133461791046,
           -0.015693243236387468,
           -0.0073383503129914535,
           0.0019884927242714567,
           0.005644276764055991,
           0.006005674381261547,
           -0.008693823191033009,
           0.013213884656160843,
           -0.002345261842176785,
           -0.015514617707878922,
           -0.002247226340990839,
           0.005301589215231392,
           0.016446192450730767,
           -0.00595280007323202,
           -0.0029630976773028775,
           -0.0032989094393157826,
           -0.0009419829870780711,
           -0.014701748000341559,
           0.0031604351467490474,
           0.05611046254435133,
           -0.03146620767845942,
           -0.035428824556574784,
           0.0034627735520857197,
           -0.006348883539387667,
           -0.037507409474953984,
           0.0458592671288388,
           0.009570403067444395,
           0.011393678119916276,
           -0.03321157642554547,
           -0.1530191917161318,
           0.0022704491435044513
          ],
          [
           0.33580338098878726,
           -0.10859064794682383,
           -0.22397842865529502,
           0.019060737509337136,
           0.10019136454210364,
           -0.037439984245438325,
           -0.05955268691614298,
           -0.011056604860451463,
           -0.0001484318618400046,
           1,
           -0.3045392552511049,
           0.0005975742501779229,
           -0.8503605281186081,
           0.00991825662669135,
           -0.020719407378624214,
           -0.025866686818891253,
           0.0034675202374844904,
           -0.002192092564862295,
           -0.013426105686353792,
           -0.14237968844933258,
           -0.1534935657849675,
           -0.08308225713781847,
           -0.04094188093217809,
           0.014035522463781262,
           -0.014243951131847994,
           0.05519064943298807,
           -0.00011147106611525334,
           0.04880841472734794,
           -0.06528355048683275,
           -0.009650253818577278,
           0.3963261156890835,
           -0.0012281703634942963,
           -0.022821680944918776,
           0.004914469121743749,
           -0.0022735320211933648,
           -0.0014640043695496683,
           -0.0268372627091121,
           -0.030954171563959073,
           0.0007505871062330939,
           0.017369371623669135,
           0.004104291003307256,
           -0.04480263747021351,
           0.025469767874260387,
           0.020149220345402737,
           0.03810024909342282,
           0.03888642344601759,
           -0.014277118681766862,
           -0.0460000095772035,
           -0.17196887639257738
          ],
          [
           -0.2953963903836359,
           0.10596565108224257,
           0.28387436049072323,
           -0.019944330085598063,
           -0.014169239370854759,
           0.03534475614379297,
           0.11038323512532236,
           0.010797597263172825,
           -0.0009706347056553416,
           -0.3045392552511049,
           1,
           -0.00011928676801982055,
           0.6316677918246578,
           -0.00893638960425846,
           0.01457215467768706,
           0.02602146685846392,
           -0.04060552959312773,
           0.057907055731159326,
           0.10841823439051647,
           0.1028837614155954,
           0.13416181967224286,
           0.08875338736838202,
           0.030539164882549177,
           -0.023827982884982744,
           0.039920102688477684,
           -0.030094985517196943,
           0.039344357771968215,
           0.03167865754094398,
           0.07397309051445572,
           -0.007993156570275117,
           -0.4309260923629317,
           0.007654969061670132,
           0.030557674737533153,
           -0.00935530435898771,
           -0.0016345013562073197,
           0.00551081631372777,
           0.03103740132943023,
           0.032982117407893446,
           0.0019266197217141898,
           -0.009006410273040241,
           -0.007600206066934757,
           0.006799270199083318,
           -0.0598920656326242,
           -0.0242991221818903,
           -0.013579501036584092,
           -0.0006120373620435567,
           0.022607581320110395,
           0.025587952129583015,
           0.10640199222211626
          ],
          [
           0.0007930087573645981,
           -0.0006590965416146883,
           -0.001621528688249184,
           -0.0000209797418998925,
           0.00031383982457979935,
           0.00006524298405874477,
           0.0017246985064367948,
           0.9318210862921948,
           -0.0005482361695577032,
           0.0005975742501779229,
           -0.00011928676801982055,
           1,
           0.00009296246332498792,
           -0.000020593951038278156,
           0.00030999963797121127,
           0.0013565660324573211,
           -0.00035205309607329777,
           -0.00030007845573855373,
           -0.0009375281741168595,
           -0.0013844607912547892,
           -0.0006163992542535525,
           -0.0013327182006691394,
           0.0009170859203541776,
           0.0013145623572862484,
           -0.0009654732745659465,
           -0.001883226375816917,
           -0.0022662228173081648,
           0.0005748026930394619,
           0.00019522117704202235,
           0.0011402861062665287,
           0.0015135630007468732,
           -0.0019625400725017117,
           -0.000058369847777628965,
           -0.001294466702226185,
           -0.00169480371276808,
           -0.0007127325590354191,
           -0.00026327002979352536,
           -0.0006108815426029554,
           0.0009234116320534693,
           -0.0007003271713029792,
           -0.0015347849812645269,
           0.0029930909181139997,
           0.0004709967635167449,
           -0.00010943999332107518,
           -0.0019203058707020486,
           -0.0026410373786164934,
           0.0006198758247570816,
           0.0010733377636432601,
           -0.0008208293686729704
          ],
          [
           -0.36679490210231513,
           0.12825693084352013,
           0.28132953027801777,
           -0.017353621756294273,
           -0.056995702786734756,
           0.05258649187728026,
           0.07940849054911123,
           0.015387347038062852,
           -0.005268919430340148,
           -0.8503605281186081,
           0.6316677918246578,
           0.00009296246332498792,
           1,
           -0.005379974516288894,
           0.021168978471026084,
           0.025983630858831975,
           -0.0256025033490954,
           0.02048393417019036,
           0.05185848143230616,
           0.11093337670488318,
           0.15902179071147046,
           0.08385817479153658,
           0.040406007780691235,
           -0.011282822916890164,
           0.01849339717716106,
           -0.04568128682639259,
           0.011645337233780103,
           -0.03888910825336289,
           0.09600294030604863,
           0.02964154674963348,
           -0.5296714383244125,
           0.003596167942865352,
           0.02952646513041623,
           -0.007941528435218136,
           0.0012560232625934236,
           0.010614509613924837,
           0.03384444618719759,
           0.034444934494434504,
           0.00134628431720145,
           -0.01771744849393276,
           -0.0040908500260816655,
           0.05560202947841626,
           -0.040669990309552484,
           -0.01561814134824896,
           -0.04774571937038178,
           -0.04785613186540222,
           0.037650056905390514,
           0.033437892946948426,
           0.2056805061435481
          ],
          [
           -0.004689680720846455,
           0.015493330785095946,
           -0.011209164831750308,
           0.039719246584729556,
           -0.004213981601409995,
           0.04867143431807527,
           -0.034578201344624755,
           0.0034712524297163473,
           -0.9172477988560909,
           0.00991825662669135,
           -0.00893638960425846,
           -0.000020593951038278156,
           -0.005379974516288894,
           1,
           -0.04775326323072752,
           -0.560545369008065,
           0.0000658858659917819,
           -0.0061981791957994034,
           -0.0015676898564367632,
           0.00988087888633326,
           0.0030795770008169086,
           -0.0027418956618706692,
           -0.005013561799659086,
           -0.006903431664426547,
           0.0052640500042978565,
           -0.009329035935081772,
           0.00498783885297686,
           0.016285857444520904,
           0.0024946007732931383,
           -0.000488247812384898,
           0.0008952972963862772,
           0.005776828761518242,
           0.002566885996536231,
           0.003583013859799709,
           0.0007248101175730833,
           0.012929781361625236,
           0.0004284531108661755,
           -0.052620832214597756,
           0.030880552041054162,
           0.03153789340985207,
           0.001402041482746222,
           0.0026400082667258516,
           0.03221609638477995,
           -0.040139631037204346,
           -0.004225654533450913,
           -0.007708002364063238,
           0.027892321117013452,
           0.1311782195741014,
           -0.011237937229109827
          ],
          [
           -0.011507638757648181,
           -0.007753050689409149,
           0.04358353351224024,
           -0.016327837737013656,
           0.0012420065153179599,
           -0.014555191151531926,
           0.016414245369168048,
           -0.0024857676892148187,
           0.05064368857987955,
           -0.020719407378624214,
           0.01457215467768706,
           0.00030999963797121127,
           0.021168978471026084,
           -0.04775326323072752,
           1,
           0.020809677067276527,
           0.0024367545492692427,
           0.005699676120484839,
           0.002593864002060388,
           0.0017735836121095384,
           0.00628143668338729,
           -0.003416750480270777,
           0.004436270752428784,
           -0.003907316901914722,
           -0.006148949511592304,
           0.0017441764846610288,
           -0.0030420942884087495,
           -0.002319027928321409,
           0.002599728628061155,
           0.00041352195947408376,
           -0.03321809413558048,
           -0.00020184520351179862,
           0.0006658413473832353,
           -0.0017671103478945434,
           0.0008414214060466186,
           -0.0005981312743003034,
           -0.008115229357639787,
           0.0035123873929612213,
           -0.0050215650003041816,
           0.0020736574481014687,
           -0.0065547978938039425,
           -0.05874524097978536,
           0.10578693364880133,
           -0.03401180656850968,
           0.05581083105574576,
           0.057651546819109674,
           -0.028767445669449894,
           -0.002482761160401914,
           0.04110894338988938
          ],
          [
           -0.01461433920440002,
           -0.009048326909641927,
           0.054962379202129125,
           -0.007340447685089001,
           -0.00504241170399688,
           -0.026089437395209816,
           0.012337233092872062,
           -0.00961311592294663,
           0.2008550398553391,
           -0.025866686818891253,
           0.02602146685846392,
           0.0013565660324573211,
           0.025983630858831975,
           -0.560545369008065,
           0.020809677067276527,
           1,
           -0.004159296799954142,
           0.000045558787356138776,
           0.003036208156695074,
           0.008738978745082155,
           0.008732158174571382,
           0.0035184661581796335,
           0.0015988122549250555,
           0.0038244618236365885,
           0.0050360334439690044,
           -0.0039584385669399254,
           -0.006768190148639662,
           -0.00710270231073358,
           -0.0003436371328417933,
           -0.009582547842552868,
           -0.040259997112456175,
           -0.002488820146539643,
           -0.0004424642632143889,
           -0.0022347322014419843,
           0.0005597587800071354,
           0.00009188557964543096,
           -0.006920633367914124,
           0.014379268241674582,
           -0.011463293778228544,
           -0.005483348502940564,
           -0.011376904308789309,
           0.009268912255958555,
           -0.002743128478622682,
           0.0029508633108208393,
           -0.012072537007008418,
           -0.007355663703923916,
           -0.001639045935347979,
           -0.002828974512211398,
           0.027408333576904594
          ],
          [
           0.03046670035574689,
           -0.008206150103602415,
           0.0016508192237101606,
           0.00021071346501952241,
           0.03379240579523884,
           -0.0031966249615534054,
           -0.0075949330659848815,
           -0.002487320443107499,
           0.0015219311737878346,
           0.0034675202374844904,
           -0.04060552959312773,
           -0.00035205309607329777,
           -0.0256025033490954,
           0.0000658858659917819,
           0.0024367545492692427,
           -0.004159296799954142,
           1,
           -0.008481181257347049,
           -0.0052082726185275815,
           -0.0026283056994562725,
           -0.015739637373868697,
           -0.035596070529815504,
           0.07219347263378718,
           -0.042466239333844476,
           -0.08068712074801597,
           0.05549849641060576,
           0.0033526969502521826,
           -0.06632547720618354,
           -0.07145867375979978,
           -0.00549133457498908,
           0.017033400620206196,
           -0.0007407884853989255,
           -0.0007735356963423853,
           0.0009617752243148188,
           -0.0008968032364056112,
           0.0003131984471464088,
           -0.009256893294346825,
           -0.006555166886783133,
           0.0009128713384549307,
           0.003619147488867582,
           -0.0019537496165613066,
           0.0011502496479919148,
           0.004328701529370223,
           0.002669910718086729,
           -0.00009065114673333272,
           -0.0014127643538601152,
           -0.0062790242001843155,
           0.001273244060626741,
           0.00937563614700229
          ],
          [
           -0.04186151903969422,
           0.054439938301396054,
           0.02601916350165267,
           -0.007991022053333852,
           -0.05007237532262752,
           0.003018631471727224,
           0.008587986196676754,
           0.005249116483508173,
           0.0074890675353326275,
           -0.002192092564862295,
           0.057907055731159326,
           -0.00030007845573855373,
           0.02048393417019036,
           -0.0061981791957994034,
           0.005699676120484839,
           0.000045558787356138776,
           -0.008481181257347049,
           1,
           -0.0021796775574307297,
           0.011549821285141858,
           0.04207238727578526,
           -0.020024805294041235,
           -0.0031361014882043074,
           0.003894860260142248,
           -0.046627430794975264,
           0.006799569012831118,
           -0.015067467814413985,
           -0.005812675172717369,
           0.023493564381876355,
           0.03371401294965007,
           -0.025343492233037206,
           -0.0007912485072799211,
           0.0002989699381417713,
           -0.0016849089872494603,
           -0.00037531481759825106,
           -0.0050665408257281426,
           -0.01046514542993464,
           0.005854206364679482,
           0.002734084042103715,
           -0.0030919343504298897,
           -0.003177986479036017,
           0.0007692270539299472,
           0.005897118327044923,
           -0.00004823973605199584,
           -0.0013358929577852268,
           -0.00232619792019297,
           -0.0031596360293876464,
           0.0034696076781011768,
           0.019811846299263067
          ],
          [
           -0.018569884342063765,
           0.004111452086716945,
           0.02764957354850753,
           -0.0017667788118551312,
           0.002996527989682629,
           -0.0004032790328976309,
           0.013830551038505607,
           -0.0003991307803211776,
           0.00044165133461791046,
           -0.013426105686353792,
           0.10841823439051647,
           -0.0009375281741168595,
           0.05185848143230616,
           -0.0015676898564367632,
           0.002593864002060388,
           0.003036208156695074,
           -0.0052082726185275815,
           -0.0021796775574307297,
           1,
           -0.01185927988842009,
           0.003149698201659581,
           -0.028340016248789162,
           -0.008539615911761802,
           -0.03373105742376024,
           0.03599725098280882,
           0.035654432344300754,
           0.011733822530751451,
           0.03609069798074656,
           0.03690559507576007,
           -0.03524767935152668,
           -0.02326768317067545,
           0.001331726238877703,
           0.0032064564102947286,
           -0.0009536736944718901,
           -0.0002304799094030938,
           0.00249315215961605,
           0.011167064278484792,
           0.00235779030658029,
           -0.0025642033195980617,
           0.0019315424356803903,
           -0.0011794442818113073,
           0.0020114213773977044,
           -0.005953992957890552,
           -0.01306898934206709,
           -0.009119139386177847,
           -0.004162250621113832,
           0.002653582034286877,
           0.02309376403083418,
           -0.00528046535435706
          ],
          [
           -0.2602590870886949,
           0.04009274827612093,
           0.09881505772803352,
           -0.015566695599920488,
           -0.27217720893780234,
           0.01381406251408294,
           0.02333814725611007,
           0.002941033609534845,
           -0.015693243236387468,
           -0.14237968844933258,
           0.1028837614155954,
           -0.0013844607912547892,
           0.11093337670488318,
           0.00988087888633326,
           0.0017735836121095384,
           0.008738978745082155,
           -0.0026283056994562725,
           0.011549821285141858,
           -0.01185927988842009,
           1,
           -0.20595287673489607,
           -0.05936894526407728,
           -0.04485932740431164,
           -0.02217108027352485,
           0.005047440388165915,
           -0.006217614593937668,
           -0.022783818886701928,
           0.010954455455359275,
           0.002382856473234587,
           -0.018165433580420994,
           -0.14690477646373457,
           0.0000048178086210973475,
           0.012961622867922152,
           -0.005452428383359108,
           0.0015374033238505032,
           -0.00022613805791892814,
           0.006756990373962037,
           0.018127146304372652,
           -0.0030290922192424876,
           -0.004847997462405113,
           0.001633302247869157,
           -0.009007598434012712,
           -0.015096309745292556,
           -0.01309561992996228,
           0.008306479036324824,
           0.011437859365177232,
           -0.006253814009579243,
           0.017018412751808702,
           0.048874523155555676
          ],
          [
           -0.29478464400234894,
           0.06054641409204891,
           0.0816510862441859,
           -0.009467507724407456,
           -0.26145426958224977,
           0.016840604473059694,
           0.020127649132743987,
           0.0068839603114211325,
           -0.0073383503129914535,
           -0.1534935657849675,
           0.13416181967224286,
           -0.0006163992542535525,
           0.15902179071147046,
           0.0030795770008169086,
           0.00628143668338729,
           0.008732158174571382,
           -0.015739637373868697,
           0.04207238727578526,
           0.003149698201659581,
           -0.20595287673489607,
           1,
           0.04139667823370932,
           0.0038718925608414514,
           -0.02393150240152248,
           -0.013831629251281183,
           -0.02378106674908654,
           0.031530661460404036,
           -0.005659803566336628,
           -0.010864845634385176,
           0.00841323495939887,
           -0.12409329229555877,
           0.0003364424527811238,
           0.011016991813273837,
           -0.005011827508113429,
           -0.0012190776881558297,
           -0.0004924861947823565,
           0.00575917883551344,
           0.013152664131212877,
           0.0009118424021705892,
           -0.010071823856060078,
           0.005263590892810404,
           0.007597665765700477,
           -0.013769379108879515,
           -0.0016469710700862212,
           -0.006254974388843031,
           -0.00497991380870629,
           -0.0011247897217346592,
           0.006449805579507684,
           0.04437667147839895
          ],
          [
           -0.24895487100399605,
           0.050502847295788224,
           0.04071363223497667,
           -0.00357628596179731,
           -0.20253586681443153,
           0.00987939966191034,
           0.02078438305323383,
           0.003879574145218948,
           0.0019884927242714567,
           -0.08308225713781847,
           0.08875338736838202,
           -0.0013327182006691394,
           0.08385817479153658,
           -0.0027418956618706692,
           -0.003416750480270777,
           0.0035184661581796335,
           -0.035596070529815504,
           -0.020024805294041235,
           -0.028340016248789162,
           -0.05936894526407728,
           0.04139667823370932,
           1,
           -0.022052264654741874,
           -0.022114689682065564,
           0.0017977430212870779,
           -0.02042195222273799,
           -0.006759009766607486,
           0.001152465016540972,
           0.03534399480912767,
           -0.02920343887536636,
           -0.06587456344880686,
           0.0015862344972420051,
           0.00754812579943395,
           -0.005720797884193988,
           0.0011926753372053503,
           -0.0034110675690241605,
           0.0031834402330947983,
           0.005816473157206348,
           0.000767023102672947,
           -0.00841786013429458,
           0.003442234763342271,
           -0.007152877301465702,
           -0.012191334777915964,
           0.002343891190346893,
           0.008153603852923061,
           0.006977865835938147,
           -0.008406848094678569,
           -0.004869998087221931,
           0.006944564791128006
          ],
          [
           -0.08518724988273824,
           -0.007464499374388699,
           0.03129762235335759,
           -0.0003862902435086275,
           -0.03073261369313749,
           0.006068115917112091,
           0.011918631505962517,
           -0.001213858150134423,
           0.005644276764055991,
           -0.04094188093217809,
           0.030539164882549177,
           0.0009170859203541776,
           0.040406007780691235,
           -0.005013561799659086,
           0.004436270752428784,
           0.0015988122549250555,
           0.07219347263378718,
           -0.0031361014882043074,
           -0.008539615911761802,
           -0.04485932740431164,
           0.0038718925608414514,
           -0.022052264654741874,
           1,
           -0.011853146722871145,
           -0.02399358442199273,
           -0.00273194184482685,
           -0.006102692277481328,
           0.013725586098053577,
           0.01875693353336906,
           0.06200818155213563,
           -0.04498389926664584,
           0.0037423193513963365,
           0.0021143564975930488,
           -0.0008447894101087679,
           0.0007294065576464652,
           0.00039159034273874373,
           -0.001522212855704586,
           0.002767272689736058,
           0.0006325590032867092,
           -0.0014534662259787423,
           -0.0023776884323756403,
           -0.009651354407042631,
           -0.006966541079052711,
           -0.004794599789838428,
           0.011271563773418581,
           0.011925379367193702,
           -0.0041168748153202735,
           -0.0013923817446516592,
           0.022122990422039874
          ],
          [
           -0.023474861819683734,
           -0.017179057879804883,
           0.009399833484573064,
           -0.0015264361783919247,
           -0.0643176654913931,
           -0.005635256844016309,
           -0.0057128581128653684,
           -0.0004972594122879103,
           0.006005674381261547,
           0.014035522463781262,
           -0.023827982884982744,
           0.0013145623572862484,
           -0.011282822916890164,
           -0.006903431664426547,
           -0.003907316901914722,
           0.0038244618236365885,
           -0.042466239333844476,
           0.003894860260142248,
           -0.03373105742376024,
           -0.02217108027352485,
           -0.02393150240152248,
           -0.022114689682065564,
           -0.011853146722871145,
           1,
           -0.0738244763618903,
           -0.03792231703542433,
           -0.017246876365324335,
           0.0343292918655348,
           0.022404583153588366,
           -0.011935506096125073,
           -0.02205758654174617,
           0.0007532753974603977,
           0.0004618272163756269,
           -0.0030980691514832953,
           0.003040581257245482,
           0.003626686614977149,
           -0.009894314224217894,
           0.000288400712015959,
           0.003726255486353305,
           0.003460528544582104,
           -0.0006638846402175872,
           -0.006962493621541902,
           -0.0010950803647533246,
           -0.011333294564601908,
           0.008824290952520533,
           0.007149424829772793,
           0.0008990413882346037,
           0.0049855071691181215,
           0.013825831598414077
          ],
          [
           0.02602581961778281,
           0.002086913489239577,
           -0.0033943027497784083,
           0.00228381492925618,
           0.03806579344737402,
           0.004049162300107778,
           0.0017798761801805982,
           -0.0007537558205600273,
           -0.008693823191033009,
           -0.014243951131847994,
           0.039920102688477684,
           -0.0009654732745659465,
           0.01849339717716106,
           0.0052640500042978565,
           -0.006148949511592304,
           0.0050360334439690044,
           -0.08068712074801597,
           -0.046627430794975264,
           0.03599725098280882,
           0.005047440388165915,
           -0.013831629251281183,
           0.0017977430212870779,
           -0.02399358442199273,
           -0.0738244763618903,
           1,
           -0.011037827372654914,
           0.00480476892980987,
           0.005055244369149047,
           0.010462377917522723,
           0.02722773474022626,
           0.009235929412408675,
           -0.0013468754807725884,
           0.001886627624916234,
           0.0018523986429677742,
           0.001157898278707137,
           -0.0035179348117612935,
           -0.0018601179406698535,
           0.0045773922205195414,
           -0.002730390694649182,
           -0.0009132384190918617,
           -0.003037852701620226,
           -0.004487042366381599,
           0.0008796827410612842,
           0.008928374437881631,
           0.004400104349462334,
           0.004423783226427949,
           -0.002293091398594626,
           -0.015104754034750943,
           -0.010983051535671803
          ],
          [
           0.04365619800303591,
           0.026417340009932785,
           -0.011504237032522086,
           -0.0030272781504629594,
           0.02519349728037156,
           -0.0020734401922980045,
           -0.0024351849123035296,
           0.002962277401588112,
           0.013213884656160843,
           0.05519064943298807,
           -0.030094985517196943,
           -0.001883226375816917,
           -0.04568128682639259,
           -0.009329035935081772,
           0.0017441764846610288,
           -0.0039584385669399254,
           0.05549849641060576,
           0.006799569012831118,
           0.035654432344300754,
           -0.006217614593937668,
           -0.02378106674908654,
           -0.02042195222273799,
           -0.00273194184482685,
           -0.03792231703542433,
           -0.011037827372654914,
           1,
           0.017107631804129234,
           0.01348543009604699,
           0.031341890608492184,
           0.04528253392888471,
           0.015274791450405879,
           -0.00031535757240189,
           -0.0019366017169558853,
           -0.0016817517215944838,
           0.0010978557695313581,
           -0.00016002517493023713,
           0.0009390320853611681,
           0.0018842563105481702,
           -0.0015072874483467843,
           -0.0038211972033288114,
           0.002977926766465351,
           0.0011443850215144481,
           0.0011611586126846621,
           0.009467668787950648,
           0.0014322131843606384,
           0.0009020318274090243,
           -0.004260026819840256,
           -0.011775062498459525,
           -0.004647404353237751
          ],
          [
           -0.027317826609086385,
           0.09079290601210692,
           0.007650704670200819,
           -0.011050333966177758,
           -0.023970361280017862,
           0.007606980328988353,
           0.01147587946659752,
           0.00857123760723425,
           -0.002345261842176785,
           -0.00011147106611525334,
           0.039344357771968215,
           -0.0022662228173081648,
           0.011645337233780103,
           0.00498783885297686,
           -0.0030420942884087495,
           -0.006768190148639662,
           0.0033526969502521826,
           -0.015067467814413985,
           0.011733822530751451,
           -0.022783818886701928,
           0.031530661460404036,
           -0.006759009766607486,
           -0.006102692277481328,
           -0.017246876365324335,
           0.00480476892980987,
           0.017107631804129234,
           1,
           0.007636655028901755,
           0.055657808942811894,
           0.04725498581736616,
           -0.012509805976864874,
           0.0011748439861531275,
           0.00025228811202099256,
           -0.0049907283811740834,
           -0.0022661745999986,
           -0.00876589278023013,
           0.008889556827877997,
           0.00694560419242442,
           0.0018062878397433594,
           -0.010344260955174208,
           0.002606162893059396,
           0.008167934062439675,
           -0.005869184092412282,
           0.011990287983615589,
           -0.008435751199102837,
           -0.006442682986213664,
           0.0026006104194290255,
           -0.007806914618711607,
           -0.004169472820239679
          ],
          [
           -0.0030738400081265285,
           0.012644689448094265,
           0.00047861787942857724,
           0.004467405619643345,
           0.027197715320969044,
           0.004111880848674517,
           -0.007223478279406356,
           0.0019921611307373585,
           -0.015514617707878922,
           0.04880841472734794,
           0.03167865754094398,
           0.0005748026930394619,
           -0.03888910825336289,
           0.016285857444520904,
           -0.002319027928321409,
           -0.00710270231073358,
           -0.06632547720618354,
           -0.005812675172717369,
           0.03609069798074656,
           0.010954455455359275,
           -0.005659803566336628,
           0.001152465016540972,
           0.013725586098053577,
           0.0343292918655348,
           0.005055244369149047,
           0.01348543009604699,
           0.007636655028901755,
           1,
           0.05263099463231418,
           0.001275024874320801,
           0.01128457626608685,
           -0.00015210836985596478,
           -0.00038292526077552,
           -0.00012415616645548353,
           0.0007541663241890405,
           -0.001405361823240978,
           0.005426798976494007,
           -0.0021798630100561102,
           0.0004684421792406204,
           0.0018450341772203952,
           -0.0005580630757717856,
           -0.0022793456192537736,
           -0.00024767289265392197,
           -0.004007071873147298,
           -0.004371800787868808,
           0.0015758126325112227,
           0.0008173315773130989,
           0.009886473702376898,
           -0.012411969974379421
          ],
          [
           -0.07454723568944366,
           0.006458818792200861,
           0.052545523451898175,
           -0.006724360654416026,
           0.0015664721102337826,
           0.013016540435792626,
           0.015935993837246216,
           0.0018848750202925103,
           -0.002247226340990839,
           -0.06528355048683275,
           0.07397309051445572,
           0.00019522117704202235,
           0.09600294030604863,
           0.0024946007732931383,
           0.002599728628061155,
           -0.0003436371328417933,
           -0.07145867375979978,
           0.023493564381876355,
           0.03690559507576007,
           0.002382856473234587,
           -0.010864845634385176,
           0.03534399480912767,
           0.01875693353336906,
           0.022404583153588366,
           0.010462377917522723,
           0.031341890608492184,
           0.055657808942811894,
           0.05263099463231418,
           1,
           0.021830757600341928,
           -0.09127731767430355,
           -0.0004144120129957935,
           0.006326908012095887,
           -0.001867294119580644,
           0.0013147769976342809,
           0.00193320735885844,
           -0.0058570882023414265,
           0.0062630290305773035,
           -0.0009075435834521676,
           -0.004658923153161666,
           -0.0015597007476175035,
           0.0014125457513555519,
           -0.010360602905973388,
           -0.006222114173805675,
           0.0026534095302311283,
           0.0007652482800035807,
           0.002562467510029136,
           0.0019790165444898036,
           0.02760927800312393
          ],
          [
           -0.06054228051425357,
           0.025761535557330288,
           -0.00010780959833283606,
           -0.007175443401165069,
           -0.053586526244678336,
           0.010140140083032167,
           0.005690178656615315,
           0.005225327171263234,
           0.005301589215231392,
           -0.009650253818577278,
           -0.007993156570275117,
           0.0011402861062665287,
           0.02964154674963348,
           -0.000488247812384898,
           0.00041352195947408376,
           -0.009582547842552868,
           -0.00549133457498908,
           0.03371401294965007,
           -0.03524767935152668,
           -0.018165433580420994,
           0.00841323495939887,
           -0.02920343887536636,
           0.06200818155213563,
           -0.011935506096125073,
           0.02722773474022626,
           0.04528253392888471,
           0.04725498581736616,
           0.001275024874320801,
           0.021830757600341928,
           1,
           -0.01880361059915988,
           -0.00019028873826409774,
           0.0016047038178172658,
           -0.001695621749373517,
           -0.00018545402565779288,
           -0.005603853702075406,
           0.007989565960456807,
           0.008062661543716416,
           -0.0028715416255404042,
           -0.00633961349618289,
           0.00343829240776467,
           -0.001115468253793278,
           -0.009581728882293262,
           0.0021725290550186735,
           0.008547120811277138,
           0.004097500748526616,
           0.00023101738496241836,
           -0.012317781596764926,
           0.01093727564400877
          ],
          [
           0.3241927942731388,
           -0.060702067919439266,
           -0.701634113641636,
           0.009905884451548323,
           0.08280224300821727,
           -0.050120015264104,
           -0.11886249087195078,
           0.004287326752900172,
           0.016446192450730767,
           0.3963261156890835,
           -0.4309260923629317,
           0.0015135630007468732,
           -0.5296714383244125,
           0.0008952972963862772,
           -0.03321809413558048,
           -0.040259997112456175,
           0.017033400620206196,
           -0.025343492233037206,
           -0.02326768317067545,
           -0.14690477646373457,
           -0.12409329229555877,
           -0.06587456344880686,
           -0.04498389926664584,
           -0.02205758654174617,
           0.009235929412408675,
           0.015274791450405879,
           -0.012509805976864874,
           0.01128457626608685,
           -0.09127731767430355,
           -0.01880361059915988,
           1,
           -0.00942266859177479,
           -0.04129001499810328,
           0.015814768800664847,
           -0.0010517140100730282,
           -0.024778822007869877,
           -0.018184846067767796,
           -0.01993183332707464,
           0.0022282310254295753,
           0.004335861513848328,
           0.031203913147182707,
           0.002635740497912915,
           0.06929349812998574,
           0.11355584721504082,
           -0.04634351904051461,
           -0.014022524240038454,
           -0.019212427174538152,
           -0.0711565871909527,
           -0.38344535167651855
          ],
          [
           -0.0008992150173587403,
           -0.017643755049165363,
           0.015448472573455585,
           0.0890440929998113,
           0.0034514055987475358,
           0.003448475959017855,
           0.0035805884778253774,
           -0.020935497849751322,
           -0.00595280007323202,
           -0.0012281703634942963,
           0.007654969061670132,
           -0.0019625400725017117,
           0.003596167942865352,
           0.005776828761518242,
           -0.00020184520351179862,
           -0.002488820146539643,
           -0.0007407884853989255,
           -0.0007912485072799211,
           0.001331726238877703,
           0.0000048178086210973475,
           0.0003364424527811238,
           0.0015862344972420051,
           0.0037423193513963365,
           0.0007532753974603977,
           -0.0013468754807725884,
           -0.00031535757240189,
           0.0011748439861531275,
           -0.00015210836985596478,
           -0.0004144120129957935,
           -0.00019028873826409774,
           -0.00942266859177479,
           1,
           0.024758597322966844,
           0.011037236207325975,
           0.002617687484359514,
           0.03039478568941064,
           0.00010752853683763518,
           -0.037083790326793646,
           0.01009490656695767,
           0.012581405604266512,
           -0.005844165619648831,
           -0.006377676638150152,
           -0.004800891141405058,
           -0.006062728414215953,
           0.005423824867564511,
           0.004686063996293413,
           0.00036614537572434244,
           0.00306540957466879,
           0.009901153478990607
          ],
          [
           -0.02458646200532732,
           0.008033181339693333,
           0.054201122855066224,
           -0.006581221003915361,
           -0.011261166686623626,
           0.03987854560249683,
           0.010086810457914387,
           0.005864692863176498,
           -0.0029630976773028775,
           -0.022821680944918776,
           0.030557674737533153,
           -0.000058369847777628965,
           0.02952646513041623,
           0.002566885996536231,
           0.0006658413473832353,
           -0.0004424642632143889,
           -0.0007735356963423853,
           0.0002989699381417713,
           0.0032064564102947286,
           0.012961622867922152,
           0.011016991813273837,
           0.00754812579943395,
           0.0021143564975930488,
           0.0004618272163756269,
           0.001886627624916234,
           -0.0019366017169558853,
           0.00025228811202099256,
           -0.00038292526077552,
           0.006326908012095887,
           0.0016047038178172658,
           -0.04129001499810328,
           0.024758597322966844,
           1,
           -0.002488343477518684,
           0.004857931122758669,
           0.0022202905477308084,
           0.023807034697561697,
           0.010432798174872148,
           -0.000725068583479633,
           -0.018919737230014364,
           0.0034233188978538207,
           -0.004802097916990453,
           -0.006753435387444236,
           -0.009819351689932955,
           0.005561541490259049,
           0.002089711168764437,
           0.0011509063402725826,
           0.00838963904975238,
           0.027871530866193095
          ],
          [
           0.016632280602726823,
           -0.030123577238429712,
           -0.015179310260839919,
           0.09628339054252726,
           0.01376908244147282,
           -0.006383553344911136,
           -0.005520390756345733,
           -0.028413791931227436,
           -0.0032989094393157826,
           0.004914469121743749,
           -0.00935530435898771,
           -0.001294466702226185,
           -0.007941528435218136,
           0.003583013859799709,
           -0.0017671103478945434,
           -0.0022347322014419843,
           0.0009617752243148188,
           -0.0016849089872494603,
           -0.0009536736944718901,
           -0.005452428383359108,
           -0.005011827508113429,
           -0.005720797884193988,
           -0.0008447894101087679,
           -0.0030980691514832953,
           0.0018523986429677742,
           -0.0016817517215944838,
           -0.0049907283811740834,
           -0.00012415616645548353,
           -0.001867294119580644,
           -0.001695621749373517,
           0.015814768800664847,
           0.011037236207325975,
           -0.002488343477518684,
           1,
           0.0024888136157743303,
           0.018043062374475505,
           -0.004291673508535347,
           -0.018458141318889242,
           0.0007854829401143361,
           0.01964021367728846,
           -0.005769281480279208,
           -0.0060550406377077644,
           0.0010048726227246908,
           0.0010873198094741097,
           0.0001187515050223171,
           0.006818868109940161,
           0.001142843275458167,
           -0.00032509539761917713,
           -0.005768255460645982
          ],
          [
           -0.0017643529294122334,
           -0.00020265305555971404,
           0.0005297238590420291,
           0.00370462681296616,
           -0.001614429877480598,
           0.027956077381073814,
           -0.0007981355280048408,
           -0.002060714914412991,
           -0.0009419829870780711,
           -0.0022735320211933648,
           -0.0016345013562073197,
           -0.00169480371276808,
           0.0012560232625934236,
           0.0007248101175730833,
           0.0008414214060466186,
           0.0005597587800071354,
           -0.0008968032364056112,
           -0.00037531481759825106,
           -0.0002304799094030938,
           0.0015374033238505032,
           -0.0012190776881558297,
           0.0011926753372053503,
           0.0007294065576464652,
           0.003040581257245482,
           0.001157898278707137,
           0.0010978557695313581,
           -0.0022661745999986,
           0.0007541663241890405,
           0.0013147769976342809,
           -0.00018545402565779288,
           -0.0010517140100730282,
           0.002617687484359514,
           0.004857931122758669,
           0.0024888136157743303,
           1,
           0.002288823676938537,
           0.0022024042557606347,
           -0.0018881082384523517,
           0.0009301164614827023,
           0.0024836472281656815,
           -0.003772457415778221,
           0.0003735383021570952,
           -0.0038077196219733172,
           0.0005566918704087273,
           -0.0011918888798650002,
           0.00010051733082218822,
           0.0001235273074593448,
           0.0015929659383395656,
           0.0021881904861644533
          ],
          [
           0.009763177372668042,
           -0.06924333687805363,
           0.02680158075727555,
           0.200352526292614,
           0.018552639043544907,
           0.0036117225593983,
           -0.0008487435650029842,
           -0.055750663389868595,
           -0.014701748000341559,
           -0.0014640043695496683,
           0.00551081631372777,
           -0.0007127325590354191,
           0.010614509613924837,
           0.012929781361625236,
           -0.0005981312743003034,
           0.00009188557964543096,
           0.0003131984471464088,
           -0.0050665408257281426,
           0.00249315215961605,
           -0.00022613805791892814,
           -0.0004924861947823565,
           -0.0034110675690241605,
           0.00039159034273874373,
           0.003626686614977149,
           -0.0035179348117612935,
           -0.00016002517493023713,
           -0.00876589278023013,
           -0.001405361823240978,
           0.00193320735885844,
           -0.005603853702075406,
           -0.024778822007869877,
           0.03039478568941064,
           0.0022202905477308084,
           0.018043062374475505,
           0.002288823676938537,
           1,
           -0.02645677766673076,
           -0.10118543907179003,
           0.07923580296500238,
           0.024608998889885995,
           -0.025222012952960397,
           -0.00645519489025446,
           -0.01165334956512276,
           -0.011050317204386668,
           0.005380647344332687,
           0.0033852335272871554,
           -0.005222491907749698,
           0.01557600332898755,
           0.05507380030382679
          ],
          [
           -0.026952408812000946,
           -0.0038426816159448235,
           0.0017038077691357587,
           0.03272658081397194,
           0.003417819546069346,
           0.1778901225770721,
           -0.011843061117530659,
           0.02726490691867385,
           0.0031604351467490474,
           -0.0268372627091121,
           0.03103740132943023,
           -0.00026327002979352536,
           0.03384444618719759,
           0.0004284531108661755,
           -0.008115229357639787,
           -0.006920633367914124,
           -0.009256893294346825,
           -0.01046514542993464,
           0.011167064278484792,
           0.006756990373962037,
           0.00575917883551344,
           0.0031834402330947983,
           -0.001522212855704586,
           -0.009894314224217894,
           -0.0018601179406698535,
           0.0009390320853611681,
           0.008889556827877997,
           0.005426798976494007,
           -0.0058570882023414265,
           0.007989565960456807,
           -0.018184846067767796,
           0.00010752853683763518,
           0.023807034697561697,
           -0.004291673508535347,
           0.0022024042557606347,
           -0.02645677766673076,
           1,
           -0.005044494125752167,
           0.01774616798393784,
           -0.11084952873231238,
           0.09736262230088409,
           0.02205276877797153,
           -0.029655324534991555,
           -0.00834996812980899,
           -0.009035773939983853,
           -0.022772889876542326,
           0.01323271339709895,
           0.0012666438082757448,
           0.020072424256977847
          ],
          [
           -0.04053439763542883,
           0.10956415087108433,
           0.018097020337956963,
           -0.35250166071512135,
           -0.037570937356780965,
           0.037713189115427384,
           -0.015470916633281243,
           0.08490148747198908,
           0.05611046254435133,
           -0.030954171563959073,
           0.032982117407893446,
           -0.0006108815426029554,
           0.034444934494434504,
           -0.052620832214597756,
           0.0035123873929612213,
           0.014379268241674582,
           -0.006555166886783133,
           0.005854206364679482,
           0.00235779030658029,
           0.018127146304372652,
           0.013152664131212877,
           0.005816473157206348,
           0.002767272689736058,
           0.000288400712015959,
           0.0045773922205195414,
           0.0018842563105481702,
           0.00694560419242442,
           -0.0021798630100561102,
           0.0062630290305773035,
           0.008062661543716416,
           -0.01993183332707464,
           -0.037083790326793646,
           0.010432798174872148,
           -0.018458141318889242,
           -0.0018881082384523517,
           -0.10118543907179003,
           -0.005044494125752167,
           1,
           -0.3019736896408255,
           -0.11399580834657312,
           0.033118284427031575,
           0.01927973237177325,
           0.0030047653779276496,
           0.0073409586825740735,
           -0.012299976390442984,
           -0.01673953137401212,
           0.008014296773904021,
           -0.00945067287162802,
           -0.03328011962745291
          ],
          [
           0.0017646192184418831,
           0.005944160734622623,
           -0.010654704217079976,
           0.10643151886965903,
           0.0011051921587267237,
           0.06127175713576529,
           0.0005383571252822967,
           0.003987504790774231,
           -0.03146620767845942,
           0.0007505871062330939,
           0.0019266197217141898,
           0.0009234116320534693,
           0.00134628431720145,
           0.030880552041054162,
           -0.0050215650003041816,
           -0.011463293778228544,
           0.0009128713384549307,
           0.002734084042103715,
           -0.0025642033195980617,
           -0.0030290922192424876,
           0.0009118424021705892,
           0.000767023102672947,
           0.0006325590032867092,
           0.003726255486353305,
           -0.002730390694649182,
           -0.0015072874483467843,
           0.0018062878397433594,
           0.0004684421792406204,
           -0.0009075435834521676,
           -0.0028715416255404042,
           0.0022282310254295753,
           0.01009490656695767,
           -0.000725068583479633,
           0.0007854829401143361,
           0.0009301164614827023,
           0.07923580296500238,
           0.01774616798393784,
           -0.3019736896408255,
           1,
           0.008535942829459782,
           0.009008589509517096,
           0.006632037148633963,
           -0.005800102097359874,
           0.0046880801634459285,
           -0.0013557723026869904,
           -0.007121222660321072,
           -0.0011290378454147326,
           -0.0022645573124913314,
           0.007103892826502578
          ],
          [
           0.03137216252991369,
           -0.09190493193136808,
           0.015035967763000797,
           0.06716917113054675,
           0.028862783399074644,
           -0.16903542280146908,
           -0.04170109905379465,
           -0.08543641323567029,
           -0.035428824556574784,
           0.017369371623669135,
           -0.009006410273040241,
           -0.0007003271713029792,
           -0.01771744849393276,
           0.03153789340985207,
           0.0020736574481014687,
           -0.005483348502940564,
           0.003619147488867582,
           -0.0030919343504298897,
           0.0019315424356803903,
           -0.004847997462405113,
           -0.010071823856060078,
           -0.00841786013429458,
           -0.0014534662259787423,
           0.003460528544582104,
           -0.0009132384190918617,
           -0.0038211972033288114,
           -0.010344260955174208,
           0.0018450341772203952,
           -0.004658923153161666,
           -0.00633961349618289,
           0.004335861513848328,
           0.012581405604266512,
           -0.018919737230014364,
           0.01964021367728846,
           0.0024836472281656815,
           0.024608998889885995,
           -0.11084952873231238,
           -0.11399580834657312,
           0.008535942829459782,
           1,
           0.18049823573603865,
           -0.0587764207019348,
           0.012383130936749986,
           -0.030298497947096263,
           0.03940539193284628,
           0.0561188226453257,
           0.004948399599319369,
           0.00349657756190517,
           -0.010928063736604198
          ],
          [
           -0.013691972790493327,
           0.04051620744889889,
           -0.04620369906266668,
           -0.05627269298677238,
           -0.02247913615234204,
           -0.20961930551591998,
           -0.026929891901145968,
           0.028782222440282175,
           0.0034627735520857197,
           0.004104291003307256,
           -0.007600206066934757,
           -0.0015347849812645269,
           -0.0040908500260816655,
           0.001402041482746222,
           -0.0065547978938039425,
           -0.011376904308789309,
           -0.0019537496165613066,
           -0.003177986479036017,
           -0.0011794442818113073,
           0.001633302247869157,
           0.005263590892810404,
           0.003442234763342271,
           -0.0023776884323756403,
           -0.0006638846402175872,
           -0.003037852701620226,
           0.002977926766465351,
           0.002606162893059396,
           -0.0005580630757717856,
           -0.0015597007476175035,
           0.00343829240776467,
           0.031203913147182707,
           -0.005844165619648831,
           0.0034233188978538207,
           -0.005769281480279208,
           -0.003772457415778221,
           -0.025222012952960397,
           0.09736262230088409,
           0.033118284427031575,
           0.009008589509517096,
           0.18049823573603865,
           1,
           -0.0025485719366581377,
           0.007873795084196646,
           0.004150539691243223,
           0.0015206082907574371,
           0.008551769098153226,
           0.010837286263064877,
           -0.017798529229190844,
           -0.03793259281561746
          ],
          [
           0.00017843058833286662,
           0.08228112189170304,
           -0.05365189960737625,
           -0.006951399613607392,
           0.013721918543624237,
           0.07619343381710046,
           -0.11543995707721356,
           0.03977728274607778,
           -0.006348883539387667,
           -0.04480263747021351,
           0.006799270199083318,
           0.0029930909181139997,
           0.05560202947841626,
           0.0026400082667258516,
           -0.05874524097978536,
           0.009268912255958555,
           0.0011502496479919148,
           0.0007692270539299472,
           0.0020114213773977044,
           -0.009007598434012712,
           0.007597665765700477,
           -0.007152877301465702,
           -0.009651354407042631,
           -0.006962493621541902,
           -0.004487042366381599,
           0.0011443850215144481,
           0.008167934062439675,
           -0.0022793456192537736,
           0.0014125457513555519,
           -0.001115468253793278,
           0.002635740497912915,
           -0.006377676638150152,
           -0.004802097916990453,
           -0.0060550406377077644,
           0.0003735383021570952,
           -0.00645519489025446,
           0.02205276877797153,
           0.01927973237177325,
           0.006632037148633963,
           -0.0587764207019348,
           -0.0025485719366581377,
           1,
           0.13081728633391815,
           0.27530674704130254,
           -0.5090456305898916,
           -0.9040467374440201,
           0.05273380803824164,
           0.10844142793705602,
           0.03404599113616641
          ],
          [
           0.042671231057083966,
           0.004943303222921938,
           -0.07841127977511655,
           -0.08229159120608583,
           0.016504856553602395,
           -0.10813041643998635,
           -0.13004462377981083,
           0.005117100841174711,
           -0.037507409474953984,
           0.025469767874260387,
           -0.0598920656326242,
           0.0004709967635167449,
           -0.040669990309552484,
           0.03221609638477995,
           0.10578693364880133,
           -0.002743128478622682,
           0.004328701529370223,
           0.005897118327044923,
           -0.005953992957890552,
           -0.015096309745292556,
           -0.013769379108879515,
           -0.012191334777915964,
           -0.006966541079052711,
           -0.0010950803647533246,
           0.0008796827410612842,
           0.0011611586126846621,
           -0.005869184092412282,
           -0.00024767289265392197,
           -0.010360602905973388,
           -0.009581728882293262,
           0.06929349812998574,
           -0.004800891141405058,
           -0.006753435387444236,
           0.0010048726227246908,
           -0.0038077196219733172,
           -0.01165334956512276,
           -0.029655324534991555,
           0.0030047653779276496,
           -0.005800102097359874,
           0.012383130936749986,
           0.007873795084196646,
           0.13081728633391815,
           1,
           0.04274483470002746,
           -0.10751356494088642,
           -0.14624429712437656,
           0.015856337750988176,
           0.03832574643689875,
           -0.01157646981467119
          ],
          [
           0.011036818057900003,
           0.09452223973954448,
           -0.143453107191474,
           -0.00462856317392153,
           -0.01419473074404228,
           0.03634699080088519,
           -0.04358627628260564,
           0.021880629674719054,
           0.0458592671288388,
           0.020149220345402737,
           -0.0242991221818903,
           -0.00010943999332107518,
           -0.01561814134824896,
           -0.040139631037204346,
           -0.03401180656850968,
           0.0029508633108208393,
           0.002669910718086729,
           -0.00004823973605199584,
           -0.01306898934206709,
           -0.01309561992996228,
           -0.0016469710700862212,
           0.002343891190346893,
           -0.004794599789838428,
           -0.011333294564601908,
           0.008928374437881631,
           0.009467668787950648,
           0.011990287983615589,
           -0.004007071873147298,
           -0.006222114173805675,
           0.0021725290550186735,
           0.11355584721504082,
           -0.006062728414215953,
           -0.009819351689932955,
           0.0010873198094741097,
           0.0005566918704087273,
           -0.011050317204386668,
           -0.00834996812980899,
           0.0073409586825740735,
           0.0046880801634459285,
           -0.030298497947096263,
           0.004150539691243223,
           0.27530674704130254,
           0.04274483470002746,
           1,
           -0.5052150420302526,
           -0.27815682678056697,
           -0.37290821180769906,
           -0.35848349145401665,
           -0.03291980529918771
          ],
          [
           -0.006431365544346953,
           -0.08258832095609304,
           0.09176795799187595,
           0.002690971532147622,
           -0.017296289697672367,
           -0.040518024954399115,
           0.114711658885008,
           -0.027912207540594407,
           0.009570403067444395,
           0.03810024909342282,
           -0.013579501036584092,
           -0.0019203058707020486,
           -0.04774571937038178,
           -0.004225654533450913,
           0.05581083105574576,
           -0.012072537007008418,
           -0.00009065114673333272,
           -0.0013358929577852268,
           -0.009119139386177847,
           0.008306479036324824,
           -0.006254974388843031,
           0.008153603852923061,
           0.011271563773418581,
           0.008824290952520533,
           0.004400104349462334,
           0.0014322131843606384,
           -0.008435751199102837,
           -0.004371800787868808,
           0.0026534095302311283,
           0.008547120811277138,
           -0.04634351904051461,
           0.005423824867564511,
           0.005561541490259049,
           0.0001187515050223171,
           -0.0011918888798650002,
           0.005380647344332687,
           -0.009035773939983853,
           -0.012299976390442984,
           -0.0013557723026869904,
           0.03940539193284628,
           0.0015206082907574371,
           -0.5090456305898916,
           -0.10751356494088642,
           -0.5052150420302526,
           1,
           0.5285296909707075,
           -0.19674918777791783,
           -0.18913859642152292,
           -0.03678746869437351
          ],
          [
           -0.004199735743110923,
           -0.07177851500112857,
           0.05569057494997821,
           0.0046308123136323265,
           -0.01504893338442184,
           -0.07447271869229243,
           0.12955828149528734,
           -0.03803170105100758,
           0.011393678119916276,
           0.03888642344601759,
           -0.0006120373620435567,
           -0.0026410373786164934,
           -0.04785613186540222,
           -0.007708002364063238,
           0.057651546819109674,
           -0.007355663703923916,
           -0.0014127643538601152,
           -0.00232619792019297,
           -0.004162250621113832,
           0.011437859365177232,
           -0.00497991380870629,
           0.006977865835938147,
           0.011925379367193702,
           0.007149424829772793,
           0.004423783226427949,
           0.0009020318274090243,
           -0.006442682986213664,
           0.0015758126325112227,
           0.0007652482800035807,
           0.004097500748526616,
           -0.014022524240038454,
           0.004686063996293413,
           0.002089711168764437,
           0.006818868109940161,
           0.00010051733082218822,
           0.0033852335272871554,
           -0.022772889876542326,
           -0.01673953137401212,
           -0.007121222660321072,
           0.0561188226453257,
           0.008551769098153226,
           -0.9040467374440201,
           -0.14624429712437656,
           -0.27815682678056697,
           0.5285296909707075,
           1,
           -0.05168394363441637,
           -0.12342569465784704,
           -0.03818604076512859
          ],
          [
           0.003683023567672921,
           -0.028151056944668046,
           -0.014203558109152905,
           -0.004541905961905946,
           0.02281949192067442,
           -0.00692485288104392,
           -0.034448721004181566,
           0.004285230255765573,
           -0.03321157642554547,
           -0.014277118681766862,
           0.022607581320110395,
           0.0006198758247570816,
           0.037650056905390514,
           0.027892321117013452,
           -0.028767445669449894,
           -0.001639045935347979,
           -0.0062790242001843155,
           -0.0031596360293876464,
           0.002653582034286877,
           -0.006253814009579243,
           -0.0011247897217346592,
           -0.008406848094678569,
           -0.0041168748153202735,
           0.0008990413882346037,
           -0.002293091398594626,
           -0.004260026819840256,
           0.0026006104194290255,
           0.0008173315773130989,
           0.002562467510029136,
           0.00023101738496241836,
           -0.019212427174538152,
           0.00036614537572434244,
           0.0011509063402725826,
           0.001142843275458167,
           0.0001235273074593448,
           -0.005222491907749698,
           0.01323271339709895,
           0.008014296773904021,
           -0.0011290378454147326,
           0.004948399599319369,
           0.010837286263064877,
           0.05273380803824164,
           0.015856337750988176,
           -0.37290821180769906,
           -0.19674918777791783,
           -0.05168394363441637,
           1,
           -0.1396065633594993,
           -0.010114380112964219
          ],
          [
           -0.006752375413773096,
           -0.01046316680107324,
           0.09302924614469893,
           0.011510376855004055,
           0.016913502737732792,
           0.0006252952665915069,
           -0.03310821812409544,
           -0.005484210719426358,
           -0.1530191917161318,
           -0.0460000095772035,
           0.025587952129583015,
           0.0010733377636432601,
           0.033437892946948426,
           0.1311782195741014,
           -0.002482761160401914,
           -0.002828974512211398,
           0.001273244060626741,
           0.0034696076781011768,
           0.02309376403083418,
           0.017018412751808702,
           0.006449805579507684,
           -0.004869998087221931,
           -0.0013923817446516592,
           0.0049855071691181215,
           -0.015104754034750943,
           -0.011775062498459525,
           -0.007806914618711607,
           0.009886473702376898,
           0.0019790165444898036,
           -0.012317781596764926,
           -0.0711565871909527,
           0.00306540957466879,
           0.00838963904975238,
           -0.00032509539761917713,
           0.0015929659383395656,
           0.01557600332898755,
           0.0012666438082757448,
           -0.00945067287162802,
           -0.0022645573124913314,
           0.00349657756190517,
           -0.017798529229190844,
           0.10844142793705602,
           0.03832574643689875,
           -0.35848349145401665,
           -0.18913859642152292,
           -0.12342569465784704,
           -0.1396065633594993,
           1,
           0.0770646454364279
          ],
          [
           -0.10923331963794258,
           0.013956378144899658,
           0.31434061712181544,
           0.03800703046449612,
           -0.03505926325709821,
           0.05470185953326399,
           -0.008980745512604997,
           -0.0054146463637616965,
           0.0022704491435044513,
           -0.17196887639257738,
           0.10640199222211626,
           -0.0008208293686729704,
           0.2056805061435481,
           -0.011237937229109827,
           0.04110894338988938,
           0.027408333576904594,
           0.00937563614700229,
           0.019811846299263067,
           -0.00528046535435706,
           0.048874523155555676,
           0.04437667147839895,
           0.006944564791128006,
           0.022122990422039874,
           0.013825831598414077,
           -0.010983051535671803,
           -0.004647404353237751,
           -0.004169472820239679,
           -0.012411969974379421,
           0.02760927800312393,
           0.01093727564400877,
           -0.38344535167651855,
           0.009901153478990607,
           0.027871530866193095,
           -0.005768255460645982,
           0.0021881904861644533,
           0.05507380030382679,
           0.020072424256977847,
           -0.03328011962745291,
           0.007103892826502578,
           -0.010928063736604198,
           -0.03793259281561746,
           0.03404599113616641,
           -0.01157646981467119,
           -0.03291980529918771,
           -0.03678746869437351,
           -0.03818604076512859,
           -0.010114380112964219,
           0.0770646454364279,
           1
          ]
         ]
        }
       ],
       "layout": {
        "coloraxis": {
         "colorscale": [
          [
           0,
           "#0d0887"
          ],
          [
           0.1111111111111111,
           "#46039f"
          ],
          [
           0.2222222222222222,
           "#7201a8"
          ],
          [
           0.3333333333333333,
           "#9c179e"
          ],
          [
           0.4444444444444444,
           "#bd3786"
          ],
          [
           0.5555555555555556,
           "#d8576b"
          ],
          [
           0.6666666666666666,
           "#ed7953"
          ],
          [
           0.7777777777777778,
           "#fb9f3a"
          ],
          [
           0.8888888888888888,
           "#fdca26"
          ],
          [
           1,
           "#f0f921"
          ]
         ]
        },
        "height": 1500,
        "margin": {
         "t": 60
        },
        "template": {
         "data": {
          "bar": [
           {
            "error_x": {
             "color": "#2a3f5f"
            },
            "error_y": {
             "color": "#2a3f5f"
            },
            "marker": {
             "line": {
              "color": "#E5ECF6",
              "width": 0.5
             },
             "pattern": {
              "fillmode": "overlay",
              "size": 10,
              "solidity": 0.2
             }
            },
            "type": "bar"
           }
          ],
          "barpolar": [
           {
            "marker": {
             "line": {
              "color": "#E5ECF6",
              "width": 0.5
             },
             "pattern": {
              "fillmode": "overlay",
              "size": 10,
              "solidity": 0.2
             }
            },
            "type": "barpolar"
           }
          ],
          "carpet": [
           {
            "aaxis": {
             "endlinecolor": "#2a3f5f",
             "gridcolor": "white",
             "linecolor": "white",
             "minorgridcolor": "white",
             "startlinecolor": "#2a3f5f"
            },
            "baxis": {
             "endlinecolor": "#2a3f5f",
             "gridcolor": "white",
             "linecolor": "white",
             "minorgridcolor": "white",
             "startlinecolor": "#2a3f5f"
            },
            "type": "carpet"
           }
          ],
          "choropleth": [
           {
            "colorbar": {
             "outlinewidth": 0,
             "ticks": ""
            },
            "type": "choropleth"
           }
          ],
          "contour": [
           {
            "colorbar": {
             "outlinewidth": 0,
             "ticks": ""
            },
            "colorscale": [
             [
              0,
              "#0d0887"
             ],
             [
              0.1111111111111111,
              "#46039f"
             ],
             [
              0.2222222222222222,
              "#7201a8"
             ],
             [
              0.3333333333333333,
              "#9c179e"
             ],
             [
              0.4444444444444444,
              "#bd3786"
             ],
             [
              0.5555555555555556,
              "#d8576b"
             ],
             [
              0.6666666666666666,
              "#ed7953"
             ],
             [
              0.7777777777777778,
              "#fb9f3a"
             ],
             [
              0.8888888888888888,
              "#fdca26"
             ],
             [
              1,
              "#f0f921"
             ]
            ],
            "type": "contour"
           }
          ],
          "contourcarpet": [
           {
            "colorbar": {
             "outlinewidth": 0,
             "ticks": ""
            },
            "type": "contourcarpet"
           }
          ],
          "heatmap": [
           {
            "colorbar": {
             "outlinewidth": 0,
             "ticks": ""
            },
            "colorscale": [
             [
              0,
              "#0d0887"
             ],
             [
              0.1111111111111111,
              "#46039f"
             ],
             [
              0.2222222222222222,
              "#7201a8"
             ],
             [
              0.3333333333333333,
              "#9c179e"
             ],
             [
              0.4444444444444444,
              "#bd3786"
             ],
             [
              0.5555555555555556,
              "#d8576b"
             ],
             [
              0.6666666666666666,
              "#ed7953"
             ],
             [
              0.7777777777777778,
              "#fb9f3a"
             ],
             [
              0.8888888888888888,
              "#fdca26"
             ],
             [
              1,
              "#f0f921"
             ]
            ],
            "type": "heatmap"
           }
          ],
          "heatmapgl": [
           {
            "colorbar": {
             "outlinewidth": 0,
             "ticks": ""
            },
            "colorscale": [
             [
              0,
              "#0d0887"
             ],
             [
              0.1111111111111111,
              "#46039f"
             ],
             [
              0.2222222222222222,
              "#7201a8"
             ],
             [
              0.3333333333333333,
              "#9c179e"
             ],
             [
              0.4444444444444444,
              "#bd3786"
             ],
             [
              0.5555555555555556,
              "#d8576b"
             ],
             [
              0.6666666666666666,
              "#ed7953"
             ],
             [
              0.7777777777777778,
              "#fb9f3a"
             ],
             [
              0.8888888888888888,
              "#fdca26"
             ],
             [
              1,
              "#f0f921"
             ]
            ],
            "type": "heatmapgl"
           }
          ],
          "histogram": [
           {
            "marker": {
             "pattern": {
              "fillmode": "overlay",
              "size": 10,
              "solidity": 0.2
             }
            },
            "type": "histogram"
           }
          ],
          "histogram2d": [
           {
            "colorbar": {
             "outlinewidth": 0,
             "ticks": ""
            },
            "colorscale": [
             [
              0,
              "#0d0887"
             ],
             [
              0.1111111111111111,
              "#46039f"
             ],
             [
              0.2222222222222222,
              "#7201a8"
             ],
             [
              0.3333333333333333,
              "#9c179e"
             ],
             [
              0.4444444444444444,
              "#bd3786"
             ],
             [
              0.5555555555555556,
              "#d8576b"
             ],
             [
              0.6666666666666666,
              "#ed7953"
             ],
             [
              0.7777777777777778,
              "#fb9f3a"
             ],
             [
              0.8888888888888888,
              "#fdca26"
             ],
             [
              1,
              "#f0f921"
             ]
            ],
            "type": "histogram2d"
           }
          ],
          "histogram2dcontour": [
           {
            "colorbar": {
             "outlinewidth": 0,
             "ticks": ""
            },
            "colorscale": [
             [
              0,
              "#0d0887"
             ],
             [
              0.1111111111111111,
              "#46039f"
             ],
             [
              0.2222222222222222,
              "#7201a8"
             ],
             [
              0.3333333333333333,
              "#9c179e"
             ],
             [
              0.4444444444444444,
              "#bd3786"
             ],
             [
              0.5555555555555556,
              "#d8576b"
             ],
             [
              0.6666666666666666,
              "#ed7953"
             ],
             [
              0.7777777777777778,
              "#fb9f3a"
             ],
             [
              0.8888888888888888,
              "#fdca26"
             ],
             [
              1,
              "#f0f921"
             ]
            ],
            "type": "histogram2dcontour"
           }
          ],
          "mesh3d": [
           {
            "colorbar": {
             "outlinewidth": 0,
             "ticks": ""
            },
            "type": "mesh3d"
           }
          ],
          "parcoords": [
           {
            "line": {
             "colorbar": {
              "outlinewidth": 0,
              "ticks": ""
             }
            },
            "type": "parcoords"
           }
          ],
          "pie": [
           {
            "automargin": true,
            "type": "pie"
           }
          ],
          "scatter": [
           {
            "fillpattern": {
             "fillmode": "overlay",
             "size": 10,
             "solidity": 0.2
            },
            "type": "scatter"
           }
          ],
          "scatter3d": [
           {
            "line": {
             "colorbar": {
              "outlinewidth": 0,
              "ticks": ""
             }
            },
            "marker": {
             "colorbar": {
              "outlinewidth": 0,
              "ticks": ""
             }
            },
            "type": "scatter3d"
           }
          ],
          "scattercarpet": [
           {
            "marker": {
             "colorbar": {
              "outlinewidth": 0,
              "ticks": ""
             }
            },
            "type": "scattercarpet"
           }
          ],
          "scattergeo": [
           {
            "marker": {
             "colorbar": {
              "outlinewidth": 0,
              "ticks": ""
             }
            },
            "type": "scattergeo"
           }
          ],
          "scattergl": [
           {
            "marker": {
             "colorbar": {
              "outlinewidth": 0,
              "ticks": ""
             }
            },
            "type": "scattergl"
           }
          ],
          "scattermapbox": [
           {
            "marker": {
             "colorbar": {
              "outlinewidth": 0,
              "ticks": ""
             }
            },
            "type": "scattermapbox"
           }
          ],
          "scatterpolar": [
           {
            "marker": {
             "colorbar": {
              "outlinewidth": 0,
              "ticks": ""
             }
            },
            "type": "scatterpolar"
           }
          ],
          "scatterpolargl": [
           {
            "marker": {
             "colorbar": {
              "outlinewidth": 0,
              "ticks": ""
             }
            },
            "type": "scatterpolargl"
           }
          ],
          "scatterternary": [
           {
            "marker": {
             "colorbar": {
              "outlinewidth": 0,
              "ticks": ""
             }
            },
            "type": "scatterternary"
           }
          ],
          "surface": [
           {
            "colorbar": {
             "outlinewidth": 0,
             "ticks": ""
            },
            "colorscale": [
             [
              0,
              "#0d0887"
             ],
             [
              0.1111111111111111,
              "#46039f"
             ],
             [
              0.2222222222222222,
              "#7201a8"
             ],
             [
              0.3333333333333333,
              "#9c179e"
             ],
             [
              0.4444444444444444,
              "#bd3786"
             ],
             [
              0.5555555555555556,
              "#d8576b"
             ],
             [
              0.6666666666666666,
              "#ed7953"
             ],
             [
              0.7777777777777778,
              "#fb9f3a"
             ],
             [
              0.8888888888888888,
              "#fdca26"
             ],
             [
              1,
              "#f0f921"
             ]
            ],
            "type": "surface"
           }
          ],
          "table": [
           {
            "cells": {
             "fill": {
              "color": "#EBF0F8"
             },
             "line": {
              "color": "white"
             }
            },
            "header": {
             "fill": {
              "color": "#C8D4E3"
             },
             "line": {
              "color": "white"
             }
            },
            "type": "table"
           }
          ]
         },
         "layout": {
          "annotationdefaults": {
           "arrowcolor": "#2a3f5f",
           "arrowhead": 0,
           "arrowwidth": 1
          },
          "autotypenumbers": "strict",
          "coloraxis": {
           "colorbar": {
            "outlinewidth": 0,
            "ticks": ""
           }
          },
          "colorscale": {
           "diverging": [
            [
             0,
             "#8e0152"
            ],
            [
             0.1,
             "#c51b7d"
            ],
            [
             0.2,
             "#de77ae"
            ],
            [
             0.3,
             "#f1b6da"
            ],
            [
             0.4,
             "#fde0ef"
            ],
            [
             0.5,
             "#f7f7f7"
            ],
            [
             0.6,
             "#e6f5d0"
            ],
            [
             0.7,
             "#b8e186"
            ],
            [
             0.8,
             "#7fbc41"
            ],
            [
             0.9,
             "#4d9221"
            ],
            [
             1,
             "#276419"
            ]
           ],
           "sequential": [
            [
             0,
             "#0d0887"
            ],
            [
             0.1111111111111111,
             "#46039f"
            ],
            [
             0.2222222222222222,
             "#7201a8"
            ],
            [
             0.3333333333333333,
             "#9c179e"
            ],
            [
             0.4444444444444444,
             "#bd3786"
            ],
            [
             0.5555555555555556,
             "#d8576b"
            ],
            [
             0.6666666666666666,
             "#ed7953"
            ],
            [
             0.7777777777777778,
             "#fb9f3a"
            ],
            [
             0.8888888888888888,
             "#fdca26"
            ],
            [
             1,
             "#f0f921"
            ]
           ],
           "sequentialminus": [
            [
             0,
             "#0d0887"
            ],
            [
             0.1111111111111111,
             "#46039f"
            ],
            [
             0.2222222222222222,
             "#7201a8"
            ],
            [
             0.3333333333333333,
             "#9c179e"
            ],
            [
             0.4444444444444444,
             "#bd3786"
            ],
            [
             0.5555555555555556,
             "#d8576b"
            ],
            [
             0.6666666666666666,
             "#ed7953"
            ],
            [
             0.7777777777777778,
             "#fb9f3a"
            ],
            [
             0.8888888888888888,
             "#fdca26"
            ],
            [
             1,
             "#f0f921"
            ]
           ]
          },
          "colorway": [
           "#636efa",
           "#EF553B",
           "#00cc96",
           "#ab63fa",
           "#FFA15A",
           "#19d3f3",
           "#FF6692",
           "#B6E880",
           "#FF97FF",
           "#FECB52"
          ],
          "font": {
           "color": "#2a3f5f"
          },
          "geo": {
           "bgcolor": "white",
           "lakecolor": "white",
           "landcolor": "#E5ECF6",
           "showlakes": true,
           "showland": true,
           "subunitcolor": "white"
          },
          "hoverlabel": {
           "align": "left"
          },
          "hovermode": "closest",
          "mapbox": {
           "style": "light"
          },
          "paper_bgcolor": "white",
          "plot_bgcolor": "#E5ECF6",
          "polar": {
           "angularaxis": {
            "gridcolor": "white",
            "linecolor": "white",
            "ticks": ""
           },
           "bgcolor": "#E5ECF6",
           "radialaxis": {
            "gridcolor": "white",
            "linecolor": "white",
            "ticks": ""
           }
          },
          "scene": {
           "xaxis": {
            "backgroundcolor": "#E5ECF6",
            "gridcolor": "white",
            "gridwidth": 2,
            "linecolor": "white",
            "showbackground": true,
            "ticks": "",
            "zerolinecolor": "white"
           },
           "yaxis": {
            "backgroundcolor": "#E5ECF6",
            "gridcolor": "white",
            "gridwidth": 2,
            "linecolor": "white",
            "showbackground": true,
            "ticks": "",
            "zerolinecolor": "white"
           },
           "zaxis": {
            "backgroundcolor": "#E5ECF6",
            "gridcolor": "white",
            "gridwidth": 2,
            "linecolor": "white",
            "showbackground": true,
            "ticks": "",
            "zerolinecolor": "white"
           }
          },
          "shapedefaults": {
           "line": {
            "color": "#2a3f5f"
           }
          },
          "ternary": {
           "aaxis": {
            "gridcolor": "white",
            "linecolor": "white",
            "ticks": ""
           },
           "baxis": {
            "gridcolor": "white",
            "linecolor": "white",
            "ticks": ""
           },
           "bgcolor": "#E5ECF6",
           "caxis": {
            "gridcolor": "white",
            "linecolor": "white",
            "ticks": ""
           }
          },
          "title": {
           "x": 0.05
          },
          "xaxis": {
           "automargin": true,
           "gridcolor": "white",
           "linecolor": "white",
           "ticks": "",
           "title": {
            "standoff": 15
           },
           "zerolinecolor": "white",
           "zerolinewidth": 2
          },
          "yaxis": {
           "automargin": true,
           "gridcolor": "white",
           "linecolor": "white",
           "ticks": "",
           "title": {
            "standoff": 15
           },
           "zerolinecolor": "white",
           "zerolinewidth": 2
          }
         }
        },
        "width": 1500,
        "xaxis": {
         "anchor": "y",
         "domain": [
          0,
          1
         ]
        },
        "yaxis": {
         "anchor": "x",
         "autorange": "reversed",
         "domain": [
          0,
          1
         ]
        }
       }
      }
     },
     "metadata": {},
     "output_type": "display_data"
    }
   ],
   "source": [
    "fig = px.imshow(data.corr(numeric_only=True), \n",
    "                text_auto=True, aspect=\"auto\",\n",
    "                # width=40,\n",
    "                # height=100\n",
    "                )\n",
    "fig.update_layout(width=1500, height=1500)\n",
    "fig.show()"
   ]
  },
  {
   "cell_type": "markdown",
   "metadata": {},
   "source": [
    "В соответствии с тепловой картой можем выделить следующие пары признаков с сильно й корреляцией:\n",
    "1. *additional_number_of_scoring*  и total_number_of_reviews\n",
    "2. lat и *hotel_country*\n",
    "3. *reviewer_nationality* и hotel_country_is_reviewer_nationality\n",
    "4. Leisure trip и *Business trip*\n",
    "5. *days_since_review* и year\n",
    "\n",
    "Предлагаю удалить признаки: total_number_of_reviews, lat, hotel_country_is_reviewer_nationality, Leisure trip, year"
   ]
  },
  {
   "cell_type": "code",
   "execution_count": 1262,
   "metadata": {},
   "outputs": [],
   "source": [
    "data = data.drop(['total_number_of_reviews', 'lat', 'hotel_country_is_reviewer_nationality', 'Leisure trip', 'year'], axis = 1) "
   ]
  },
  {
   "cell_type": "code",
   "execution_count": 1263,
   "metadata": {},
   "outputs": [
    {
     "data": {
      "application/vnd.plotly.v1+json": {
       "config": {
        "plotlyServerURL": "https://plot.ly"
       },
       "data": [
        {
         "coloraxis": "coloraxis",
         "hovertemplate": "x: %{x}<br>y: %{y}<br>color: %{z}<extra></extra>",
         "name": "0",
         "texttemplate": "%{z}",
         "type": "heatmap",
         "x": [
          "additional_number_of_scoring",
          "average_score",
          "reviewer_nationality",
          "review_total_negative_word_counts",
          "review_total_positive_word_counts",
          "total_number_of_reviews_reviewer_has_given",
          "reviewer_score",
          "days_since_review",
          "lng",
          "train",
          "hotel_country",
          "day_of_week",
          "quarter",
          "royal",
          "luxury",
          "appart",
          "hotel_name_0",
          "hotel_name_1",
          "hotel_name_2",
          "hotel_name_3",
          "hotel_name_4",
          "hotel_name_5",
          "hotel_name_6",
          "hotel_name_7",
          "hotel_name_8",
          "hotel_name_9",
          "hotel_name_10",
          "negative_stuff",
          "positive_stuff",
          "is_awful",
          "is_great",
          "negative_clean",
          "positive_clean",
          "negative_review_neg",
          "negative_review_pos",
          "positive_review_neg",
          "positive_review_pos",
          "Submitted from a mobile device",
          "Couple",
          "Solo traveler",
          "Business trip",
          "Group",
          "Family with young children",
          "stayed"
         ],
         "xaxis": "x",
         "y": [
          "additional_number_of_scoring",
          "average_score",
          "reviewer_nationality",
          "review_total_negative_word_counts",
          "review_total_positive_word_counts",
          "total_number_of_reviews_reviewer_has_given",
          "reviewer_score",
          "days_since_review",
          "lng",
          "train",
          "hotel_country",
          "day_of_week",
          "quarter",
          "royal",
          "luxury",
          "appart",
          "hotel_name_0",
          "hotel_name_1",
          "hotel_name_2",
          "hotel_name_3",
          "hotel_name_4",
          "hotel_name_5",
          "hotel_name_6",
          "hotel_name_7",
          "hotel_name_8",
          "hotel_name_9",
          "hotel_name_10",
          "negative_stuff",
          "positive_stuff",
          "is_awful",
          "is_great",
          "negative_clean",
          "positive_clean",
          "negative_review_neg",
          "negative_review_pos",
          "positive_review_neg",
          "positive_review_pos",
          "Submitted from a mobile device",
          "Couple",
          "Solo traveler",
          "Business trip",
          "Group",
          "Family with young children",
          "stayed"
         ],
         "yaxis": "y",
         "z": [
          [
           1,
           -0.15301238346709775,
           -0.20033550499086725,
           0.02919279477298855,
           -0.0531327433380434,
           -0.07197102317779036,
           -0.018714146621716516,
           0.0119356085692101,
           -0.2953963903836359,
           0.0007930087573645981,
           -0.36679490210231513,
           -0.011507638757648181,
           -0.01461433920440002,
           0.03046670035574689,
           -0.04186151903969422,
           -0.018569884342063765,
           -0.2602590870886949,
           -0.29478464400234894,
           -0.24895487100399605,
           -0.08518724988273824,
           -0.023474861819683734,
           0.02602581961778281,
           0.04365619800303591,
           -0.027317826609086385,
           -0.0030738400081265285,
           -0.07454723568944366,
           -0.06054228051425357,
           -0.0008992150173587403,
           -0.02458646200532732,
           0.016632280602726823,
           -0.0017643529294122334,
           0.009763177372668042,
           -0.026952408812000946,
           -0.04053439763542883,
           0.0017646192184418831,
           0.03137216252991369,
           -0.013691972790493327,
           0.042671231057083966,
           0.011036818057900003,
           -0.006431365544346953,
           -0.004199735743110923,
           0.003683023567672921,
           -0.006752375413773096,
           -0.10923331963794258
          ],
          [
           -0.15301238346709775,
           1,
           0.03725005792323981,
           -0.11234653186631414,
           0.10672276939296178,
           0.03652908808797994,
           0.11368637895303231,
           -0.01396140530684884,
           0.10596565108224257,
           -0.0006590965416146883,
           0.12825693084352013,
           -0.007753050689409149,
           -0.009048326909641927,
           -0.008206150103602415,
           0.054439938301396054,
           0.004111452086716945,
           0.04009274827612093,
           0.06054641409204891,
           0.050502847295788224,
           -0.007464499374388699,
           -0.017179057879804883,
           0.002086913489239577,
           0.026417340009932785,
           0.09079290601210692,
           0.012644689448094265,
           0.006458818792200861,
           0.025761535557330288,
           -0.017643755049165363,
           0.008033181339693333,
           -0.030123577238429712,
           -0.00020265305555971404,
           -0.06924333687805363,
           -0.0038426816159448235,
           0.10956415087108433,
           0.005944160734622623,
           -0.09190493193136808,
           0.04051620744889889,
           0.004943303222921938,
           0.09452223973954448,
           -0.08258832095609304,
           -0.07177851500112857,
           -0.028151056944668046,
           -0.01046316680107324,
           0.013956378144899658
          ],
          [
           -0.20033550499086725,
           0.03725005792323981,
           1,
           -0.012922475520284384,
           0.010723108053852383,
           0.14793563258796402,
           -0.015378317435852315,
           -0.010722101385596101,
           0.28387436049072323,
           -0.001621528688249184,
           0.28132953027801777,
           0.04358353351224024,
           0.054962379202129125,
           0.0016508192237101606,
           0.02601916350165267,
           0.02764957354850753,
           0.09881505772803352,
           0.0816510862441859,
           0.04071363223497667,
           0.03129762235335759,
           0.009399833484573064,
           -0.0033943027497784083,
           -0.011504237032522086,
           0.007650704670200819,
           0.00047861787942857724,
           0.052545523451898175,
           -0.00010780959833283606,
           0.015448472573455585,
           0.054201122855066224,
           -0.015179310260839919,
           0.0005297238590420291,
           0.02680158075727555,
           0.0017038077691357587,
           0.018097020337956963,
           -0.010654704217079976,
           0.015035967763000797,
           -0.04620369906266668,
           -0.07841127977511655,
           -0.143453107191474,
           0.09176795799187595,
           0.05569057494997821,
           -0.014203558109152905,
           0.09302924614469893,
           0.31434061712181544
          ],
          [
           0.02919279477298855,
           -0.11234653186631414,
           -0.012922475520284384,
           1,
           0.11966409041883211,
           0.0032340020918348216,
           -0.12058079044288295,
           -0.04326083958854752,
           -0.019944330085598063,
           -0.0000209797418998925,
           -0.017353621756294273,
           -0.016327837737013656,
           -0.007340447685089001,
           0.00021071346501952241,
           -0.007991022053333852,
           -0.0017667788118551312,
           -0.015566695599920488,
           -0.009467507724407456,
           -0.00357628596179731,
           -0.0003862902435086275,
           -0.0015264361783919247,
           0.00228381492925618,
           -0.0030272781504629594,
           -0.011050333966177758,
           0.004467405619643345,
           -0.006724360654416026,
           -0.007175443401165069,
           0.0890440929998113,
           -0.006581221003915361,
           0.09628339054252726,
           0.00370462681296616,
           0.200352526292614,
           0.03272658081397194,
           -0.35250166071512135,
           0.10643151886965903,
           0.06716917113054675,
           -0.05627269298677238,
           -0.08229159120608583,
           -0.00462856317392153,
           0.002690971532147622,
           0.0046308123136323265,
           -0.004541905961905946,
           0.011510376855004055,
           0.03800703046449612
          ],
          [
           -0.0531327433380434,
           0.10672276939296178,
           0.010723108053852383,
           0.11966409041883211,
           1,
           0.026533573706449463,
           0.06902143825783472,
           -0.04499381148725293,
           0.03534475614379297,
           0.00006524298405874477,
           0.05258649187728026,
           -0.014555191151531926,
           -0.026089437395209816,
           -0.0031966249615534054,
           0.003018631471727224,
           -0.0004032790328976309,
           0.01381406251408294,
           0.016840604473059694,
           0.00987939966191034,
           0.006068115917112091,
           -0.005635256844016309,
           0.004049162300107778,
           -0.0020734401922980045,
           0.007606980328988353,
           0.004111880848674517,
           0.013016540435792626,
           0.010140140083032167,
           0.003448475959017855,
           0.03987854560249683,
           -0.006383553344911136,
           0.027956077381073814,
           0.0036117225593983,
           0.1778901225770721,
           0.037713189115427384,
           0.06127175713576529,
           -0.16903542280146908,
           -0.20961930551591998,
           -0.10813041643998635,
           0.03634699080088519,
           -0.040518024954399115,
           -0.07447271869229243,
           -0.00692485288104392,
           0.0006252952665915069,
           0.05470185953326399
          ],
          [
           -0.07197102317779036,
           0.03652908808797994,
           0.14793563258796402,
           0.0032340020918348216,
           0.026533573706449463,
           1,
           0.0023961371077789043,
           0.035088199591551614,
           0.11038323512532236,
           0.0017246985064367948,
           0.07940849054911123,
           0.016414245369168048,
           0.012337233092872062,
           -0.0075949330659848815,
           0.008587986196676754,
           0.013830551038505607,
           0.02333814725611007,
           0.020127649132743987,
           0.02078438305323383,
           0.011918631505962517,
           -0.0057128581128653684,
           0.0017798761801805982,
           -0.0024351849123035296,
           0.01147587946659752,
           -0.007223478279406356,
           0.015935993837246216,
           0.005690178656615315,
           0.0035805884778253774,
           0.010086810457914387,
           -0.005520390756345733,
           -0.0007981355280048408,
           -0.0008487435650029842,
           -0.011843061117530659,
           -0.015470916633281243,
           0.0005383571252822967,
           -0.04170109905379465,
           -0.026929891901145968,
           -0.13004462377981083,
           -0.04358627628260564,
           0.114711658885008,
           0.12955828149528734,
           -0.034448721004181566,
           -0.03310821812409544,
           -0.008980745512604997
          ],
          [
           -0.018714146621716516,
           0.11368637895303231,
           -0.015378317435852315,
           -0.12058079044288295,
           0.06902143825783472,
           0.0023961371077789043,
           1,
           0.00022523516928415398,
           0.010797597263172825,
           0.9318210862921948,
           0.015387347038062852,
           -0.0024857676892148187,
           -0.00961311592294663,
           -0.002487320443107499,
           0.005249116483508173,
           -0.0003991307803211776,
           0.002941033609534845,
           0.0068839603114211325,
           0.003879574145218948,
           -0.001213858150134423,
           -0.0004972594122879103,
           -0.0007537558205600273,
           0.002962277401588112,
           0.00857123760723425,
           0.0019921611307373585,
           0.0018848750202925103,
           0.005225327171263234,
           -0.020935497849751322,
           0.005864692863176498,
           -0.028413791931227436,
           -0.002060714914412991,
           -0.055750663389868595,
           0.02726490691867385,
           0.08490148747198908,
           0.003987504790774231,
           -0.08543641323567029,
           0.028782222440282175,
           0.005117100841174711,
           0.021880629674719054,
           -0.027912207540594407,
           -0.03803170105100758,
           0.004285230255765573,
           -0.005484210719426358,
           -0.0054146463637616965
          ],
          [
           0.0119356085692101,
           -0.01396140530684884,
           -0.010722101385596101,
           -0.04326083958854752,
           -0.04499381148725293,
           0.035088199591551614,
           0.00022523516928415398,
           1,
           -0.0009706347056553416,
           -0.0005482361695577032,
           -0.005268919430340148,
           0.05064368857987955,
           0.2008550398553391,
           0.0015219311737878346,
           0.0074890675353326275,
           0.00044165133461791046,
           -0.015693243236387468,
           -0.0073383503129914535,
           0.0019884927242714567,
           0.005644276764055991,
           0.006005674381261547,
           -0.008693823191033009,
           0.013213884656160843,
           -0.002345261842176785,
           -0.015514617707878922,
           -0.002247226340990839,
           0.005301589215231392,
           -0.00595280007323202,
           -0.0029630976773028775,
           -0.0032989094393157826,
           -0.0009419829870780711,
           -0.014701748000341559,
           0.0031604351467490474,
           0.05611046254435133,
           -0.03146620767845942,
           -0.035428824556574784,
           0.0034627735520857197,
           -0.037507409474953984,
           0.0458592671288388,
           0.009570403067444395,
           0.011393678119916276,
           -0.03321157642554547,
           -0.1530191917161318,
           0.0022704491435044513
          ],
          [
           -0.2953963903836359,
           0.10596565108224257,
           0.28387436049072323,
           -0.019944330085598063,
           0.03534475614379297,
           0.11038323512532236,
           0.010797597263172825,
           -0.0009706347056553416,
           1,
           -0.00011928676801982055,
           0.6316677918246578,
           0.01457215467768706,
           0.02602146685846392,
           -0.04060552959312773,
           0.057907055731159326,
           0.10841823439051647,
           0.1028837614155954,
           0.13416181967224286,
           0.08875338736838202,
           0.030539164882549177,
           -0.023827982884982744,
           0.039920102688477684,
           -0.030094985517196943,
           0.039344357771968215,
           0.03167865754094398,
           0.07397309051445572,
           -0.007993156570275117,
           0.007654969061670132,
           0.030557674737533153,
           -0.00935530435898771,
           -0.0016345013562073197,
           0.00551081631372777,
           0.03103740132943023,
           0.032982117407893446,
           0.0019266197217141898,
           -0.009006410273040241,
           -0.007600206066934757,
           -0.0598920656326242,
           -0.0242991221818903,
           -0.013579501036584092,
           -0.0006120373620435567,
           0.022607581320110395,
           0.025587952129583015,
           0.10640199222211626
          ],
          [
           0.0007930087573645981,
           -0.0006590965416146883,
           -0.001621528688249184,
           -0.0000209797418998925,
           0.00006524298405874477,
           0.0017246985064367948,
           0.9318210862921948,
           -0.0005482361695577032,
           -0.00011928676801982055,
           1,
           0.00009296246332498792,
           0.00030999963797121127,
           0.0013565660324573211,
           -0.00035205309607329777,
           -0.00030007845573855373,
           -0.0009375281741168595,
           -0.0013844607912547892,
           -0.0006163992542535525,
           -0.0013327182006691394,
           0.0009170859203541776,
           0.0013145623572862484,
           -0.0009654732745659465,
           -0.001883226375816917,
           -0.0022662228173081648,
           0.0005748026930394619,
           0.00019522117704202235,
           0.0011402861062665287,
           -0.0019625400725017117,
           -0.000058369847777628965,
           -0.001294466702226185,
           -0.00169480371276808,
           -0.0007127325590354191,
           -0.00026327002979352536,
           -0.0006108815426029554,
           0.0009234116320534693,
           -0.0007003271713029792,
           -0.0015347849812645269,
           0.0004709967635167449,
           -0.00010943999332107518,
           -0.0019203058707020486,
           -0.0026410373786164934,
           0.0006198758247570816,
           0.0010733377636432601,
           -0.0008208293686729704
          ],
          [
           -0.36679490210231513,
           0.12825693084352013,
           0.28132953027801777,
           -0.017353621756294273,
           0.05258649187728026,
           0.07940849054911123,
           0.015387347038062852,
           -0.005268919430340148,
           0.6316677918246578,
           0.00009296246332498792,
           1,
           0.021168978471026084,
           0.025983630858831975,
           -0.0256025033490954,
           0.02048393417019036,
           0.05185848143230616,
           0.11093337670488318,
           0.15902179071147046,
           0.08385817479153658,
           0.040406007780691235,
           -0.011282822916890164,
           0.01849339717716106,
           -0.04568128682639259,
           0.011645337233780103,
           -0.03888910825336289,
           0.09600294030604863,
           0.02964154674963348,
           0.003596167942865352,
           0.02952646513041623,
           -0.007941528435218136,
           0.0012560232625934236,
           0.010614509613924837,
           0.03384444618719759,
           0.034444934494434504,
           0.00134628431720145,
           -0.01771744849393276,
           -0.0040908500260816655,
           -0.040669990309552484,
           -0.01561814134824896,
           -0.04774571937038178,
           -0.04785613186540222,
           0.037650056905390514,
           0.033437892946948426,
           0.2056805061435481
          ],
          [
           -0.011507638757648181,
           -0.007753050689409149,
           0.04358353351224024,
           -0.016327837737013656,
           -0.014555191151531926,
           0.016414245369168048,
           -0.0024857676892148187,
           0.05064368857987955,
           0.01457215467768706,
           0.00030999963797121127,
           0.021168978471026084,
           1,
           0.020809677067276527,
           0.0024367545492692427,
           0.005699676120484839,
           0.002593864002060388,
           0.0017735836121095384,
           0.00628143668338729,
           -0.003416750480270777,
           0.004436270752428784,
           -0.003907316901914722,
           -0.006148949511592304,
           0.0017441764846610288,
           -0.0030420942884087495,
           -0.002319027928321409,
           0.002599728628061155,
           0.00041352195947408376,
           -0.00020184520351179862,
           0.0006658413473832353,
           -0.0017671103478945434,
           0.0008414214060466186,
           -0.0005981312743003034,
           -0.008115229357639787,
           0.0035123873929612213,
           -0.0050215650003041816,
           0.0020736574481014687,
           -0.0065547978938039425,
           0.10578693364880133,
           -0.03401180656850968,
           0.05581083105574576,
           0.057651546819109674,
           -0.028767445669449894,
           -0.002482761160401914,
           0.04110894338988938
          ],
          [
           -0.01461433920440002,
           -0.009048326909641927,
           0.054962379202129125,
           -0.007340447685089001,
           -0.026089437395209816,
           0.012337233092872062,
           -0.00961311592294663,
           0.2008550398553391,
           0.02602146685846392,
           0.0013565660324573211,
           0.025983630858831975,
           0.020809677067276527,
           1,
           -0.004159296799954142,
           0.000045558787356138776,
           0.003036208156695074,
           0.008738978745082155,
           0.008732158174571382,
           0.0035184661581796335,
           0.0015988122549250555,
           0.0038244618236365885,
           0.0050360334439690044,
           -0.0039584385669399254,
           -0.006768190148639662,
           -0.00710270231073358,
           -0.0003436371328417933,
           -0.009582547842552868,
           -0.002488820146539643,
           -0.0004424642632143889,
           -0.0022347322014419843,
           0.0005597587800071354,
           0.00009188557964543096,
           -0.006920633367914124,
           0.014379268241674582,
           -0.011463293778228544,
           -0.005483348502940564,
           -0.011376904308789309,
           -0.002743128478622682,
           0.0029508633108208393,
           -0.012072537007008418,
           -0.007355663703923916,
           -0.001639045935347979,
           -0.002828974512211398,
           0.027408333576904594
          ],
          [
           0.03046670035574689,
           -0.008206150103602415,
           0.0016508192237101606,
           0.00021071346501952241,
           -0.0031966249615534054,
           -0.0075949330659848815,
           -0.002487320443107499,
           0.0015219311737878346,
           -0.04060552959312773,
           -0.00035205309607329777,
           -0.0256025033490954,
           0.0024367545492692427,
           -0.004159296799954142,
           1,
           -0.008481181257347049,
           -0.0052082726185275815,
           -0.0026283056994562725,
           -0.015739637373868697,
           -0.035596070529815504,
           0.07219347263378718,
           -0.042466239333844476,
           -0.08068712074801597,
           0.05549849641060576,
           0.0033526969502521826,
           -0.06632547720618354,
           -0.07145867375979978,
           -0.00549133457498908,
           -0.0007407884853989255,
           -0.0007735356963423853,
           0.0009617752243148188,
           -0.0008968032364056112,
           0.0003131984471464088,
           -0.009256893294346825,
           -0.006555166886783133,
           0.0009128713384549307,
           0.003619147488867582,
           -0.0019537496165613066,
           0.004328701529370223,
           0.002669910718086729,
           -0.00009065114673333272,
           -0.0014127643538601152,
           -0.0062790242001843155,
           0.001273244060626741,
           0.00937563614700229
          ],
          [
           -0.04186151903969422,
           0.054439938301396054,
           0.02601916350165267,
           -0.007991022053333852,
           0.003018631471727224,
           0.008587986196676754,
           0.005249116483508173,
           0.0074890675353326275,
           0.057907055731159326,
           -0.00030007845573855373,
           0.02048393417019036,
           0.005699676120484839,
           0.000045558787356138776,
           -0.008481181257347049,
           1,
           -0.0021796775574307297,
           0.011549821285141858,
           0.04207238727578526,
           -0.020024805294041235,
           -0.0031361014882043074,
           0.003894860260142248,
           -0.046627430794975264,
           0.006799569012831118,
           -0.015067467814413985,
           -0.005812675172717369,
           0.023493564381876355,
           0.03371401294965007,
           -0.0007912485072799211,
           0.0002989699381417713,
           -0.0016849089872494603,
           -0.00037531481759825106,
           -0.0050665408257281426,
           -0.01046514542993464,
           0.005854206364679482,
           0.002734084042103715,
           -0.0030919343504298897,
           -0.003177986479036017,
           0.005897118327044923,
           -0.00004823973605199584,
           -0.0013358929577852268,
           -0.00232619792019297,
           -0.0031596360293876464,
           0.0034696076781011768,
           0.019811846299263067
          ],
          [
           -0.018569884342063765,
           0.004111452086716945,
           0.02764957354850753,
           -0.0017667788118551312,
           -0.0004032790328976309,
           0.013830551038505607,
           -0.0003991307803211776,
           0.00044165133461791046,
           0.10841823439051647,
           -0.0009375281741168595,
           0.05185848143230616,
           0.002593864002060388,
           0.003036208156695074,
           -0.0052082726185275815,
           -0.0021796775574307297,
           1,
           -0.01185927988842009,
           0.003149698201659581,
           -0.028340016248789162,
           -0.008539615911761802,
           -0.03373105742376024,
           0.03599725098280882,
           0.035654432344300754,
           0.011733822530751451,
           0.03609069798074656,
           0.03690559507576007,
           -0.03524767935152668,
           0.001331726238877703,
           0.0032064564102947286,
           -0.0009536736944718901,
           -0.0002304799094030938,
           0.00249315215961605,
           0.011167064278484792,
           0.00235779030658029,
           -0.0025642033195980617,
           0.0019315424356803903,
           -0.0011794442818113073,
           -0.005953992957890552,
           -0.01306898934206709,
           -0.009119139386177847,
           -0.004162250621113832,
           0.002653582034286877,
           0.02309376403083418,
           -0.00528046535435706
          ],
          [
           -0.2602590870886949,
           0.04009274827612093,
           0.09881505772803352,
           -0.015566695599920488,
           0.01381406251408294,
           0.02333814725611007,
           0.002941033609534845,
           -0.015693243236387468,
           0.1028837614155954,
           -0.0013844607912547892,
           0.11093337670488318,
           0.0017735836121095384,
           0.008738978745082155,
           -0.0026283056994562725,
           0.011549821285141858,
           -0.01185927988842009,
           1,
           -0.20595287673489607,
           -0.05936894526407728,
           -0.04485932740431164,
           -0.02217108027352485,
           0.005047440388165915,
           -0.006217614593937668,
           -0.022783818886701928,
           0.010954455455359275,
           0.002382856473234587,
           -0.018165433580420994,
           0.0000048178086210973475,
           0.012961622867922152,
           -0.005452428383359108,
           0.0015374033238505032,
           -0.00022613805791892814,
           0.006756990373962037,
           0.018127146304372652,
           -0.0030290922192424876,
           -0.004847997462405113,
           0.001633302247869157,
           -0.015096309745292556,
           -0.01309561992996228,
           0.008306479036324824,
           0.011437859365177232,
           -0.006253814009579243,
           0.017018412751808702,
           0.048874523155555676
          ],
          [
           -0.29478464400234894,
           0.06054641409204891,
           0.0816510862441859,
           -0.009467507724407456,
           0.016840604473059694,
           0.020127649132743987,
           0.0068839603114211325,
           -0.0073383503129914535,
           0.13416181967224286,
           -0.0006163992542535525,
           0.15902179071147046,
           0.00628143668338729,
           0.008732158174571382,
           -0.015739637373868697,
           0.04207238727578526,
           0.003149698201659581,
           -0.20595287673489607,
           1,
           0.04139667823370932,
           0.0038718925608414514,
           -0.02393150240152248,
           -0.013831629251281183,
           -0.02378106674908654,
           0.031530661460404036,
           -0.005659803566336628,
           -0.010864845634385176,
           0.00841323495939887,
           0.0003364424527811238,
           0.011016991813273837,
           -0.005011827508113429,
           -0.0012190776881558297,
           -0.0004924861947823565,
           0.00575917883551344,
           0.013152664131212877,
           0.0009118424021705892,
           -0.010071823856060078,
           0.005263590892810404,
           -0.013769379108879515,
           -0.0016469710700862212,
           -0.006254974388843031,
           -0.00497991380870629,
           -0.0011247897217346592,
           0.006449805579507684,
           0.04437667147839895
          ],
          [
           -0.24895487100399605,
           0.050502847295788224,
           0.04071363223497667,
           -0.00357628596179731,
           0.00987939966191034,
           0.02078438305323383,
           0.003879574145218948,
           0.0019884927242714567,
           0.08875338736838202,
           -0.0013327182006691394,
           0.08385817479153658,
           -0.003416750480270777,
           0.0035184661581796335,
           -0.035596070529815504,
           -0.020024805294041235,
           -0.028340016248789162,
           -0.05936894526407728,
           0.04139667823370932,
           1,
           -0.022052264654741874,
           -0.022114689682065564,
           0.0017977430212870779,
           -0.02042195222273799,
           -0.006759009766607486,
           0.001152465016540972,
           0.03534399480912767,
           -0.02920343887536636,
           0.0015862344972420051,
           0.00754812579943395,
           -0.005720797884193988,
           0.0011926753372053503,
           -0.0034110675690241605,
           0.0031834402330947983,
           0.005816473157206348,
           0.000767023102672947,
           -0.00841786013429458,
           0.003442234763342271,
           -0.012191334777915964,
           0.002343891190346893,
           0.008153603852923061,
           0.006977865835938147,
           -0.008406848094678569,
           -0.004869998087221931,
           0.006944564791128006
          ],
          [
           -0.08518724988273824,
           -0.007464499374388699,
           0.03129762235335759,
           -0.0003862902435086275,
           0.006068115917112091,
           0.011918631505962517,
           -0.001213858150134423,
           0.005644276764055991,
           0.030539164882549177,
           0.0009170859203541776,
           0.040406007780691235,
           0.004436270752428784,
           0.0015988122549250555,
           0.07219347263378718,
           -0.0031361014882043074,
           -0.008539615911761802,
           -0.04485932740431164,
           0.0038718925608414514,
           -0.022052264654741874,
           1,
           -0.011853146722871145,
           -0.02399358442199273,
           -0.00273194184482685,
           -0.006102692277481328,
           0.013725586098053577,
           0.01875693353336906,
           0.06200818155213563,
           0.0037423193513963365,
           0.0021143564975930488,
           -0.0008447894101087679,
           0.0007294065576464652,
           0.00039159034273874373,
           -0.001522212855704586,
           0.002767272689736058,
           0.0006325590032867092,
           -0.0014534662259787423,
           -0.0023776884323756403,
           -0.006966541079052711,
           -0.004794599789838428,
           0.011271563773418581,
           0.011925379367193702,
           -0.0041168748153202735,
           -0.0013923817446516592,
           0.022122990422039874
          ],
          [
           -0.023474861819683734,
           -0.017179057879804883,
           0.009399833484573064,
           -0.0015264361783919247,
           -0.005635256844016309,
           -0.0057128581128653684,
           -0.0004972594122879103,
           0.006005674381261547,
           -0.023827982884982744,
           0.0013145623572862484,
           -0.011282822916890164,
           -0.003907316901914722,
           0.0038244618236365885,
           -0.042466239333844476,
           0.003894860260142248,
           -0.03373105742376024,
           -0.02217108027352485,
           -0.02393150240152248,
           -0.022114689682065564,
           -0.011853146722871145,
           1,
           -0.0738244763618903,
           -0.03792231703542433,
           -0.017246876365324335,
           0.0343292918655348,
           0.022404583153588366,
           -0.011935506096125073,
           0.0007532753974603977,
           0.0004618272163756269,
           -0.0030980691514832953,
           0.003040581257245482,
           0.003626686614977149,
           -0.009894314224217894,
           0.000288400712015959,
           0.003726255486353305,
           0.003460528544582104,
           -0.0006638846402175872,
           -0.0010950803647533246,
           -0.011333294564601908,
           0.008824290952520533,
           0.007149424829772793,
           0.0008990413882346037,
           0.0049855071691181215,
           0.013825831598414077
          ],
          [
           0.02602581961778281,
           0.002086913489239577,
           -0.0033943027497784083,
           0.00228381492925618,
           0.004049162300107778,
           0.0017798761801805982,
           -0.0007537558205600273,
           -0.008693823191033009,
           0.039920102688477684,
           -0.0009654732745659465,
           0.01849339717716106,
           -0.006148949511592304,
           0.0050360334439690044,
           -0.08068712074801597,
           -0.046627430794975264,
           0.03599725098280882,
           0.005047440388165915,
           -0.013831629251281183,
           0.0017977430212870779,
           -0.02399358442199273,
           -0.0738244763618903,
           1,
           -0.011037827372654914,
           0.00480476892980987,
           0.005055244369149047,
           0.010462377917522723,
           0.02722773474022626,
           -0.0013468754807725884,
           0.001886627624916234,
           0.0018523986429677742,
           0.001157898278707137,
           -0.0035179348117612935,
           -0.0018601179406698535,
           0.0045773922205195414,
           -0.002730390694649182,
           -0.0009132384190918617,
           -0.003037852701620226,
           0.0008796827410612842,
           0.008928374437881631,
           0.004400104349462334,
           0.004423783226427949,
           -0.002293091398594626,
           -0.015104754034750943,
           -0.010983051535671803
          ],
          [
           0.04365619800303591,
           0.026417340009932785,
           -0.011504237032522086,
           -0.0030272781504629594,
           -0.0020734401922980045,
           -0.0024351849123035296,
           0.002962277401588112,
           0.013213884656160843,
           -0.030094985517196943,
           -0.001883226375816917,
           -0.04568128682639259,
           0.0017441764846610288,
           -0.0039584385669399254,
           0.05549849641060576,
           0.006799569012831118,
           0.035654432344300754,
           -0.006217614593937668,
           -0.02378106674908654,
           -0.02042195222273799,
           -0.00273194184482685,
           -0.03792231703542433,
           -0.011037827372654914,
           1,
           0.017107631804129234,
           0.01348543009604699,
           0.031341890608492184,
           0.04528253392888471,
           -0.00031535757240189,
           -0.0019366017169558853,
           -0.0016817517215944838,
           0.0010978557695313581,
           -0.00016002517493023713,
           0.0009390320853611681,
           0.0018842563105481702,
           -0.0015072874483467843,
           -0.0038211972033288114,
           0.002977926766465351,
           0.0011611586126846621,
           0.009467668787950648,
           0.0014322131843606384,
           0.0009020318274090243,
           -0.004260026819840256,
           -0.011775062498459525,
           -0.004647404353237751
          ],
          [
           -0.027317826609086385,
           0.09079290601210692,
           0.007650704670200819,
           -0.011050333966177758,
           0.007606980328988353,
           0.01147587946659752,
           0.00857123760723425,
           -0.002345261842176785,
           0.039344357771968215,
           -0.0022662228173081648,
           0.011645337233780103,
           -0.0030420942884087495,
           -0.006768190148639662,
           0.0033526969502521826,
           -0.015067467814413985,
           0.011733822530751451,
           -0.022783818886701928,
           0.031530661460404036,
           -0.006759009766607486,
           -0.006102692277481328,
           -0.017246876365324335,
           0.00480476892980987,
           0.017107631804129234,
           1,
           0.007636655028901755,
           0.055657808942811894,
           0.04725498581736616,
           0.0011748439861531275,
           0.00025228811202099256,
           -0.0049907283811740834,
           -0.0022661745999986,
           -0.00876589278023013,
           0.008889556827877997,
           0.00694560419242442,
           0.0018062878397433594,
           -0.010344260955174208,
           0.002606162893059396,
           -0.005869184092412282,
           0.011990287983615589,
           -0.008435751199102837,
           -0.006442682986213664,
           0.0026006104194290255,
           -0.007806914618711607,
           -0.004169472820239679
          ],
          [
           -0.0030738400081265285,
           0.012644689448094265,
           0.00047861787942857724,
           0.004467405619643345,
           0.004111880848674517,
           -0.007223478279406356,
           0.0019921611307373585,
           -0.015514617707878922,
           0.03167865754094398,
           0.0005748026930394619,
           -0.03888910825336289,
           -0.002319027928321409,
           -0.00710270231073358,
           -0.06632547720618354,
           -0.005812675172717369,
           0.03609069798074656,
           0.010954455455359275,
           -0.005659803566336628,
           0.001152465016540972,
           0.013725586098053577,
           0.0343292918655348,
           0.005055244369149047,
           0.01348543009604699,
           0.007636655028901755,
           1,
           0.05263099463231418,
           0.001275024874320801,
           -0.00015210836985596478,
           -0.00038292526077552,
           -0.00012415616645548353,
           0.0007541663241890405,
           -0.001405361823240978,
           0.005426798976494007,
           -0.0021798630100561102,
           0.0004684421792406204,
           0.0018450341772203952,
           -0.0005580630757717856,
           -0.00024767289265392197,
           -0.004007071873147298,
           -0.004371800787868808,
           0.0015758126325112227,
           0.0008173315773130989,
           0.009886473702376898,
           -0.012411969974379421
          ],
          [
           -0.07454723568944366,
           0.006458818792200861,
           0.052545523451898175,
           -0.006724360654416026,
           0.013016540435792626,
           0.015935993837246216,
           0.0018848750202925103,
           -0.002247226340990839,
           0.07397309051445572,
           0.00019522117704202235,
           0.09600294030604863,
           0.002599728628061155,
           -0.0003436371328417933,
           -0.07145867375979978,
           0.023493564381876355,
           0.03690559507576007,
           0.002382856473234587,
           -0.010864845634385176,
           0.03534399480912767,
           0.01875693353336906,
           0.022404583153588366,
           0.010462377917522723,
           0.031341890608492184,
           0.055657808942811894,
           0.05263099463231418,
           1,
           0.021830757600341928,
           -0.0004144120129957935,
           0.006326908012095887,
           -0.001867294119580644,
           0.0013147769976342809,
           0.00193320735885844,
           -0.0058570882023414265,
           0.0062630290305773035,
           -0.0009075435834521676,
           -0.004658923153161666,
           -0.0015597007476175035,
           -0.010360602905973388,
           -0.006222114173805675,
           0.0026534095302311283,
           0.0007652482800035807,
           0.002562467510029136,
           0.0019790165444898036,
           0.02760927800312393
          ],
          [
           -0.06054228051425357,
           0.025761535557330288,
           -0.00010780959833283606,
           -0.007175443401165069,
           0.010140140083032167,
           0.005690178656615315,
           0.005225327171263234,
           0.005301589215231392,
           -0.007993156570275117,
           0.0011402861062665287,
           0.02964154674963348,
           0.00041352195947408376,
           -0.009582547842552868,
           -0.00549133457498908,
           0.03371401294965007,
           -0.03524767935152668,
           -0.018165433580420994,
           0.00841323495939887,
           -0.02920343887536636,
           0.06200818155213563,
           -0.011935506096125073,
           0.02722773474022626,
           0.04528253392888471,
           0.04725498581736616,
           0.001275024874320801,
           0.021830757600341928,
           1,
           -0.00019028873826409774,
           0.0016047038178172658,
           -0.001695621749373517,
           -0.00018545402565779288,
           -0.005603853702075406,
           0.007989565960456807,
           0.008062661543716416,
           -0.0028715416255404042,
           -0.00633961349618289,
           0.00343829240776467,
           -0.009581728882293262,
           0.0021725290550186735,
           0.008547120811277138,
           0.004097500748526616,
           0.00023101738496241836,
           -0.012317781596764926,
           0.01093727564400877
          ],
          [
           -0.0008992150173587403,
           -0.017643755049165363,
           0.015448472573455585,
           0.0890440929998113,
           0.003448475959017855,
           0.0035805884778253774,
           -0.020935497849751322,
           -0.00595280007323202,
           0.007654969061670132,
           -0.0019625400725017117,
           0.003596167942865352,
           -0.00020184520351179862,
           -0.002488820146539643,
           -0.0007407884853989255,
           -0.0007912485072799211,
           0.001331726238877703,
           0.0000048178086210973475,
           0.0003364424527811238,
           0.0015862344972420051,
           0.0037423193513963365,
           0.0007532753974603977,
           -0.0013468754807725884,
           -0.00031535757240189,
           0.0011748439861531275,
           -0.00015210836985596478,
           -0.0004144120129957935,
           -0.00019028873826409774,
           1,
           0.024758597322966844,
           0.011037236207325975,
           0.002617687484359514,
           0.03039478568941064,
           0.00010752853683763518,
           -0.037083790326793646,
           0.01009490656695767,
           0.012581405604266512,
           -0.005844165619648831,
           -0.004800891141405058,
           -0.006062728414215953,
           0.005423824867564511,
           0.004686063996293413,
           0.00036614537572434244,
           0.00306540957466879,
           0.009901153478990607
          ],
          [
           -0.02458646200532732,
           0.008033181339693333,
           0.054201122855066224,
           -0.006581221003915361,
           0.03987854560249683,
           0.010086810457914387,
           0.005864692863176498,
           -0.0029630976773028775,
           0.030557674737533153,
           -0.000058369847777628965,
           0.02952646513041623,
           0.0006658413473832353,
           -0.0004424642632143889,
           -0.0007735356963423853,
           0.0002989699381417713,
           0.0032064564102947286,
           0.012961622867922152,
           0.011016991813273837,
           0.00754812579943395,
           0.0021143564975930488,
           0.0004618272163756269,
           0.001886627624916234,
           -0.0019366017169558853,
           0.00025228811202099256,
           -0.00038292526077552,
           0.006326908012095887,
           0.0016047038178172658,
           0.024758597322966844,
           1,
           -0.002488343477518684,
           0.004857931122758669,
           0.0022202905477308084,
           0.023807034697561697,
           0.010432798174872148,
           -0.000725068583479633,
           -0.018919737230014364,
           0.0034233188978538207,
           -0.006753435387444236,
           -0.009819351689932955,
           0.005561541490259049,
           0.002089711168764437,
           0.0011509063402725826,
           0.00838963904975238,
           0.027871530866193095
          ],
          [
           0.016632280602726823,
           -0.030123577238429712,
           -0.015179310260839919,
           0.09628339054252726,
           -0.006383553344911136,
           -0.005520390756345733,
           -0.028413791931227436,
           -0.0032989094393157826,
           -0.00935530435898771,
           -0.001294466702226185,
           -0.007941528435218136,
           -0.0017671103478945434,
           -0.0022347322014419843,
           0.0009617752243148188,
           -0.0016849089872494603,
           -0.0009536736944718901,
           -0.005452428383359108,
           -0.005011827508113429,
           -0.005720797884193988,
           -0.0008447894101087679,
           -0.0030980691514832953,
           0.0018523986429677742,
           -0.0016817517215944838,
           -0.0049907283811740834,
           -0.00012415616645548353,
           -0.001867294119580644,
           -0.001695621749373517,
           0.011037236207325975,
           -0.002488343477518684,
           1,
           0.0024888136157743303,
           0.018043062374475505,
           -0.004291673508535347,
           -0.018458141318889242,
           0.0007854829401143361,
           0.01964021367728846,
           -0.005769281480279208,
           0.0010048726227246908,
           0.0010873198094741097,
           0.0001187515050223171,
           0.006818868109940161,
           0.001142843275458167,
           -0.00032509539761917713,
           -0.005768255460645982
          ],
          [
           -0.0017643529294122334,
           -0.00020265305555971404,
           0.0005297238590420291,
           0.00370462681296616,
           0.027956077381073814,
           -0.0007981355280048408,
           -0.002060714914412991,
           -0.0009419829870780711,
           -0.0016345013562073197,
           -0.00169480371276808,
           0.0012560232625934236,
           0.0008414214060466186,
           0.0005597587800071354,
           -0.0008968032364056112,
           -0.00037531481759825106,
           -0.0002304799094030938,
           0.0015374033238505032,
           -0.0012190776881558297,
           0.0011926753372053503,
           0.0007294065576464652,
           0.003040581257245482,
           0.001157898278707137,
           0.0010978557695313581,
           -0.0022661745999986,
           0.0007541663241890405,
           0.0013147769976342809,
           -0.00018545402565779288,
           0.002617687484359514,
           0.004857931122758669,
           0.0024888136157743303,
           1,
           0.002288823676938537,
           0.0022024042557606347,
           -0.0018881082384523517,
           0.0009301164614827023,
           0.0024836472281656815,
           -0.003772457415778221,
           -0.0038077196219733172,
           0.0005566918704087273,
           -0.0011918888798650002,
           0.00010051733082218822,
           0.0001235273074593448,
           0.0015929659383395656,
           0.0021881904861644533
          ],
          [
           0.009763177372668042,
           -0.06924333687805363,
           0.02680158075727555,
           0.200352526292614,
           0.0036117225593983,
           -0.0008487435650029842,
           -0.055750663389868595,
           -0.014701748000341559,
           0.00551081631372777,
           -0.0007127325590354191,
           0.010614509613924837,
           -0.0005981312743003034,
           0.00009188557964543096,
           0.0003131984471464088,
           -0.0050665408257281426,
           0.00249315215961605,
           -0.00022613805791892814,
           -0.0004924861947823565,
           -0.0034110675690241605,
           0.00039159034273874373,
           0.003626686614977149,
           -0.0035179348117612935,
           -0.00016002517493023713,
           -0.00876589278023013,
           -0.001405361823240978,
           0.00193320735885844,
           -0.005603853702075406,
           0.03039478568941064,
           0.0022202905477308084,
           0.018043062374475505,
           0.002288823676938537,
           1,
           -0.02645677766673076,
           -0.10118543907179003,
           0.07923580296500238,
           0.024608998889885995,
           -0.025222012952960397,
           -0.01165334956512276,
           -0.011050317204386668,
           0.005380647344332687,
           0.0033852335272871554,
           -0.005222491907749698,
           0.01557600332898755,
           0.05507380030382679
          ],
          [
           -0.026952408812000946,
           -0.0038426816159448235,
           0.0017038077691357587,
           0.03272658081397194,
           0.1778901225770721,
           -0.011843061117530659,
           0.02726490691867385,
           0.0031604351467490474,
           0.03103740132943023,
           -0.00026327002979352536,
           0.03384444618719759,
           -0.008115229357639787,
           -0.006920633367914124,
           -0.009256893294346825,
           -0.01046514542993464,
           0.011167064278484792,
           0.006756990373962037,
           0.00575917883551344,
           0.0031834402330947983,
           -0.001522212855704586,
           -0.009894314224217894,
           -0.0018601179406698535,
           0.0009390320853611681,
           0.008889556827877997,
           0.005426798976494007,
           -0.0058570882023414265,
           0.007989565960456807,
           0.00010752853683763518,
           0.023807034697561697,
           -0.004291673508535347,
           0.0022024042557606347,
           -0.02645677766673076,
           1,
           -0.005044494125752167,
           0.01774616798393784,
           -0.11084952873231238,
           0.09736262230088409,
           -0.029655324534991555,
           -0.00834996812980899,
           -0.009035773939983853,
           -0.022772889876542326,
           0.01323271339709895,
           0.0012666438082757448,
           0.020072424256977847
          ],
          [
           -0.04053439763542883,
           0.10956415087108433,
           0.018097020337956963,
           -0.35250166071512135,
           0.037713189115427384,
           -0.015470916633281243,
           0.08490148747198908,
           0.05611046254435133,
           0.032982117407893446,
           -0.0006108815426029554,
           0.034444934494434504,
           0.0035123873929612213,
           0.014379268241674582,
           -0.006555166886783133,
           0.005854206364679482,
           0.00235779030658029,
           0.018127146304372652,
           0.013152664131212877,
           0.005816473157206348,
           0.002767272689736058,
           0.000288400712015959,
           0.0045773922205195414,
           0.0018842563105481702,
           0.00694560419242442,
           -0.0021798630100561102,
           0.0062630290305773035,
           0.008062661543716416,
           -0.037083790326793646,
           0.010432798174872148,
           -0.018458141318889242,
           -0.0018881082384523517,
           -0.10118543907179003,
           -0.005044494125752167,
           1,
           -0.3019736896408255,
           -0.11399580834657312,
           0.033118284427031575,
           0.0030047653779276496,
           0.0073409586825740735,
           -0.012299976390442984,
           -0.01673953137401212,
           0.008014296773904021,
           -0.00945067287162802,
           -0.03328011962745291
          ],
          [
           0.0017646192184418831,
           0.005944160734622623,
           -0.010654704217079976,
           0.10643151886965903,
           0.06127175713576529,
           0.0005383571252822967,
           0.003987504790774231,
           -0.03146620767845942,
           0.0019266197217141898,
           0.0009234116320534693,
           0.00134628431720145,
           -0.0050215650003041816,
           -0.011463293778228544,
           0.0009128713384549307,
           0.002734084042103715,
           -0.0025642033195980617,
           -0.0030290922192424876,
           0.0009118424021705892,
           0.000767023102672947,
           0.0006325590032867092,
           0.003726255486353305,
           -0.002730390694649182,
           -0.0015072874483467843,
           0.0018062878397433594,
           0.0004684421792406204,
           -0.0009075435834521676,
           -0.0028715416255404042,
           0.01009490656695767,
           -0.000725068583479633,
           0.0007854829401143361,
           0.0009301164614827023,
           0.07923580296500238,
           0.01774616798393784,
           -0.3019736896408255,
           1,
           0.008535942829459782,
           0.009008589509517096,
           -0.005800102097359874,
           0.0046880801634459285,
           -0.0013557723026869904,
           -0.007121222660321072,
           -0.0011290378454147326,
           -0.0022645573124913314,
           0.007103892826502578
          ],
          [
           0.03137216252991369,
           -0.09190493193136808,
           0.015035967763000797,
           0.06716917113054675,
           -0.16903542280146908,
           -0.04170109905379465,
           -0.08543641323567029,
           -0.035428824556574784,
           -0.009006410273040241,
           -0.0007003271713029792,
           -0.01771744849393276,
           0.0020736574481014687,
           -0.005483348502940564,
           0.003619147488867582,
           -0.0030919343504298897,
           0.0019315424356803903,
           -0.004847997462405113,
           -0.010071823856060078,
           -0.00841786013429458,
           -0.0014534662259787423,
           0.003460528544582104,
           -0.0009132384190918617,
           -0.0038211972033288114,
           -0.010344260955174208,
           0.0018450341772203952,
           -0.004658923153161666,
           -0.00633961349618289,
           0.012581405604266512,
           -0.018919737230014364,
           0.01964021367728846,
           0.0024836472281656815,
           0.024608998889885995,
           -0.11084952873231238,
           -0.11399580834657312,
           0.008535942829459782,
           1,
           0.18049823573603865,
           0.012383130936749986,
           -0.030298497947096263,
           0.03940539193284628,
           0.0561188226453257,
           0.004948399599319369,
           0.00349657756190517,
           -0.010928063736604198
          ],
          [
           -0.013691972790493327,
           0.04051620744889889,
           -0.04620369906266668,
           -0.05627269298677238,
           -0.20961930551591998,
           -0.026929891901145968,
           0.028782222440282175,
           0.0034627735520857197,
           -0.007600206066934757,
           -0.0015347849812645269,
           -0.0040908500260816655,
           -0.0065547978938039425,
           -0.011376904308789309,
           -0.0019537496165613066,
           -0.003177986479036017,
           -0.0011794442818113073,
           0.001633302247869157,
           0.005263590892810404,
           0.003442234763342271,
           -0.0023776884323756403,
           -0.0006638846402175872,
           -0.003037852701620226,
           0.002977926766465351,
           0.002606162893059396,
           -0.0005580630757717856,
           -0.0015597007476175035,
           0.00343829240776467,
           -0.005844165619648831,
           0.0034233188978538207,
           -0.005769281480279208,
           -0.003772457415778221,
           -0.025222012952960397,
           0.09736262230088409,
           0.033118284427031575,
           0.009008589509517096,
           0.18049823573603865,
           1,
           0.007873795084196646,
           0.004150539691243223,
           0.0015206082907574371,
           0.008551769098153226,
           0.010837286263064877,
           -0.017798529229190844,
           -0.03793259281561746
          ],
          [
           0.042671231057083966,
           0.004943303222921938,
           -0.07841127977511655,
           -0.08229159120608583,
           -0.10813041643998635,
           -0.13004462377981083,
           0.005117100841174711,
           -0.037507409474953984,
           -0.0598920656326242,
           0.0004709967635167449,
           -0.040669990309552484,
           0.10578693364880133,
           -0.002743128478622682,
           0.004328701529370223,
           0.005897118327044923,
           -0.005953992957890552,
           -0.015096309745292556,
           -0.013769379108879515,
           -0.012191334777915964,
           -0.006966541079052711,
           -0.0010950803647533246,
           0.0008796827410612842,
           0.0011611586126846621,
           -0.005869184092412282,
           -0.00024767289265392197,
           -0.010360602905973388,
           -0.009581728882293262,
           -0.004800891141405058,
           -0.006753435387444236,
           0.0010048726227246908,
           -0.0038077196219733172,
           -0.01165334956512276,
           -0.029655324534991555,
           0.0030047653779276496,
           -0.005800102097359874,
           0.012383130936749986,
           0.007873795084196646,
           1,
           0.04274483470002746,
           -0.10751356494088642,
           -0.14624429712437656,
           0.015856337750988176,
           0.03832574643689875,
           -0.01157646981467119
          ],
          [
           0.011036818057900003,
           0.09452223973954448,
           -0.143453107191474,
           -0.00462856317392153,
           0.03634699080088519,
           -0.04358627628260564,
           0.021880629674719054,
           0.0458592671288388,
           -0.0242991221818903,
           -0.00010943999332107518,
           -0.01561814134824896,
           -0.03401180656850968,
           0.0029508633108208393,
           0.002669910718086729,
           -0.00004823973605199584,
           -0.01306898934206709,
           -0.01309561992996228,
           -0.0016469710700862212,
           0.002343891190346893,
           -0.004794599789838428,
           -0.011333294564601908,
           0.008928374437881631,
           0.009467668787950648,
           0.011990287983615589,
           -0.004007071873147298,
           -0.006222114173805675,
           0.0021725290550186735,
           -0.006062728414215953,
           -0.009819351689932955,
           0.0010873198094741097,
           0.0005566918704087273,
           -0.011050317204386668,
           -0.00834996812980899,
           0.0073409586825740735,
           0.0046880801634459285,
           -0.030298497947096263,
           0.004150539691243223,
           0.04274483470002746,
           1,
           -0.5052150420302526,
           -0.27815682678056697,
           -0.37290821180769906,
           -0.35848349145401665,
           -0.03291980529918771
          ],
          [
           -0.006431365544346953,
           -0.08258832095609304,
           0.09176795799187595,
           0.002690971532147622,
           -0.040518024954399115,
           0.114711658885008,
           -0.027912207540594407,
           0.009570403067444395,
           -0.013579501036584092,
           -0.0019203058707020486,
           -0.04774571937038178,
           0.05581083105574576,
           -0.012072537007008418,
           -0.00009065114673333272,
           -0.0013358929577852268,
           -0.009119139386177847,
           0.008306479036324824,
           -0.006254974388843031,
           0.008153603852923061,
           0.011271563773418581,
           0.008824290952520533,
           0.004400104349462334,
           0.0014322131843606384,
           -0.008435751199102837,
           -0.004371800787868808,
           0.0026534095302311283,
           0.008547120811277138,
           0.005423824867564511,
           0.005561541490259049,
           0.0001187515050223171,
           -0.0011918888798650002,
           0.005380647344332687,
           -0.009035773939983853,
           -0.012299976390442984,
           -0.0013557723026869904,
           0.03940539193284628,
           0.0015206082907574371,
           -0.10751356494088642,
           -0.5052150420302526,
           1,
           0.5285296909707075,
           -0.19674918777791783,
           -0.18913859642152292,
           -0.03678746869437351
          ],
          [
           -0.004199735743110923,
           -0.07177851500112857,
           0.05569057494997821,
           0.0046308123136323265,
           -0.07447271869229243,
           0.12955828149528734,
           -0.03803170105100758,
           0.011393678119916276,
           -0.0006120373620435567,
           -0.0026410373786164934,
           -0.04785613186540222,
           0.057651546819109674,
           -0.007355663703923916,
           -0.0014127643538601152,
           -0.00232619792019297,
           -0.004162250621113832,
           0.011437859365177232,
           -0.00497991380870629,
           0.006977865835938147,
           0.011925379367193702,
           0.007149424829772793,
           0.004423783226427949,
           0.0009020318274090243,
           -0.006442682986213664,
           0.0015758126325112227,
           0.0007652482800035807,
           0.004097500748526616,
           0.004686063996293413,
           0.002089711168764437,
           0.006818868109940161,
           0.00010051733082218822,
           0.0033852335272871554,
           -0.022772889876542326,
           -0.01673953137401212,
           -0.007121222660321072,
           0.0561188226453257,
           0.008551769098153226,
           -0.14624429712437656,
           -0.27815682678056697,
           0.5285296909707075,
           1,
           -0.05168394363441637,
           -0.12342569465784704,
           -0.03818604076512859
          ],
          [
           0.003683023567672921,
           -0.028151056944668046,
           -0.014203558109152905,
           -0.004541905961905946,
           -0.00692485288104392,
           -0.034448721004181566,
           0.004285230255765573,
           -0.03321157642554547,
           0.022607581320110395,
           0.0006198758247570816,
           0.037650056905390514,
           -0.028767445669449894,
           -0.001639045935347979,
           -0.0062790242001843155,
           -0.0031596360293876464,
           0.002653582034286877,
           -0.006253814009579243,
           -0.0011247897217346592,
           -0.008406848094678569,
           -0.0041168748153202735,
           0.0008990413882346037,
           -0.002293091398594626,
           -0.004260026819840256,
           0.0026006104194290255,
           0.0008173315773130989,
           0.002562467510029136,
           0.00023101738496241836,
           0.00036614537572434244,
           0.0011509063402725826,
           0.001142843275458167,
           0.0001235273074593448,
           -0.005222491907749698,
           0.01323271339709895,
           0.008014296773904021,
           -0.0011290378454147326,
           0.004948399599319369,
           0.010837286263064877,
           0.015856337750988176,
           -0.37290821180769906,
           -0.19674918777791783,
           -0.05168394363441637,
           1,
           -0.1396065633594993,
           -0.010114380112964219
          ],
          [
           -0.006752375413773096,
           -0.01046316680107324,
           0.09302924614469893,
           0.011510376855004055,
           0.0006252952665915069,
           -0.03310821812409544,
           -0.005484210719426358,
           -0.1530191917161318,
           0.025587952129583015,
           0.0010733377636432601,
           0.033437892946948426,
           -0.002482761160401914,
           -0.002828974512211398,
           0.001273244060626741,
           0.0034696076781011768,
           0.02309376403083418,
           0.017018412751808702,
           0.006449805579507684,
           -0.004869998087221931,
           -0.0013923817446516592,
           0.0049855071691181215,
           -0.015104754034750943,
           -0.011775062498459525,
           -0.007806914618711607,
           0.009886473702376898,
           0.0019790165444898036,
           -0.012317781596764926,
           0.00306540957466879,
           0.00838963904975238,
           -0.00032509539761917713,
           0.0015929659383395656,
           0.01557600332898755,
           0.0012666438082757448,
           -0.00945067287162802,
           -0.0022645573124913314,
           0.00349657756190517,
           -0.017798529229190844,
           0.03832574643689875,
           -0.35848349145401665,
           -0.18913859642152292,
           -0.12342569465784704,
           -0.1396065633594993,
           1,
           0.0770646454364279
          ],
          [
           -0.10923331963794258,
           0.013956378144899658,
           0.31434061712181544,
           0.03800703046449612,
           0.05470185953326399,
           -0.008980745512604997,
           -0.0054146463637616965,
           0.0022704491435044513,
           0.10640199222211626,
           -0.0008208293686729704,
           0.2056805061435481,
           0.04110894338988938,
           0.027408333576904594,
           0.00937563614700229,
           0.019811846299263067,
           -0.00528046535435706,
           0.048874523155555676,
           0.04437667147839895,
           0.006944564791128006,
           0.022122990422039874,
           0.013825831598414077,
           -0.010983051535671803,
           -0.004647404353237751,
           -0.004169472820239679,
           -0.012411969974379421,
           0.02760927800312393,
           0.01093727564400877,
           0.009901153478990607,
           0.027871530866193095,
           -0.005768255460645982,
           0.0021881904861644533,
           0.05507380030382679,
           0.020072424256977847,
           -0.03328011962745291,
           0.007103892826502578,
           -0.010928063736604198,
           -0.03793259281561746,
           -0.01157646981467119,
           -0.03291980529918771,
           -0.03678746869437351,
           -0.03818604076512859,
           -0.010114380112964219,
           0.0770646454364279,
           1
          ]
         ]
        }
       ],
       "layout": {
        "coloraxis": {
         "colorscale": [
          [
           0,
           "#0d0887"
          ],
          [
           0.1111111111111111,
           "#46039f"
          ],
          [
           0.2222222222222222,
           "#7201a8"
          ],
          [
           0.3333333333333333,
           "#9c179e"
          ],
          [
           0.4444444444444444,
           "#bd3786"
          ],
          [
           0.5555555555555556,
           "#d8576b"
          ],
          [
           0.6666666666666666,
           "#ed7953"
          ],
          [
           0.7777777777777778,
           "#fb9f3a"
          ],
          [
           0.8888888888888888,
           "#fdca26"
          ],
          [
           1,
           "#f0f921"
          ]
         ]
        },
        "height": 1500,
        "margin": {
         "t": 60
        },
        "template": {
         "data": {
          "bar": [
           {
            "error_x": {
             "color": "#2a3f5f"
            },
            "error_y": {
             "color": "#2a3f5f"
            },
            "marker": {
             "line": {
              "color": "#E5ECF6",
              "width": 0.5
             },
             "pattern": {
              "fillmode": "overlay",
              "size": 10,
              "solidity": 0.2
             }
            },
            "type": "bar"
           }
          ],
          "barpolar": [
           {
            "marker": {
             "line": {
              "color": "#E5ECF6",
              "width": 0.5
             },
             "pattern": {
              "fillmode": "overlay",
              "size": 10,
              "solidity": 0.2
             }
            },
            "type": "barpolar"
           }
          ],
          "carpet": [
           {
            "aaxis": {
             "endlinecolor": "#2a3f5f",
             "gridcolor": "white",
             "linecolor": "white",
             "minorgridcolor": "white",
             "startlinecolor": "#2a3f5f"
            },
            "baxis": {
             "endlinecolor": "#2a3f5f",
             "gridcolor": "white",
             "linecolor": "white",
             "minorgridcolor": "white",
             "startlinecolor": "#2a3f5f"
            },
            "type": "carpet"
           }
          ],
          "choropleth": [
           {
            "colorbar": {
             "outlinewidth": 0,
             "ticks": ""
            },
            "type": "choropleth"
           }
          ],
          "contour": [
           {
            "colorbar": {
             "outlinewidth": 0,
             "ticks": ""
            },
            "colorscale": [
             [
              0,
              "#0d0887"
             ],
             [
              0.1111111111111111,
              "#46039f"
             ],
             [
              0.2222222222222222,
              "#7201a8"
             ],
             [
              0.3333333333333333,
              "#9c179e"
             ],
             [
              0.4444444444444444,
              "#bd3786"
             ],
             [
              0.5555555555555556,
              "#d8576b"
             ],
             [
              0.6666666666666666,
              "#ed7953"
             ],
             [
              0.7777777777777778,
              "#fb9f3a"
             ],
             [
              0.8888888888888888,
              "#fdca26"
             ],
             [
              1,
              "#f0f921"
             ]
            ],
            "type": "contour"
           }
          ],
          "contourcarpet": [
           {
            "colorbar": {
             "outlinewidth": 0,
             "ticks": ""
            },
            "type": "contourcarpet"
           }
          ],
          "heatmap": [
           {
            "colorbar": {
             "outlinewidth": 0,
             "ticks": ""
            },
            "colorscale": [
             [
              0,
              "#0d0887"
             ],
             [
              0.1111111111111111,
              "#46039f"
             ],
             [
              0.2222222222222222,
              "#7201a8"
             ],
             [
              0.3333333333333333,
              "#9c179e"
             ],
             [
              0.4444444444444444,
              "#bd3786"
             ],
             [
              0.5555555555555556,
              "#d8576b"
             ],
             [
              0.6666666666666666,
              "#ed7953"
             ],
             [
              0.7777777777777778,
              "#fb9f3a"
             ],
             [
              0.8888888888888888,
              "#fdca26"
             ],
             [
              1,
              "#f0f921"
             ]
            ],
            "type": "heatmap"
           }
          ],
          "heatmapgl": [
           {
            "colorbar": {
             "outlinewidth": 0,
             "ticks": ""
            },
            "colorscale": [
             [
              0,
              "#0d0887"
             ],
             [
              0.1111111111111111,
              "#46039f"
             ],
             [
              0.2222222222222222,
              "#7201a8"
             ],
             [
              0.3333333333333333,
              "#9c179e"
             ],
             [
              0.4444444444444444,
              "#bd3786"
             ],
             [
              0.5555555555555556,
              "#d8576b"
             ],
             [
              0.6666666666666666,
              "#ed7953"
             ],
             [
              0.7777777777777778,
              "#fb9f3a"
             ],
             [
              0.8888888888888888,
              "#fdca26"
             ],
             [
              1,
              "#f0f921"
             ]
            ],
            "type": "heatmapgl"
           }
          ],
          "histogram": [
           {
            "marker": {
             "pattern": {
              "fillmode": "overlay",
              "size": 10,
              "solidity": 0.2
             }
            },
            "type": "histogram"
           }
          ],
          "histogram2d": [
           {
            "colorbar": {
             "outlinewidth": 0,
             "ticks": ""
            },
            "colorscale": [
             [
              0,
              "#0d0887"
             ],
             [
              0.1111111111111111,
              "#46039f"
             ],
             [
              0.2222222222222222,
              "#7201a8"
             ],
             [
              0.3333333333333333,
              "#9c179e"
             ],
             [
              0.4444444444444444,
              "#bd3786"
             ],
             [
              0.5555555555555556,
              "#d8576b"
             ],
             [
              0.6666666666666666,
              "#ed7953"
             ],
             [
              0.7777777777777778,
              "#fb9f3a"
             ],
             [
              0.8888888888888888,
              "#fdca26"
             ],
             [
              1,
              "#f0f921"
             ]
            ],
            "type": "histogram2d"
           }
          ],
          "histogram2dcontour": [
           {
            "colorbar": {
             "outlinewidth": 0,
             "ticks": ""
            },
            "colorscale": [
             [
              0,
              "#0d0887"
             ],
             [
              0.1111111111111111,
              "#46039f"
             ],
             [
              0.2222222222222222,
              "#7201a8"
             ],
             [
              0.3333333333333333,
              "#9c179e"
             ],
             [
              0.4444444444444444,
              "#bd3786"
             ],
             [
              0.5555555555555556,
              "#d8576b"
             ],
             [
              0.6666666666666666,
              "#ed7953"
             ],
             [
              0.7777777777777778,
              "#fb9f3a"
             ],
             [
              0.8888888888888888,
              "#fdca26"
             ],
             [
              1,
              "#f0f921"
             ]
            ],
            "type": "histogram2dcontour"
           }
          ],
          "mesh3d": [
           {
            "colorbar": {
             "outlinewidth": 0,
             "ticks": ""
            },
            "type": "mesh3d"
           }
          ],
          "parcoords": [
           {
            "line": {
             "colorbar": {
              "outlinewidth": 0,
              "ticks": ""
             }
            },
            "type": "parcoords"
           }
          ],
          "pie": [
           {
            "automargin": true,
            "type": "pie"
           }
          ],
          "scatter": [
           {
            "fillpattern": {
             "fillmode": "overlay",
             "size": 10,
             "solidity": 0.2
            },
            "type": "scatter"
           }
          ],
          "scatter3d": [
           {
            "line": {
             "colorbar": {
              "outlinewidth": 0,
              "ticks": ""
             }
            },
            "marker": {
             "colorbar": {
              "outlinewidth": 0,
              "ticks": ""
             }
            },
            "type": "scatter3d"
           }
          ],
          "scattercarpet": [
           {
            "marker": {
             "colorbar": {
              "outlinewidth": 0,
              "ticks": ""
             }
            },
            "type": "scattercarpet"
           }
          ],
          "scattergeo": [
           {
            "marker": {
             "colorbar": {
              "outlinewidth": 0,
              "ticks": ""
             }
            },
            "type": "scattergeo"
           }
          ],
          "scattergl": [
           {
            "marker": {
             "colorbar": {
              "outlinewidth": 0,
              "ticks": ""
             }
            },
            "type": "scattergl"
           }
          ],
          "scattermapbox": [
           {
            "marker": {
             "colorbar": {
              "outlinewidth": 0,
              "ticks": ""
             }
            },
            "type": "scattermapbox"
           }
          ],
          "scatterpolar": [
           {
            "marker": {
             "colorbar": {
              "outlinewidth": 0,
              "ticks": ""
             }
            },
            "type": "scatterpolar"
           }
          ],
          "scatterpolargl": [
           {
            "marker": {
             "colorbar": {
              "outlinewidth": 0,
              "ticks": ""
             }
            },
            "type": "scatterpolargl"
           }
          ],
          "scatterternary": [
           {
            "marker": {
             "colorbar": {
              "outlinewidth": 0,
              "ticks": ""
             }
            },
            "type": "scatterternary"
           }
          ],
          "surface": [
           {
            "colorbar": {
             "outlinewidth": 0,
             "ticks": ""
            },
            "colorscale": [
             [
              0,
              "#0d0887"
             ],
             [
              0.1111111111111111,
              "#46039f"
             ],
             [
              0.2222222222222222,
              "#7201a8"
             ],
             [
              0.3333333333333333,
              "#9c179e"
             ],
             [
              0.4444444444444444,
              "#bd3786"
             ],
             [
              0.5555555555555556,
              "#d8576b"
             ],
             [
              0.6666666666666666,
              "#ed7953"
             ],
             [
              0.7777777777777778,
              "#fb9f3a"
             ],
             [
              0.8888888888888888,
              "#fdca26"
             ],
             [
              1,
              "#f0f921"
             ]
            ],
            "type": "surface"
           }
          ],
          "table": [
           {
            "cells": {
             "fill": {
              "color": "#EBF0F8"
             },
             "line": {
              "color": "white"
             }
            },
            "header": {
             "fill": {
              "color": "#C8D4E3"
             },
             "line": {
              "color": "white"
             }
            },
            "type": "table"
           }
          ]
         },
         "layout": {
          "annotationdefaults": {
           "arrowcolor": "#2a3f5f",
           "arrowhead": 0,
           "arrowwidth": 1
          },
          "autotypenumbers": "strict",
          "coloraxis": {
           "colorbar": {
            "outlinewidth": 0,
            "ticks": ""
           }
          },
          "colorscale": {
           "diverging": [
            [
             0,
             "#8e0152"
            ],
            [
             0.1,
             "#c51b7d"
            ],
            [
             0.2,
             "#de77ae"
            ],
            [
             0.3,
             "#f1b6da"
            ],
            [
             0.4,
             "#fde0ef"
            ],
            [
             0.5,
             "#f7f7f7"
            ],
            [
             0.6,
             "#e6f5d0"
            ],
            [
             0.7,
             "#b8e186"
            ],
            [
             0.8,
             "#7fbc41"
            ],
            [
             0.9,
             "#4d9221"
            ],
            [
             1,
             "#276419"
            ]
           ],
           "sequential": [
            [
             0,
             "#0d0887"
            ],
            [
             0.1111111111111111,
             "#46039f"
            ],
            [
             0.2222222222222222,
             "#7201a8"
            ],
            [
             0.3333333333333333,
             "#9c179e"
            ],
            [
             0.4444444444444444,
             "#bd3786"
            ],
            [
             0.5555555555555556,
             "#d8576b"
            ],
            [
             0.6666666666666666,
             "#ed7953"
            ],
            [
             0.7777777777777778,
             "#fb9f3a"
            ],
            [
             0.8888888888888888,
             "#fdca26"
            ],
            [
             1,
             "#f0f921"
            ]
           ],
           "sequentialminus": [
            [
             0,
             "#0d0887"
            ],
            [
             0.1111111111111111,
             "#46039f"
            ],
            [
             0.2222222222222222,
             "#7201a8"
            ],
            [
             0.3333333333333333,
             "#9c179e"
            ],
            [
             0.4444444444444444,
             "#bd3786"
            ],
            [
             0.5555555555555556,
             "#d8576b"
            ],
            [
             0.6666666666666666,
             "#ed7953"
            ],
            [
             0.7777777777777778,
             "#fb9f3a"
            ],
            [
             0.8888888888888888,
             "#fdca26"
            ],
            [
             1,
             "#f0f921"
            ]
           ]
          },
          "colorway": [
           "#636efa",
           "#EF553B",
           "#00cc96",
           "#ab63fa",
           "#FFA15A",
           "#19d3f3",
           "#FF6692",
           "#B6E880",
           "#FF97FF",
           "#FECB52"
          ],
          "font": {
           "color": "#2a3f5f"
          },
          "geo": {
           "bgcolor": "white",
           "lakecolor": "white",
           "landcolor": "#E5ECF6",
           "showlakes": true,
           "showland": true,
           "subunitcolor": "white"
          },
          "hoverlabel": {
           "align": "left"
          },
          "hovermode": "closest",
          "mapbox": {
           "style": "light"
          },
          "paper_bgcolor": "white",
          "plot_bgcolor": "#E5ECF6",
          "polar": {
           "angularaxis": {
            "gridcolor": "white",
            "linecolor": "white",
            "ticks": ""
           },
           "bgcolor": "#E5ECF6",
           "radialaxis": {
            "gridcolor": "white",
            "linecolor": "white",
            "ticks": ""
           }
          },
          "scene": {
           "xaxis": {
            "backgroundcolor": "#E5ECF6",
            "gridcolor": "white",
            "gridwidth": 2,
            "linecolor": "white",
            "showbackground": true,
            "ticks": "",
            "zerolinecolor": "white"
           },
           "yaxis": {
            "backgroundcolor": "#E5ECF6",
            "gridcolor": "white",
            "gridwidth": 2,
            "linecolor": "white",
            "showbackground": true,
            "ticks": "",
            "zerolinecolor": "white"
           },
           "zaxis": {
            "backgroundcolor": "#E5ECF6",
            "gridcolor": "white",
            "gridwidth": 2,
            "linecolor": "white",
            "showbackground": true,
            "ticks": "",
            "zerolinecolor": "white"
           }
          },
          "shapedefaults": {
           "line": {
            "color": "#2a3f5f"
           }
          },
          "ternary": {
           "aaxis": {
            "gridcolor": "white",
            "linecolor": "white",
            "ticks": ""
           },
           "baxis": {
            "gridcolor": "white",
            "linecolor": "white",
            "ticks": ""
           },
           "bgcolor": "#E5ECF6",
           "caxis": {
            "gridcolor": "white",
            "linecolor": "white",
            "ticks": ""
           }
          },
          "title": {
           "x": 0.05
          },
          "xaxis": {
           "automargin": true,
           "gridcolor": "white",
           "linecolor": "white",
           "ticks": "",
           "title": {
            "standoff": 15
           },
           "zerolinecolor": "white",
           "zerolinewidth": 2
          },
          "yaxis": {
           "automargin": true,
           "gridcolor": "white",
           "linecolor": "white",
           "ticks": "",
           "title": {
            "standoff": 15
           },
           "zerolinecolor": "white",
           "zerolinewidth": 2
          }
         }
        },
        "width": 1500,
        "xaxis": {
         "anchor": "y",
         "domain": [
          0,
          1
         ]
        },
        "yaxis": {
         "anchor": "x",
         "autorange": "reversed",
         "domain": [
          0,
          1
         ]
        }
       }
      }
     },
     "metadata": {},
     "output_type": "display_data"
    }
   ],
   "source": [
    "fig = px.imshow(data.corr(numeric_only=True), \n",
    "                text_auto=True, aspect=\"auto\",\n",
    "                )\n",
    "fig.update_layout(width=1500, height=1500)\n",
    "fig.show()"
   ]
  },
  {
   "cell_type": "code",
   "execution_count": 1264,
   "metadata": {},
   "outputs": [
    {
     "data": {
      "text/plain": [
       "Index(['additional_number_of_scoring', 'average_score', 'reviewer_nationality',\n",
       "       'review_total_negative_word_counts',\n",
       "       'review_total_positive_word_counts',\n",
       "       'total_number_of_reviews_reviewer_has_given', 'reviewer_score',\n",
       "       'days_since_review', 'lng', 'train', 'hotel_country', 'day_of_week',\n",
       "       'quarter', 'royal', 'luxury', 'appart', 'hotel_name_0', 'hotel_name_1',\n",
       "       'hotel_name_2', 'hotel_name_3', 'hotel_name_4', 'hotel_name_5',\n",
       "       'hotel_name_6', 'hotel_name_7', 'hotel_name_8', 'hotel_name_9',\n",
       "       'hotel_name_10', 'negative_stuff', 'positive_stuff', 'is_awful',\n",
       "       'is_great', 'negative_clean', 'positive_clean', 'negative_review_neg',\n",
       "       'negative_review_pos', 'positive_review_neg', 'positive_review_pos',\n",
       "       'Submitted from a mobile device', 'Couple', 'Solo traveler',\n",
       "       'Business trip', 'Group', 'Family with young children', 'stayed'],\n",
       "      dtype='object')"
      ]
     },
     "execution_count": 1264,
     "metadata": {},
     "output_type": "execute_result"
    }
   ],
   "source": [
    "data.columns"
   ]
  },
  {
   "cell_type": "markdown",
   "metadata": {},
   "source": [
    "Разобьем признаки на непрерывные и категориальные"
   ]
  },
  {
   "cell_type": "code",
   "execution_count": 1265,
   "metadata": {},
   "outputs": [],
   "source": [
    "# непрерывные признаки\n",
    "num_cols = ['additional_number_of_scoring', 'average_score', \n",
    "            'review_total_negative_word_counts', 'review_total_positive_word_counts', \n",
    "            'total_number_of_reviews_reviewer_has_given', \n",
    "            'lng', 'stayed', 'days_since_review', 'is_awful', 'is_great', \n",
    "            'negative_review_neg', 'negative_review_pos', 'positive_review_neg',\n",
    "            'positive_review_pos']\n",
    "\n",
    "# категориальные признаки\n",
    "cat_cols = ['reviewer_nationality', 'hotel_country', 'negative_stuff', 'positive_stuff', \n",
    "            'Submitted from a mobile device', 'Couple', 'Solo traveler', 'Business trip', 'Group', \n",
    "            'Family with young children', 'royal', 'luxury', 'appart', 'day_of_week', 'quarter',\n",
    "            'hotel_name_0', 'hotel_name_1', 'hotel_name_2', 'hotel_name_3', 'hotel_name_4', 'hotel_name_5',\n",
    "            'hotel_name_6', 'hotel_name_7', 'hotel_name_8', 'hotel_name_9', 'hotel_name_10',\n",
    "            'negative_clean', 'positive_clean']"
   ]
  },
  {
   "cell_type": "code",
   "execution_count": 1266,
   "metadata": {},
   "outputs": [],
   "source": [
    "# Разбиваем датафрейм на части, необходимые для обучения и тестирования модели  \n",
    "# Х - данные с информацией об отелях, у - целевая переменная (рейтинги отелей)  \n",
    "X = data.drop(['reviewer_score'], axis = 1)  \n",
    "y = data['reviewer_score'] "
   ]
  },
  {
   "cell_type": "markdown",
   "metadata": {},
   "source": [
    "Определим важность категориальных признаков."
   ]
  },
  {
   "cell_type": "code",
   "execution_count": 1267,
   "metadata": {},
   "outputs": [
    {
     "data": {
      "text/plain": [
       "<Axes: >"
      ]
     },
     "execution_count": 1267,
     "metadata": {},
     "output_type": "execute_result"
    },
    {
     "data": {
      "image/png": "[encoded data removed]",
      "text/plain": [
       "<Figure size 640x480 with 1 Axes>"
      ]
     },
     "metadata": {},
     "output_type": "display_data"
    }
   ],
   "source": [
    "y=y.astype('int')\n",
    "\n",
    "from sklearn.feature_selection import chi2 # хи-квадрат\n",
    "\n",
    "imp_cat = pd.Series(chi2(X[cat_cols], y)[0], index=cat_cols)\n",
    "imp_cat.sort_values(inplace = True)\n",
    "imp_cat.plot(kind = 'barh')"
   ]
  },
  {
   "cell_type": "code",
   "execution_count": 1268,
   "metadata": {},
   "outputs": [
    {
     "data": {
      "text/plain": [
       "Index(['additional_number_of_scoring', 'average_score', 'reviewer_nationality',\n",
       "       'review_total_negative_word_counts',\n",
       "       'review_total_positive_word_counts',\n",
       "       'total_number_of_reviews_reviewer_has_given', 'reviewer_score',\n",
       "       'days_since_review', 'lng', 'train', 'hotel_country', 'day_of_week',\n",
       "       'quarter', 'royal', 'luxury', 'appart', 'hotel_name_0', 'hotel_name_1',\n",
       "       'hotel_name_2', 'hotel_name_3', 'hotel_name_4', 'hotel_name_5',\n",
       "       'hotel_name_6', 'hotel_name_7', 'hotel_name_8', 'hotel_name_9',\n",
       "       'hotel_name_10', 'negative_stuff', 'positive_stuff', 'is_awful',\n",
       "       'is_great', 'negative_clean', 'positive_clean', 'negative_review_neg',\n",
       "       'negative_review_pos', 'positive_review_neg', 'positive_review_pos',\n",
       "       'Submitted from a mobile device', 'Couple', 'Solo traveler',\n",
       "       'Business trip', 'Group', 'Family with young children', 'stayed'],\n",
       "      dtype='object')"
      ]
     },
     "execution_count": 1268,
     "metadata": {},
     "output_type": "execute_result"
    }
   ],
   "source": [
    "data.columns"
   ]
  },
  {
   "cell_type": "markdown",
   "metadata": {},
   "source": [
    "Столбцы к удалению:"
   ]
  },
  {
   "cell_type": "code",
   "execution_count": 1269,
   "metadata": {},
   "outputs": [],
   "source": [
    "cat_cols_to_delete = [\n",
    "                      'hotel_name_3', 'hotel_name_5', 'hotel_name_9', 'hotel_name_4',\n",
    "                      'hotel_name_8', 'appart', \n",
    "                     'hotel_name_10', 'hotel_name_2', 'Group', 'hotel_name_0',\n",
    "                      'royal', 'day_of_week', 'Group', \n",
    "                    # 'hotel_name_0', 'positive_stuff', 'luxury', 'Family with young children', \n",
    "                    # 'hotel_name_1', 'hotel_name_7', 'quarter',\n",
    "                      ]"
   ]
  },
  {
   "cell_type": "markdown",
   "metadata": {},
   "source": [
    "Как выяснилось, удалять столбцы не имеет смысла, так как падает точность модели."
   ]
  },
  {
   "cell_type": "markdown",
   "metadata": {},
   "source": [
    "Определим важность непрерывных признаков."
   ]
  },
  {
   "cell_type": "code",
   "execution_count": 1270,
   "metadata": {},
   "outputs": [
    {
     "data": {
      "text/plain": [
       "<Axes: >"
      ]
     },
     "execution_count": 1270,
     "metadata": {},
     "output_type": "execute_result"
    },
    {
     "data": {
      "image/png": "[encoded data removed]",
      "text/plain": [
       "<Figure size 640x480 with 1 Axes>"
      ]
     },
     "metadata": {},
     "output_type": "display_data"
    }
   ],
   "source": [
    "from sklearn.feature_selection import f_classif # anova\n",
    "\n",
    "imp_num = pd.Series(f_classif(X[num_cols], y)[0], index = num_cols)\n",
    "imp_num.sort_values(inplace = True)\n",
    "imp_num.plot(kind = 'barh')"
   ]
  },
  {
   "cell_type": "code",
   "execution_count": 1271,
   "metadata": {},
   "outputs": [
    {
     "data": {
      "text/plain": [
       "Index(['additional_number_of_scoring', 'average_score', 'reviewer_nationality',\n",
       "       'review_total_negative_word_counts',\n",
       "       'review_total_positive_word_counts',\n",
       "       'total_number_of_reviews_reviewer_has_given', 'reviewer_score',\n",
       "       'days_since_review', 'lng', 'train', 'hotel_country', 'day_of_week',\n",
       "       'quarter', 'royal', 'luxury', 'appart', 'hotel_name_0', 'hotel_name_1',\n",
       "       'hotel_name_2', 'hotel_name_3', 'hotel_name_4', 'hotel_name_5',\n",
       "       'hotel_name_6', 'hotel_name_7', 'hotel_name_8', 'hotel_name_9',\n",
       "       'hotel_name_10', 'negative_stuff', 'positive_stuff', 'is_awful',\n",
       "       'is_great', 'negative_clean', 'positive_clean', 'negative_review_neg',\n",
       "       'negative_review_pos', 'positive_review_neg', 'positive_review_pos',\n",
       "       'Submitted from a mobile device', 'Couple', 'Solo traveler',\n",
       "       'Business trip', 'Group', 'Family with young children', 'stayed'],\n",
       "      dtype='object')"
      ]
     },
     "execution_count": 1271,
     "metadata": {},
     "output_type": "execute_result"
    }
   ],
   "source": [
    "data.columns"
   ]
  },
  {
   "cell_type": "markdown",
   "metadata": {},
   "source": [
    "Столбцы к удалению:"
   ]
  },
  {
   "cell_type": "code",
   "execution_count": 1272,
   "metadata": {},
   "outputs": [],
   "source": [
    "num_cols_to_delete = [\n",
    "                      # 'lng', \n",
    "                    # 'is_great', 'days_since_review', 'negative_review_pos',\n",
    "                    \n",
    "                      ]"
   ]
  },
  {
   "cell_type": "markdown",
   "metadata": {},
   "source": [
    "Как выяснилось, удалять столбцы не имеет смысла, так как падает точность модели."
   ]
  },
  {
   "cell_type": "code",
   "execution_count": 1273,
   "metadata": {},
   "outputs": [],
   "source": [
    "X = data.drop(num_cols_to_delete + cat_cols_to_delete, axis = 1)  "
   ]
  },
  {
   "cell_type": "markdown",
   "metadata": {},
   "source": [
    "## <center> 3. Построение модели </center>"
   ]
  },
  {
   "cell_type": "code",
   "execution_count": 1274,
   "metadata": {},
   "outputs": [],
   "source": [
    "# Теперь выделим тестовую часть\n",
    "\n",
    "data_train = X[data['train'] == 1].drop(['train'], axis=1)\n",
    "data_test = X[data['train'] == 0].drop(['train'], axis=1)\n",
    "\n",
    "y = data_train['reviewer_score'] \n",
    "X = data_train.drop(['reviewer_score'], axis=1)\n",
    "data_test = data_test.drop(['reviewer_score'], axis=1)"
   ]
  },
  {
   "cell_type": "code",
   "execution_count": 1275,
   "metadata": {},
   "outputs": [],
   "source": [
    "# Импортируем необходимые библиотеки:  \n",
    "from sklearn.ensemble import RandomForestRegressor # инструмент для создания и обучения модели  \n",
    "from sklearn import metrics # инструменты для оценки точности модели  \n",
    "  \n",
    "# Создаём модель  \n",
    "regr = RandomForestRegressor(n_estimators=100)  \n",
    "      \n",
    "# Обучаем модель на тестовом наборе данных  \n",
    "regr.fit(X, y)  \n",
    "      \n",
    "# Используем обученную модель для предсказания рейтинга отелей в тестовой выборке.  \n",
    "# Предсказанные значения записываем в переменную y_pred  \n",
    "y_pred = regr.predict(data_test)"
   ]
  },
  {
   "cell_type": "code",
   "execution_count": 1276,
   "metadata": {},
   "outputs": [],
   "source": [
    "to_competition = pd.DataFrame(y_pred)"
   ]
  },
  {
   "cell_type": "code",
   "execution_count": 1277,
   "metadata": {},
   "outputs": [],
   "source": [
    "y_test = pd.read_csv('data/submission.csv')"
   ]
  },
  {
   "cell_type": "code",
   "execution_count": 1278,
   "metadata": {},
   "outputs": [],
   "source": [
    "y_test['reviewer_score'] = y_pred"
   ]
  },
  {
   "cell_type": "code",
   "execution_count": 1279,
   "metadata": {},
   "outputs": [],
   "source": [
    "y_test.to_csv('data/to_competition.csv', index=False)"
   ]
  }
 ],
 "metadata": {
  "kernelspec": {
   "display_name": ".venv",
   "language": "python",
   "name": "python3"
  },
  "language_info": {
   "codemirror_mode": {
    "name": "ipython",
    "version": 3
   },
   "file_extension": ".py",
   "mimetype": "text/x-python",
   "name": "python",
   "nbconvert_exporter": "python",
   "pygments_lexer": "ipython3",
   "version": "3.12.1"
  }
 },
 "nbformat": 4,
 "nbformat_minor": 2
}
