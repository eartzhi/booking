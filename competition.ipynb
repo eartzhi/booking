{
 "cells": [
  {
   "cell_type": "code",
   "execution_count": 48,
   "metadata": {},
   "outputs": [
    {
     "name": "stdout",
     "output_type": "stream",
     "text": [
      "Requirement already satisfied: pandas in c:\\projects\\ds\\booking\\.venv\\lib\\site-packages (2.2.2)\n",
      "Requirement already satisfied: numpy>=1.23.2 in c:\\projects\\ds\\booking\\.venv\\lib\\site-packages (from pandas) (2.0.0)\n",
      "Requirement already satisfied: python-dateutil>=2.8.2 in c:\\projects\\ds\\booking\\.venv\\lib\\site-packages (from pandas) (2.9.0.post0)\n",
      "Requirement already satisfied: pytz>=2020.1 in c:\\projects\\ds\\booking\\.venv\\lib\\site-packages (from pandas) (2024.1)\n",
      "Requirement already satisfied: tzdata>=2022.7 in c:\\projects\\ds\\booking\\.venv\\lib\\site-packages (from pandas) (2024.1)\n",
      "Requirement already satisfied: six>=1.5 in c:\\projects\\ds\\booking\\.venv\\lib\\site-packages (from python-dateutil>=2.8.2->pandas) (1.16.0)\n",
      "Requirement already satisfied: numpy in c:\\projects\\ds\\booking\\.venv\\lib\\site-packages (2.0.0)\n",
      "Requirement already satisfied: plotly in c:\\projects\\ds\\booking\\.venv\\lib\\site-packages (5.22.0)\n",
      "Requirement already satisfied: tenacity>=6.2.0 in c:\\projects\\ds\\booking\\.venv\\lib\\site-packages (from plotly) (8.5.0)\n",
      "Requirement already satisfied: packaging in c:\\projects\\ds\\booking\\.venv\\lib\\site-packages (from plotly) (24.1)\n",
      "Requirement already satisfied: nbformat in c:\\projects\\ds\\booking\\.venv\\lib\\site-packages (5.10.4)\n",
      "Requirement already satisfied: fastjsonschema>=2.15 in c:\\projects\\ds\\booking\\.venv\\lib\\site-packages (from nbformat) (2.20.0)\n",
      "Requirement already satisfied: jsonschema>=2.6 in c:\\projects\\ds\\booking\\.venv\\lib\\site-packages (from nbformat) (4.23.0)\n",
      "Requirement already satisfied: jupyter-core!=5.0.*,>=4.12 in c:\\projects\\ds\\booking\\.venv\\lib\\site-packages (from nbformat) (5.7.2)\n",
      "Requirement already satisfied: traitlets>=5.1 in c:\\projects\\ds\\booking\\.venv\\lib\\site-packages (from nbformat) (5.14.3)\n",
      "Requirement already satisfied: attrs>=22.2.0 in c:\\projects\\ds\\booking\\.venv\\lib\\site-packages (from jsonschema>=2.6->nbformat) (23.2.0)\n",
      "Requirement already satisfied: jsonschema-specifications>=2023.03.6 in c:\\projects\\ds\\booking\\.venv\\lib\\site-packages (from jsonschema>=2.6->nbformat) (2023.12.1)\n",
      "Requirement already satisfied: referencing>=0.28.4 in c:\\projects\\ds\\booking\\.venv\\lib\\site-packages (from jsonschema>=2.6->nbformat) (0.35.1)\n",
      "Requirement already satisfied: rpds-py>=0.7.1 in c:\\projects\\ds\\booking\\.venv\\lib\\site-packages (from jsonschema>=2.6->nbformat) (0.19.0)\n",
      "Requirement already satisfied: platformdirs>=2.5 in c:\\projects\\ds\\booking\\.venv\\lib\\site-packages (from jupyter-core!=5.0.*,>=4.12->nbformat) (4.2.2)\n",
      "Requirement already satisfied: pywin32>=300 in c:\\projects\\ds\\booking\\.venv\\lib\\site-packages (from jupyter-core!=5.0.*,>=4.12->nbformat) (306)\n",
      "Requirement already satisfied: scipy in c:\\projects\\ds\\booking\\.venv\\lib\\site-packages (1.14.0)\n",
      "Requirement already satisfied: numpy<2.3,>=1.23.5 in c:\\projects\\ds\\booking\\.venv\\lib\\site-packages (from scipy) (2.0.0)\n",
      "Requirement already satisfied: category_encoders in c:\\projects\\ds\\booking\\.venv\\lib\\site-packages (2.6.3)\n",
      "Requirement already satisfied: numpy>=1.14.0 in c:\\projects\\ds\\booking\\.venv\\lib\\site-packages (from category_encoders) (2.0.0)\n",
      "Requirement already satisfied: scikit-learn>=0.20.0 in c:\\projects\\ds\\booking\\.venv\\lib\\site-packages (from category_encoders) (1.5.1)\n",
      "Requirement already satisfied: scipy>=1.0.0 in c:\\projects\\ds\\booking\\.venv\\lib\\site-packages (from category_encoders) (1.14.0)\n",
      "Requirement already satisfied: statsmodels>=0.9.0 in c:\\projects\\ds\\booking\\.venv\\lib\\site-packages (from category_encoders) (0.14.2)\n",
      "Requirement already satisfied: pandas>=1.0.5 in c:\\projects\\ds\\booking\\.venv\\lib\\site-packages (from category_encoders) (2.2.2)\n",
      "Requirement already satisfied: patsy>=0.5.1 in c:\\projects\\ds\\booking\\.venv\\lib\\site-packages (from category_encoders) (0.5.6)\n",
      "Requirement already satisfied: python-dateutil>=2.8.2 in c:\\projects\\ds\\booking\\.venv\\lib\\site-packages (from pandas>=1.0.5->category_encoders) (2.9.0.post0)\n",
      "Requirement already satisfied: pytz>=2020.1 in c:\\projects\\ds\\booking\\.venv\\lib\\site-packages (from pandas>=1.0.5->category_encoders) (2024.1)\n",
      "Requirement already satisfied: tzdata>=2022.7 in c:\\projects\\ds\\booking\\.venv\\lib\\site-packages (from pandas>=1.0.5->category_encoders) (2024.1)\n",
      "Requirement already satisfied: six in c:\\projects\\ds\\booking\\.venv\\lib\\site-packages (from patsy>=0.5.1->category_encoders) (1.16.0)\n",
      "Requirement already satisfied: joblib>=1.2.0 in c:\\projects\\ds\\booking\\.venv\\lib\\site-packages (from scikit-learn>=0.20.0->category_encoders) (1.4.2)\n",
      "Requirement already satisfied: threadpoolctl>=3.1.0 in c:\\projects\\ds\\booking\\.venv\\lib\\site-packages (from scikit-learn>=0.20.0->category_encoders) (3.5.0)\n",
      "Requirement already satisfied: packaging>=21.3 in c:\\projects\\ds\\booking\\.venv\\lib\\site-packages (from statsmodels>=0.9.0->category_encoders) (24.1)\n",
      "Requirement already satisfied: matplotlib in c:\\projects\\ds\\booking\\.venv\\lib\\site-packages (3.9.1)\n",
      "Requirement already satisfied: contourpy>=1.0.1 in c:\\projects\\ds\\booking\\.venv\\lib\\site-packages (from matplotlib) (1.2.1)\n",
      "Requirement already satisfied: cycler>=0.10 in c:\\projects\\ds\\booking\\.venv\\lib\\site-packages (from matplotlib) (0.12.1)\n",
      "Requirement already satisfied: fonttools>=4.22.0 in c:\\projects\\ds\\booking\\.venv\\lib\\site-packages (from matplotlib) (4.53.1)\n",
      "Requirement already satisfied: kiwisolver>=1.3.1 in c:\\projects\\ds\\booking\\.venv\\lib\\site-packages (from matplotlib) (1.4.5)\n",
      "Requirement already satisfied: numpy>=1.23 in c:\\projects\\ds\\booking\\.venv\\lib\\site-packages (from matplotlib) (2.0.0)\n",
      "Requirement already satisfied: packaging>=20.0 in c:\\projects\\ds\\booking\\.venv\\lib\\site-packages (from matplotlib) (24.1)\n",
      "Requirement already satisfied: pillow>=8 in c:\\projects\\ds\\booking\\.venv\\lib\\site-packages (from matplotlib) (10.4.0)\n",
      "Requirement already satisfied: pyparsing>=2.3.1 in c:\\projects\\ds\\booking\\.venv\\lib\\site-packages (from matplotlib) (3.1.2)\n",
      "Requirement already satisfied: python-dateutil>=2.7 in c:\\projects\\ds\\booking\\.venv\\lib\\site-packages (from matplotlib) (2.9.0.post0)\n",
      "Requirement already satisfied: six>=1.5 in c:\\projects\\ds\\booking\\.venv\\lib\\site-packages (from python-dateutil>=2.7->matplotlib) (1.16.0)\n",
      "Requirement already satisfied: seaborn in c:\\projects\\ds\\booking\\.venv\\lib\\site-packages (0.13.2)\n",
      "Requirement already satisfied: numpy!=1.24.0,>=1.20 in c:\\projects\\ds\\booking\\.venv\\lib\\site-packages (from seaborn) (2.0.0)\n",
      "Requirement already satisfied: pandas>=1.2 in c:\\projects\\ds\\booking\\.venv\\lib\\site-packages (from seaborn) (2.2.2)\n",
      "Requirement already satisfied: matplotlib!=3.6.1,>=3.4 in c:\\projects\\ds\\booking\\.venv\\lib\\site-packages (from seaborn) (3.9.1)\n",
      "Requirement already satisfied: contourpy>=1.0.1 in c:\\projects\\ds\\booking\\.venv\\lib\\site-packages (from matplotlib!=3.6.1,>=3.4->seaborn) (1.2.1)\n",
      "Requirement already satisfied: cycler>=0.10 in c:\\projects\\ds\\booking\\.venv\\lib\\site-packages (from matplotlib!=3.6.1,>=3.4->seaborn) (0.12.1)\n",
      "Requirement already satisfied: fonttools>=4.22.0 in c:\\projects\\ds\\booking\\.venv\\lib\\site-packages (from matplotlib!=3.6.1,>=3.4->seaborn) (4.53.1)\n",
      "Requirement already satisfied: kiwisolver>=1.3.1 in c:\\projects\\ds\\booking\\.venv\\lib\\site-packages (from matplotlib!=3.6.1,>=3.4->seaborn) (1.4.5)\n",
      "Requirement already satisfied: packaging>=20.0 in c:\\projects\\ds\\booking\\.venv\\lib\\site-packages (from matplotlib!=3.6.1,>=3.4->seaborn) (24.1)\n",
      "Requirement already satisfied: pillow>=8 in c:\\projects\\ds\\booking\\.venv\\lib\\site-packages (from matplotlib!=3.6.1,>=3.4->seaborn) (10.4.0)\n",
      "Requirement already satisfied: pyparsing>=2.3.1 in c:\\projects\\ds\\booking\\.venv\\lib\\site-packages (from matplotlib!=3.6.1,>=3.4->seaborn) (3.1.2)\n",
      "Requirement already satisfied: python-dateutil>=2.7 in c:\\projects\\ds\\booking\\.venv\\lib\\site-packages (from matplotlib!=3.6.1,>=3.4->seaborn) (2.9.0.post0)\n",
      "Requirement already satisfied: pytz>=2020.1 in c:\\projects\\ds\\booking\\.venv\\lib\\site-packages (from pandas>=1.2->seaborn) (2024.1)\n",
      "Requirement already satisfied: tzdata>=2022.7 in c:\\projects\\ds\\booking\\.venv\\lib\\site-packages (from pandas>=1.2->seaborn) (2024.1)\n",
      "Requirement already satisfied: six>=1.5 in c:\\projects\\ds\\booking\\.venv\\lib\\site-packages (from python-dateutil>=2.7->matplotlib!=3.6.1,>=3.4->seaborn) (1.16.0)\n"
     ]
    }
   ],
   "source": [
    "!pip install pandas\n",
    "!pip install numpy\n",
    "!pip install plotly\n",
    "!pip install --upgrade nbformat\n",
    "!pip install scipy\n",
    "!pip install category_encoders\n",
    "!pip install matplotlib \n",
    "!pip install seaborn "
   ]
  },
  {
   "cell_type": "code",
   "execution_count": 49,
   "metadata": {},
   "outputs": [],
   "source": [
    "import pandas as pd\n",
    "import numpy as np\n",
    "import plotly.express as px\n",
    "import plotly.graph_objects as go\n",
    "import scipy.stats as stats\n",
    "from collections import Counter\n",
    "import category_encoders as ce \n",
    "import seaborn as sns\n",
    "from matplotlib import pyplot as plt\n",
    "from sklearn.model_selection import train_test_split  \n",
    "import re"
   ]
  },
  {
   "cell_type": "markdown",
   "metadata": {},
   "source": [
    "## <center> 1. Загрузка данных </center>"
   ]
  },
  {
   "cell_type": "code",
   "execution_count": 50,
   "metadata": {},
   "outputs": [],
   "source": [
    "data_train = pd.read_csv('data/hotels_train.csv')\n",
    "data_test = pd.read_csv('data/hotels_test.csv')"
   ]
  },
  {
   "cell_type": "markdown",
   "metadata": {},
   "source": [
    "Удалим дубликаты data_train"
   ]
  },
  {
   "cell_type": "code",
   "execution_count": 51,
   "metadata": {},
   "outputs": [],
   "source": [
    "data_train = data_train.drop_duplicates()"
   ]
  },
  {
   "cell_type": "markdown",
   "metadata": {},
   "source": [
    "Объединяем в единый DataFrame."
   ]
  },
  {
   "cell_type": "code",
   "execution_count": 52,
   "metadata": {},
   "outputs": [
    {
     "data": {
      "text/html": [
       "<div>\n",
       "<style scoped>\n",
       "    .dataframe tbody tr th:only-of-type {\n",
       "        vertical-align: middle;\n",
       "    }\n",
       "\n",
       "    .dataframe tbody tr th {\n",
       "        vertical-align: top;\n",
       "    }\n",
       "\n",
       "    .dataframe thead th {\n",
       "        text-align: right;\n",
       "    }\n",
       "</style>\n",
       "<table border=\"1\" class=\"dataframe\">\n",
       "  <thead>\n",
       "    <tr style=\"text-align: right;\">\n",
       "      <th></th>\n",
       "      <th>hotel_address</th>\n",
       "      <th>additional_number_of_scoring</th>\n",
       "      <th>review_date</th>\n",
       "      <th>average_score</th>\n",
       "      <th>hotel_name</th>\n",
       "      <th>reviewer_nationality</th>\n",
       "      <th>negative_review</th>\n",
       "      <th>review_total_negative_word_counts</th>\n",
       "      <th>total_number_of_reviews</th>\n",
       "      <th>positive_review</th>\n",
       "      <th>review_total_positive_word_counts</th>\n",
       "      <th>total_number_of_reviews_reviewer_has_given</th>\n",
       "      <th>reviewer_score</th>\n",
       "      <th>tags</th>\n",
       "      <th>days_since_review</th>\n",
       "      <th>lat</th>\n",
       "      <th>lng</th>\n",
       "      <th>train</th>\n",
       "    </tr>\n",
       "  </thead>\n",
       "  <tbody>\n",
       "    <tr>\n",
       "      <th>0</th>\n",
       "      <td>Stratton Street Mayfair Westminster Borough Lo...</td>\n",
       "      <td>581</td>\n",
       "      <td>2/19/2016</td>\n",
       "      <td>8.4</td>\n",
       "      <td>The May Fair Hotel</td>\n",
       "      <td>United Kingdom</td>\n",
       "      <td>Leaving</td>\n",
       "      <td>3</td>\n",
       "      <td>1994</td>\n",
       "      <td>Staff were amazing</td>\n",
       "      <td>4</td>\n",
       "      <td>7</td>\n",
       "      <td>10.0</td>\n",
       "      <td>[' Leisure trip ', ' Couple ', ' Studio Suite ...</td>\n",
       "      <td>531 day</td>\n",
       "      <td>51.507894</td>\n",
       "      <td>-0.143671</td>\n",
       "      <td>1</td>\n",
       "    </tr>\n",
       "    <tr>\n",
       "      <th>1</th>\n",
       "      <td>130 134 Southampton Row Camden London WC1B 5AF...</td>\n",
       "      <td>299</td>\n",
       "      <td>1/12/2017</td>\n",
       "      <td>8.3</td>\n",
       "      <td>Mercure London Bloomsbury Hotel</td>\n",
       "      <td>United Kingdom</td>\n",
       "      <td>poor breakfast</td>\n",
       "      <td>3</td>\n",
       "      <td>1361</td>\n",
       "      <td>location</td>\n",
       "      <td>2</td>\n",
       "      <td>14</td>\n",
       "      <td>6.3</td>\n",
       "      <td>[' Business trip ', ' Couple ', ' Standard Dou...</td>\n",
       "      <td>203 day</td>\n",
       "      <td>51.521009</td>\n",
       "      <td>-0.123097</td>\n",
       "      <td>1</td>\n",
       "    </tr>\n",
       "  </tbody>\n",
       "</table>\n",
       "</div>"
      ],
      "text/plain": [
       "                                       hotel_address  \\\n",
       "0  Stratton Street Mayfair Westminster Borough Lo...   \n",
       "1  130 134 Southampton Row Camden London WC1B 5AF...   \n",
       "\n",
       "   additional_number_of_scoring review_date  average_score  \\\n",
       "0                           581   2/19/2016            8.4   \n",
       "1                           299   1/12/2017            8.3   \n",
       "\n",
       "                        hotel_name reviewer_nationality  negative_review  \\\n",
       "0               The May Fair Hotel      United Kingdom          Leaving    \n",
       "1  Mercure London Bloomsbury Hotel      United Kingdom    poor breakfast   \n",
       "\n",
       "   review_total_negative_word_counts  total_number_of_reviews  \\\n",
       "0                                  3                     1994   \n",
       "1                                  3                     1361   \n",
       "\n",
       "       positive_review  review_total_positive_word_counts  \\\n",
       "0   Staff were amazing                                  4   \n",
       "1             location                                  2   \n",
       "\n",
       "   total_number_of_reviews_reviewer_has_given  reviewer_score  \\\n",
       "0                                           7            10.0   \n",
       "1                                          14             6.3   \n",
       "\n",
       "                                                tags days_since_review  \\\n",
       "0  [' Leisure trip ', ' Couple ', ' Studio Suite ...           531 day   \n",
       "1  [' Business trip ', ' Couple ', ' Standard Dou...           203 day   \n",
       "\n",
       "         lat       lng  train  \n",
       "0  51.507894 -0.143671      1  \n",
       "1  51.521009 -0.123097      1  "
      ]
     },
     "execution_count": 52,
     "metadata": {},
     "output_type": "execute_result"
    }
   ],
   "source": [
    "data_train['train'] = 1 \n",
    "data_test['train'] = 0 \n",
    "data_test['reviewer_score'] = 0 \n",
    "\n",
    "\n",
    "data = pd.concat([data_train, data_test])\n",
    "data.head(2)"
   ]
  },
  {
   "cell_type": "markdown",
   "metadata": {},
   "source": [
    "## <center> 2. Обработка данных </center>"
   ]
  },
  {
   "cell_type": "markdown",
   "metadata": {},
   "source": [
    "#### 2.1 Очистка данных"
   ]
  },
  {
   "cell_type": "markdown",
   "metadata": {},
   "source": [
    "Заполним пропуски в lat и lng вредним значением."
   ]
  },
  {
   "cell_type": "code",
   "execution_count": 53,
   "metadata": {},
   "outputs": [
    {
     "data": {
      "text/plain": [
       "hotel_address                                 0\n",
       "additional_number_of_scoring                  0\n",
       "review_date                                   0\n",
       "average_score                                 0\n",
       "hotel_name                                    0\n",
       "reviewer_nationality                          0\n",
       "negative_review                               0\n",
       "review_total_negative_word_counts             0\n",
       "total_number_of_reviews                       0\n",
       "positive_review                               0\n",
       "review_total_positive_word_counts             0\n",
       "total_number_of_reviews_reviewer_has_given    0\n",
       "reviewer_score                                0\n",
       "tags                                          0\n",
       "days_since_review                             0\n",
       "lat                                           0\n",
       "lng                                           0\n",
       "train                                         0\n",
       "dtype: int64"
      ]
     },
     "execution_count": 53,
     "metadata": {},
     "output_type": "execute_result"
    }
   ],
   "source": [
    "data['lat'] = data['lat'].fillna(data['lat'].mean())\n",
    "data['lng'] = data['lng'].fillna(data['lng'].mean())\n",
    "data.isnull().sum()"
   ]
  },
  {
   "cell_type": "markdown",
   "metadata": {},
   "source": [
    "Пропуски отсутствуют."
   ]
  },
  {
   "cell_type": "code",
   "execution_count": 54,
   "metadata": {},
   "outputs": [
    {
     "data": {
      "text/html": [
       "<div>\n",
       "<style scoped>\n",
       "    .dataframe tbody tr th:only-of-type {\n",
       "        vertical-align: middle;\n",
       "    }\n",
       "\n",
       "    .dataframe tbody tr th {\n",
       "        vertical-align: top;\n",
       "    }\n",
       "\n",
       "    .dataframe thead th {\n",
       "        text-align: right;\n",
       "    }\n",
       "</style>\n",
       "<table border=\"1\" class=\"dataframe\">\n",
       "  <thead>\n",
       "    <tr style=\"text-align: right;\">\n",
       "      <th></th>\n",
       "      <th>additional_number_of_scoring</th>\n",
       "      <th>average_score</th>\n",
       "      <th>review_total_negative_word_counts</th>\n",
       "      <th>total_number_of_reviews</th>\n",
       "      <th>review_total_positive_word_counts</th>\n",
       "      <th>total_number_of_reviews_reviewer_has_given</th>\n",
       "      <th>reviewer_score</th>\n",
       "      <th>lat</th>\n",
       "      <th>lng</th>\n",
       "      <th>train</th>\n",
       "    </tr>\n",
       "  </thead>\n",
       "  <tbody>\n",
       "    <tr>\n",
       "      <th>count</th>\n",
       "      <td>515431.000000</td>\n",
       "      <td>515431.000000</td>\n",
       "      <td>515431.000000</td>\n",
       "      <td>515431.000000</td>\n",
       "      <td>515431.000000</td>\n",
       "      <td>515431.000000</td>\n",
       "      <td>515431.000000</td>\n",
       "      <td>515431.000000</td>\n",
       "      <td>515431.000000</td>\n",
       "      <td>515431.00000</td>\n",
       "    </tr>\n",
       "    <tr>\n",
       "      <th>mean</th>\n",
       "      <td>498.275079</td>\n",
       "      <td>8.397630</td>\n",
       "      <td>18.539760</td>\n",
       "      <td>2744.259084</td>\n",
       "      <td>17.777342</td>\n",
       "      <td>7.165215</td>\n",
       "      <td>6.296715</td>\n",
       "      <td>49.442788</td>\n",
       "      <td>2.824057</td>\n",
       "      <td>0.74985</td>\n",
       "    </tr>\n",
       "    <tr>\n",
       "      <th>std</th>\n",
       "      <td>500.618961</td>\n",
       "      <td>0.548033</td>\n",
       "      <td>29.690973</td>\n",
       "      <td>2317.823718</td>\n",
       "      <td>21.803204</td>\n",
       "      <td>11.038742</td>\n",
       "      <td>3.902967</td>\n",
       "      <td>3.456313</td>\n",
       "      <td>4.566185</td>\n",
       "      <td>0.43310</td>\n",
       "    </tr>\n",
       "    <tr>\n",
       "      <th>min</th>\n",
       "      <td>1.000000</td>\n",
       "      <td>5.200000</td>\n",
       "      <td>0.000000</td>\n",
       "      <td>43.000000</td>\n",
       "      <td>0.000000</td>\n",
       "      <td>1.000000</td>\n",
       "      <td>0.000000</td>\n",
       "      <td>41.328376</td>\n",
       "      <td>-0.369758</td>\n",
       "      <td>0.00000</td>\n",
       "    </tr>\n",
       "    <tr>\n",
       "      <th>25%</th>\n",
       "      <td>169.000000</td>\n",
       "      <td>8.100000</td>\n",
       "      <td>2.000000</td>\n",
       "      <td>1161.000000</td>\n",
       "      <td>5.000000</td>\n",
       "      <td>1.000000</td>\n",
       "      <td>0.000000</td>\n",
       "      <td>48.214662</td>\n",
       "      <td>-0.143372</td>\n",
       "      <td>0.00000</td>\n",
       "    </tr>\n",
       "    <tr>\n",
       "      <th>50%</th>\n",
       "      <td>342.000000</td>\n",
       "      <td>8.400000</td>\n",
       "      <td>9.000000</td>\n",
       "      <td>2134.000000</td>\n",
       "      <td>11.000000</td>\n",
       "      <td>3.000000</td>\n",
       "      <td>7.900000</td>\n",
       "      <td>51.499981</td>\n",
       "      <td>0.019886</td>\n",
       "      <td>1.00000</td>\n",
       "    </tr>\n",
       "    <tr>\n",
       "      <th>75%</th>\n",
       "      <td>660.000000</td>\n",
       "      <td>8.800000</td>\n",
       "      <td>23.000000</td>\n",
       "      <td>3633.000000</td>\n",
       "      <td>22.000000</td>\n",
       "      <td>8.000000</td>\n",
       "      <td>9.600000</td>\n",
       "      <td>51.516288</td>\n",
       "      <td>4.831098</td>\n",
       "      <td>1.00000</td>\n",
       "    </tr>\n",
       "    <tr>\n",
       "      <th>max</th>\n",
       "      <td>2682.000000</td>\n",
       "      <td>9.800000</td>\n",
       "      <td>408.000000</td>\n",
       "      <td>16670.000000</td>\n",
       "      <td>395.000000</td>\n",
       "      <td>355.000000</td>\n",
       "      <td>10.000000</td>\n",
       "      <td>52.400181</td>\n",
       "      <td>16.429233</td>\n",
       "      <td>1.00000</td>\n",
       "    </tr>\n",
       "  </tbody>\n",
       "</table>\n",
       "</div>"
      ],
      "text/plain": [
       "       additional_number_of_scoring  average_score  \\\n",
       "count                 515431.000000  515431.000000   \n",
       "mean                     498.275079       8.397630   \n",
       "std                      500.618961       0.548033   \n",
       "min                        1.000000       5.200000   \n",
       "25%                      169.000000       8.100000   \n",
       "50%                      342.000000       8.400000   \n",
       "75%                      660.000000       8.800000   \n",
       "max                     2682.000000       9.800000   \n",
       "\n",
       "       review_total_negative_word_counts  total_number_of_reviews  \\\n",
       "count                      515431.000000            515431.000000   \n",
       "mean                           18.539760              2744.259084   \n",
       "std                            29.690973              2317.823718   \n",
       "min                             0.000000                43.000000   \n",
       "25%                             2.000000              1161.000000   \n",
       "50%                             9.000000              2134.000000   \n",
       "75%                            23.000000              3633.000000   \n",
       "max                           408.000000             16670.000000   \n",
       "\n",
       "       review_total_positive_word_counts  \\\n",
       "count                      515431.000000   \n",
       "mean                           17.777342   \n",
       "std                            21.803204   \n",
       "min                             0.000000   \n",
       "25%                             5.000000   \n",
       "50%                            11.000000   \n",
       "75%                            22.000000   \n",
       "max                           395.000000   \n",
       "\n",
       "       total_number_of_reviews_reviewer_has_given  reviewer_score  \\\n",
       "count                               515431.000000   515431.000000   \n",
       "mean                                     7.165215        6.296715   \n",
       "std                                     11.038742        3.902967   \n",
       "min                                      1.000000        0.000000   \n",
       "25%                                      1.000000        0.000000   \n",
       "50%                                      3.000000        7.900000   \n",
       "75%                                      8.000000        9.600000   \n",
       "max                                    355.000000       10.000000   \n",
       "\n",
       "                 lat            lng         train  \n",
       "count  515431.000000  515431.000000  515431.00000  \n",
       "mean       49.442788       2.824057       0.74985  \n",
       "std         3.456313       4.566185       0.43310  \n",
       "min        41.328376      -0.369758       0.00000  \n",
       "25%        48.214662      -0.143372       0.00000  \n",
       "50%        51.499981       0.019886       1.00000  \n",
       "75%        51.516288       4.831098       1.00000  \n",
       "max        52.400181      16.429233       1.00000  "
      ]
     },
     "execution_count": 54,
     "metadata": {},
     "output_type": "execute_result"
    }
   ],
   "source": [
    "data.describe()"
   ]
  },
  {
   "cell_type": "markdown",
   "metadata": {},
   "source": [
    "В таблице выше не видно сильных выбросов. Но есть вероятность, что они есть\n",
    "\n",
    "Прежде чем проверять числовые данные на выбросы, предлагаю проверить их на нормальность распределения чтобы понять применим ли к ним вообще метод Тьюки. "
   ]
  },
  {
   "cell_type": "code",
   "execution_count": 55,
   "metadata": {},
   "outputs": [
    {
     "name": "stdout",
     "output_type": "stream",
     "text": [
      "Распределение average_score не нормальное\n",
      "Распределение review_total_negative_word_counts не нормальное\n",
      "Распределение total_number_of_reviews не нормальное\n",
      "Распределение review_total_positive_word_counts не нормальное\n",
      "Распределение total_number_of_reviews_reviewer_has_given не нормальное\n",
      "Распределение reviewer_score не нормальное\n"
     ]
    },
    {
     "name": "stderr",
     "output_type": "stream",
     "text": [
      "c:\\Projects\\DS\\booking\\.venv\\Lib\\site-packages\\scipy\\stats\\_axis_nan_policy.py:573: UserWarning:\n",
      "\n",
      "scipy.stats.shapiro: For N > 5000, computed p-value may not be accurate. Current N is 515431.\n",
      "\n"
     ]
    }
   ],
   "source": [
    "# задаём уровень значимости\n",
    "alpha = 0.05 \n",
    "\n",
    "# Задаем перечень числовых параметров\n",
    "num_list = ['average_score', 'review_total_negative_word_counts', \n",
    "         'total_number_of_reviews', 'review_total_positive_word_counts', \n",
    "         'total_number_of_reviews_reviewer_has_given', 'reviewer_score']\n",
    "\n",
    "# проводим тест Шапиро — Уилка\n",
    "for col in num_list:\n",
    "    _, p= stats.shapiro(data[col])\n",
    "    if p <= alpha:\n",
    "        print(f'Распределение {col} не нормальное')\n",
    "    else:\n",
    "        print(f'Распределение {col} нормальное')\n",
    "\n"
   ]
  },
  {
   "cell_type": "markdown",
   "metadata": {},
   "source": [
    "Параметры не имеют нормального распределения. Нет смысла применять метод ТЬюки."
   ]
  },
  {
   "cell_type": "markdown",
   "metadata": {},
   "source": [
    "#### 2.2 Проектирование признаков"
   ]
  },
  {
   "cell_type": "markdown",
   "metadata": {},
   "source": [
    "Посмотрим, что можно извлечь из столбца hotel_address."
   ]
  },
  {
   "cell_type": "code",
   "execution_count": 56,
   "metadata": {},
   "outputs": [
    {
     "name": "stdout",
     "output_type": "stream",
     "text": [
      "0    Stratton Street Mayfair Westminster Borough Lo...\n",
      "0                   Via Senigallia 6 20161 Milan Italy\n",
      "Name: hotel_address, dtype: object / 5000    Prinses Irenestraat 30 Zuideramstel 1077 WX Am...\n",
      "5000      61 Quai De Grenelle 15th arr 75015 Paris France\n",
      "Name: hotel_address, dtype: object\n"
     ]
    }
   ],
   "source": [
    "print(data['hotel_address'][0],'/', data['hotel_address'][5000])"
   ]
  },
  {
   "cell_type": "markdown",
   "metadata": {},
   "source": [
    "Последними словами идет страна. Попробуем ее извлечь."
   ]
  },
  {
   "cell_type": "code",
   "execution_count": 57,
   "metadata": {},
   "outputs": [
    {
     "name": "stdout",
     "output_type": "stream",
     "text": [
      "['Kingdom' 'France' 'Netherlands' 'Italy' 'Austria' 'Spain']\n"
     ]
    }
   ],
   "source": [
    "print(data['hotel_address'].apply(lambda x: x.split()[-1]).unique())"
   ]
  },
  {
   "cell_type": "code",
   "execution_count": 58,
   "metadata": {},
   "outputs": [],
   "source": [
    "data['hotel_country'] = data['hotel_address'].apply(lambda x: x.split()[-1] \n",
    "                                                    if x.split()[-1] != 'Kingdom' \n",
    "                                                    else x.split()[-2] + ' ' + x.split()[-1])"
   ]
  },
  {
   "cell_type": "markdown",
   "metadata": {},
   "source": [
    "Обрабатываем значение и приводим перводим в категории и сбрасываем ненужный столбец."
   ]
  },
  {
   "cell_type": "code",
   "execution_count": 59,
   "metadata": {},
   "outputs": [],
   "source": [
    "data['hotel_country'] = data['hotel_country'].astype('category')\n",
    "data = data.drop(['hotel_address'], axis=1)\n"
   ]
  },
  {
   "cell_type": "markdown",
   "metadata": {},
   "source": [
    "additional_number_of_scoring оставляем без изменений. \n",
    "\n",
    "Рассмотрим review_date. Создадим признаки year, day_of_week, quarter."
   ]
  },
  {
   "cell_type": "code",
   "execution_count": 60,
   "metadata": {},
   "outputs": [],
   "source": [
    "data['review_date'] = pd.to_datetime(data['review_date'])\n",
    "data['year'] = data['review_date'].dt.year\n",
    "data['day_of_week'] = data['review_date'].dt.day_of_week\n",
    "data['quarter'] = data['review_date'].dt.quarter\n"
   ]
  },
  {
   "cell_type": "markdown",
   "metadata": {},
   "source": [
    "У нас уже есть столбец days_since_review. Мне кажется, что его использовать удобнее. сбрасываем review_date."
   ]
  },
  {
   "cell_type": "code",
   "execution_count": 61,
   "metadata": {},
   "outputs": [],
   "source": [
    "data = data.drop(['review_date'], axis=1)"
   ]
  },
  {
   "cell_type": "code",
   "execution_count": 62,
   "metadata": {},
   "outputs": [],
   "source": [
    "data['days_since_review'] = \\\n",
    "data['days_since_review'].apply(lambda x: int(x.replace(' days', '').replace(' day', '')))"
   ]
  },
  {
   "cell_type": "code",
   "execution_count": 63,
   "metadata": {},
   "outputs": [
    {
     "data": {
      "text/html": [
       "<div>\n",
       "<style scoped>\n",
       "    .dataframe tbody tr th:only-of-type {\n",
       "        vertical-align: middle;\n",
       "    }\n",
       "\n",
       "    .dataframe tbody tr th {\n",
       "        vertical-align: top;\n",
       "    }\n",
       "\n",
       "    .dataframe thead th {\n",
       "        text-align: right;\n",
       "    }\n",
       "</style>\n",
       "<table border=\"1\" class=\"dataframe\">\n",
       "  <thead>\n",
       "    <tr style=\"text-align: right;\">\n",
       "      <th></th>\n",
       "      <th>additional_number_of_scoring</th>\n",
       "      <th>average_score</th>\n",
       "      <th>hotel_name</th>\n",
       "      <th>reviewer_nationality</th>\n",
       "      <th>negative_review</th>\n",
       "      <th>review_total_negative_word_counts</th>\n",
       "      <th>total_number_of_reviews</th>\n",
       "      <th>positive_review</th>\n",
       "      <th>review_total_positive_word_counts</th>\n",
       "      <th>total_number_of_reviews_reviewer_has_given</th>\n",
       "      <th>reviewer_score</th>\n",
       "      <th>tags</th>\n",
       "      <th>days_since_review</th>\n",
       "      <th>lat</th>\n",
       "      <th>lng</th>\n",
       "      <th>train</th>\n",
       "      <th>hotel_country</th>\n",
       "      <th>year</th>\n",
       "      <th>day_of_week</th>\n",
       "      <th>quarter</th>\n",
       "    </tr>\n",
       "  </thead>\n",
       "  <tbody>\n",
       "    <tr>\n",
       "      <th>0</th>\n",
       "      <td>581</td>\n",
       "      <td>8.4</td>\n",
       "      <td>The May Fair Hotel</td>\n",
       "      <td>United Kingdom</td>\n",
       "      <td>Leaving</td>\n",
       "      <td>3</td>\n",
       "      <td>1994</td>\n",
       "      <td>Staff were amazing</td>\n",
       "      <td>4</td>\n",
       "      <td>7</td>\n",
       "      <td>10.0</td>\n",
       "      <td>[' Leisure trip ', ' Couple ', ' Studio Suite ...</td>\n",
       "      <td>531</td>\n",
       "      <td>51.507894</td>\n",
       "      <td>-0.143671</td>\n",
       "      <td>1</td>\n",
       "      <td>United Kingdom</td>\n",
       "      <td>2016</td>\n",
       "      <td>4</td>\n",
       "      <td>1</td>\n",
       "    </tr>\n",
       "    <tr>\n",
       "      <th>1</th>\n",
       "      <td>299</td>\n",
       "      <td>8.3</td>\n",
       "      <td>Mercure London Bloomsbury Hotel</td>\n",
       "      <td>United Kingdom</td>\n",
       "      <td>poor breakfast</td>\n",
       "      <td>3</td>\n",
       "      <td>1361</td>\n",
       "      <td>location</td>\n",
       "      <td>2</td>\n",
       "      <td>14</td>\n",
       "      <td>6.3</td>\n",
       "      <td>[' Business trip ', ' Couple ', ' Standard Dou...</td>\n",
       "      <td>203</td>\n",
       "      <td>51.521009</td>\n",
       "      <td>-0.123097</td>\n",
       "      <td>1</td>\n",
       "      <td>United Kingdom</td>\n",
       "      <td>2017</td>\n",
       "      <td>3</td>\n",
       "      <td>1</td>\n",
       "    </tr>\n",
       "  </tbody>\n",
       "</table>\n",
       "</div>"
      ],
      "text/plain": [
       "   additional_number_of_scoring  average_score  \\\n",
       "0                           581            8.4   \n",
       "1                           299            8.3   \n",
       "\n",
       "                        hotel_name reviewer_nationality  negative_review  \\\n",
       "0               The May Fair Hotel      United Kingdom          Leaving    \n",
       "1  Mercure London Bloomsbury Hotel      United Kingdom    poor breakfast   \n",
       "\n",
       "   review_total_negative_word_counts  total_number_of_reviews  \\\n",
       "0                                  3                     1994   \n",
       "1                                  3                     1361   \n",
       "\n",
       "       positive_review  review_total_positive_word_counts  \\\n",
       "0   Staff were amazing                                  4   \n",
       "1             location                                  2   \n",
       "\n",
       "   total_number_of_reviews_reviewer_has_given  reviewer_score  \\\n",
       "0                                           7            10.0   \n",
       "1                                          14             6.3   \n",
       "\n",
       "                                                tags  days_since_review  \\\n",
       "0  [' Leisure trip ', ' Couple ', ' Studio Suite ...                531   \n",
       "1  [' Business trip ', ' Couple ', ' Standard Dou...                203   \n",
       "\n",
       "         lat       lng  train   hotel_country  year  day_of_week  quarter  \n",
       "0  51.507894 -0.143671      1  United Kingdom  2016            4        1  \n",
       "1  51.521009 -0.123097      1  United Kingdom  2017            3        1  "
      ]
     },
     "execution_count": 63,
     "metadata": {},
     "output_type": "execute_result"
    }
   ],
   "source": [
    "data.head(2)"
   ]
  },
  {
   "cell_type": "markdown",
   "metadata": {},
   "source": [
    "Рассмотрим hotel_name."
   ]
  },
  {
   "cell_type": "code",
   "execution_count": 64,
   "metadata": {},
   "outputs": [
    {
     "name": "stdout",
     "output_type": "stream",
     "text": [
      "0    The May Fair Hotel\n",
      "0        Hotel Da Vinci\n",
      "Name: hotel_name, dtype: object / 10000        Holiday Inn London Regent s Park\n",
      "10000    Appartement Hotel an der Riemergasse\n",
      "Name: hotel_name, dtype: object\n"
     ]
    }
   ],
   "source": [
    "print(data['hotel_name'][0],'/', data['hotel_name'][10000])"
   ]
  },
  {
   "cell_type": "markdown",
   "metadata": {},
   "source": [
    " предлагаю извлечь из него признаки royal, luxury, appart"
   ]
  },
  {
   "cell_type": "code",
   "execution_count": 65,
   "metadata": {},
   "outputs": [],
   "source": [
    "data['royal'] = data['hotel_name'].apply(lambda x: 'royal' in x.lower())\n",
    "data['luxury'] = data['hotel_name'].apply(lambda x: 'luxury' in x.lower())\n",
    "data['appart'] = data['hotel_name'].apply(lambda x: 'appart' in x.lower())"
   ]
  },
  {
   "cell_type": "markdown",
   "metadata": {},
   "source": [
    "Удаляем изначальный признак hotel_name"
   ]
  },
  {
   "cell_type": "code",
   "execution_count": 66,
   "metadata": {},
   "outputs": [
    {
     "data": {
      "text/html": [
       "<div>\n",
       "<style scoped>\n",
       "    .dataframe tbody tr th:only-of-type {\n",
       "        vertical-align: middle;\n",
       "    }\n",
       "\n",
       "    .dataframe tbody tr th {\n",
       "        vertical-align: top;\n",
       "    }\n",
       "\n",
       "    .dataframe thead th {\n",
       "        text-align: right;\n",
       "    }\n",
       "</style>\n",
       "<table border=\"1\" class=\"dataframe\">\n",
       "  <thead>\n",
       "    <tr style=\"text-align: right;\">\n",
       "      <th></th>\n",
       "      <th>additional_number_of_scoring</th>\n",
       "      <th>average_score</th>\n",
       "      <th>reviewer_nationality</th>\n",
       "      <th>negative_review</th>\n",
       "      <th>review_total_negative_word_counts</th>\n",
       "      <th>total_number_of_reviews</th>\n",
       "      <th>positive_review</th>\n",
       "      <th>review_total_positive_word_counts</th>\n",
       "      <th>total_number_of_reviews_reviewer_has_given</th>\n",
       "      <th>reviewer_score</th>\n",
       "      <th>...</th>\n",
       "      <th>lat</th>\n",
       "      <th>lng</th>\n",
       "      <th>train</th>\n",
       "      <th>hotel_country</th>\n",
       "      <th>year</th>\n",
       "      <th>day_of_week</th>\n",
       "      <th>quarter</th>\n",
       "      <th>royal</th>\n",
       "      <th>luxury</th>\n",
       "      <th>appart</th>\n",
       "    </tr>\n",
       "  </thead>\n",
       "  <tbody>\n",
       "    <tr>\n",
       "      <th>0</th>\n",
       "      <td>581</td>\n",
       "      <td>8.4</td>\n",
       "      <td>United Kingdom</td>\n",
       "      <td>Leaving</td>\n",
       "      <td>3</td>\n",
       "      <td>1994</td>\n",
       "      <td>Staff were amazing</td>\n",
       "      <td>4</td>\n",
       "      <td>7</td>\n",
       "      <td>10.0</td>\n",
       "      <td>...</td>\n",
       "      <td>51.507894</td>\n",
       "      <td>-0.143671</td>\n",
       "      <td>1</td>\n",
       "      <td>United Kingdom</td>\n",
       "      <td>2016</td>\n",
       "      <td>4</td>\n",
       "      <td>1</td>\n",
       "      <td>False</td>\n",
       "      <td>False</td>\n",
       "      <td>False</td>\n",
       "    </tr>\n",
       "    <tr>\n",
       "      <th>1</th>\n",
       "      <td>299</td>\n",
       "      <td>8.3</td>\n",
       "      <td>United Kingdom</td>\n",
       "      <td>poor breakfast</td>\n",
       "      <td>3</td>\n",
       "      <td>1361</td>\n",
       "      <td>location</td>\n",
       "      <td>2</td>\n",
       "      <td>14</td>\n",
       "      <td>6.3</td>\n",
       "      <td>...</td>\n",
       "      <td>51.521009</td>\n",
       "      <td>-0.123097</td>\n",
       "      <td>1</td>\n",
       "      <td>United Kingdom</td>\n",
       "      <td>2017</td>\n",
       "      <td>3</td>\n",
       "      <td>1</td>\n",
       "      <td>False</td>\n",
       "      <td>False</td>\n",
       "      <td>False</td>\n",
       "    </tr>\n",
       "    <tr>\n",
       "      <th>2</th>\n",
       "      <td>32</td>\n",
       "      <td>8.9</td>\n",
       "      <td>China</td>\n",
       "      <td>No kettle in room</td>\n",
       "      <td>6</td>\n",
       "      <td>406</td>\n",
       "      <td>No Positive</td>\n",
       "      <td>0</td>\n",
       "      <td>14</td>\n",
       "      <td>7.5</td>\n",
       "      <td>...</td>\n",
       "      <td>48.845377</td>\n",
       "      <td>2.325643</td>\n",
       "      <td>1</td>\n",
       "      <td>France</td>\n",
       "      <td>2016</td>\n",
       "      <td>1</td>\n",
       "      <td>4</td>\n",
       "      <td>False</td>\n",
       "      <td>False</td>\n",
       "      <td>False</td>\n",
       "    </tr>\n",
       "    <tr>\n",
       "      <th>3</th>\n",
       "      <td>34</td>\n",
       "      <td>7.5</td>\n",
       "      <td>United Kingdom</td>\n",
       "      <td>No Negative</td>\n",
       "      <td>0</td>\n",
       "      <td>607</td>\n",
       "      <td>Friendly staff quiet comfortable room spotles...</td>\n",
       "      <td>11</td>\n",
       "      <td>8</td>\n",
       "      <td>10.0</td>\n",
       "      <td>...</td>\n",
       "      <td>48.888697</td>\n",
       "      <td>2.394540</td>\n",
       "      <td>1</td>\n",
       "      <td>France</td>\n",
       "      <td>2015</td>\n",
       "      <td>1</td>\n",
       "      <td>3</td>\n",
       "      <td>False</td>\n",
       "      <td>False</td>\n",
       "      <td>False</td>\n",
       "    </tr>\n",
       "    <tr>\n",
       "      <th>4</th>\n",
       "      <td>914</td>\n",
       "      <td>8.5</td>\n",
       "      <td>Poland</td>\n",
       "      <td>Torn sheets</td>\n",
       "      <td>4</td>\n",
       "      <td>7586</td>\n",
       "      <td>The staff was very friendly and helpful Break...</td>\n",
       "      <td>20</td>\n",
       "      <td>10</td>\n",
       "      <td>9.6</td>\n",
       "      <td>...</td>\n",
       "      <td>52.385601</td>\n",
       "      <td>4.847060</td>\n",
       "      <td>1</td>\n",
       "      <td>Netherlands</td>\n",
       "      <td>2016</td>\n",
       "      <td>5</td>\n",
       "      <td>1</td>\n",
       "      <td>False</td>\n",
       "      <td>False</td>\n",
       "      <td>False</td>\n",
       "    </tr>\n",
       "  </tbody>\n",
       "</table>\n",
       "<p>5 rows × 22 columns</p>\n",
       "</div>"
      ],
      "text/plain": [
       "   additional_number_of_scoring  average_score reviewer_nationality  \\\n",
       "0                           581            8.4      United Kingdom    \n",
       "1                           299            8.3      United Kingdom    \n",
       "2                            32            8.9               China    \n",
       "3                            34            7.5      United Kingdom    \n",
       "4                           914            8.5              Poland    \n",
       "\n",
       "       negative_review  review_total_negative_word_counts  \\\n",
       "0             Leaving                                   3   \n",
       "1       poor breakfast                                  3   \n",
       "2   No kettle in room                                   6   \n",
       "3          No Negative                                  0   \n",
       "4         Torn sheets                                   4   \n",
       "\n",
       "   total_number_of_reviews                                    positive_review  \\\n",
       "0                     1994                                 Staff were amazing   \n",
       "1                     1361                                           location   \n",
       "2                      406                                        No Positive   \n",
       "3                      607   Friendly staff quiet comfortable room spotles...   \n",
       "4                     7586   The staff was very friendly and helpful Break...   \n",
       "\n",
       "   review_total_positive_word_counts  \\\n",
       "0                                  4   \n",
       "1                                  2   \n",
       "2                                  0   \n",
       "3                                 11   \n",
       "4                                 20   \n",
       "\n",
       "   total_number_of_reviews_reviewer_has_given  reviewer_score  ...        lat  \\\n",
       "0                                           7            10.0  ...  51.507894   \n",
       "1                                          14             6.3  ...  51.521009   \n",
       "2                                          14             7.5  ...  48.845377   \n",
       "3                                           8            10.0  ...  48.888697   \n",
       "4                                          10             9.6  ...  52.385601   \n",
       "\n",
       "        lng  train   hotel_country  year day_of_week  quarter  royal  luxury  \\\n",
       "0 -0.143671      1  United Kingdom  2016           4        1  False   False   \n",
       "1 -0.123097      1  United Kingdom  2017           3        1  False   False   \n",
       "2  2.325643      1          France  2016           1        4  False   False   \n",
       "3  2.394540      1          France  2015           1        3  False   False   \n",
       "4  4.847060      1     Netherlands  2016           5        1  False   False   \n",
       "\n",
       "   appart  \n",
       "0   False  \n",
       "1   False  \n",
       "2   False  \n",
       "3   False  \n",
       "4   False  \n",
       "\n",
       "[5 rows x 22 columns]"
      ]
     },
     "execution_count": 66,
     "metadata": {},
     "output_type": "execute_result"
    }
   ],
   "source": [
    "data = data.drop(['hotel_name'], axis=1)\n",
    "data.head()"
   ]
  },
  {
   "cell_type": "markdown",
   "metadata": {},
   "source": [
    "Далее рассматриваем параметр reviewer_nationality."
   ]
  },
  {
   "cell_type": "code",
   "execution_count": 67,
   "metadata": {},
   "outputs": [
    {
     "data": {
      "text/plain": [
       "array([' United Kingdom ', ' China ', ' Poland ', ' France ',\n",
       "       ' Switzerland ', ' Bulgaria ', ' Lebanon ',\n",
       "       ' United Arab Emirates ', ' South Africa ', ' Nigeria ',\n",
       "       ' Sweden ', ' United States of America ', ' Hong Kong ',\n",
       "       ' Luxembourg ', ' Netherlands ', ' Jersey ', ' Pakistan ',\n",
       "       ' Mexico ', ' Italy ', ' Singapore ', ' Ireland ', ' Kuwait ',\n",
       "       ' Bahrain ', ' Portugal ', ' Canada ', ' Germany ', ' Oman ',\n",
       "       ' Austria ', ' Japan ', ' Ukraine ', ' Finland ', ' Iran ',\n",
       "       ' Thailand ', ' Brazil ', ' Denmark ', ' Australia ', ' Spain ',\n",
       "       ' Gabon ', ' New Zealand ', ' Israel ', ' Cyprus ', ' Gibraltar ',\n",
       "       ' Turkey ', ' Egypt ', ' Indonesia ', ' Slovakia ', ' Qatar ',\n",
       "       ' Romania ', ' Belgium ', ' Trinidad and Tobago ', ' ',\n",
       "       ' Saudi Arabia ', ' Bhutan ', ' Iceland ', ' Norway ',\n",
       "       ' Sri Lanka ', ' Isle of Man ', ' Greece ', ' Slovenia ',\n",
       "       ' Serbia ', ' Czech Republic ', ' Hungary ', ' Latvia ',\n",
       "       ' Estonia ', ' South Korea ', ' Malaysia ', ' Malta ',\n",
       "       ' Bosnia and Herzegovina ', ' Jordan ', ' Chile ', ' India ',\n",
       "       ' Vietnam ', ' Puerto Rico ', ' Russia ', ' Colombia ',\n",
       "       ' Georgia ', ' Argentina ', ' Guernsey ', ' Kazakhstan ',\n",
       "       ' Brunei ', ' Croatia ', ' Lithuania ', ' Montenegro ',\n",
       "       ' Costa Rica ', ' Mauritius ', ' Fiji ', ' Philippines ',\n",
       "       ' Bermuda ', ' Peru ', ' Belarus ', ' Morocco ', ' Seychelles ',\n",
       "       ' Azerbaijan ', ' Venezuela ', ' Taiwan ', ' Sudan ', ' Ghana ',\n",
       "       ' Paraguay ', ' Bahamas ', ' Macedonia ', ' Monaco ', ' Panama ',\n",
       "       ' Dominica ', ' Guatemala ', ' Mauritania ', ' Ecuador ',\n",
       "       ' Kenya ', ' Iraq ', ' Bangladesh ', ' Zimbabwe ', ' Armenia ',\n",
       "       ' Tuvalu ', ' Kosovo ', ' Abkhazia Georgia ', ' Rwanda ',\n",
       "       ' Andorra ', ' United States Minor Outlying Islands ', ' Albania ',\n",
       "       ' Syria ', ' Namibia ', ' Libya ', ' Barbados ', ' Moldova ',\n",
       "       ' Bolivia ', ' Tanzania ', ' Faroe Islands ', ' Mali ',\n",
       "       ' Liechtenstein ', ' El Salvador ', ' Tunisia ', ' Algeria ',\n",
       "       ' Macau ', ' Mongolia ', ' Lesotho ', ' Madagascar ',\n",
       "       ' Nicaragua ', ' Zambia ', ' Papua New Guinea ', ' Ethiopia ',\n",
       "       ' Cayman Islands ', ' Ivory Coast ', ' Cura ao ', ' Senegal ',\n",
       "       ' U S Virgin Islands ', ' Saint Lucia ', ' Antarctica ',\n",
       "       ' Jamaica ', ' Belize ', ' Angola ', ' Myanmar ', ' Burundi ',\n",
       "       ' Honduras ', ' Maldives ', ' Uganda ', ' Aruba ', ' Yemen ',\n",
       "       ' Uruguay ', ' Benin ', ' Palestinian Territory ', ' Gambia ',\n",
       "       ' Botswana ', ' French Polynesia ', ' Suriname ', ' Malawi ',\n",
       "       ' Anguilla ', ' Comoros ', ' Niger ', ' Djibouti ', ' Mozambique ',\n",
       "       ' Guinea ', ' Falkland Islands Malvinas ', ' Togo ',\n",
       "       ' Turks Caicos Islands ', ' Cambodia ', ' Saint Kitts and Nevis ',\n",
       "       ' Dominican Republic ', ' Turkmenistan ', ' Laos ',\n",
       "       ' Cook Islands ', ' Crimea ', ' Congo ', ' Liberia ',\n",
       "       ' Uzbekistan ', ' St Maarten ', ' Kyrgyzstan ',\n",
       "       ' British Virgin Islands ', ' Martinique ', ' Montserrat ',\n",
       "       ' Guam ', ' Equatorial Guinea ', ' Nepal ', ' Antigua Barbuda ',\n",
       "       ' Tajikistan ', ' St Pierre and Miquelon ', ' Guadeloupe ',\n",
       "       ' New Caledonia ', ' Cocos K I ', ' Wallis and Futuna ', ' Haiti ',\n",
       "       ' Sierra Leone ', ' Swaziland ', ' Saint Martin ', ' Vanuatu ',\n",
       "       ' Saint Vincent Grenadines ', ' French Guiana ', ' Afghanistan ',\n",
       "       ' Samoa ', ' Guyana ', ' South Sudan ', ' Kiribati ', ' Reunion ',\n",
       "       ' Bonaire St Eustatius and Saba ', ' Somalia ',\n",
       "       ' Democratic Republic of the Congo ', ' Eritrea ', ' San Marino ',\n",
       "       ' Cameroon ', ' East Timor ', ' Svalbard Jan Mayen ',\n",
       "       ' American Samoa ', ' Northern Mariana Islands ', ' Saint Barts ',\n",
       "       ' Central Africa Republic ', ' Palau ', ' Grenada ',\n",
       "       ' Vatican City ', ' Cape Verde '], dtype=object)"
      ]
     },
     "execution_count": 67,
     "metadata": {},
     "output_type": "execute_result"
    }
   ],
   "source": [
    "data['reviewer_nationality'].unique()"
   ]
  },
  {
   "cell_type": "markdown",
   "metadata": {},
   "source": [
    "Врядли имеет смысл рассматривать все эти страны. Предлагаю Сократить до количества стран равного количеству стран hotel_country. \n",
    "\n",
    "Далее предлагаю одинаково закодировать оба признака и ввести признак совпадения hotel_country reviewer_nationality. Есть вероятность, что признак будет влиять на оценку отеля."
   ]
  },
  {
   "cell_type": "code",
   "execution_count": 68,
   "metadata": {},
   "outputs": [
    {
     "data": {
      "text/plain": [
       "array(['United Kingdom', 'other', 'France', 'Netherlands', 'Italy',\n",
       "       'Austria', 'Spain'], dtype=object)"
      ]
     },
     "metadata": {},
     "output_type": "display_data"
    }
   ],
   "source": [
    "countries_dict = {'United Kingdom':1, 'France':2, 'Netherlands':3, 'Italy':4, 'Austria':5, 'Spain':6, 'other':7}\n",
    "\n",
    "data['reviewer_nationality'] = data['reviewer_nationality'].apply(lambda x: x.strip())\n",
    "data['reviewer_nationality'] = data['reviewer_nationality'].apply(lambda x: x if x in countries_dict.keys() else 'other')\n",
    "display(data['reviewer_nationality'].unique())\n"
   ]
  },
  {
   "cell_type": "code",
   "execution_count": 69,
   "metadata": {},
   "outputs": [],
   "source": [
    "# создаем объект OrdinalEncoder, col - имя столбца, mapping - словарь с описанием кодировки\n",
    "ord_encoder = ce.OrdinalEncoder(mapping=[{\n",
    "\t'col': 'reviewer_nationality',\n",
    "\t'mapping': countries_dict\n",
    "}])\n",
    "# применяем трансформацию к столбцу reviewer_nationality\n",
    "data_bin = ord_encoder.fit_transform(data['reviewer_nationality'])\n",
    "# добавляем результат к исходному DataFrame\n",
    "data['reviewer_nationality']=data_bin\n",
    "\n",
    "\n",
    "ord_encoder = ce.OrdinalEncoder(mapping=[{\n",
    "\t'col': 'hotel_country',\n",
    "\t'mapping': countries_dict\n",
    "}])\n",
    "# применяем трансформацию к столбцу\n",
    "data_bin = ord_encoder.fit_transform(data['hotel_country'])\n",
    "# добавляем результат к исходному DataFrame\n",
    "data['hotel_country']=data_bin\n"
   ]
  },
  {
   "cell_type": "code",
   "execution_count": 70,
   "metadata": {},
   "outputs": [],
   "source": [
    "data['hotel_country_is_reviewer_nationality'] = data['reviewer_nationality'] == data['hotel_country']"
   ]
  },
  {
   "cell_type": "code",
   "execution_count": 71,
   "metadata": {},
   "outputs": [
    {
     "data": {
      "text/html": [
       "<div>\n",
       "<style scoped>\n",
       "    .dataframe tbody tr th:only-of-type {\n",
       "        vertical-align: middle;\n",
       "    }\n",
       "\n",
       "    .dataframe tbody tr th {\n",
       "        vertical-align: top;\n",
       "    }\n",
       "\n",
       "    .dataframe thead th {\n",
       "        text-align: right;\n",
       "    }\n",
       "</style>\n",
       "<table border=\"1\" class=\"dataframe\">\n",
       "  <thead>\n",
       "    <tr style=\"text-align: right;\">\n",
       "      <th></th>\n",
       "      <th>additional_number_of_scoring</th>\n",
       "      <th>average_score</th>\n",
       "      <th>reviewer_nationality</th>\n",
       "      <th>negative_review</th>\n",
       "      <th>review_total_negative_word_counts</th>\n",
       "      <th>total_number_of_reviews</th>\n",
       "      <th>positive_review</th>\n",
       "      <th>review_total_positive_word_counts</th>\n",
       "      <th>total_number_of_reviews_reviewer_has_given</th>\n",
       "      <th>reviewer_score</th>\n",
       "      <th>...</th>\n",
       "      <th>lng</th>\n",
       "      <th>train</th>\n",
       "      <th>hotel_country</th>\n",
       "      <th>year</th>\n",
       "      <th>day_of_week</th>\n",
       "      <th>quarter</th>\n",
       "      <th>royal</th>\n",
       "      <th>luxury</th>\n",
       "      <th>appart</th>\n",
       "      <th>hotel_country_is_reviewer_nationality</th>\n",
       "    </tr>\n",
       "  </thead>\n",
       "  <tbody>\n",
       "    <tr>\n",
       "      <th>0</th>\n",
       "      <td>581</td>\n",
       "      <td>8.4</td>\n",
       "      <td>1</td>\n",
       "      <td>Leaving</td>\n",
       "      <td>3</td>\n",
       "      <td>1994</td>\n",
       "      <td>Staff were amazing</td>\n",
       "      <td>4</td>\n",
       "      <td>7</td>\n",
       "      <td>10.0</td>\n",
       "      <td>...</td>\n",
       "      <td>-0.143671</td>\n",
       "      <td>1</td>\n",
       "      <td>1</td>\n",
       "      <td>2016</td>\n",
       "      <td>4</td>\n",
       "      <td>1</td>\n",
       "      <td>False</td>\n",
       "      <td>False</td>\n",
       "      <td>False</td>\n",
       "      <td>True</td>\n",
       "    </tr>\n",
       "    <tr>\n",
       "      <th>1</th>\n",
       "      <td>299</td>\n",
       "      <td>8.3</td>\n",
       "      <td>1</td>\n",
       "      <td>poor breakfast</td>\n",
       "      <td>3</td>\n",
       "      <td>1361</td>\n",
       "      <td>location</td>\n",
       "      <td>2</td>\n",
       "      <td>14</td>\n",
       "      <td>6.3</td>\n",
       "      <td>...</td>\n",
       "      <td>-0.123097</td>\n",
       "      <td>1</td>\n",
       "      <td>1</td>\n",
       "      <td>2017</td>\n",
       "      <td>3</td>\n",
       "      <td>1</td>\n",
       "      <td>False</td>\n",
       "      <td>False</td>\n",
       "      <td>False</td>\n",
       "      <td>True</td>\n",
       "    </tr>\n",
       "    <tr>\n",
       "      <th>2</th>\n",
       "      <td>32</td>\n",
       "      <td>8.9</td>\n",
       "      <td>7</td>\n",
       "      <td>No kettle in room</td>\n",
       "      <td>6</td>\n",
       "      <td>406</td>\n",
       "      <td>No Positive</td>\n",
       "      <td>0</td>\n",
       "      <td>14</td>\n",
       "      <td>7.5</td>\n",
       "      <td>...</td>\n",
       "      <td>2.325643</td>\n",
       "      <td>1</td>\n",
       "      <td>2</td>\n",
       "      <td>2016</td>\n",
       "      <td>1</td>\n",
       "      <td>4</td>\n",
       "      <td>False</td>\n",
       "      <td>False</td>\n",
       "      <td>False</td>\n",
       "      <td>False</td>\n",
       "    </tr>\n",
       "  </tbody>\n",
       "</table>\n",
       "<p>3 rows × 23 columns</p>\n",
       "</div>"
      ],
      "text/plain": [
       "   additional_number_of_scoring  average_score  reviewer_nationality  \\\n",
       "0                           581            8.4                     1   \n",
       "1                           299            8.3                     1   \n",
       "2                            32            8.9                     7   \n",
       "\n",
       "       negative_review  review_total_negative_word_counts  \\\n",
       "0             Leaving                                   3   \n",
       "1       poor breakfast                                  3   \n",
       "2   No kettle in room                                   6   \n",
       "\n",
       "   total_number_of_reviews      positive_review  \\\n",
       "0                     1994   Staff were amazing   \n",
       "1                     1361             location   \n",
       "2                      406          No Positive   \n",
       "\n",
       "   review_total_positive_word_counts  \\\n",
       "0                                  4   \n",
       "1                                  2   \n",
       "2                                  0   \n",
       "\n",
       "   total_number_of_reviews_reviewer_has_given  reviewer_score  ...       lng  \\\n",
       "0                                           7            10.0  ... -0.143671   \n",
       "1                                          14             6.3  ... -0.123097   \n",
       "2                                          14             7.5  ...  2.325643   \n",
       "\n",
       "   train  hotel_country  year  day_of_week  quarter  royal  luxury  appart  \\\n",
       "0      1              1  2016            4        1  False   False   False   \n",
       "1      1              1  2017            3        1  False   False   False   \n",
       "2      1              2  2016            1        4  False   False   False   \n",
       "\n",
       "   hotel_country_is_reviewer_nationality  \n",
       "0                                   True  \n",
       "1                                   True  \n",
       "2                                  False  \n",
       "\n",
       "[3 rows x 23 columns]"
      ]
     },
     "execution_count": 71,
     "metadata": {},
     "output_type": "execute_result"
    }
   ],
   "source": [
    "data.head(3)"
   ]
  },
  {
   "cell_type": "markdown",
   "metadata": {},
   "source": [
    "Рассмотрим negative_review. Его имеет смысл рассматривать вместе с positive_review."
   ]
  },
  {
   "cell_type": "code",
   "execution_count": 72,
   "metadata": {},
   "outputs": [
    {
     "name": "stdout",
     "output_type": "stream",
     "text": [
      "330011 412601\n"
     ]
    }
   ],
   "source": [
    "print(len(data['negative_review'].unique()), len(data['positive_review'].unique()))"
   ]
  },
  {
   "cell_type": "markdown",
   "metadata": {},
   "source": [
    "Одтинаковых отзывов слишком мало. Предлагаю извлечь из отзывов упоминание персонала и создать два признака: negative_stuff и positive_stuff."
   ]
  },
  {
   "cell_type": "code",
   "execution_count": 73,
   "metadata": {},
   "outputs": [],
   "source": [
    "data['negative_stuff'] = data['negative_review'].apply(lambda x: 1 if 'stuff' in x.lower() else 0)\n",
    "data['positive_stuff'] = data['positive_review'].apply(lambda x: 1 if 'stuff' in x.lower() else 0)"
   ]
  },
  {
   "cell_type": "code",
   "execution_count": 74,
   "metadata": {},
   "outputs": [
    {
     "data": {
      "text/plain": [
       "np.int64(2450)"
      ]
     },
     "metadata": {},
     "output_type": "display_data"
    },
    {
     "data": {
      "text/plain": [
       "np.int64(3190)"
      ]
     },
     "metadata": {},
     "output_type": "display_data"
    }
   ],
   "source": [
    "display(data['negative_stuff'].sum(), data['positive_stuff'].sum())"
   ]
  },
  {
   "cell_type": "markdown",
   "metadata": {},
   "source": [
    "не слишком много, но можно попробовать. Удаляем столбцы отзывов."
   ]
  },
  {
   "cell_type": "code",
   "execution_count": 75,
   "metadata": {},
   "outputs": [
    {
     "name": "stdout",
     "output_type": "stream",
     "text": [
      "<class 'pandas.core.frame.DataFrame'>\n",
      "Index: 515431 entries, 0 to 128934\n",
      "Data columns (total 23 columns):\n",
      " #   Column                                      Non-Null Count   Dtype  \n",
      "---  ------                                      --------------   -----  \n",
      " 0   additional_number_of_scoring                515431 non-null  int64  \n",
      " 1   average_score                               515431 non-null  float64\n",
      " 2   reviewer_nationality                        515431 non-null  int64  \n",
      " 3   review_total_negative_word_counts           515431 non-null  int64  \n",
      " 4   total_number_of_reviews                     515431 non-null  int64  \n",
      " 5   review_total_positive_word_counts           515431 non-null  int64  \n",
      " 6   total_number_of_reviews_reviewer_has_given  515431 non-null  int64  \n",
      " 7   reviewer_score                              515431 non-null  float64\n",
      " 8   tags                                        515431 non-null  object \n",
      " 9   days_since_review                           515431 non-null  int64  \n",
      " 10  lat                                         515431 non-null  float64\n",
      " 11  lng                                         515431 non-null  float64\n",
      " 12  train                                       515431 non-null  int64  \n",
      " 13  hotel_country                               515431 non-null  int64  \n",
      " 14  year                                        515431 non-null  int32  \n",
      " 15  day_of_week                                 515431 non-null  int32  \n",
      " 16  quarter                                     515431 non-null  int32  \n",
      " 17  royal                                       515431 non-null  bool   \n",
      " 18  luxury                                      515431 non-null  bool   \n",
      " 19  appart                                      515431 non-null  bool   \n",
      " 20  hotel_country_is_reviewer_nationality       515431 non-null  bool   \n",
      " 21  negative_stuff                              515431 non-null  int64  \n",
      " 22  positive_stuff                              515431 non-null  int64  \n",
      "dtypes: bool(4), float64(4), int32(3), int64(11), object(1)\n",
      "memory usage: 90.8+ MB\n"
     ]
    }
   ],
   "source": [
    "data = data.drop(['negative_review', 'positive_review'], axis=1)\n",
    "data.info()"
   ]
  },
  {
   "cell_type": "markdown",
   "metadata": {},
   "source": [
    "Остается рвссмотреть тольго столбец tags."
   ]
  },
  {
   "cell_type": "code",
   "execution_count": 76,
   "metadata": {},
   "outputs": [
    {
     "data": {
      "text/plain": [
       "str"
      ]
     },
     "execution_count": 76,
     "metadata": {},
     "output_type": "execute_result"
    }
   ],
   "source": [
    "type(data['tags'].iloc[1])"
   ]
  },
  {
   "cell_type": "code",
   "execution_count": 77,
   "metadata": {},
   "outputs": [
    {
     "data": {
      "text/plain": [
       "[('Leisure trip', 417538),\n",
       " ('Submitted from a mobile device', 307470),\n",
       " ('Couple', 252128),\n",
       " ('Stayed 1 night', 193568),\n",
       " ('Stayed 2 nights', 133850),\n",
       " ('Solo traveler', 108476),\n",
       " ('Stayed 3 nights', 95761),\n",
       " ('Business trip', 82884),\n",
       " ('Group', 65361),\n",
       " ('Family with young children', 60989)]"
      ]
     },
     "execution_count": 77,
     "metadata": {},
     "output_type": "execute_result"
    }
   ],
   "source": [
    "tags = data['tags']\n",
    "tag_count =[]\n",
    "for tag in range(len(tags)):\n",
    "    tag_count += data['tags'].iloc[tag].strip(\"[' \").strip(\" ']\").split(\" ', ' \")\n",
    "    \n",
    "Counter(tag_count).most_common(10)"
   ]
  },
  {
   "cell_type": "markdown",
   "metadata": {},
   "source": [
    "Предлагаю взять наиболее популярные 7 признаков и добавить соответствующие столбцы в таблицу (Признаик о пребывании обработаем по-другому). Также предлагаю добавить столбец stayed (пребывание)."
   ]
  },
  {
   "cell_type": "code",
   "execution_count": 78,
   "metadata": {},
   "outputs": [],
   "source": [
    "tag_common = ['Leisure trip', 'Submitted from a mobile device', \n",
    "              'Couple', 'Solo traveler', 'Business trip', 'Group', \n",
    "              'Family with young children']\n",
    "\n",
    "for tag in tag_common:\n",
    "    data[tag] = data['tags'].apply(lambda x: tag in x)"
   ]
  },
  {
   "cell_type": "markdown",
   "metadata": {},
   "source": [
    "Также предлагаю добавить столбец stayed (пребывание). Количество ночей."
   ]
  },
  {
   "cell_type": "code",
   "execution_count": 79,
   "metadata": {},
   "outputs": [
    {
     "data": {
      "text/plain": [
       "{'Stayed 1 night',\n",
       " 'Stayed 10 nights',\n",
       " 'Stayed 11 nights',\n",
       " 'Stayed 12 nights',\n",
       " 'Stayed 13 nights',\n",
       " 'Stayed 14 nights',\n",
       " 'Stayed 15 nights',\n",
       " 'Stayed 16 nights',\n",
       " 'Stayed 17 nights',\n",
       " 'Stayed 18 nights',\n",
       " 'Stayed 19 nights',\n",
       " 'Stayed 2 nights',\n",
       " 'Stayed 20 nights',\n",
       " 'Stayed 21 nights',\n",
       " 'Stayed 22 nights',\n",
       " 'Stayed 23 nights',\n",
       " 'Stayed 24 nights',\n",
       " 'Stayed 25 nights',\n",
       " 'Stayed 26 nights',\n",
       " 'Stayed 27 nights',\n",
       " 'Stayed 28 nights',\n",
       " 'Stayed 29 nights',\n",
       " 'Stayed 3 nights',\n",
       " 'Stayed 30 nights',\n",
       " 'Stayed 31 nights',\n",
       " 'Stayed 4 nights',\n",
       " 'Stayed 5 nights',\n",
       " 'Stayed 6 nights',\n",
       " 'Stayed 7 nights',\n",
       " 'Stayed 8 nights',\n",
       " 'Stayed 9 nights'}"
      ]
     },
     "execution_count": 79,
     "metadata": {},
     "output_type": "execute_result"
    }
   ],
   "source": [
    "stayed =[]\n",
    "for tag in tag_count:\n",
    "    if 'Stayed' in tag:\n",
    "       stayed.append(tag)\n",
    "       \n",
    "set(stayed)"
   ]
  },
  {
   "cell_type": "code",
   "execution_count": 80,
   "metadata": {},
   "outputs": [],
   "source": [
    "def stayed_parse(x):\n",
    "    x = x.replace('Stayed ', '')\n",
    "    if x[1] ==' ':\n",
    "        x = x[0]\n",
    "    else:\n",
    "        x = x[:2] \n",
    "    return int(x)"
   ]
  },
  {
   "cell_type": "code",
   "execution_count": 81,
   "metadata": {},
   "outputs": [],
   "source": [
    "data['stayed'] = data['tags'].\\\n",
    "apply(lambda x: re.search(r'Stayed \\d.', x).group() if re.search(r'Stayed \\d.', x) else '00')\n",
    "data['stayed'] = data['stayed'].apply(stayed_parse)"
   ]
  },
  {
   "cell_type": "code",
   "execution_count": 82,
   "metadata": {},
   "outputs": [
    {
     "data": {
      "text/plain": [
       "array([ 2,  1,  3,  6,  4,  5,  8,  7, 10, 14, 19, 13,  9, 17, 11,  0, 27,\n",
       "       12, 15, 21, 18, 16, 26, 24, 30, 22, 23, 28, 20, 25, 29, 31])"
      ]
     },
     "execution_count": 82,
     "metadata": {},
     "output_type": "execute_result"
    }
   ],
   "source": [
    "data['stayed'].unique()"
   ]
  },
  {
   "cell_type": "code",
   "execution_count": 83,
   "metadata": {},
   "outputs": [],
   "source": [
    "data = data.drop('tags', axis = 1) "
   ]
  },
  {
   "cell_type": "markdown",
   "metadata": {},
   "source": [
    "#### 2.3 Отбор признаков"
   ]
  },
  {
   "cell_type": "code",
   "execution_count": 84,
   "metadata": {},
   "outputs": [
    {
     "data": {
      "application/vnd.plotly.v1+json": {
       "config": {
        "plotlyServerURL": "https://plot.ly"
       },
       "data": [
        {
         "coloraxis": "coloraxis",
         "hovertemplate": "x: %{x}<br>y: %{y}<br>color: %{z}<extra></extra>",
         "name": "0",
         "texttemplate": "%{z}",
         "type": "heatmap",
         "x": [
          "additional_number_of_scoring",
          "average_score",
          "reviewer_nationality",
          "review_total_negative_word_counts",
          "total_number_of_reviews",
          "review_total_positive_word_counts",
          "total_number_of_reviews_reviewer_has_given",
          "reviewer_score",
          "days_since_review",
          "lat",
          "lng",
          "train",
          "hotel_country",
          "year",
          "day_of_week",
          "quarter",
          "royal",
          "luxury",
          "appart",
          "hotel_country_is_reviewer_nationality",
          "negative_stuff",
          "positive_stuff",
          "Leisure trip",
          "Submitted from a mobile device",
          "Couple",
          "Solo traveler",
          "Business trip",
          "Group",
          "Family with young children",
          "stayed"
         ],
         "xaxis": "x",
         "y": [
          "additional_number_of_scoring",
          "average_score",
          "reviewer_nationality",
          "review_total_negative_word_counts",
          "total_number_of_reviews",
          "review_total_positive_word_counts",
          "total_number_of_reviews_reviewer_has_given",
          "reviewer_score",
          "days_since_review",
          "lat",
          "lng",
          "train",
          "hotel_country",
          "year",
          "day_of_week",
          "quarter",
          "royal",
          "luxury",
          "appart",
          "hotel_country_is_reviewer_nationality",
          "negative_stuff",
          "positive_stuff",
          "Leisure trip",
          "Submitted from a mobile device",
          "Couple",
          "Solo traveler",
          "Business trip",
          "Group",
          "Family with young children",
          "stayed"
         ],
         "yaxis": "y",
         "z": [
          [
           1,
           -0.15301238346709775,
           -0.20033550499086725,
           0.02919279477298855,
           0.8249040116879498,
           -0.0531327433380434,
           -0.07197102317779036,
           -0.018714146621716516,
           0.0119356085692101,
           0.33580338098878726,
           -0.2953963903836359,
           0.0007930087573645981,
           -0.36679490210231513,
           -0.004689680720846455,
           -0.011507638757648181,
           -0.01461433920440002,
           0.03046670035574689,
           -0.04186151903969422,
           -0.018569884342063765,
           0.3241927942731388,
           -0.0008992150173587403,
           -0.02458646200532732,
           0.00017843058833286662,
           0.042671231057083966,
           0.011036818057900003,
           -0.006431365544346953,
           -0.004199735743110923,
           0.003683023567672921,
           -0.006752375413773096,
           -0.10923331963794258
          ],
          [
           -0.15301238346709775,
           1,
           0.03725005792323981,
           -0.11234653186631414,
           -0.1795541654085436,
           0.10672276939296178,
           0.03652908808797994,
           0.11368637895303231,
           -0.01396140530684884,
           -0.10859064794682383,
           0.10596565108224257,
           -0.0006590965416146883,
           0.12825693084352013,
           0.015493330785095946,
           -0.007753050689409149,
           -0.009048326909641927,
           -0.008206150103602415,
           0.054439938301396054,
           0.004111452086716945,
           -0.060702067919439266,
           -0.017643755049165363,
           0.008033181339693333,
           0.08228112189170304,
           0.004943303222921938,
           0.09452223973954448,
           -0.08258832095609304,
           -0.07177851500112857,
           -0.028151056944668046,
           -0.01046316680107324,
           0.013956378144899658
          ],
          [
           -0.20033550499086725,
           0.03725005792323981,
           1,
           -0.012922475520284384,
           -0.058613605710192224,
           0.010723108053852383,
           0.14793563258796402,
           -0.015378317435852315,
           -0.010722101385596101,
           -0.22397842865529502,
           0.28387436049072323,
           -0.001621528688249184,
           0.28132953027801777,
           -0.011209164831750308,
           0.04358353351224024,
           0.054962379202129125,
           0.0016508192237101606,
           0.02601916350165267,
           0.02764957354850753,
           -0.701634113641636,
           0.015448472573455585,
           0.054201122855066224,
           -0.05365189960737625,
           -0.07841127977511655,
           -0.143453107191474,
           0.09176795799187595,
           0.05569057494997821,
           -0.014203558109152905,
           0.09302924614469893,
           0.31434061712181544
          ],
          [
           0.02919279477298855,
           -0.11234653186631414,
           -0.012922475520284384,
           1,
           0.03511012347026508,
           0.11966409041883211,
           0.0032340020918348216,
           -0.12058079044288295,
           -0.04326083958854752,
           0.019060737509337136,
           -0.019944330085598063,
           -0.0000209797418998925,
           -0.017353621756294273,
           0.039719246584729556,
           -0.016327837737013656,
           -0.007340447685089001,
           0.00021071346501952241,
           -0.007991022053333852,
           -0.0017667788118551312,
           0.009905884451548323,
           0.0890440929998113,
           -0.006581221003915361,
           -0.006951399613607392,
           -0.08229159120608583,
           -0.00462856317392153,
           0.002690971532147622,
           0.0046308123136323265,
           -0.004541905961905946,
           0.011510376855004055,
           0.03800703046449612
          ],
          [
           0.8249040116879498,
           -0.1795541654085436,
           -0.058613605710192224,
           0.03511012347026508,
           1,
           -0.030145663805262596,
           -0.02491799533076993,
           -0.022767592840525118,
           0.007218383616246736,
           0.10019136454210364,
           -0.014169239370854759,
           0.00031383982457979935,
           -0.056995702786734756,
           -0.004213981601409995,
           0.0012420065153179599,
           -0.00504241170399688,
           0.03379240579523884,
           -0.05007237532262752,
           0.002996527989682629,
           0.08280224300821727,
           0.0034514055987475358,
           -0.011261166686623626,
           0.013721918543624237,
           0.016504856553602395,
           -0.01419473074404228,
           -0.017296289697672367,
           -0.01504893338442184,
           0.02281949192067442,
           0.016913502737732792,
           -0.03505926325709821
          ],
          [
           -0.0531327433380434,
           0.10672276939296178,
           0.010723108053852383,
           0.11966409041883211,
           -0.030145663805262596,
           1,
           0.026533573706449463,
           0.06902143825783472,
           -0.04499381148725293,
           -0.037439984245438325,
           0.03534475614379297,
           0.00006524298405874477,
           0.05258649187728026,
           0.04867143431807527,
           -0.014555191151531926,
           -0.026089437395209816,
           -0.0031966249615534054,
           0.003018631471727224,
           -0.0004032790328976309,
           -0.050120015264104,
           0.003448475959017855,
           0.03987854560249683,
           0.07619343381710046,
           -0.10813041643998635,
           0.03634699080088519,
           -0.040518024954399115,
           -0.07447271869229243,
           -0.00692485288104392,
           0.0006252952665915069,
           0.05470185953326399
          ],
          [
           -0.07197102317779036,
           0.03652908808797994,
           0.14793563258796402,
           0.0032340020918348216,
           -0.02491799533076993,
           0.026533573706449463,
           1,
           0.0023961371077789043,
           0.035088199591551614,
           -0.05955268691614298,
           0.11038323512532236,
           0.0017246985064367948,
           0.07940849054911123,
           -0.034578201344624755,
           0.016414245369168048,
           0.012337233092872062,
           -0.0075949330659848815,
           0.008587986196676754,
           0.013830551038505607,
           -0.11886249087195078,
           0.0035805884778253774,
           0.010086810457914387,
           -0.11543995707721356,
           -0.13004462377981083,
           -0.04358627628260564,
           0.114711658885008,
           0.12955828149528734,
           -0.034448721004181566,
           -0.03310821812409544,
           -0.008980745512604997
          ],
          [
           -0.018714146621716516,
           0.11368637895303231,
           -0.015378317435852315,
           -0.12058079044288295,
           -0.022767592840525118,
           0.06902143825783472,
           0.0023961371077789043,
           1,
           0.00022523516928415398,
           -0.011056604860451463,
           0.010797597263172825,
           0.9318210862921948,
           0.015387347038062852,
           0.0034712524297163473,
           -0.0024857676892148187,
           -0.00961311592294663,
           -0.002487320443107499,
           0.005249116483508173,
           -0.0003991307803211776,
           0.004287326752900172,
           -0.020935497849751322,
           0.005864692863176498,
           0.03977728274607778,
           0.005117100841174711,
           0.021880629674719054,
           -0.027912207540594407,
           -0.03803170105100758,
           0.004285230255765573,
           -0.005484210719426358,
           -0.0054146463637616965
          ],
          [
           0.0119356085692101,
           -0.01396140530684884,
           -0.010722101385596101,
           -0.04326083958854752,
           0.007218383616246736,
           -0.04499381148725293,
           0.035088199591551614,
           0.00022523516928415398,
           1,
           -0.0001484318618400046,
           -0.0009706347056553416,
           -0.0005482361695577032,
           -0.005268919430340148,
           -0.9172477988560909,
           0.05064368857987955,
           0.2008550398553391,
           0.0015219311737878346,
           0.0074890675353326275,
           0.00044165133461791046,
           0.016446192450730767,
           -0.00595280007323202,
           -0.0029630976773028775,
           -0.006348883539387667,
           -0.037507409474953984,
           0.0458592671288388,
           0.009570403067444395,
           0.011393678119916276,
           -0.03321157642554547,
           -0.1530191917161318,
           0.0022704491435044513
          ],
          [
           0.33580338098878726,
           -0.10859064794682383,
           -0.22397842865529502,
           0.019060737509337136,
           0.10019136454210364,
           -0.037439984245438325,
           -0.05955268691614298,
           -0.011056604860451463,
           -0.0001484318618400046,
           1,
           -0.3045392552511049,
           0.0005975742501779229,
           -0.8503605281186081,
           0.00991825662669135,
           -0.020719407378624214,
           -0.025866686818891253,
           0.0034675202374844904,
           -0.002192092564862295,
           -0.013426105686353792,
           0.3963261156890835,
           -0.0012281703634942963,
           -0.022821680944918776,
           -0.04480263747021351,
           0.025469767874260387,
           0.020149220345402737,
           0.03810024909342282,
           0.03888642344601759,
           -0.014277118681766862,
           -0.0460000095772035,
           -0.17196887639257738
          ],
          [
           -0.2953963903836359,
           0.10596565108224257,
           0.28387436049072323,
           -0.019944330085598063,
           -0.014169239370854759,
           0.03534475614379297,
           0.11038323512532236,
           0.010797597263172825,
           -0.0009706347056553416,
           -0.3045392552511049,
           1,
           -0.00011928676801982055,
           0.6316677918246578,
           -0.00893638960425846,
           0.01457215467768706,
           0.02602146685846392,
           -0.04060552959312773,
           0.057907055731159326,
           0.10841823439051647,
           -0.4309260923629317,
           0.007654969061670132,
           0.030557674737533153,
           0.006799270199083318,
           -0.0598920656326242,
           -0.0242991221818903,
           -0.013579501036584092,
           -0.0006120373620435567,
           0.022607581320110395,
           0.025587952129583015,
           0.10640199222211626
          ],
          [
           0.0007930087573645981,
           -0.0006590965416146883,
           -0.001621528688249184,
           -0.0000209797418998925,
           0.00031383982457979935,
           0.00006524298405874477,
           0.0017246985064367948,
           0.9318210862921948,
           -0.0005482361695577032,
           0.0005975742501779229,
           -0.00011928676801982055,
           1,
           0.00009296246332498792,
           -0.000020593951038278156,
           0.00030999963797121127,
           0.0013565660324573211,
           -0.00035205309607329777,
           -0.00030007845573855373,
           -0.0009375281741168595,
           0.0015135630007468732,
           -0.0019625400725017117,
           -0.000058369847777628965,
           0.0029930909181139997,
           0.0004709967635167449,
           -0.00010943999332107518,
           -0.0019203058707020486,
           -0.0026410373786164934,
           0.0006198758247570816,
           0.0010733377636432601,
           -0.0008208293686729704
          ],
          [
           -0.36679490210231513,
           0.12825693084352013,
           0.28132953027801777,
           -0.017353621756294273,
           -0.056995702786734756,
           0.05258649187728026,
           0.07940849054911123,
           0.015387347038062852,
           -0.005268919430340148,
           -0.8503605281186081,
           0.6316677918246578,
           0.00009296246332498792,
           1,
           -0.005379974516288894,
           0.021168978471026084,
           0.025983630858831975,
           -0.0256025033490954,
           0.02048393417019036,
           0.05185848143230616,
           -0.5296714383244125,
           0.003596167942865352,
           0.02952646513041623,
           0.05560202947841626,
           -0.040669990309552484,
           -0.01561814134824896,
           -0.04774571937038178,
           -0.04785613186540222,
           0.037650056905390514,
           0.033437892946948426,
           0.2056805061435481
          ],
          [
           -0.004689680720846455,
           0.015493330785095946,
           -0.011209164831750308,
           0.039719246584729556,
           -0.004213981601409995,
           0.04867143431807527,
           -0.034578201344624755,
           0.0034712524297163473,
           -0.9172477988560909,
           0.00991825662669135,
           -0.00893638960425846,
           -0.000020593951038278156,
           -0.005379974516288894,
           1,
           -0.04775326323072752,
           -0.560545369008065,
           0.0000658858659917819,
           -0.0061981791957994034,
           -0.0015676898564367632,
           0.0008952972963862772,
           0.005776828761518242,
           0.002566885996536231,
           0.0026400082667258516,
           0.03221609638477995,
           -0.040139631037204346,
           -0.004225654533450913,
           -0.007708002364063238,
           0.027892321117013452,
           0.1311782195741014,
           -0.011237937229109827
          ],
          [
           -0.011507638757648181,
           -0.007753050689409149,
           0.04358353351224024,
           -0.016327837737013656,
           0.0012420065153179599,
           -0.014555191151531926,
           0.016414245369168048,
           -0.0024857676892148187,
           0.05064368857987955,
           -0.020719407378624214,
           0.01457215467768706,
           0.00030999963797121127,
           0.021168978471026084,
           -0.04775326323072752,
           1,
           0.020809677067276527,
           0.0024367545492692427,
           0.005699676120484839,
           0.002593864002060388,
           -0.03321809413558048,
           -0.00020184520351179862,
           0.0006658413473832353,
           -0.05874524097978536,
           0.10578693364880133,
           -0.03401180656850968,
           0.05581083105574576,
           0.057651546819109674,
           -0.028767445669449894,
           -0.002482761160401914,
           0.04110894338988938
          ],
          [
           -0.01461433920440002,
           -0.009048326909641927,
           0.054962379202129125,
           -0.007340447685089001,
           -0.00504241170399688,
           -0.026089437395209816,
           0.012337233092872062,
           -0.00961311592294663,
           0.2008550398553391,
           -0.025866686818891253,
           0.02602146685846392,
           0.0013565660324573211,
           0.025983630858831975,
           -0.560545369008065,
           0.020809677067276527,
           1,
           -0.004159296799954142,
           0.000045558787356138776,
           0.003036208156695074,
           -0.040259997112456175,
           -0.002488820146539643,
           -0.0004424642632143889,
           0.009268912255958555,
           -0.002743128478622682,
           0.0029508633108208393,
           -0.012072537007008418,
           -0.007355663703923916,
           -0.001639045935347979,
           -0.002828974512211398,
           0.027408333576904594
          ],
          [
           0.03046670035574689,
           -0.008206150103602415,
           0.0016508192237101606,
           0.00021071346501952241,
           0.03379240579523884,
           -0.0031966249615534054,
           -0.0075949330659848815,
           -0.002487320443107499,
           0.0015219311737878346,
           0.0034675202374844904,
           -0.04060552959312773,
           -0.00035205309607329777,
           -0.0256025033490954,
           0.0000658858659917819,
           0.0024367545492692427,
           -0.004159296799954142,
           1,
           -0.008481181257347049,
           -0.0052082726185275815,
           0.017033400620206196,
           -0.0007407884853989255,
           -0.0007735356963423853,
           0.0011502496479919148,
           0.004328701529370223,
           0.002669910718086729,
           -0.00009065114673333272,
           -0.0014127643538601152,
           -0.0062790242001843155,
           0.001273244060626741,
           0.00937563614700229
          ],
          [
           -0.04186151903969422,
           0.054439938301396054,
           0.02601916350165267,
           -0.007991022053333852,
           -0.05007237532262752,
           0.003018631471727224,
           0.008587986196676754,
           0.005249116483508173,
           0.0074890675353326275,
           -0.002192092564862295,
           0.057907055731159326,
           -0.00030007845573855373,
           0.02048393417019036,
           -0.0061981791957994034,
           0.005699676120484839,
           0.000045558787356138776,
           -0.008481181257347049,
           1,
           -0.0021796775574307297,
           -0.025343492233037206,
           -0.0007912485072799211,
           0.0002989699381417713,
           0.0007692270539299472,
           0.005897118327044923,
           -0.00004823973605199584,
           -0.0013358929577852268,
           -0.00232619792019297,
           -0.0031596360293876464,
           0.0034696076781011768,
           0.019811846299263067
          ],
          [
           -0.018569884342063765,
           0.004111452086716945,
           0.02764957354850753,
           -0.0017667788118551312,
           0.002996527989682629,
           -0.0004032790328976309,
           0.013830551038505607,
           -0.0003991307803211776,
           0.00044165133461791046,
           -0.013426105686353792,
           0.10841823439051647,
           -0.0009375281741168595,
           0.05185848143230616,
           -0.0015676898564367632,
           0.002593864002060388,
           0.003036208156695074,
           -0.0052082726185275815,
           -0.0021796775574307297,
           1,
           -0.02326768317067545,
           0.001331726238877703,
           0.0032064564102947286,
           0.0020114213773977044,
           -0.005953992957890552,
           -0.01306898934206709,
           -0.009119139386177847,
           -0.004162250621113832,
           0.002653582034286877,
           0.02309376403083418,
           -0.00528046535435706
          ],
          [
           0.3241927942731388,
           -0.060702067919439266,
           -0.701634113641636,
           0.009905884451548323,
           0.08280224300821727,
           -0.050120015264104,
           -0.11886249087195078,
           0.004287326752900172,
           0.016446192450730767,
           0.3963261156890835,
           -0.4309260923629317,
           0.0015135630007468732,
           -0.5296714383244125,
           0.0008952972963862772,
           -0.03321809413558048,
           -0.040259997112456175,
           0.017033400620206196,
           -0.025343492233037206,
           -0.02326768317067545,
           1,
           -0.00942266859177479,
           -0.04129001499810328,
           0.002635740497912915,
           0.06929349812998574,
           0.11355584721504082,
           -0.04634351904051461,
           -0.014022524240038454,
           -0.019212427174538152,
           -0.0711565871909527,
           -0.38344535167651855
          ],
          [
           -0.0008992150173587403,
           -0.017643755049165363,
           0.015448472573455585,
           0.0890440929998113,
           0.0034514055987475358,
           0.003448475959017855,
           0.0035805884778253774,
           -0.020935497849751322,
           -0.00595280007323202,
           -0.0012281703634942963,
           0.007654969061670132,
           -0.0019625400725017117,
           0.003596167942865352,
           0.005776828761518242,
           -0.00020184520351179862,
           -0.002488820146539643,
           -0.0007407884853989255,
           -0.0007912485072799211,
           0.001331726238877703,
           -0.00942266859177479,
           1,
           0.024758597322966844,
           -0.006377676638150152,
           -0.004800891141405058,
           -0.006062728414215953,
           0.005423824867564511,
           0.004686063996293413,
           0.00036614537572434244,
           0.00306540957466879,
           0.009901153478990607
          ],
          [
           -0.02458646200532732,
           0.008033181339693333,
           0.054201122855066224,
           -0.006581221003915361,
           -0.011261166686623626,
           0.03987854560249683,
           0.010086810457914387,
           0.005864692863176498,
           -0.0029630976773028775,
           -0.022821680944918776,
           0.030557674737533153,
           -0.000058369847777628965,
           0.02952646513041623,
           0.002566885996536231,
           0.0006658413473832353,
           -0.0004424642632143889,
           -0.0007735356963423853,
           0.0002989699381417713,
           0.0032064564102947286,
           -0.04129001499810328,
           0.024758597322966844,
           1,
           -0.004802097916990453,
           -0.006753435387444236,
           -0.009819351689932955,
           0.005561541490259049,
           0.002089711168764437,
           0.0011509063402725826,
           0.00838963904975238,
           0.027871530866193095
          ],
          [
           0.00017843058833286662,
           0.08228112189170304,
           -0.05365189960737625,
           -0.006951399613607392,
           0.013721918543624237,
           0.07619343381710046,
           -0.11543995707721356,
           0.03977728274607778,
           -0.006348883539387667,
           -0.04480263747021351,
           0.006799270199083318,
           0.0029930909181139997,
           0.05560202947841626,
           0.0026400082667258516,
           -0.05874524097978536,
           0.009268912255958555,
           0.0011502496479919148,
           0.0007692270539299472,
           0.0020114213773977044,
           0.002635740497912915,
           -0.006377676638150152,
           -0.004802097916990453,
           1,
           0.13081728633391815,
           0.27530674704130254,
           -0.5090456305898916,
           -0.9040467374440201,
           0.05273380803824164,
           0.10844142793705602,
           0.03404599113616641
          ],
          [
           0.042671231057083966,
           0.004943303222921938,
           -0.07841127977511655,
           -0.08229159120608583,
           0.016504856553602395,
           -0.10813041643998635,
           -0.13004462377981083,
           0.005117100841174711,
           -0.037507409474953984,
           0.025469767874260387,
           -0.0598920656326242,
           0.0004709967635167449,
           -0.040669990309552484,
           0.03221609638477995,
           0.10578693364880133,
           -0.002743128478622682,
           0.004328701529370223,
           0.005897118327044923,
           -0.005953992957890552,
           0.06929349812998574,
           -0.004800891141405058,
           -0.006753435387444236,
           0.13081728633391815,
           1,
           0.04274483470002746,
           -0.10751356494088642,
           -0.14624429712437656,
           0.015856337750988176,
           0.03832574643689875,
           -0.01157646981467119
          ],
          [
           0.011036818057900003,
           0.09452223973954448,
           -0.143453107191474,
           -0.00462856317392153,
           -0.01419473074404228,
           0.03634699080088519,
           -0.04358627628260564,
           0.021880629674719054,
           0.0458592671288388,
           0.020149220345402737,
           -0.0242991221818903,
           -0.00010943999332107518,
           -0.01561814134824896,
           -0.040139631037204346,
           -0.03401180656850968,
           0.0029508633108208393,
           0.002669910718086729,
           -0.00004823973605199584,
           -0.01306898934206709,
           0.11355584721504082,
           -0.006062728414215953,
           -0.009819351689932955,
           0.27530674704130254,
           0.04274483470002746,
           1,
           -0.5052150420302526,
           -0.27815682678056697,
           -0.37290821180769906,
           -0.35848349145401665,
           -0.03291980529918771
          ],
          [
           -0.006431365544346953,
           -0.08258832095609304,
           0.09176795799187595,
           0.002690971532147622,
           -0.017296289697672367,
           -0.040518024954399115,
           0.114711658885008,
           -0.027912207540594407,
           0.009570403067444395,
           0.03810024909342282,
           -0.013579501036584092,
           -0.0019203058707020486,
           -0.04774571937038178,
           -0.004225654533450913,
           0.05581083105574576,
           -0.012072537007008418,
           -0.00009065114673333272,
           -0.0013358929577852268,
           -0.009119139386177847,
           -0.04634351904051461,
           0.005423824867564511,
           0.005561541490259049,
           -0.5090456305898916,
           -0.10751356494088642,
           -0.5052150420302526,
           1,
           0.5285296909707075,
           -0.19674918777791783,
           -0.18913859642152292,
           -0.03678746869437351
          ],
          [
           -0.004199735743110923,
           -0.07177851500112857,
           0.05569057494997821,
           0.0046308123136323265,
           -0.01504893338442184,
           -0.07447271869229243,
           0.12955828149528734,
           -0.03803170105100758,
           0.011393678119916276,
           0.03888642344601759,
           -0.0006120373620435567,
           -0.0026410373786164934,
           -0.04785613186540222,
           -0.007708002364063238,
           0.057651546819109674,
           -0.007355663703923916,
           -0.0014127643538601152,
           -0.00232619792019297,
           -0.004162250621113832,
           -0.014022524240038454,
           0.004686063996293413,
           0.002089711168764437,
           -0.9040467374440201,
           -0.14624429712437656,
           -0.27815682678056697,
           0.5285296909707075,
           1,
           -0.05168394363441637,
           -0.12342569465784704,
           -0.03818604076512859
          ],
          [
           0.003683023567672921,
           -0.028151056944668046,
           -0.014203558109152905,
           -0.004541905961905946,
           0.02281949192067442,
           -0.00692485288104392,
           -0.034448721004181566,
           0.004285230255765573,
           -0.03321157642554547,
           -0.014277118681766862,
           0.022607581320110395,
           0.0006198758247570816,
           0.037650056905390514,
           0.027892321117013452,
           -0.028767445669449894,
           -0.001639045935347979,
           -0.0062790242001843155,
           -0.0031596360293876464,
           0.002653582034286877,
           -0.019212427174538152,
           0.00036614537572434244,
           0.0011509063402725826,
           0.05273380803824164,
           0.015856337750988176,
           -0.37290821180769906,
           -0.19674918777791783,
           -0.05168394363441637,
           1,
           -0.1396065633594993,
           -0.010114380112964219
          ],
          [
           -0.006752375413773096,
           -0.01046316680107324,
           0.09302924614469893,
           0.011510376855004055,
           0.016913502737732792,
           0.0006252952665915069,
           -0.03310821812409544,
           -0.005484210719426358,
           -0.1530191917161318,
           -0.0460000095772035,
           0.025587952129583015,
           0.0010733377636432601,
           0.033437892946948426,
           0.1311782195741014,
           -0.002482761160401914,
           -0.002828974512211398,
           0.001273244060626741,
           0.0034696076781011768,
           0.02309376403083418,
           -0.0711565871909527,
           0.00306540957466879,
           0.00838963904975238,
           0.10844142793705602,
           0.03832574643689875,
           -0.35848349145401665,
           -0.18913859642152292,
           -0.12342569465784704,
           -0.1396065633594993,
           1,
           0.0770646454364279
          ],
          [
           -0.10923331963794258,
           0.013956378144899658,
           0.31434061712181544,
           0.03800703046449612,
           -0.03505926325709821,
           0.05470185953326399,
           -0.008980745512604997,
           -0.0054146463637616965,
           0.0022704491435044513,
           -0.17196887639257738,
           0.10640199222211626,
           -0.0008208293686729704,
           0.2056805061435481,
           -0.011237937229109827,
           0.04110894338988938,
           0.027408333576904594,
           0.00937563614700229,
           0.019811846299263067,
           -0.00528046535435706,
           -0.38344535167651855,
           0.009901153478990607,
           0.027871530866193095,
           0.03404599113616641,
           -0.01157646981467119,
           -0.03291980529918771,
           -0.03678746869437351,
           -0.03818604076512859,
           -0.010114380112964219,
           0.0770646454364279,
           1
          ]
         ]
        }
       ],
       "layout": {
        "coloraxis": {
         "colorscale": [
          [
           0,
           "#0d0887"
          ],
          [
           0.1111111111111111,
           "#46039f"
          ],
          [
           0.2222222222222222,
           "#7201a8"
          ],
          [
           0.3333333333333333,
           "#9c179e"
          ],
          [
           0.4444444444444444,
           "#bd3786"
          ],
          [
           0.5555555555555556,
           "#d8576b"
          ],
          [
           0.6666666666666666,
           "#ed7953"
          ],
          [
           0.7777777777777778,
           "#fb9f3a"
          ],
          [
           0.8888888888888888,
           "#fdca26"
          ],
          [
           1,
           "#f0f921"
          ]
         ]
        },
        "height": 1500,
        "margin": {
         "t": 60
        },
        "template": {
         "data": {
          "bar": [
           {
            "error_x": {
             "color": "#2a3f5f"
            },
            "error_y": {
             "color": "#2a3f5f"
            },
            "marker": {
             "line": {
              "color": "#E5ECF6",
              "width": 0.5
             },
             "pattern": {
              "fillmode": "overlay",
              "size": 10,
              "solidity": 0.2
             }
            },
            "type": "bar"
           }
          ],
          "barpolar": [
           {
            "marker": {
             "line": {
              "color": "#E5ECF6",
              "width": 0.5
             },
             "pattern": {
              "fillmode": "overlay",
              "size": 10,
              "solidity": 0.2
             }
            },
            "type": "barpolar"
           }
          ],
          "carpet": [
           {
            "aaxis": {
             "endlinecolor": "#2a3f5f",
             "gridcolor": "white",
             "linecolor": "white",
             "minorgridcolor": "white",
             "startlinecolor": "#2a3f5f"
            },
            "baxis": {
             "endlinecolor": "#2a3f5f",
             "gridcolor": "white",
             "linecolor": "white",
             "minorgridcolor": "white",
             "startlinecolor": "#2a3f5f"
            },
            "type": "carpet"
           }
          ],
          "choropleth": [
           {
            "colorbar": {
             "outlinewidth": 0,
             "ticks": ""
            },
            "type": "choropleth"
           }
          ],
          "contour": [
           {
            "colorbar": {
             "outlinewidth": 0,
             "ticks": ""
            },
            "colorscale": [
             [
              0,
              "#0d0887"
             ],
             [
              0.1111111111111111,
              "#46039f"
             ],
             [
              0.2222222222222222,
              "#7201a8"
             ],
             [
              0.3333333333333333,
              "#9c179e"
             ],
             [
              0.4444444444444444,
              "#bd3786"
             ],
             [
              0.5555555555555556,
              "#d8576b"
             ],
             [
              0.6666666666666666,
              "#ed7953"
             ],
             [
              0.7777777777777778,
              "#fb9f3a"
             ],
             [
              0.8888888888888888,
              "#fdca26"
             ],
             [
              1,
              "#f0f921"
             ]
            ],
            "type": "contour"
           }
          ],
          "contourcarpet": [
           {
            "colorbar": {
             "outlinewidth": 0,
             "ticks": ""
            },
            "type": "contourcarpet"
           }
          ],
          "heatmap": [
           {
            "colorbar": {
             "outlinewidth": 0,
             "ticks": ""
            },
            "colorscale": [
             [
              0,
              "#0d0887"
             ],
             [
              0.1111111111111111,
              "#46039f"
             ],
             [
              0.2222222222222222,
              "#7201a8"
             ],
             [
              0.3333333333333333,
              "#9c179e"
             ],
             [
              0.4444444444444444,
              "#bd3786"
             ],
             [
              0.5555555555555556,
              "#d8576b"
             ],
             [
              0.6666666666666666,
              "#ed7953"
             ],
             [
              0.7777777777777778,
              "#fb9f3a"
             ],
             [
              0.8888888888888888,
              "#fdca26"
             ],
             [
              1,
              "#f0f921"
             ]
            ],
            "type": "heatmap"
           }
          ],
          "heatmapgl": [
           {
            "colorbar": {
             "outlinewidth": 0,
             "ticks": ""
            },
            "colorscale": [
             [
              0,
              "#0d0887"
             ],
             [
              0.1111111111111111,
              "#46039f"
             ],
             [
              0.2222222222222222,
              "#7201a8"
             ],
             [
              0.3333333333333333,
              "#9c179e"
             ],
             [
              0.4444444444444444,
              "#bd3786"
             ],
             [
              0.5555555555555556,
              "#d8576b"
             ],
             [
              0.6666666666666666,
              "#ed7953"
             ],
             [
              0.7777777777777778,
              "#fb9f3a"
             ],
             [
              0.8888888888888888,
              "#fdca26"
             ],
             [
              1,
              "#f0f921"
             ]
            ],
            "type": "heatmapgl"
           }
          ],
          "histogram": [
           {
            "marker": {
             "pattern": {
              "fillmode": "overlay",
              "size": 10,
              "solidity": 0.2
             }
            },
            "type": "histogram"
           }
          ],
          "histogram2d": [
           {
            "colorbar": {
             "outlinewidth": 0,
             "ticks": ""
            },
            "colorscale": [
             [
              0,
              "#0d0887"
             ],
             [
              0.1111111111111111,
              "#46039f"
             ],
             [
              0.2222222222222222,
              "#7201a8"
             ],
             [
              0.3333333333333333,
              "#9c179e"
             ],
             [
              0.4444444444444444,
              "#bd3786"
             ],
             [
              0.5555555555555556,
              "#d8576b"
             ],
             [
              0.6666666666666666,
              "#ed7953"
             ],
             [
              0.7777777777777778,
              "#fb9f3a"
             ],
             [
              0.8888888888888888,
              "#fdca26"
             ],
             [
              1,
              "#f0f921"
             ]
            ],
            "type": "histogram2d"
           }
          ],
          "histogram2dcontour": [
           {
            "colorbar": {
             "outlinewidth": 0,
             "ticks": ""
            },
            "colorscale": [
             [
              0,
              "#0d0887"
             ],
             [
              0.1111111111111111,
              "#46039f"
             ],
             [
              0.2222222222222222,
              "#7201a8"
             ],
             [
              0.3333333333333333,
              "#9c179e"
             ],
             [
              0.4444444444444444,
              "#bd3786"
             ],
             [
              0.5555555555555556,
              "#d8576b"
             ],
             [
              0.6666666666666666,
              "#ed7953"
             ],
             [
              0.7777777777777778,
              "#fb9f3a"
             ],
             [
              0.8888888888888888,
              "#fdca26"
             ],
             [
              1,
              "#f0f921"
             ]
            ],
            "type": "histogram2dcontour"
           }
          ],
          "mesh3d": [
           {
            "colorbar": {
             "outlinewidth": 0,
             "ticks": ""
            },
            "type": "mesh3d"
           }
          ],
          "parcoords": [
           {
            "line": {
             "colorbar": {
              "outlinewidth": 0,
              "ticks": ""
             }
            },
            "type": "parcoords"
           }
          ],
          "pie": [
           {
            "automargin": true,
            "type": "pie"
           }
          ],
          "scatter": [
           {
            "fillpattern": {
             "fillmode": "overlay",
             "size": 10,
             "solidity": 0.2
            },
            "type": "scatter"
           }
          ],
          "scatter3d": [
           {
            "line": {
             "colorbar": {
              "outlinewidth": 0,
              "ticks": ""
             }
            },
            "marker": {
             "colorbar": {
              "outlinewidth": 0,
              "ticks": ""
             }
            },
            "type": "scatter3d"
           }
          ],
          "scattercarpet": [
           {
            "marker": {
             "colorbar": {
              "outlinewidth": 0,
              "ticks": ""
             }
            },
            "type": "scattercarpet"
           }
          ],
          "scattergeo": [
           {
            "marker": {
             "colorbar": {
              "outlinewidth": 0,
              "ticks": ""
             }
            },
            "type": "scattergeo"
           }
          ],
          "scattergl": [
           {
            "marker": {
             "colorbar": {
              "outlinewidth": 0,
              "ticks": ""
             }
            },
            "type": "scattergl"
           }
          ],
          "scattermapbox": [
           {
            "marker": {
             "colorbar": {
              "outlinewidth": 0,
              "ticks": ""
             }
            },
            "type": "scattermapbox"
           }
          ],
          "scatterpolar": [
           {
            "marker": {
             "colorbar": {
              "outlinewidth": 0,
              "ticks": ""
             }
            },
            "type": "scatterpolar"
           }
          ],
          "scatterpolargl": [
           {
            "marker": {
             "colorbar": {
              "outlinewidth": 0,
              "ticks": ""
             }
            },
            "type": "scatterpolargl"
           }
          ],
          "scatterternary": [
           {
            "marker": {
             "colorbar": {
              "outlinewidth": 0,
              "ticks": ""
             }
            },
            "type": "scatterternary"
           }
          ],
          "surface": [
           {
            "colorbar": {
             "outlinewidth": 0,
             "ticks": ""
            },
            "colorscale": [
             [
              0,
              "#0d0887"
             ],
             [
              0.1111111111111111,
              "#46039f"
             ],
             [
              0.2222222222222222,
              "#7201a8"
             ],
             [
              0.3333333333333333,
              "#9c179e"
             ],
             [
              0.4444444444444444,
              "#bd3786"
             ],
             [
              0.5555555555555556,
              "#d8576b"
             ],
             [
              0.6666666666666666,
              "#ed7953"
             ],
             [
              0.7777777777777778,
              "#fb9f3a"
             ],
             [
              0.8888888888888888,
              "#fdca26"
             ],
             [
              1,
              "#f0f921"
             ]
            ],
            "type": "surface"
           }
          ],
          "table": [
           {
            "cells": {
             "fill": {
              "color": "#EBF0F8"
             },
             "line": {
              "color": "white"
             }
            },
            "header": {
             "fill": {
              "color": "#C8D4E3"
             },
             "line": {
              "color": "white"
             }
            },
            "type": "table"
           }
          ]
         },
         "layout": {
          "annotationdefaults": {
           "arrowcolor": "#2a3f5f",
           "arrowhead": 0,
           "arrowwidth": 1
          },
          "autotypenumbers": "strict",
          "coloraxis": {
           "colorbar": {
            "outlinewidth": 0,
            "ticks": ""
           }
          },
          "colorscale": {
           "diverging": [
            [
             0,
             "#8e0152"
            ],
            [
             0.1,
             "#c51b7d"
            ],
            [
             0.2,
             "#de77ae"
            ],
            [
             0.3,
             "#f1b6da"
            ],
            [
             0.4,
             "#fde0ef"
            ],
            [
             0.5,
             "#f7f7f7"
            ],
            [
             0.6,
             "#e6f5d0"
            ],
            [
             0.7,
             "#b8e186"
            ],
            [
             0.8,
             "#7fbc41"
            ],
            [
             0.9,
             "#4d9221"
            ],
            [
             1,
             "#276419"
            ]
           ],
           "sequential": [
            [
             0,
             "#0d0887"
            ],
            [
             0.1111111111111111,
             "#46039f"
            ],
            [
             0.2222222222222222,
             "#7201a8"
            ],
            [
             0.3333333333333333,
             "#9c179e"
            ],
            [
             0.4444444444444444,
             "#bd3786"
            ],
            [
             0.5555555555555556,
             "#d8576b"
            ],
            [
             0.6666666666666666,
             "#ed7953"
            ],
            [
             0.7777777777777778,
             "#fb9f3a"
            ],
            [
             0.8888888888888888,
             "#fdca26"
            ],
            [
             1,
             "#f0f921"
            ]
           ],
           "sequentialminus": [
            [
             0,
             "#0d0887"
            ],
            [
             0.1111111111111111,
             "#46039f"
            ],
            [
             0.2222222222222222,
             "#7201a8"
            ],
            [
             0.3333333333333333,
             "#9c179e"
            ],
            [
             0.4444444444444444,
             "#bd3786"
            ],
            [
             0.5555555555555556,
             "#d8576b"
            ],
            [
             0.6666666666666666,
             "#ed7953"
            ],
            [
             0.7777777777777778,
             "#fb9f3a"
            ],
            [
             0.8888888888888888,
             "#fdca26"
            ],
            [
             1,
             "#f0f921"
            ]
           ]
          },
          "colorway": [
           "#636efa",
           "#EF553B",
           "#00cc96",
           "#ab63fa",
           "#FFA15A",
           "#19d3f3",
           "#FF6692",
           "#B6E880",
           "#FF97FF",
           "#FECB52"
          ],
          "font": {
           "color": "#2a3f5f"
          },
          "geo": {
           "bgcolor": "white",
           "lakecolor": "white",
           "landcolor": "#E5ECF6",
           "showlakes": true,
           "showland": true,
           "subunitcolor": "white"
          },
          "hoverlabel": {
           "align": "left"
          },
          "hovermode": "closest",
          "mapbox": {
           "style": "light"
          },
          "paper_bgcolor": "white",
          "plot_bgcolor": "#E5ECF6",
          "polar": {
           "angularaxis": {
            "gridcolor": "white",
            "linecolor": "white",
            "ticks": ""
           },
           "bgcolor": "#E5ECF6",
           "radialaxis": {
            "gridcolor": "white",
            "linecolor": "white",
            "ticks": ""
           }
          },
          "scene": {
           "xaxis": {
            "backgroundcolor": "#E5ECF6",
            "gridcolor": "white",
            "gridwidth": 2,
            "linecolor": "white",
            "showbackground": true,
            "ticks": "",
            "zerolinecolor": "white"
           },
           "yaxis": {
            "backgroundcolor": "#E5ECF6",
            "gridcolor": "white",
            "gridwidth": 2,
            "linecolor": "white",
            "showbackground": true,
            "ticks": "",
            "zerolinecolor": "white"
           },
           "zaxis": {
            "backgroundcolor": "#E5ECF6",
            "gridcolor": "white",
            "gridwidth": 2,
            "linecolor": "white",
            "showbackground": true,
            "ticks": "",
            "zerolinecolor": "white"
           }
          },
          "shapedefaults": {
           "line": {
            "color": "#2a3f5f"
           }
          },
          "ternary": {
           "aaxis": {
            "gridcolor": "white",
            "linecolor": "white",
            "ticks": ""
           },
           "baxis": {
            "gridcolor": "white",
            "linecolor": "white",
            "ticks": ""
           },
           "bgcolor": "#E5ECF6",
           "caxis": {
            "gridcolor": "white",
            "linecolor": "white",
            "ticks": ""
           }
          },
          "title": {
           "x": 0.05
          },
          "xaxis": {
           "automargin": true,
           "gridcolor": "white",
           "linecolor": "white",
           "ticks": "",
           "title": {
            "standoff": 15
           },
           "zerolinecolor": "white",
           "zerolinewidth": 2
          },
          "yaxis": {
           "automargin": true,
           "gridcolor": "white",
           "linecolor": "white",
           "ticks": "",
           "title": {
            "standoff": 15
           },
           "zerolinecolor": "white",
           "zerolinewidth": 2
          }
         }
        },
        "width": 1500,
        "xaxis": {
         "anchor": "y",
         "domain": [
          0,
          1
         ]
        },
        "yaxis": {
         "anchor": "x",
         "autorange": "reversed",
         "domain": [
          0,
          1
         ]
        }
       }
      }
     },
     "metadata": {},
     "output_type": "display_data"
    }
   ],
   "source": [
    "fig = px.imshow(data.corr(numeric_only=True), \n",
    "                text_auto=True, aspect=\"auto\",\n",
    "                # width=40,\n",
    "                # height=100\n",
    "                )\n",
    "fig.update_layout(width=1500, height=1500)\n",
    "fig.show()"
   ]
  },
  {
   "cell_type": "markdown",
   "metadata": {},
   "source": [
    "В соответствии с тепловой картой можем выделить следующие пары признаков с сильно й корреляцией:\n",
    "1. *additional_number_of_scoring*  и total_number_of_reviews\n",
    "2. lat и *hotel_country*\n",
    "3. *reviewer_nationality* и hotel_country_is_reviewer_nationality\n",
    "4. Leisure trip и *Business trip*\n",
    "5. *days_since_review* и year\n",
    "\n",
    "Предлагаю удалить признаки: total_number_of_reviews, lat, hotel_country_is_reviewer_nationality, Leisure trip, year"
   ]
  },
  {
   "cell_type": "code",
   "execution_count": 85,
   "metadata": {},
   "outputs": [],
   "source": [
    "data = data.drop(['total_number_of_reviews', 'lat', 'hotel_country_is_reviewer_nationality', 'Leisure trip', 'year'], axis = 1) "
   ]
  },
  {
   "cell_type": "code",
   "execution_count": 86,
   "metadata": {},
   "outputs": [
    {
     "data": {
      "application/vnd.plotly.v1+json": {
       "config": {
        "plotlyServerURL": "https://plot.ly"
       },
       "data": [
        {
         "coloraxis": "coloraxis",
         "hovertemplate": "x: %{x}<br>y: %{y}<br>color: %{z}<extra></extra>",
         "name": "0",
         "texttemplate": "%{z}",
         "type": "heatmap",
         "x": [
          "additional_number_of_scoring",
          "average_score",
          "reviewer_nationality",
          "review_total_negative_word_counts",
          "total_number_of_reviews",
          "review_total_positive_word_counts",
          "total_number_of_reviews_reviewer_has_given",
          "reviewer_score",
          "days_since_review",
          "lat",
          "lng",
          "train",
          "hotel_country",
          "year",
          "day_of_week",
          "quarter",
          "royal",
          "luxury",
          "appart",
          "hotel_country_is_reviewer_nationality",
          "negative_stuff",
          "positive_stuff",
          "Leisure trip",
          "Submitted from a mobile device",
          "Couple",
          "Solo traveler",
          "Business trip",
          "Group",
          "Family with young children",
          "stayed"
         ],
         "xaxis": "x",
         "y": [
          "additional_number_of_scoring",
          "average_score",
          "reviewer_nationality",
          "review_total_negative_word_counts",
          "total_number_of_reviews",
          "review_total_positive_word_counts",
          "total_number_of_reviews_reviewer_has_given",
          "reviewer_score",
          "days_since_review",
          "lat",
          "lng",
          "train",
          "hotel_country",
          "year",
          "day_of_week",
          "quarter",
          "royal",
          "luxury",
          "appart",
          "hotel_country_is_reviewer_nationality",
          "negative_stuff",
          "positive_stuff",
          "Leisure trip",
          "Submitted from a mobile device",
          "Couple",
          "Solo traveler",
          "Business trip",
          "Group",
          "Family with young children",
          "stayed"
         ],
         "yaxis": "y",
         "z": [
          [
           1,
           -0.15301238346709775,
           -0.20033550499086725,
           0.02919279477298855,
           0.8249040116879498,
           -0.0531327433380434,
           -0.07197102317779036,
           -0.018714146621716516,
           0.0119356085692101,
           0.33580338098878726,
           -0.2953963903836359,
           0.0007930087573645981,
           -0.36679490210231513,
           -0.004689680720846455,
           -0.011507638757648181,
           -0.01461433920440002,
           0.03046670035574689,
           -0.04186151903969422,
           -0.018569884342063765,
           0.3241927942731388,
           -0.0008992150173587403,
           -0.02458646200532732,
           0.00017843058833286662,
           0.042671231057083966,
           0.011036818057900003,
           -0.006431365544346953,
           -0.004199735743110923,
           0.003683023567672921,
           -0.006752375413773096,
           -0.10923331963794258
          ],
          [
           -0.15301238346709775,
           1,
           0.03725005792323981,
           -0.11234653186631414,
           -0.1795541654085436,
           0.10672276939296178,
           0.03652908808797994,
           0.11368637895303231,
           -0.01396140530684884,
           -0.10859064794682383,
           0.10596565108224257,
           -0.0006590965416146883,
           0.12825693084352013,
           0.015493330785095946,
           -0.007753050689409149,
           -0.009048326909641927,
           -0.008206150103602415,
           0.054439938301396054,
           0.004111452086716945,
           -0.060702067919439266,
           -0.017643755049165363,
           0.008033181339693333,
           0.08228112189170304,
           0.004943303222921938,
           0.09452223973954448,
           -0.08258832095609304,
           -0.07177851500112857,
           -0.028151056944668046,
           -0.01046316680107324,
           0.013956378144899658
          ],
          [
           -0.20033550499086725,
           0.03725005792323981,
           1,
           -0.012922475520284384,
           -0.058613605710192224,
           0.010723108053852383,
           0.14793563258796402,
           -0.015378317435852315,
           -0.010722101385596101,
           -0.22397842865529502,
           0.28387436049072323,
           -0.001621528688249184,
           0.28132953027801777,
           -0.011209164831750308,
           0.04358353351224024,
           0.054962379202129125,
           0.0016508192237101606,
           0.02601916350165267,
           0.02764957354850753,
           -0.701634113641636,
           0.015448472573455585,
           0.054201122855066224,
           -0.05365189960737625,
           -0.07841127977511655,
           -0.143453107191474,
           0.09176795799187595,
           0.05569057494997821,
           -0.014203558109152905,
           0.09302924614469893,
           0.31434061712181544
          ],
          [
           0.02919279477298855,
           -0.11234653186631414,
           -0.012922475520284384,
           1,
           0.03511012347026508,
           0.11966409041883211,
           0.0032340020918348216,
           -0.12058079044288295,
           -0.04326083958854752,
           0.019060737509337136,
           -0.019944330085598063,
           -0.0000209797418998925,
           -0.017353621756294273,
           0.039719246584729556,
           -0.016327837737013656,
           -0.007340447685089001,
           0.00021071346501952241,
           -0.007991022053333852,
           -0.0017667788118551312,
           0.009905884451548323,
           0.0890440929998113,
           -0.006581221003915361,
           -0.006951399613607392,
           -0.08229159120608583,
           -0.00462856317392153,
           0.002690971532147622,
           0.0046308123136323265,
           -0.004541905961905946,
           0.011510376855004055,
           0.03800703046449612
          ],
          [
           0.8249040116879498,
           -0.1795541654085436,
           -0.058613605710192224,
           0.03511012347026508,
           1,
           -0.030145663805262596,
           -0.02491799533076993,
           -0.022767592840525118,
           0.007218383616246736,
           0.10019136454210364,
           -0.014169239370854759,
           0.00031383982457979935,
           -0.056995702786734756,
           -0.004213981601409995,
           0.0012420065153179599,
           -0.00504241170399688,
           0.03379240579523884,
           -0.05007237532262752,
           0.002996527989682629,
           0.08280224300821727,
           0.0034514055987475358,
           -0.011261166686623626,
           0.013721918543624237,
           0.016504856553602395,
           -0.01419473074404228,
           -0.017296289697672367,
           -0.01504893338442184,
           0.02281949192067442,
           0.016913502737732792,
           -0.03505926325709821
          ],
          [
           -0.0531327433380434,
           0.10672276939296178,
           0.010723108053852383,
           0.11966409041883211,
           -0.030145663805262596,
           1,
           0.026533573706449463,
           0.06902143825783472,
           -0.04499381148725293,
           -0.037439984245438325,
           0.03534475614379297,
           0.00006524298405874477,
           0.05258649187728026,
           0.04867143431807527,
           -0.014555191151531926,
           -0.026089437395209816,
           -0.0031966249615534054,
           0.003018631471727224,
           -0.0004032790328976309,
           -0.050120015264104,
           0.003448475959017855,
           0.03987854560249683,
           0.07619343381710046,
           -0.10813041643998635,
           0.03634699080088519,
           -0.040518024954399115,
           -0.07447271869229243,
           -0.00692485288104392,
           0.0006252952665915069,
           0.05470185953326399
          ],
          [
           -0.07197102317779036,
           0.03652908808797994,
           0.14793563258796402,
           0.0032340020918348216,
           -0.02491799533076993,
           0.026533573706449463,
           1,
           0.0023961371077789043,
           0.035088199591551614,
           -0.05955268691614298,
           0.11038323512532236,
           0.0017246985064367948,
           0.07940849054911123,
           -0.034578201344624755,
           0.016414245369168048,
           0.012337233092872062,
           -0.0075949330659848815,
           0.008587986196676754,
           0.013830551038505607,
           -0.11886249087195078,
           0.0035805884778253774,
           0.010086810457914387,
           -0.11543995707721356,
           -0.13004462377981083,
           -0.04358627628260564,
           0.114711658885008,
           0.12955828149528734,
           -0.034448721004181566,
           -0.03310821812409544,
           -0.008980745512604997
          ],
          [
           -0.018714146621716516,
           0.11368637895303231,
           -0.015378317435852315,
           -0.12058079044288295,
           -0.022767592840525118,
           0.06902143825783472,
           0.0023961371077789043,
           1,
           0.00022523516928415398,
           -0.011056604860451463,
           0.010797597263172825,
           0.9318210862921948,
           0.015387347038062852,
           0.0034712524297163473,
           -0.0024857676892148187,
           -0.00961311592294663,
           -0.002487320443107499,
           0.005249116483508173,
           -0.0003991307803211776,
           0.004287326752900172,
           -0.020935497849751322,
           0.005864692863176498,
           0.03977728274607778,
           0.005117100841174711,
           0.021880629674719054,
           -0.027912207540594407,
           -0.03803170105100758,
           0.004285230255765573,
           -0.005484210719426358,
           -0.0054146463637616965
          ],
          [
           0.0119356085692101,
           -0.01396140530684884,
           -0.010722101385596101,
           -0.04326083958854752,
           0.007218383616246736,
           -0.04499381148725293,
           0.035088199591551614,
           0.00022523516928415398,
           1,
           -0.0001484318618400046,
           -0.0009706347056553416,
           -0.0005482361695577032,
           -0.005268919430340148,
           -0.9172477988560909,
           0.05064368857987955,
           0.2008550398553391,
           0.0015219311737878346,
           0.0074890675353326275,
           0.00044165133461791046,
           0.016446192450730767,
           -0.00595280007323202,
           -0.0029630976773028775,
           -0.006348883539387667,
           -0.037507409474953984,
           0.0458592671288388,
           0.009570403067444395,
           0.011393678119916276,
           -0.03321157642554547,
           -0.1530191917161318,
           0.0022704491435044513
          ],
          [
           0.33580338098878726,
           -0.10859064794682383,
           -0.22397842865529502,
           0.019060737509337136,
           0.10019136454210364,
           -0.037439984245438325,
           -0.05955268691614298,
           -0.011056604860451463,
           -0.0001484318618400046,
           1,
           -0.3045392552511049,
           0.0005975742501779229,
           -0.8503605281186081,
           0.00991825662669135,
           -0.020719407378624214,
           -0.025866686818891253,
           0.0034675202374844904,
           -0.002192092564862295,
           -0.013426105686353792,
           0.3963261156890835,
           -0.0012281703634942963,
           -0.022821680944918776,
           -0.04480263747021351,
           0.025469767874260387,
           0.020149220345402737,
           0.03810024909342282,
           0.03888642344601759,
           -0.014277118681766862,
           -0.0460000095772035,
           -0.17196887639257738
          ],
          [
           -0.2953963903836359,
           0.10596565108224257,
           0.28387436049072323,
           -0.019944330085598063,
           -0.014169239370854759,
           0.03534475614379297,
           0.11038323512532236,
           0.010797597263172825,
           -0.0009706347056553416,
           -0.3045392552511049,
           1,
           -0.00011928676801982055,
           0.6316677918246578,
           -0.00893638960425846,
           0.01457215467768706,
           0.02602146685846392,
           -0.04060552959312773,
           0.057907055731159326,
           0.10841823439051647,
           -0.4309260923629317,
           0.007654969061670132,
           0.030557674737533153,
           0.006799270199083318,
           -0.0598920656326242,
           -0.0242991221818903,
           -0.013579501036584092,
           -0.0006120373620435567,
           0.022607581320110395,
           0.025587952129583015,
           0.10640199222211626
          ],
          [
           0.0007930087573645981,
           -0.0006590965416146883,
           -0.001621528688249184,
           -0.0000209797418998925,
           0.00031383982457979935,
           0.00006524298405874477,
           0.0017246985064367948,
           0.9318210862921948,
           -0.0005482361695577032,
           0.0005975742501779229,
           -0.00011928676801982055,
           1,
           0.00009296246332498792,
           -0.000020593951038278156,
           0.00030999963797121127,
           0.0013565660324573211,
           -0.00035205309607329777,
           -0.00030007845573855373,
           -0.0009375281741168595,
           0.0015135630007468732,
           -0.0019625400725017117,
           -0.000058369847777628965,
           0.0029930909181139997,
           0.0004709967635167449,
           -0.00010943999332107518,
           -0.0019203058707020486,
           -0.0026410373786164934,
           0.0006198758247570816,
           0.0010733377636432601,
           -0.0008208293686729704
          ],
          [
           -0.36679490210231513,
           0.12825693084352013,
           0.28132953027801777,
           -0.017353621756294273,
           -0.056995702786734756,
           0.05258649187728026,
           0.07940849054911123,
           0.015387347038062852,
           -0.005268919430340148,
           -0.8503605281186081,
           0.6316677918246578,
           0.00009296246332498792,
           1,
           -0.005379974516288894,
           0.021168978471026084,
           0.025983630858831975,
           -0.0256025033490954,
           0.02048393417019036,
           0.05185848143230616,
           -0.5296714383244125,
           0.003596167942865352,
           0.02952646513041623,
           0.05560202947841626,
           -0.040669990309552484,
           -0.01561814134824896,
           -0.04774571937038178,
           -0.04785613186540222,
           0.037650056905390514,
           0.033437892946948426,
           0.2056805061435481
          ],
          [
           -0.004689680720846455,
           0.015493330785095946,
           -0.011209164831750308,
           0.039719246584729556,
           -0.004213981601409995,
           0.04867143431807527,
           -0.034578201344624755,
           0.0034712524297163473,
           -0.9172477988560909,
           0.00991825662669135,
           -0.00893638960425846,
           -0.000020593951038278156,
           -0.005379974516288894,
           1,
           -0.04775326323072752,
           -0.560545369008065,
           0.0000658858659917819,
           -0.0061981791957994034,
           -0.0015676898564367632,
           0.0008952972963862772,
           0.005776828761518242,
           0.002566885996536231,
           0.0026400082667258516,
           0.03221609638477995,
           -0.040139631037204346,
           -0.004225654533450913,
           -0.007708002364063238,
           0.027892321117013452,
           0.1311782195741014,
           -0.011237937229109827
          ],
          [
           -0.011507638757648181,
           -0.007753050689409149,
           0.04358353351224024,
           -0.016327837737013656,
           0.0012420065153179599,
           -0.014555191151531926,
           0.016414245369168048,
           -0.0024857676892148187,
           0.05064368857987955,
           -0.020719407378624214,
           0.01457215467768706,
           0.00030999963797121127,
           0.021168978471026084,
           -0.04775326323072752,
           1,
           0.020809677067276527,
           0.0024367545492692427,
           0.005699676120484839,
           0.002593864002060388,
           -0.03321809413558048,
           -0.00020184520351179862,
           0.0006658413473832353,
           -0.05874524097978536,
           0.10578693364880133,
           -0.03401180656850968,
           0.05581083105574576,
           0.057651546819109674,
           -0.028767445669449894,
           -0.002482761160401914,
           0.04110894338988938
          ],
          [
           -0.01461433920440002,
           -0.009048326909641927,
           0.054962379202129125,
           -0.007340447685089001,
           -0.00504241170399688,
           -0.026089437395209816,
           0.012337233092872062,
           -0.00961311592294663,
           0.2008550398553391,
           -0.025866686818891253,
           0.02602146685846392,
           0.0013565660324573211,
           0.025983630858831975,
           -0.560545369008065,
           0.020809677067276527,
           1,
           -0.004159296799954142,
           0.000045558787356138776,
           0.003036208156695074,
           -0.040259997112456175,
           -0.002488820146539643,
           -0.0004424642632143889,
           0.009268912255958555,
           -0.002743128478622682,
           0.0029508633108208393,
           -0.012072537007008418,
           -0.007355663703923916,
           -0.001639045935347979,
           -0.002828974512211398,
           0.027408333576904594
          ],
          [
           0.03046670035574689,
           -0.008206150103602415,
           0.0016508192237101606,
           0.00021071346501952241,
           0.03379240579523884,
           -0.0031966249615534054,
           -0.0075949330659848815,
           -0.002487320443107499,
           0.0015219311737878346,
           0.0034675202374844904,
           -0.04060552959312773,
           -0.00035205309607329777,
           -0.0256025033490954,
           0.0000658858659917819,
           0.0024367545492692427,
           -0.004159296799954142,
           1,
           -0.008481181257347049,
           -0.0052082726185275815,
           0.017033400620206196,
           -0.0007407884853989255,
           -0.0007735356963423853,
           0.0011502496479919148,
           0.004328701529370223,
           0.002669910718086729,
           -0.00009065114673333272,
           -0.0014127643538601152,
           -0.0062790242001843155,
           0.001273244060626741,
           0.00937563614700229
          ],
          [
           -0.04186151903969422,
           0.054439938301396054,
           0.02601916350165267,
           -0.007991022053333852,
           -0.05007237532262752,
           0.003018631471727224,
           0.008587986196676754,
           0.005249116483508173,
           0.0074890675353326275,
           -0.002192092564862295,
           0.057907055731159326,
           -0.00030007845573855373,
           0.02048393417019036,
           -0.0061981791957994034,
           0.005699676120484839,
           0.000045558787356138776,
           -0.008481181257347049,
           1,
           -0.0021796775574307297,
           -0.025343492233037206,
           -0.0007912485072799211,
           0.0002989699381417713,
           0.0007692270539299472,
           0.005897118327044923,
           -0.00004823973605199584,
           -0.0013358929577852268,
           -0.00232619792019297,
           -0.0031596360293876464,
           0.0034696076781011768,
           0.019811846299263067
          ],
          [
           -0.018569884342063765,
           0.004111452086716945,
           0.02764957354850753,
           -0.0017667788118551312,
           0.002996527989682629,
           -0.0004032790328976309,
           0.013830551038505607,
           -0.0003991307803211776,
           0.00044165133461791046,
           -0.013426105686353792,
           0.10841823439051647,
           -0.0009375281741168595,
           0.05185848143230616,
           -0.0015676898564367632,
           0.002593864002060388,
           0.003036208156695074,
           -0.0052082726185275815,
           -0.0021796775574307297,
           1,
           -0.02326768317067545,
           0.001331726238877703,
           0.0032064564102947286,
           0.0020114213773977044,
           -0.005953992957890552,
           -0.01306898934206709,
           -0.009119139386177847,
           -0.004162250621113832,
           0.002653582034286877,
           0.02309376403083418,
           -0.00528046535435706
          ],
          [
           0.3241927942731388,
           -0.060702067919439266,
           -0.701634113641636,
           0.009905884451548323,
           0.08280224300821727,
           -0.050120015264104,
           -0.11886249087195078,
           0.004287326752900172,
           0.016446192450730767,
           0.3963261156890835,
           -0.4309260923629317,
           0.0015135630007468732,
           -0.5296714383244125,
           0.0008952972963862772,
           -0.03321809413558048,
           -0.040259997112456175,
           0.017033400620206196,
           -0.025343492233037206,
           -0.02326768317067545,
           1,
           -0.00942266859177479,
           -0.04129001499810328,
           0.002635740497912915,
           0.06929349812998574,
           0.11355584721504082,
           -0.04634351904051461,
           -0.014022524240038454,
           -0.019212427174538152,
           -0.0711565871909527,
           -0.38344535167651855
          ],
          [
           -0.0008992150173587403,
           -0.017643755049165363,
           0.015448472573455585,
           0.0890440929998113,
           0.0034514055987475358,
           0.003448475959017855,
           0.0035805884778253774,
           -0.020935497849751322,
           -0.00595280007323202,
           -0.0012281703634942963,
           0.007654969061670132,
           -0.0019625400725017117,
           0.003596167942865352,
           0.005776828761518242,
           -0.00020184520351179862,
           -0.002488820146539643,
           -0.0007407884853989255,
           -0.0007912485072799211,
           0.001331726238877703,
           -0.00942266859177479,
           1,
           0.024758597322966844,
           -0.006377676638150152,
           -0.004800891141405058,
           -0.006062728414215953,
           0.005423824867564511,
           0.004686063996293413,
           0.00036614537572434244,
           0.00306540957466879,
           0.009901153478990607
          ],
          [
           -0.02458646200532732,
           0.008033181339693333,
           0.054201122855066224,
           -0.006581221003915361,
           -0.011261166686623626,
           0.03987854560249683,
           0.010086810457914387,
           0.005864692863176498,
           -0.0029630976773028775,
           -0.022821680944918776,
           0.030557674737533153,
           -0.000058369847777628965,
           0.02952646513041623,
           0.002566885996536231,
           0.0006658413473832353,
           -0.0004424642632143889,
           -0.0007735356963423853,
           0.0002989699381417713,
           0.0032064564102947286,
           -0.04129001499810328,
           0.024758597322966844,
           1,
           -0.004802097916990453,
           -0.006753435387444236,
           -0.009819351689932955,
           0.005561541490259049,
           0.002089711168764437,
           0.0011509063402725826,
           0.00838963904975238,
           0.027871530866193095
          ],
          [
           0.00017843058833286662,
           0.08228112189170304,
           -0.05365189960737625,
           -0.006951399613607392,
           0.013721918543624237,
           0.07619343381710046,
           -0.11543995707721356,
           0.03977728274607778,
           -0.006348883539387667,
           -0.04480263747021351,
           0.006799270199083318,
           0.0029930909181139997,
           0.05560202947841626,
           0.0026400082667258516,
           -0.05874524097978536,
           0.009268912255958555,
           0.0011502496479919148,
           0.0007692270539299472,
           0.0020114213773977044,
           0.002635740497912915,
           -0.006377676638150152,
           -0.004802097916990453,
           1,
           0.13081728633391815,
           0.27530674704130254,
           -0.5090456305898916,
           -0.9040467374440201,
           0.05273380803824164,
           0.10844142793705602,
           0.03404599113616641
          ],
          [
           0.042671231057083966,
           0.004943303222921938,
           -0.07841127977511655,
           -0.08229159120608583,
           0.016504856553602395,
           -0.10813041643998635,
           -0.13004462377981083,
           0.005117100841174711,
           -0.037507409474953984,
           0.025469767874260387,
           -0.0598920656326242,
           0.0004709967635167449,
           -0.040669990309552484,
           0.03221609638477995,
           0.10578693364880133,
           -0.002743128478622682,
           0.004328701529370223,
           0.005897118327044923,
           -0.005953992957890552,
           0.06929349812998574,
           -0.004800891141405058,
           -0.006753435387444236,
           0.13081728633391815,
           1,
           0.04274483470002746,
           -0.10751356494088642,
           -0.14624429712437656,
           0.015856337750988176,
           0.03832574643689875,
           -0.01157646981467119
          ],
          [
           0.011036818057900003,
           0.09452223973954448,
           -0.143453107191474,
           -0.00462856317392153,
           -0.01419473074404228,
           0.03634699080088519,
           -0.04358627628260564,
           0.021880629674719054,
           0.0458592671288388,
           0.020149220345402737,
           -0.0242991221818903,
           -0.00010943999332107518,
           -0.01561814134824896,
           -0.040139631037204346,
           -0.03401180656850968,
           0.0029508633108208393,
           0.002669910718086729,
           -0.00004823973605199584,
           -0.01306898934206709,
           0.11355584721504082,
           -0.006062728414215953,
           -0.009819351689932955,
           0.27530674704130254,
           0.04274483470002746,
           1,
           -0.5052150420302526,
           -0.27815682678056697,
           -0.37290821180769906,
           -0.35848349145401665,
           -0.03291980529918771
          ],
          [
           -0.006431365544346953,
           -0.08258832095609304,
           0.09176795799187595,
           0.002690971532147622,
           -0.017296289697672367,
           -0.040518024954399115,
           0.114711658885008,
           -0.027912207540594407,
           0.009570403067444395,
           0.03810024909342282,
           -0.013579501036584092,
           -0.0019203058707020486,
           -0.04774571937038178,
           -0.004225654533450913,
           0.05581083105574576,
           -0.012072537007008418,
           -0.00009065114673333272,
           -0.0013358929577852268,
           -0.009119139386177847,
           -0.04634351904051461,
           0.005423824867564511,
           0.005561541490259049,
           -0.5090456305898916,
           -0.10751356494088642,
           -0.5052150420302526,
           1,
           0.5285296909707075,
           -0.19674918777791783,
           -0.18913859642152292,
           -0.03678746869437351
          ],
          [
           -0.004199735743110923,
           -0.07177851500112857,
           0.05569057494997821,
           0.0046308123136323265,
           -0.01504893338442184,
           -0.07447271869229243,
           0.12955828149528734,
           -0.03803170105100758,
           0.011393678119916276,
           0.03888642344601759,
           -0.0006120373620435567,
           -0.0026410373786164934,
           -0.04785613186540222,
           -0.007708002364063238,
           0.057651546819109674,
           -0.007355663703923916,
           -0.0014127643538601152,
           -0.00232619792019297,
           -0.004162250621113832,
           -0.014022524240038454,
           0.004686063996293413,
           0.002089711168764437,
           -0.9040467374440201,
           -0.14624429712437656,
           -0.27815682678056697,
           0.5285296909707075,
           1,
           -0.05168394363441637,
           -0.12342569465784704,
           -0.03818604076512859
          ],
          [
           0.003683023567672921,
           -0.028151056944668046,
           -0.014203558109152905,
           -0.004541905961905946,
           0.02281949192067442,
           -0.00692485288104392,
           -0.034448721004181566,
           0.004285230255765573,
           -0.03321157642554547,
           -0.014277118681766862,
           0.022607581320110395,
           0.0006198758247570816,
           0.037650056905390514,
           0.027892321117013452,
           -0.028767445669449894,
           -0.001639045935347979,
           -0.0062790242001843155,
           -0.0031596360293876464,
           0.002653582034286877,
           -0.019212427174538152,
           0.00036614537572434244,
           0.0011509063402725826,
           0.05273380803824164,
           0.015856337750988176,
           -0.37290821180769906,
           -0.19674918777791783,
           -0.05168394363441637,
           1,
           -0.1396065633594993,
           -0.010114380112964219
          ],
          [
           -0.006752375413773096,
           -0.01046316680107324,
           0.09302924614469893,
           0.011510376855004055,
           0.016913502737732792,
           0.0006252952665915069,
           -0.03310821812409544,
           -0.005484210719426358,
           -0.1530191917161318,
           -0.0460000095772035,
           0.025587952129583015,
           0.0010733377636432601,
           0.033437892946948426,
           0.1311782195741014,
           -0.002482761160401914,
           -0.002828974512211398,
           0.001273244060626741,
           0.0034696076781011768,
           0.02309376403083418,
           -0.0711565871909527,
           0.00306540957466879,
           0.00838963904975238,
           0.10844142793705602,
           0.03832574643689875,
           -0.35848349145401665,
           -0.18913859642152292,
           -0.12342569465784704,
           -0.1396065633594993,
           1,
           0.0770646454364279
          ],
          [
           -0.10923331963794258,
           0.013956378144899658,
           0.31434061712181544,
           0.03800703046449612,
           -0.03505926325709821,
           0.05470185953326399,
           -0.008980745512604997,
           -0.0054146463637616965,
           0.0022704491435044513,
           -0.17196887639257738,
           0.10640199222211626,
           -0.0008208293686729704,
           0.2056805061435481,
           -0.011237937229109827,
           0.04110894338988938,
           0.027408333576904594,
           0.00937563614700229,
           0.019811846299263067,
           -0.00528046535435706,
           -0.38344535167651855,
           0.009901153478990607,
           0.027871530866193095,
           0.03404599113616641,
           -0.01157646981467119,
           -0.03291980529918771,
           -0.03678746869437351,
           -0.03818604076512859,
           -0.010114380112964219,
           0.0770646454364279,
           1
          ]
         ]
        }
       ],
       "layout": {
        "coloraxis": {
         "colorscale": [
          [
           0,
           "#0d0887"
          ],
          [
           0.1111111111111111,
           "#46039f"
          ],
          [
           0.2222222222222222,
           "#7201a8"
          ],
          [
           0.3333333333333333,
           "#9c179e"
          ],
          [
           0.4444444444444444,
           "#bd3786"
          ],
          [
           0.5555555555555556,
           "#d8576b"
          ],
          [
           0.6666666666666666,
           "#ed7953"
          ],
          [
           0.7777777777777778,
           "#fb9f3a"
          ],
          [
           0.8888888888888888,
           "#fdca26"
          ],
          [
           1,
           "#f0f921"
          ]
         ]
        },
        "height": 1500,
        "margin": {
         "t": 60
        },
        "template": {
         "data": {
          "bar": [
           {
            "error_x": {
             "color": "#2a3f5f"
            },
            "error_y": {
             "color": "#2a3f5f"
            },
            "marker": {
             "line": {
              "color": "#E5ECF6",
              "width": 0.5
             },
             "pattern": {
              "fillmode": "overlay",
              "size": 10,
              "solidity": 0.2
             }
            },
            "type": "bar"
           }
          ],
          "barpolar": [
           {
            "marker": {
             "line": {
              "color": "#E5ECF6",
              "width": 0.5
             },
             "pattern": {
              "fillmode": "overlay",
              "size": 10,
              "solidity": 0.2
             }
            },
            "type": "barpolar"
           }
          ],
          "carpet": [
           {
            "aaxis": {
             "endlinecolor": "#2a3f5f",
             "gridcolor": "white",
             "linecolor": "white",
             "minorgridcolor": "white",
             "startlinecolor": "#2a3f5f"
            },
            "baxis": {
             "endlinecolor": "#2a3f5f",
             "gridcolor": "white",
             "linecolor": "white",
             "minorgridcolor": "white",
             "startlinecolor": "#2a3f5f"
            },
            "type": "carpet"
           }
          ],
          "choropleth": [
           {
            "colorbar": {
             "outlinewidth": 0,
             "ticks": ""
            },
            "type": "choropleth"
           }
          ],
          "contour": [
           {
            "colorbar": {
             "outlinewidth": 0,
             "ticks": ""
            },
            "colorscale": [
             [
              0,
              "#0d0887"
             ],
             [
              0.1111111111111111,
              "#46039f"
             ],
             [
              0.2222222222222222,
              "#7201a8"
             ],
             [
              0.3333333333333333,
              "#9c179e"
             ],
             [
              0.4444444444444444,
              "#bd3786"
             ],
             [
              0.5555555555555556,
              "#d8576b"
             ],
             [
              0.6666666666666666,
              "#ed7953"
             ],
             [
              0.7777777777777778,
              "#fb9f3a"
             ],
             [
              0.8888888888888888,
              "#fdca26"
             ],
             [
              1,
              "#f0f921"
             ]
            ],
            "type": "contour"
           }
          ],
          "contourcarpet": [
           {
            "colorbar": {
             "outlinewidth": 0,
             "ticks": ""
            },
            "type": "contourcarpet"
           }
          ],
          "heatmap": [
           {
            "colorbar": {
             "outlinewidth": 0,
             "ticks": ""
            },
            "colorscale": [
             [
              0,
              "#0d0887"
             ],
             [
              0.1111111111111111,
              "#46039f"
             ],
             [
              0.2222222222222222,
              "#7201a8"
             ],
             [
              0.3333333333333333,
              "#9c179e"
             ],
             [
              0.4444444444444444,
              "#bd3786"
             ],
             [
              0.5555555555555556,
              "#d8576b"
             ],
             [
              0.6666666666666666,
              "#ed7953"
             ],
             [
              0.7777777777777778,
              "#fb9f3a"
             ],
             [
              0.8888888888888888,
              "#fdca26"
             ],
             [
              1,
              "#f0f921"
             ]
            ],
            "type": "heatmap"
           }
          ],
          "heatmapgl": [
           {
            "colorbar": {
             "outlinewidth": 0,
             "ticks": ""
            },
            "colorscale": [
             [
              0,
              "#0d0887"
             ],
             [
              0.1111111111111111,
              "#46039f"
             ],
             [
              0.2222222222222222,
              "#7201a8"
             ],
             [
              0.3333333333333333,
              "#9c179e"
             ],
             [
              0.4444444444444444,
              "#bd3786"
             ],
             [
              0.5555555555555556,
              "#d8576b"
             ],
             [
              0.6666666666666666,
              "#ed7953"
             ],
             [
              0.7777777777777778,
              "#fb9f3a"
             ],
             [
              0.8888888888888888,
              "#fdca26"
             ],
             [
              1,
              "#f0f921"
             ]
            ],
            "type": "heatmapgl"
           }
          ],
          "histogram": [
           {
            "marker": {
             "pattern": {
              "fillmode": "overlay",
              "size": 10,
              "solidity": 0.2
             }
            },
            "type": "histogram"
           }
          ],
          "histogram2d": [
           {
            "colorbar": {
             "outlinewidth": 0,
             "ticks": ""
            },
            "colorscale": [
             [
              0,
              "#0d0887"
             ],
             [
              0.1111111111111111,
              "#46039f"
             ],
             [
              0.2222222222222222,
              "#7201a8"
             ],
             [
              0.3333333333333333,
              "#9c179e"
             ],
             [
              0.4444444444444444,
              "#bd3786"
             ],
             [
              0.5555555555555556,
              "#d8576b"
             ],
             [
              0.6666666666666666,
              "#ed7953"
             ],
             [
              0.7777777777777778,
              "#fb9f3a"
             ],
             [
              0.8888888888888888,
              "#fdca26"
             ],
             [
              1,
              "#f0f921"
             ]
            ],
            "type": "histogram2d"
           }
          ],
          "histogram2dcontour": [
           {
            "colorbar": {
             "outlinewidth": 0,
             "ticks": ""
            },
            "colorscale": [
             [
              0,
              "#0d0887"
             ],
             [
              0.1111111111111111,
              "#46039f"
             ],
             [
              0.2222222222222222,
              "#7201a8"
             ],
             [
              0.3333333333333333,
              "#9c179e"
             ],
             [
              0.4444444444444444,
              "#bd3786"
             ],
             [
              0.5555555555555556,
              "#d8576b"
             ],
             [
              0.6666666666666666,
              "#ed7953"
             ],
             [
              0.7777777777777778,
              "#fb9f3a"
             ],
             [
              0.8888888888888888,
              "#fdca26"
             ],
             [
              1,
              "#f0f921"
             ]
            ],
            "type": "histogram2dcontour"
           }
          ],
          "mesh3d": [
           {
            "colorbar": {
             "outlinewidth": 0,
             "ticks": ""
            },
            "type": "mesh3d"
           }
          ],
          "parcoords": [
           {
            "line": {
             "colorbar": {
              "outlinewidth": 0,
              "ticks": ""
             }
            },
            "type": "parcoords"
           }
          ],
          "pie": [
           {
            "automargin": true,
            "type": "pie"
           }
          ],
          "scatter": [
           {
            "fillpattern": {
             "fillmode": "overlay",
             "size": 10,
             "solidity": 0.2
            },
            "type": "scatter"
           }
          ],
          "scatter3d": [
           {
            "line": {
             "colorbar": {
              "outlinewidth": 0,
              "ticks": ""
             }
            },
            "marker": {
             "colorbar": {
              "outlinewidth": 0,
              "ticks": ""
             }
            },
            "type": "scatter3d"
           }
          ],
          "scattercarpet": [
           {
            "marker": {
             "colorbar": {
              "outlinewidth": 0,
              "ticks": ""
             }
            },
            "type": "scattercarpet"
           }
          ],
          "scattergeo": [
           {
            "marker": {
             "colorbar": {
              "outlinewidth": 0,
              "ticks": ""
             }
            },
            "type": "scattergeo"
           }
          ],
          "scattergl": [
           {
            "marker": {
             "colorbar": {
              "outlinewidth": 0,
              "ticks": ""
             }
            },
            "type": "scattergl"
           }
          ],
          "scattermapbox": [
           {
            "marker": {
             "colorbar": {
              "outlinewidth": 0,
              "ticks": ""
             }
            },
            "type": "scattermapbox"
           }
          ],
          "scatterpolar": [
           {
            "marker": {
             "colorbar": {
              "outlinewidth": 0,
              "ticks": ""
             }
            },
            "type": "scatterpolar"
           }
          ],
          "scatterpolargl": [
           {
            "marker": {
             "colorbar": {
              "outlinewidth": 0,
              "ticks": ""
             }
            },
            "type": "scatterpolargl"
           }
          ],
          "scatterternary": [
           {
            "marker": {
             "colorbar": {
              "outlinewidth": 0,
              "ticks": ""
             }
            },
            "type": "scatterternary"
           }
          ],
          "surface": [
           {
            "colorbar": {
             "outlinewidth": 0,
             "ticks": ""
            },
            "colorscale": [
             [
              0,
              "#0d0887"
             ],
             [
              0.1111111111111111,
              "#46039f"
             ],
             [
              0.2222222222222222,
              "#7201a8"
             ],
             [
              0.3333333333333333,
              "#9c179e"
             ],
             [
              0.4444444444444444,
              "#bd3786"
             ],
             [
              0.5555555555555556,
              "#d8576b"
             ],
             [
              0.6666666666666666,
              "#ed7953"
             ],
             [
              0.7777777777777778,
              "#fb9f3a"
             ],
             [
              0.8888888888888888,
              "#fdca26"
             ],
             [
              1,
              "#f0f921"
             ]
            ],
            "type": "surface"
           }
          ],
          "table": [
           {
            "cells": {
             "fill": {
              "color": "#EBF0F8"
             },
             "line": {
              "color": "white"
             }
            },
            "header": {
             "fill": {
              "color": "#C8D4E3"
             },
             "line": {
              "color": "white"
             }
            },
            "type": "table"
           }
          ]
         },
         "layout": {
          "annotationdefaults": {
           "arrowcolor": "#2a3f5f",
           "arrowhead": 0,
           "arrowwidth": 1
          },
          "autotypenumbers": "strict",
          "coloraxis": {
           "colorbar": {
            "outlinewidth": 0,
            "ticks": ""
           }
          },
          "colorscale": {
           "diverging": [
            [
             0,
             "#8e0152"
            ],
            [
             0.1,
             "#c51b7d"
            ],
            [
             0.2,
             "#de77ae"
            ],
            [
             0.3,
             "#f1b6da"
            ],
            [
             0.4,
             "#fde0ef"
            ],
            [
             0.5,
             "#f7f7f7"
            ],
            [
             0.6,
             "#e6f5d0"
            ],
            [
             0.7,
             "#b8e186"
            ],
            [
             0.8,
             "#7fbc41"
            ],
            [
             0.9,
             "#4d9221"
            ],
            [
             1,
             "#276419"
            ]
           ],
           "sequential": [
            [
             0,
             "#0d0887"
            ],
            [
             0.1111111111111111,
             "#46039f"
            ],
            [
             0.2222222222222222,
             "#7201a8"
            ],
            [
             0.3333333333333333,
             "#9c179e"
            ],
            [
             0.4444444444444444,
             "#bd3786"
            ],
            [
             0.5555555555555556,
             "#d8576b"
            ],
            [
             0.6666666666666666,
             "#ed7953"
            ],
            [
             0.7777777777777778,
             "#fb9f3a"
            ],
            [
             0.8888888888888888,
             "#fdca26"
            ],
            [
             1,
             "#f0f921"
            ]
           ],
           "sequentialminus": [
            [
             0,
             "#0d0887"
            ],
            [
             0.1111111111111111,
             "#46039f"
            ],
            [
             0.2222222222222222,
             "#7201a8"
            ],
            [
             0.3333333333333333,
             "#9c179e"
            ],
            [
             0.4444444444444444,
             "#bd3786"
            ],
            [
             0.5555555555555556,
             "#d8576b"
            ],
            [
             0.6666666666666666,
             "#ed7953"
            ],
            [
             0.7777777777777778,
             "#fb9f3a"
            ],
            [
             0.8888888888888888,
             "#fdca26"
            ],
            [
             1,
             "#f0f921"
            ]
           ]
          },
          "colorway": [
           "#636efa",
           "#EF553B",
           "#00cc96",
           "#ab63fa",
           "#FFA15A",
           "#19d3f3",
           "#FF6692",
           "#B6E880",
           "#FF97FF",
           "#FECB52"
          ],
          "font": {
           "color": "#2a3f5f"
          },
          "geo": {
           "bgcolor": "white",
           "lakecolor": "white",
           "landcolor": "#E5ECF6",
           "showlakes": true,
           "showland": true,
           "subunitcolor": "white"
          },
          "hoverlabel": {
           "align": "left"
          },
          "hovermode": "closest",
          "mapbox": {
           "style": "light"
          },
          "paper_bgcolor": "white",
          "plot_bgcolor": "#E5ECF6",
          "polar": {
           "angularaxis": {
            "gridcolor": "white",
            "linecolor": "white",
            "ticks": ""
           },
           "bgcolor": "#E5ECF6",
           "radialaxis": {
            "gridcolor": "white",
            "linecolor": "white",
            "ticks": ""
           }
          },
          "scene": {
           "xaxis": {
            "backgroundcolor": "#E5ECF6",
            "gridcolor": "white",
            "gridwidth": 2,
            "linecolor": "white",
            "showbackground": true,
            "ticks": "",
            "zerolinecolor": "white"
           },
           "yaxis": {
            "backgroundcolor": "#E5ECF6",
            "gridcolor": "white",
            "gridwidth": 2,
            "linecolor": "white",
            "showbackground": true,
            "ticks": "",
            "zerolinecolor": "white"
           },
           "zaxis": {
            "backgroundcolor": "#E5ECF6",
            "gridcolor": "white",
            "gridwidth": 2,
            "linecolor": "white",
            "showbackground": true,
            "ticks": "",
            "zerolinecolor": "white"
           }
          },
          "shapedefaults": {
           "line": {
            "color": "#2a3f5f"
           }
          },
          "ternary": {
           "aaxis": {
            "gridcolor": "white",
            "linecolor": "white",
            "ticks": ""
           },
           "baxis": {
            "gridcolor": "white",
            "linecolor": "white",
            "ticks": ""
           },
           "bgcolor": "#E5ECF6",
           "caxis": {
            "gridcolor": "white",
            "linecolor": "white",
            "ticks": ""
           }
          },
          "title": {
           "x": 0.05
          },
          "xaxis": {
           "automargin": true,
           "gridcolor": "white",
           "linecolor": "white",
           "ticks": "",
           "title": {
            "standoff": 15
           },
           "zerolinecolor": "white",
           "zerolinewidth": 2
          },
          "yaxis": {
           "automargin": true,
           "gridcolor": "white",
           "linecolor": "white",
           "ticks": "",
           "title": {
            "standoff": 15
           },
           "zerolinecolor": "white",
           "zerolinewidth": 2
          }
         }
        },
        "width": 1500,
        "xaxis": {
         "anchor": "y",
         "domain": [
          0,
          1
         ]
        },
        "yaxis": {
         "anchor": "x",
         "autorange": "reversed",
         "domain": [
          0,
          1
         ]
        }
       }
      }
     },
     "metadata": {},
     "output_type": "display_data"
    }
   ],
   "source": [
    "fig = px.imshow(data.corr(numeric_only=True), \n",
    "                text_auto=True, aspect=\"auto\",\n",
    "                # width=40,\n",
    "                # height=100\n",
    "                )\n",
    "fig.update_layout(width=1500, height=1500)\n",
    "fig.show()"
   ]
  },
  {
   "cell_type": "markdown",
   "metadata": {},
   "source": [
    "Разобьем признаки на непрерывные и категориальные"
   ]
  },
  {
   "cell_type": "code",
   "execution_count": 87,
   "metadata": {},
   "outputs": [],
   "source": [
    "# непрерывные признаки\n",
    "num_cols = ['additional_number_of_scoring', 'average_score', \n",
    "            'review_total_negative_word_counts', 'review_total_positive_word_counts', \n",
    "            'total_number_of_reviews_reviewer_has_given', \n",
    "            'lng', 'stayed', 'days_since_review']\n",
    "\n",
    "# категориальные признаки\n",
    "cat_cols = ['reviewer_nationality', 'hotel_country', 'negative_stuff', 'positive_stuff', \n",
    "            'Submitted from a mobile device', 'Couple', 'Solo traveler', 'Business trip', 'Group', \n",
    "            'Family with young children', 'royal', 'luxury', 'appart', , 'day_of_week', 'quarter']"
   ]
  },
  {
   "cell_type": "code",
   "execution_count": 88,
   "metadata": {},
   "outputs": [],
   "source": [
    "# Разбиваем датафрейм на части, необходимые для обучения и тестирования модели  \n",
    "# Х - данные с информацией об отелях, у - целевая переменная (рейтинги отелей)  \n",
    "X = data.drop(['reviewer_score'], axis = 1)  \n",
    "y = data['reviewer_score'] "
   ]
  },
  {
   "cell_type": "markdown",
   "metadata": {},
   "source": [
    "Определим важность категориальных признаков."
   ]
  },
  {
   "cell_type": "code",
   "execution_count": 89,
   "metadata": {},
   "outputs": [
    {
     "data": {
      "text/plain": [
       "<Axes: >"
      ]
     },
     "execution_count": 89,
     "metadata": {},
     "output_type": "execute_result"
    },
    {
     "data": {
      "image/png": "[encoded data removed]",
      "text/plain": [
       "<Figure size 640x480 with 1 Axes>"
      ]
     },
     "metadata": {},
     "output_type": "display_data"
    }
   ],
   "source": [
    "y=y.astype('int')\n",
    "\n",
    "from sklearn.feature_selection import chi2 # хи-квадрат\n",
    "\n",
    "imp_cat = pd.Series(chi2(X[cat_cols], y)[0], index=cat_cols)\n",
    "imp_cat.sort_values(inplace = True)\n",
    "imp_cat.plot(kind = 'barh')"
   ]
  },
  {
   "cell_type": "code",
   "execution_count": 90,
   "metadata": {},
   "outputs": [
    {
     "data": {
      "text/plain": [
       "Index(['additional_number_of_scoring', 'average_score', 'reviewer_nationality',\n",
       "       'review_total_negative_word_counts', 'total_number_of_reviews',\n",
       "       'review_total_positive_word_counts',\n",
       "       'total_number_of_reviews_reviewer_has_given', 'reviewer_score',\n",
       "       'days_since_review', 'lat', 'lng', 'train', 'hotel_country', 'year',\n",
       "       'day_of_week', 'quarter', 'royal', 'luxury', 'appart',\n",
       "       'hotel_country_is_reviewer_nationality', 'negative_stuff',\n",
       "       'positive_stuff', 'Leisure trip', 'Submitted from a mobile device',\n",
       "       'Couple', 'Solo traveler', 'Business trip', 'Group',\n",
       "       'Family with young children', 'stayed'],\n",
       "      dtype='object')"
      ]
     },
     "execution_count": 90,
     "metadata": {},
     "output_type": "execute_result"
    }
   ],
   "source": [
    "data.columns"
   ]
  },
  {
   "cell_type": "markdown",
   "metadata": {},
   "source": [
    "Столбцы к удалению:"
   ]
  },
  {
   "cell_type": "code",
   "execution_count": 91,
   "metadata": {},
   "outputs": [],
   "source": [
    "cat_cols_to_delete = [\n",
    "                      # 'day_of_week', 'appart', 'year',\n",
    "                    #   'hotel_name_4', 'hotel_name_5', 'hotel_name_6', 'hotel_name_7',\n",
    "                    #   'hotel_name_8', 'hotel_name_9', 'hotel_name_10', \n",
    "                      # 'hotel_name_8',\n",
    "                      ]"
   ]
  },
  {
   "cell_type": "markdown",
   "metadata": {},
   "source": [
    "Определим важность непрерывных признаков."
   ]
  },
  {
   "cell_type": "code",
   "execution_count": 92,
   "metadata": {},
   "outputs": [
    {
     "data": {
      "text/plain": [
       "<Axes: >"
      ]
     },
     "execution_count": 92,
     "metadata": {},
     "output_type": "execute_result"
    },
    {
     "data": {
      "image/png": "[encoded data removed]",
      "text/plain": [
       "<Figure size 640x480 with 1 Axes>"
      ]
     },
     "metadata": {},
     "output_type": "display_data"
    }
   ],
   "source": [
    "from sklearn.feature_selection import f_classif # anova\n",
    "\n",
    "imp_num = pd.Series(f_classif(X[num_cols], y)[0], index = num_cols)\n",
    "imp_num.sort_values(inplace = True)\n",
    "imp_num.plot(kind = 'barh')"
   ]
  },
  {
   "cell_type": "markdown",
   "metadata": {},
   "source": [
    "Столбцы к удалению:"
   ]
  },
  {
   "cell_type": "code",
   "execution_count": 93,
   "metadata": {},
   "outputs": [],
   "source": [
    "# num_cols_to_delete = ['stayed', 'days_since_review', 'lng', 'additional_number_of_scoring', \n",
    "#                       'total_number_of_reviews_reviewer_has_given']\n",
    "num_cols_to_delete = [\n",
    "                    #   'lng', \n",
    "                      ]"
   ]
  },
  {
   "cell_type": "code",
   "execution_count": 94,
   "metadata": {},
   "outputs": [],
   "source": [
    "X = data.drop(num_cols_to_delete + cat_cols_to_delete, axis = 1)  "
   ]
  },
  {
   "cell_type": "markdown",
   "metadata": {},
   "source": [
    "## <center> 3. Построение модели </center>"
   ]
  },
  {
   "cell_type": "code",
   "execution_count": 95,
   "metadata": {},
   "outputs": [],
   "source": [
    "# Теперь выделим тестовую часть\n",
    "\n",
    "data_train = X[data['train'] == 1].drop(['train'], axis=1)\n",
    "data_test = X[data['train'] == 0].drop(['train'], axis=1)\n",
    "\n",
    "y = data_train['reviewer_score'] \n",
    "X = data_train.drop(['reviewer_score'], axis=1)\n",
    "data_test = data_test.drop(['reviewer_score'], axis=1)"
   ]
  },
  {
   "cell_type": "code",
   "execution_count": 96,
   "metadata": {},
   "outputs": [],
   "source": [
    "# Импортируем необходимые библиотеки:  \n",
    "from sklearn.ensemble import RandomForestRegressor # инструмент для создания и обучения модели  \n",
    "from sklearn import metrics # инструменты для оценки точности модели  \n",
    "  \n",
    "# Создаём модель  \n",
    "regr = RandomForestRegressor(n_estimators=100)  \n",
    "      \n",
    "# Обучаем модель на тестовом наборе данных  \n",
    "regr.fit(X, y)  \n",
    "      \n",
    "# Используем обученную модель для предсказания рейтинга отелей в тестовой выборке.  \n",
    "# Предсказанные значения записываем в переменную y_pred  \n",
    "y_pred = regr.predict(data_test)"
   ]
  },
  {
   "cell_type": "code",
   "execution_count": 97,
   "metadata": {},
   "outputs": [],
   "source": [
    "to_competition = pd.DataFrame(y_pred)"
   ]
  },
  {
   "cell_type": "code",
   "execution_count": 98,
   "metadata": {},
   "outputs": [],
   "source": [
    "y_test = pd.read_csv('data/submission.csv')"
   ]
  },
  {
   "cell_type": "code",
   "execution_count": 100,
   "metadata": {},
   "outputs": [],
   "source": [
    "y_test['reviewer_score'] = y_pred"
   ]
  },
  {
   "cell_type": "code",
   "execution_count": 101,
   "metadata": {},
   "outputs": [],
   "source": [
    "y_test.to_csv('data/to_competition.csv', index=False)"
   ]
  }
 ],
 "metadata": {
  "kernelspec": {
   "display_name": ".venv",
   "language": "python",
   "name": "python3"
  },
  "language_info": {
   "codemirror_mode": {
    "name": "ipython",
    "version": 3
   },
   "file_extension": ".py",
   "mimetype": "text/x-python",
   "name": "python",
   "nbconvert_exporter": "python",
   "pygments_lexer": "ipython3",
   "version": "3.11.7"
  }
 },
 "nbformat": 4,
 "nbformat_minor": 2
}
